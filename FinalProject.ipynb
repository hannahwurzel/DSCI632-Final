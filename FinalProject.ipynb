{
  "cells": [
    {
      "cell_type": "code",
      "execution_count": null,
      "metadata": {
        "id": "uzNGIZBJQ61V",
        "colab": {
          "base_uri": "https://localhost:8080/"
        },
        "outputId": "8206c241-c1ce-4922-cb0d-cf7ce08fcec2"
      },
      "outputs": [
        {
          "output_type": "stream",
          "name": "stdout",
          "text": [
            "Drive already mounted at /content/drive; to attempt to forcibly remount, call drive.mount(\"/content/drive\", force_remount=True).\n"
          ]
        }
      ],
      "source": [
        "from google.colab import drive\n",
        "drive.mount('/content/drive')"
      ]
    },
    {
      "cell_type": "code",
      "execution_count": null,
      "metadata": {
        "id": "m1Gt-lmZRCod",
        "colab": {
          "base_uri": "https://localhost:8080/"
        },
        "outputId": "77ef3fbf-d5c9-45c5-cffc-f66181b52ba3"
      },
      "outputs": [
        {
          "output_type": "stream",
          "name": "stdout",
          "text": [
            "--2023-03-11 14:25:29--  https://dlcdn.apache.org/spark/spark-3.3.2/spark-3.3.2-bin-hadoop3.tgz\n",
            "Resolving dlcdn.apache.org (dlcdn.apache.org)... 151.101.2.132, 2a04:4e42::644\n",
            "Connecting to dlcdn.apache.org (dlcdn.apache.org)|151.101.2.132|:443... connected.\n",
            "HTTP request sent, awaiting response... 200 OK\n",
            "Length: 299360284 (285M) [application/x-gzip]\n",
            "Saving to: ‘spark-3.3.2-bin-hadoop3.tgz.1’\n",
            "\n",
            "spark-3.3.2-bin-had 100%[===================>] 285.49M   112MB/s    in 2.5s    \n",
            "\n",
            "2023-03-11 14:25:32 (112 MB/s) - ‘spark-3.3.2-bin-hadoop3.tgz.1’ saved [299360284/299360284]\n",
            "\n",
            "spark-3.3.2-bin-hadoop3/\n",
            "spark-3.3.2-bin-hadoop3/LICENSE\n",
            "spark-3.3.2-bin-hadoop3/NOTICE\n",
            "spark-3.3.2-bin-hadoop3/R/\n",
            "spark-3.3.2-bin-hadoop3/R/lib/\n",
            "spark-3.3.2-bin-hadoop3/R/lib/SparkR/\n",
            "spark-3.3.2-bin-hadoop3/R/lib/SparkR/DESCRIPTION\n",
            "spark-3.3.2-bin-hadoop3/R/lib/SparkR/INDEX\n",
            "spark-3.3.2-bin-hadoop3/R/lib/SparkR/Meta/\n",
            "spark-3.3.2-bin-hadoop3/R/lib/SparkR/Meta/Rd.rds\n",
            "spark-3.3.2-bin-hadoop3/R/lib/SparkR/Meta/features.rds\n",
            "spark-3.3.2-bin-hadoop3/R/lib/SparkR/Meta/hsearch.rds\n",
            "spark-3.3.2-bin-hadoop3/R/lib/SparkR/Meta/links.rds\n",
            "spark-3.3.2-bin-hadoop3/R/lib/SparkR/Meta/nsInfo.rds\n",
            "spark-3.3.2-bin-hadoop3/R/lib/SparkR/Meta/package.rds\n",
            "spark-3.3.2-bin-hadoop3/R/lib/SparkR/Meta/vignette.rds\n",
            "spark-3.3.2-bin-hadoop3/R/lib/SparkR/NAMESPACE\n",
            "spark-3.3.2-bin-hadoop3/R/lib/SparkR/R/\n",
            "spark-3.3.2-bin-hadoop3/R/lib/SparkR/R/SparkR\n",
            "spark-3.3.2-bin-hadoop3/R/lib/SparkR/R/SparkR.rdb\n",
            "spark-3.3.2-bin-hadoop3/R/lib/SparkR/R/SparkR.rdx\n",
            "spark-3.3.2-bin-hadoop3/R/lib/SparkR/doc/\n",
            "spark-3.3.2-bin-hadoop3/R/lib/SparkR/doc/index.html\n",
            "spark-3.3.2-bin-hadoop3/R/lib/SparkR/doc/sparkr-vignettes.R\n",
            "spark-3.3.2-bin-hadoop3/R/lib/SparkR/doc/sparkr-vignettes.Rmd\n",
            "spark-3.3.2-bin-hadoop3/R/lib/SparkR/doc/sparkr-vignettes.html\n",
            "spark-3.3.2-bin-hadoop3/R/lib/SparkR/help/\n",
            "spark-3.3.2-bin-hadoop3/R/lib/SparkR/help/AnIndex\n",
            "spark-3.3.2-bin-hadoop3/R/lib/SparkR/help/SparkR.rdb\n",
            "spark-3.3.2-bin-hadoop3/R/lib/SparkR/help/SparkR.rdx\n",
            "spark-3.3.2-bin-hadoop3/R/lib/SparkR/help/aliases.rds\n",
            "spark-3.3.2-bin-hadoop3/R/lib/SparkR/help/paths.rds\n",
            "spark-3.3.2-bin-hadoop3/R/lib/SparkR/html/\n",
            "spark-3.3.2-bin-hadoop3/R/lib/SparkR/html/00Index.html\n",
            "spark-3.3.2-bin-hadoop3/R/lib/SparkR/html/R.css\n",
            "spark-3.3.2-bin-hadoop3/R/lib/SparkR/profile/\n",
            "spark-3.3.2-bin-hadoop3/R/lib/SparkR/profile/general.R\n",
            "spark-3.3.2-bin-hadoop3/R/lib/SparkR/profile/shell.R\n",
            "spark-3.3.2-bin-hadoop3/R/lib/SparkR/tests/\n",
            "spark-3.3.2-bin-hadoop3/R/lib/SparkR/tests/testthat/\n",
            "spark-3.3.2-bin-hadoop3/R/lib/SparkR/tests/testthat/test_basic.R\n",
            "spark-3.3.2-bin-hadoop3/R/lib/SparkR/worker/\n",
            "spark-3.3.2-bin-hadoop3/R/lib/SparkR/worker/daemon.R\n",
            "spark-3.3.2-bin-hadoop3/R/lib/SparkR/worker/worker.R\n",
            "spark-3.3.2-bin-hadoop3/R/lib/sparkr.zip\n",
            "spark-3.3.2-bin-hadoop3/README.md\n",
            "spark-3.3.2-bin-hadoop3/RELEASE\n",
            "spark-3.3.2-bin-hadoop3/bin/\n",
            "spark-3.3.2-bin-hadoop3/bin/beeline\n",
            "spark-3.3.2-bin-hadoop3/bin/beeline.cmd\n",
            "spark-3.3.2-bin-hadoop3/bin/docker-image-tool.sh\n",
            "spark-3.3.2-bin-hadoop3/bin/find-spark-home\n",
            "spark-3.3.2-bin-hadoop3/bin/find-spark-home.cmd\n",
            "spark-3.3.2-bin-hadoop3/bin/load-spark-env.cmd\n",
            "spark-3.3.2-bin-hadoop3/bin/load-spark-env.sh\n",
            "spark-3.3.2-bin-hadoop3/bin/pyspark\n",
            "spark-3.3.2-bin-hadoop3/bin/pyspark.cmd\n",
            "spark-3.3.2-bin-hadoop3/bin/pyspark2.cmd\n",
            "spark-3.3.2-bin-hadoop3/bin/run-example\n",
            "spark-3.3.2-bin-hadoop3/bin/run-example.cmd\n",
            "spark-3.3.2-bin-hadoop3/bin/spark-class\n",
            "spark-3.3.2-bin-hadoop3/bin/spark-class.cmd\n",
            "spark-3.3.2-bin-hadoop3/bin/spark-class2.cmd\n",
            "spark-3.3.2-bin-hadoop3/bin/spark-shell\n",
            "spark-3.3.2-bin-hadoop3/bin/spark-shell.cmd\n",
            "spark-3.3.2-bin-hadoop3/bin/spark-shell2.cmd\n",
            "spark-3.3.2-bin-hadoop3/bin/spark-sql\n",
            "spark-3.3.2-bin-hadoop3/bin/spark-sql.cmd\n",
            "spark-3.3.2-bin-hadoop3/bin/spark-sql2.cmd\n",
            "spark-3.3.2-bin-hadoop3/bin/spark-submit\n",
            "spark-3.3.2-bin-hadoop3/bin/spark-submit.cmd\n",
            "spark-3.3.2-bin-hadoop3/bin/spark-submit2.cmd\n",
            "spark-3.3.2-bin-hadoop3/bin/sparkR\n",
            "spark-3.3.2-bin-hadoop3/bin/sparkR.cmd\n",
            "spark-3.3.2-bin-hadoop3/bin/sparkR2.cmd\n",
            "spark-3.3.2-bin-hadoop3/conf/\n",
            "spark-3.3.2-bin-hadoop3/conf/fairscheduler.xml.template\n",
            "spark-3.3.2-bin-hadoop3/conf/log4j2.properties.template\n",
            "spark-3.3.2-bin-hadoop3/conf/metrics.properties.template\n",
            "spark-3.3.2-bin-hadoop3/conf/spark-defaults.conf.template\n",
            "spark-3.3.2-bin-hadoop3/conf/spark-env.sh.template\n",
            "spark-3.3.2-bin-hadoop3/conf/workers.template\n",
            "spark-3.3.2-bin-hadoop3/data/\n",
            "spark-3.3.2-bin-hadoop3/data/graphx/\n",
            "spark-3.3.2-bin-hadoop3/data/graphx/followers.txt\n",
            "spark-3.3.2-bin-hadoop3/data/graphx/users.txt\n",
            "spark-3.3.2-bin-hadoop3/data/mllib/\n",
            "spark-3.3.2-bin-hadoop3/data/mllib/als/\n",
            "spark-3.3.2-bin-hadoop3/data/mllib/als/sample_movielens_ratings.txt\n",
            "spark-3.3.2-bin-hadoop3/data/mllib/als/test.data\n",
            "spark-3.3.2-bin-hadoop3/data/mllib/gmm_data.txt\n",
            "spark-3.3.2-bin-hadoop3/data/mllib/images/\n",
            "spark-3.3.2-bin-hadoop3/data/mllib/images/license.txt\n",
            "spark-3.3.2-bin-hadoop3/data/mllib/images/origin/\n",
            "spark-3.3.2-bin-hadoop3/data/mllib/images/origin/kittens/\n",
            "spark-3.3.2-bin-hadoop3/data/mllib/images/origin/kittens/29.5.a_b_EGDP022204.jpg\n",
            "spark-3.3.2-bin-hadoop3/data/mllib/images/origin/kittens/54893.jpg\n",
            "spark-3.3.2-bin-hadoop3/data/mllib/images/origin/kittens/DP153539.jpg\n",
            "spark-3.3.2-bin-hadoop3/data/mllib/images/origin/kittens/DP802813.jpg\n",
            "spark-3.3.2-bin-hadoop3/data/mllib/images/origin/kittens/not-image.txt\n",
            "spark-3.3.2-bin-hadoop3/data/mllib/images/origin/license.txt\n",
            "spark-3.3.2-bin-hadoop3/data/mllib/images/origin/multi-channel/\n",
            "spark-3.3.2-bin-hadoop3/data/mllib/images/origin/multi-channel/BGRA.png\n",
            "spark-3.3.2-bin-hadoop3/data/mllib/images/origin/multi-channel/BGRA_alpha_60.png\n",
            "spark-3.3.2-bin-hadoop3/data/mllib/images/origin/multi-channel/chr30.4.184.jpg\n",
            "spark-3.3.2-bin-hadoop3/data/mllib/images/origin/multi-channel/grayscale.jpg\n",
            "spark-3.3.2-bin-hadoop3/data/mllib/kmeans_data.txt\n",
            "spark-3.3.2-bin-hadoop3/data/mllib/pagerank_data.txt\n",
            "spark-3.3.2-bin-hadoop3/data/mllib/pic_data.txt\n",
            "spark-3.3.2-bin-hadoop3/data/mllib/ridge-data/\n",
            "spark-3.3.2-bin-hadoop3/data/mllib/ridge-data/lpsa.data\n",
            "spark-3.3.2-bin-hadoop3/data/mllib/sample_binary_classification_data.txt\n",
            "spark-3.3.2-bin-hadoop3/data/mllib/sample_fpgrowth.txt\n",
            "spark-3.3.2-bin-hadoop3/data/mllib/sample_isotonic_regression_libsvm_data.txt\n",
            "spark-3.3.2-bin-hadoop3/data/mllib/sample_kmeans_data.txt\n",
            "spark-3.3.2-bin-hadoop3/data/mllib/sample_lda_data.txt\n",
            "spark-3.3.2-bin-hadoop3/data/mllib/sample_lda_libsvm_data.txt\n",
            "spark-3.3.2-bin-hadoop3/data/mllib/sample_libsvm_data.txt\n",
            "spark-3.3.2-bin-hadoop3/data/mllib/sample_linear_regression_data.txt\n",
            "spark-3.3.2-bin-hadoop3/data/mllib/sample_movielens_data.txt\n",
            "spark-3.3.2-bin-hadoop3/data/mllib/sample_multiclass_classification_data.txt\n",
            "spark-3.3.2-bin-hadoop3/data/mllib/sample_svm_data.txt\n",
            "spark-3.3.2-bin-hadoop3/data/mllib/streaming_kmeans_data_test.txt\n",
            "spark-3.3.2-bin-hadoop3/data/streaming/\n",
            "spark-3.3.2-bin-hadoop3/data/streaming/AFINN-111.txt\n",
            "spark-3.3.2-bin-hadoop3/examples/\n",
            "spark-3.3.2-bin-hadoop3/examples/jars/\n",
            "spark-3.3.2-bin-hadoop3/examples/jars/scopt_2.12-3.7.1.jar\n",
            "spark-3.3.2-bin-hadoop3/examples/jars/spark-examples_2.12-3.3.2.jar\n",
            "spark-3.3.2-bin-hadoop3/examples/src/\n",
            "spark-3.3.2-bin-hadoop3/examples/src/main/\n",
            "spark-3.3.2-bin-hadoop3/examples/src/main/java/\n",
            "spark-3.3.2-bin-hadoop3/examples/src/main/java/org/\n",
            "spark-3.3.2-bin-hadoop3/examples/src/main/java/org/apache/\n",
            "spark-3.3.2-bin-hadoop3/examples/src/main/java/org/apache/spark/\n",
            "spark-3.3.2-bin-hadoop3/examples/src/main/java/org/apache/spark/examples/\n",
            "spark-3.3.2-bin-hadoop3/examples/src/main/java/org/apache/spark/examples/JavaHdfsLR.java\n",
            "spark-3.3.2-bin-hadoop3/examples/src/main/java/org/apache/spark/examples/JavaLogQuery.java\n",
            "spark-3.3.2-bin-hadoop3/examples/src/main/java/org/apache/spark/examples/JavaPageRank.java\n",
            "spark-3.3.2-bin-hadoop3/examples/src/main/java/org/apache/spark/examples/JavaSparkPi.java\n",
            "spark-3.3.2-bin-hadoop3/examples/src/main/java/org/apache/spark/examples/JavaStatusTrackerDemo.java\n",
            "spark-3.3.2-bin-hadoop3/examples/src/main/java/org/apache/spark/examples/JavaTC.java\n",
            "spark-3.3.2-bin-hadoop3/examples/src/main/java/org/apache/spark/examples/JavaWordCount.java\n",
            "spark-3.3.2-bin-hadoop3/examples/src/main/java/org/apache/spark/examples/ml/\n",
            "spark-3.3.2-bin-hadoop3/examples/src/main/java/org/apache/spark/examples/ml/JavaAFTSurvivalRegressionExample.java\n",
            "spark-3.3.2-bin-hadoop3/examples/src/main/java/org/apache/spark/examples/ml/JavaALSExample.java\n",
            "spark-3.3.2-bin-hadoop3/examples/src/main/java/org/apache/spark/examples/ml/JavaBinarizerExample.java\n",
            "spark-3.3.2-bin-hadoop3/examples/src/main/java/org/apache/spark/examples/ml/JavaBisectingKMeansExample.java\n",
            "spark-3.3.2-bin-hadoop3/examples/src/main/java/org/apache/spark/examples/ml/JavaBucketedRandomProjectionLSHExample.java\n",
            "spark-3.3.2-bin-hadoop3/examples/src/main/java/org/apache/spark/examples/ml/JavaBucketizerExample.java\n",
            "spark-3.3.2-bin-hadoop3/examples/src/main/java/org/apache/spark/examples/ml/JavaChiSqSelectorExample.java\n",
            "spark-3.3.2-bin-hadoop3/examples/src/main/java/org/apache/spark/examples/ml/JavaChiSquareTestExample.java\n",
            "spark-3.3.2-bin-hadoop3/examples/src/main/java/org/apache/spark/examples/ml/JavaCorrelationExample.java\n",
            "spark-3.3.2-bin-hadoop3/examples/src/main/java/org/apache/spark/examples/ml/JavaCountVectorizerExample.java\n",
            "spark-3.3.2-bin-hadoop3/examples/src/main/java/org/apache/spark/examples/ml/JavaDCTExample.java\n",
            "spark-3.3.2-bin-hadoop3/examples/src/main/java/org/apache/spark/examples/ml/JavaDecisionTreeClassificationExample.java\n",
            "spark-3.3.2-bin-hadoop3/examples/src/main/java/org/apache/spark/examples/ml/JavaDecisionTreeRegressionExample.java\n",
            "spark-3.3.2-bin-hadoop3/examples/src/main/java/org/apache/spark/examples/ml/JavaDocument.java\n",
            "spark-3.3.2-bin-hadoop3/examples/src/main/java/org/apache/spark/examples/ml/JavaElementwiseProductExample.java\n",
            "spark-3.3.2-bin-hadoop3/examples/src/main/java/org/apache/spark/examples/ml/JavaEstimatorTransformerParamExample.java\n",
            "spark-3.3.2-bin-hadoop3/examples/src/main/java/org/apache/spark/examples/ml/JavaFMClassifierExample.java\n",
            "spark-3.3.2-bin-hadoop3/examples/src/main/java/org/apache/spark/examples/ml/JavaFMRegressorExample.java\n",
            "spark-3.3.2-bin-hadoop3/examples/src/main/java/org/apache/spark/examples/ml/JavaFPGrowthExample.java\n",
            "spark-3.3.2-bin-hadoop3/examples/src/main/java/org/apache/spark/examples/ml/JavaFeatureHasherExample.java\n",
            "spark-3.3.2-bin-hadoop3/examples/src/main/java/org/apache/spark/examples/ml/JavaGaussianMixtureExample.java\n",
            "spark-3.3.2-bin-hadoop3/examples/src/main/java/org/apache/spark/examples/ml/JavaGeneralizedLinearRegressionExample.java\n",
            "spark-3.3.2-bin-hadoop3/examples/src/main/java/org/apache/spark/examples/ml/JavaGradientBoostedTreeClassifierExample.java\n",
            "spark-3.3.2-bin-hadoop3/examples/src/main/java/org/apache/spark/examples/ml/JavaGradientBoostedTreeRegressorExample.java\n",
            "spark-3.3.2-bin-hadoop3/examples/src/main/java/org/apache/spark/examples/ml/JavaImputerExample.java\n",
            "spark-3.3.2-bin-hadoop3/examples/src/main/java/org/apache/spark/examples/ml/JavaIndexToStringExample.java\n",
            "spark-3.3.2-bin-hadoop3/examples/src/main/java/org/apache/spark/examples/ml/JavaInteractionExample.java\n",
            "spark-3.3.2-bin-hadoop3/examples/src/main/java/org/apache/spark/examples/ml/JavaIsotonicRegressionExample.java\n",
            "spark-3.3.2-bin-hadoop3/examples/src/main/java/org/apache/spark/examples/ml/JavaKMeansExample.java\n",
            "spark-3.3.2-bin-hadoop3/examples/src/main/java/org/apache/spark/examples/ml/JavaLDAExample.java\n",
            "spark-3.3.2-bin-hadoop3/examples/src/main/java/org/apache/spark/examples/ml/JavaLabeledDocument.java\n",
            "spark-3.3.2-bin-hadoop3/examples/src/main/java/org/apache/spark/examples/ml/JavaLinearRegressionWithElasticNetExample.java\n",
            "spark-3.3.2-bin-hadoop3/examples/src/main/java/org/apache/spark/examples/ml/JavaLinearSVCExample.java\n",
            "spark-3.3.2-bin-hadoop3/examples/src/main/java/org/apache/spark/examples/ml/JavaLogisticRegressionSummaryExample.java\n",
            "spark-3.3.2-bin-hadoop3/examples/src/main/java/org/apache/spark/examples/ml/JavaLogisticRegressionWithElasticNetExample.java\n",
            "spark-3.3.2-bin-hadoop3/examples/src/main/java/org/apache/spark/examples/ml/JavaMaxAbsScalerExample.java\n",
            "spark-3.3.2-bin-hadoop3/examples/src/main/java/org/apache/spark/examples/ml/JavaMinHashLSHExample.java\n",
            "spark-3.3.2-bin-hadoop3/examples/src/main/java/org/apache/spark/examples/ml/JavaMinMaxScalerExample.java\n",
            "spark-3.3.2-bin-hadoop3/examples/src/main/java/org/apache/spark/examples/ml/JavaModelSelectionViaCrossValidationExample.java\n",
            "spark-3.3.2-bin-hadoop3/examples/src/main/java/org/apache/spark/examples/ml/JavaModelSelectionViaTrainValidationSplitExample.java\n",
            "spark-3.3.2-bin-hadoop3/examples/src/main/java/org/apache/spark/examples/ml/JavaMulticlassLogisticRegressionWithElasticNetExample.java\n",
            "spark-3.3.2-bin-hadoop3/examples/src/main/java/org/apache/spark/examples/ml/JavaMultilayerPerceptronClassifierExample.java\n",
            "spark-3.3.2-bin-hadoop3/examples/src/main/java/org/apache/spark/examples/ml/JavaNGramExample.java\n",
            "spark-3.3.2-bin-hadoop3/examples/src/main/java/org/apache/spark/examples/ml/JavaNaiveBayesExample.java\n",
            "spark-3.3.2-bin-hadoop3/examples/src/main/java/org/apache/spark/examples/ml/JavaNormalizerExample.java\n",
            "spark-3.3.2-bin-hadoop3/examples/src/main/java/org/apache/spark/examples/ml/JavaOneHotEncoderExample.java\n",
            "spark-3.3.2-bin-hadoop3/examples/src/main/java/org/apache/spark/examples/ml/JavaOneVsRestExample.java\n",
            "spark-3.3.2-bin-hadoop3/examples/src/main/java/org/apache/spark/examples/ml/JavaPCAExample.java\n",
            "spark-3.3.2-bin-hadoop3/examples/src/main/java/org/apache/spark/examples/ml/JavaPipelineExample.java\n",
            "spark-3.3.2-bin-hadoop3/examples/src/main/java/org/apache/spark/examples/ml/JavaPolynomialExpansionExample.java\n",
            "spark-3.3.2-bin-hadoop3/examples/src/main/java/org/apache/spark/examples/ml/JavaPowerIterationClusteringExample.java\n",
            "spark-3.3.2-bin-hadoop3/examples/src/main/java/org/apache/spark/examples/ml/JavaPrefixSpanExample.java\n",
            "spark-3.3.2-bin-hadoop3/examples/src/main/java/org/apache/spark/examples/ml/JavaQuantileDiscretizerExample.java\n",
            "spark-3.3.2-bin-hadoop3/examples/src/main/java/org/apache/spark/examples/ml/JavaRFormulaExample.java\n",
            "spark-3.3.2-bin-hadoop3/examples/src/main/java/org/apache/spark/examples/ml/JavaRandomForestClassifierExample.java\n",
            "spark-3.3.2-bin-hadoop3/examples/src/main/java/org/apache/spark/examples/ml/JavaRandomForestRegressorExample.java\n",
            "spark-3.3.2-bin-hadoop3/examples/src/main/java/org/apache/spark/examples/ml/JavaRobustScalerExample.java\n",
            "spark-3.3.2-bin-hadoop3/examples/src/main/java/org/apache/spark/examples/ml/JavaSQLTransformerExample.java\n",
            "spark-3.3.2-bin-hadoop3/examples/src/main/java/org/apache/spark/examples/ml/JavaStandardScalerExample.java\n",
            "spark-3.3.2-bin-hadoop3/examples/src/main/java/org/apache/spark/examples/ml/JavaStopWordsRemoverExample.java\n",
            "spark-3.3.2-bin-hadoop3/examples/src/main/java/org/apache/spark/examples/ml/JavaStringIndexerExample.java\n",
            "spark-3.3.2-bin-hadoop3/examples/src/main/java/org/apache/spark/examples/ml/JavaSummarizerExample.java\n",
            "spark-3.3.2-bin-hadoop3/examples/src/main/java/org/apache/spark/examples/ml/JavaTfIdfExample.java\n",
            "spark-3.3.2-bin-hadoop3/examples/src/main/java/org/apache/spark/examples/ml/JavaTokenizerExample.java\n",
            "spark-3.3.2-bin-hadoop3/examples/src/main/java/org/apache/spark/examples/ml/JavaUnivariateFeatureSelectorExample.java\n",
            "spark-3.3.2-bin-hadoop3/examples/src/main/java/org/apache/spark/examples/ml/JavaVarianceThresholdSelectorExample.java\n",
            "spark-3.3.2-bin-hadoop3/examples/src/main/java/org/apache/spark/examples/ml/JavaVectorAssemblerExample.java\n",
            "spark-3.3.2-bin-hadoop3/examples/src/main/java/org/apache/spark/examples/ml/JavaVectorIndexerExample.java\n",
            "spark-3.3.2-bin-hadoop3/examples/src/main/java/org/apache/spark/examples/ml/JavaVectorSizeHintExample.java\n",
            "spark-3.3.2-bin-hadoop3/examples/src/main/java/org/apache/spark/examples/ml/JavaVectorSlicerExample.java\n",
            "spark-3.3.2-bin-hadoop3/examples/src/main/java/org/apache/spark/examples/ml/JavaWord2VecExample.java\n",
            "spark-3.3.2-bin-hadoop3/examples/src/main/java/org/apache/spark/examples/mllib/\n",
            "spark-3.3.2-bin-hadoop3/examples/src/main/java/org/apache/spark/examples/mllib/JavaALS.java\n",
            "spark-3.3.2-bin-hadoop3/examples/src/main/java/org/apache/spark/examples/mllib/JavaAssociationRulesExample.java\n",
            "spark-3.3.2-bin-hadoop3/examples/src/main/java/org/apache/spark/examples/mllib/JavaBinaryClassificationMetricsExample.java\n",
            "spark-3.3.2-bin-hadoop3/examples/src/main/java/org/apache/spark/examples/mllib/JavaBisectingKMeansExample.java\n",
            "spark-3.3.2-bin-hadoop3/examples/src/main/java/org/apache/spark/examples/mllib/JavaChiSqSelectorExample.java\n",
            "spark-3.3.2-bin-hadoop3/examples/src/main/java/org/apache/spark/examples/mllib/JavaCorrelationsExample.java\n",
            "spark-3.3.2-bin-hadoop3/examples/src/main/java/org/apache/spark/examples/mllib/JavaDecisionTreeClassificationExample.java\n",
            "spark-3.3.2-bin-hadoop3/examples/src/main/java/org/apache/spark/examples/mllib/JavaDecisionTreeRegressionExample.java\n",
            "spark-3.3.2-bin-hadoop3/examples/src/main/java/org/apache/spark/examples/mllib/JavaElementwiseProductExample.java\n",
            "spark-3.3.2-bin-hadoop3/examples/src/main/java/org/apache/spark/examples/mllib/JavaGaussianMixtureExample.java\n",
            "spark-3.3.2-bin-hadoop3/examples/src/main/java/org/apache/spark/examples/mllib/JavaGradientBoostingClassificationExample.java\n",
            "spark-3.3.2-bin-hadoop3/examples/src/main/java/org/apache/spark/examples/mllib/JavaGradientBoostingRegressionExample.java\n",
            "spark-3.3.2-bin-hadoop3/examples/src/main/java/org/apache/spark/examples/mllib/JavaHypothesisTestingExample.java\n",
            "spark-3.3.2-bin-hadoop3/examples/src/main/java/org/apache/spark/examples/mllib/JavaHypothesisTestingKolmogorovSmirnovTestExample.java\n",
            "spark-3.3.2-bin-hadoop3/examples/src/main/java/org/apache/spark/examples/mllib/JavaIsotonicRegressionExample.java\n",
            "spark-3.3.2-bin-hadoop3/examples/src/main/java/org/apache/spark/examples/mllib/JavaKMeansExample.java\n",
            "spark-3.3.2-bin-hadoop3/examples/src/main/java/org/apache/spark/examples/mllib/JavaKernelDensityEstimationExample.java\n",
            "spark-3.3.2-bin-hadoop3/examples/src/main/java/org/apache/spark/examples/mllib/JavaLBFGSExample.java\n",
            "spark-3.3.2-bin-hadoop3/examples/src/main/java/org/apache/spark/examples/mllib/JavaLatentDirichletAllocationExample.java\n",
            "spark-3.3.2-bin-hadoop3/examples/src/main/java/org/apache/spark/examples/mllib/JavaLogisticRegressionWithLBFGSExample.java\n",
            "spark-3.3.2-bin-hadoop3/examples/src/main/java/org/apache/spark/examples/mllib/JavaMultiLabelClassificationMetricsExample.java\n",
            "spark-3.3.2-bin-hadoop3/examples/src/main/java/org/apache/spark/examples/mllib/JavaMulticlassClassificationMetricsExample.java\n",
            "spark-3.3.2-bin-hadoop3/examples/src/main/java/org/apache/spark/examples/mllib/JavaNaiveBayesExample.java\n",
            "spark-3.3.2-bin-hadoop3/examples/src/main/java/org/apache/spark/examples/mllib/JavaPCAExample.java\n",
            "spark-3.3.2-bin-hadoop3/examples/src/main/java/org/apache/spark/examples/mllib/JavaPowerIterationClusteringExample.java\n",
            "spark-3.3.2-bin-hadoop3/examples/src/main/java/org/apache/spark/examples/mllib/JavaPrefixSpanExample.java\n",
            "spark-3.3.2-bin-hadoop3/examples/src/main/java/org/apache/spark/examples/mllib/JavaRandomForestClassificationExample.java\n",
            "spark-3.3.2-bin-hadoop3/examples/src/main/java/org/apache/spark/examples/mllib/JavaRandomForestRegressionExample.java\n",
            "spark-3.3.2-bin-hadoop3/examples/src/main/java/org/apache/spark/examples/mllib/JavaRankingMetricsExample.java\n",
            "spark-3.3.2-bin-hadoop3/examples/src/main/java/org/apache/spark/examples/mllib/JavaRecommendationExample.java\n",
            "spark-3.3.2-bin-hadoop3/examples/src/main/java/org/apache/spark/examples/mllib/JavaSVDExample.java\n",
            "spark-3.3.2-bin-hadoop3/examples/src/main/java/org/apache/spark/examples/mllib/JavaSVMWithSGDExample.java\n",
            "spark-3.3.2-bin-hadoop3/examples/src/main/java/org/apache/spark/examples/mllib/JavaSimpleFPGrowth.java\n",
            "spark-3.3.2-bin-hadoop3/examples/src/main/java/org/apache/spark/examples/mllib/JavaStratifiedSamplingExample.java\n",
            "spark-3.3.2-bin-hadoop3/examples/src/main/java/org/apache/spark/examples/mllib/JavaStreamingTestExample.java\n",
            "spark-3.3.2-bin-hadoop3/examples/src/main/java/org/apache/spark/examples/mllib/JavaSummaryStatisticsExample.java\n",
            "spark-3.3.2-bin-hadoop3/examples/src/main/java/org/apache/spark/examples/sql/\n",
            "spark-3.3.2-bin-hadoop3/examples/src/main/java/org/apache/spark/examples/sql/JavaSQLDataSourceExample.java\n",
            "spark-3.3.2-bin-hadoop3/examples/src/main/java/org/apache/spark/examples/sql/JavaSparkSQLExample.java\n",
            "spark-3.3.2-bin-hadoop3/examples/src/main/java/org/apache/spark/examples/sql/JavaUserDefinedScalar.java\n",
            "spark-3.3.2-bin-hadoop3/examples/src/main/java/org/apache/spark/examples/sql/JavaUserDefinedTypedAggregation.java\n",
            "spark-3.3.2-bin-hadoop3/examples/src/main/java/org/apache/spark/examples/sql/JavaUserDefinedUntypedAggregation.java\n",
            "spark-3.3.2-bin-hadoop3/examples/src/main/java/org/apache/spark/examples/sql/hive/\n",
            "spark-3.3.2-bin-hadoop3/examples/src/main/java/org/apache/spark/examples/sql/hive/JavaSparkHiveExample.java\n",
            "spark-3.3.2-bin-hadoop3/examples/src/main/java/org/apache/spark/examples/sql/streaming/\n",
            "spark-3.3.2-bin-hadoop3/examples/src/main/java/org/apache/spark/examples/sql/streaming/JavaStructuredComplexSessionization.java\n",
            "spark-3.3.2-bin-hadoop3/examples/src/main/java/org/apache/spark/examples/sql/streaming/JavaStructuredKafkaWordCount.java\n",
            "spark-3.3.2-bin-hadoop3/examples/src/main/java/org/apache/spark/examples/sql/streaming/JavaStructuredKerberizedKafkaWordCount.java\n",
            "spark-3.3.2-bin-hadoop3/examples/src/main/java/org/apache/spark/examples/sql/streaming/JavaStructuredNetworkWordCount.java\n",
            "spark-3.3.2-bin-hadoop3/examples/src/main/java/org/apache/spark/examples/sql/streaming/JavaStructuredNetworkWordCountWindowed.java\n",
            "spark-3.3.2-bin-hadoop3/examples/src/main/java/org/apache/spark/examples/sql/streaming/JavaStructuredSessionization.java\n",
            "spark-3.3.2-bin-hadoop3/examples/src/main/java/org/apache/spark/examples/streaming/\n",
            "spark-3.3.2-bin-hadoop3/examples/src/main/java/org/apache/spark/examples/streaming/JavaCustomReceiver.java\n",
            "spark-3.3.2-bin-hadoop3/examples/src/main/java/org/apache/spark/examples/streaming/JavaDirectKafkaWordCount.java\n",
            "spark-3.3.2-bin-hadoop3/examples/src/main/java/org/apache/spark/examples/streaming/JavaDirectKerberizedKafkaWordCount.java\n",
            "spark-3.3.2-bin-hadoop3/examples/src/main/java/org/apache/spark/examples/streaming/JavaNetworkWordCount.java\n",
            "spark-3.3.2-bin-hadoop3/examples/src/main/java/org/apache/spark/examples/streaming/JavaQueueStream.java\n",
            "spark-3.3.2-bin-hadoop3/examples/src/main/java/org/apache/spark/examples/streaming/JavaRecord.java\n",
            "spark-3.3.2-bin-hadoop3/examples/src/main/java/org/apache/spark/examples/streaming/JavaRecoverableNetworkWordCount.java\n",
            "spark-3.3.2-bin-hadoop3/examples/src/main/java/org/apache/spark/examples/streaming/JavaSqlNetworkWordCount.java\n",
            "spark-3.3.2-bin-hadoop3/examples/src/main/java/org/apache/spark/examples/streaming/JavaStatefulNetworkWordCount.java\n",
            "spark-3.3.2-bin-hadoop3/examples/src/main/python/\n",
            "spark-3.3.2-bin-hadoop3/examples/src/main/python/__init__.py\n",
            "spark-3.3.2-bin-hadoop3/examples/src/main/python/als.py\n",
            "spark-3.3.2-bin-hadoop3/examples/src/main/python/avro_inputformat.py\n",
            "spark-3.3.2-bin-hadoop3/examples/src/main/python/kmeans.py\n",
            "spark-3.3.2-bin-hadoop3/examples/src/main/python/logistic_regression.py\n",
            "spark-3.3.2-bin-hadoop3/examples/src/main/python/ml/\n",
            "spark-3.3.2-bin-hadoop3/examples/src/main/python/ml/__init__,py\n",
            "spark-3.3.2-bin-hadoop3/examples/src/main/python/ml/aft_survival_regression.py\n",
            "spark-3.3.2-bin-hadoop3/examples/src/main/python/ml/als_example.py\n",
            "spark-3.3.2-bin-hadoop3/examples/src/main/python/ml/binarizer_example.py\n",
            "spark-3.3.2-bin-hadoop3/examples/src/main/python/ml/bisecting_k_means_example.py\n",
            "spark-3.3.2-bin-hadoop3/examples/src/main/python/ml/bucketed_random_projection_lsh_example.py\n",
            "spark-3.3.2-bin-hadoop3/examples/src/main/python/ml/bucketizer_example.py\n",
            "spark-3.3.2-bin-hadoop3/examples/src/main/python/ml/chi_square_test_example.py\n",
            "spark-3.3.2-bin-hadoop3/examples/src/main/python/ml/chisq_selector_example.py\n",
            "spark-3.3.2-bin-hadoop3/examples/src/main/python/ml/correlation_example.py\n",
            "spark-3.3.2-bin-hadoop3/examples/src/main/python/ml/count_vectorizer_example.py\n",
            "spark-3.3.2-bin-hadoop3/examples/src/main/python/ml/cross_validator.py\n",
            "spark-3.3.2-bin-hadoop3/examples/src/main/python/ml/dataframe_example.py\n",
            "spark-3.3.2-bin-hadoop3/examples/src/main/python/ml/dct_example.py\n",
            "spark-3.3.2-bin-hadoop3/examples/src/main/python/ml/decision_tree_classification_example.py\n",
            "spark-3.3.2-bin-hadoop3/examples/src/main/python/ml/decision_tree_regression_example.py\n",
            "spark-3.3.2-bin-hadoop3/examples/src/main/python/ml/elementwise_product_example.py\n",
            "spark-3.3.2-bin-hadoop3/examples/src/main/python/ml/estimator_transformer_param_example.py\n",
            "spark-3.3.2-bin-hadoop3/examples/src/main/python/ml/feature_hasher_example.py\n",
            "spark-3.3.2-bin-hadoop3/examples/src/main/python/ml/fm_classifier_example.py\n",
            "spark-3.3.2-bin-hadoop3/examples/src/main/python/ml/fm_regressor_example.py\n",
            "spark-3.3.2-bin-hadoop3/examples/src/main/python/ml/fpgrowth_example.py\n",
            "spark-3.3.2-bin-hadoop3/examples/src/main/python/ml/gaussian_mixture_example.py\n",
            "spark-3.3.2-bin-hadoop3/examples/src/main/python/ml/generalized_linear_regression_example.py\n",
            "spark-3.3.2-bin-hadoop3/examples/src/main/python/ml/gradient_boosted_tree_classifier_example.py\n",
            "spark-3.3.2-bin-hadoop3/examples/src/main/python/ml/gradient_boosted_tree_regressor_example.py\n",
            "spark-3.3.2-bin-hadoop3/examples/src/main/python/ml/imputer_example.py\n",
            "spark-3.3.2-bin-hadoop3/examples/src/main/python/ml/index_to_string_example.py\n",
            "spark-3.3.2-bin-hadoop3/examples/src/main/python/ml/interaction_example.py\n",
            "spark-3.3.2-bin-hadoop3/examples/src/main/python/ml/isotonic_regression_example.py\n",
            "spark-3.3.2-bin-hadoop3/examples/src/main/python/ml/kmeans_example.py\n",
            "spark-3.3.2-bin-hadoop3/examples/src/main/python/ml/lda_example.py\n",
            "spark-3.3.2-bin-hadoop3/examples/src/main/python/ml/linear_regression_with_elastic_net.py\n",
            "spark-3.3.2-bin-hadoop3/examples/src/main/python/ml/linearsvc.py\n",
            "spark-3.3.2-bin-hadoop3/examples/src/main/python/ml/logistic_regression_summary_example.py\n",
            "spark-3.3.2-bin-hadoop3/examples/src/main/python/ml/logistic_regression_with_elastic_net.py\n",
            "spark-3.3.2-bin-hadoop3/examples/src/main/python/ml/max_abs_scaler_example.py\n",
            "spark-3.3.2-bin-hadoop3/examples/src/main/python/ml/min_hash_lsh_example.py\n",
            "spark-3.3.2-bin-hadoop3/examples/src/main/python/ml/min_max_scaler_example.py\n",
            "spark-3.3.2-bin-hadoop3/examples/src/main/python/ml/multiclass_logistic_regression_with_elastic_net.py\n",
            "spark-3.3.2-bin-hadoop3/examples/src/main/python/ml/multilayer_perceptron_classification.py\n",
            "spark-3.3.2-bin-hadoop3/examples/src/main/python/ml/n_gram_example.py\n",
            "spark-3.3.2-bin-hadoop3/examples/src/main/python/ml/naive_bayes_example.py\n",
            "spark-3.3.2-bin-hadoop3/examples/src/main/python/ml/normalizer_example.py\n",
            "spark-3.3.2-bin-hadoop3/examples/src/main/python/ml/one_vs_rest_example.py\n",
            "spark-3.3.2-bin-hadoop3/examples/src/main/python/ml/onehot_encoder_example.py\n",
            "spark-3.3.2-bin-hadoop3/examples/src/main/python/ml/pca_example.py\n",
            "spark-3.3.2-bin-hadoop3/examples/src/main/python/ml/pipeline_example.py\n",
            "spark-3.3.2-bin-hadoop3/examples/src/main/python/ml/polynomial_expansion_example.py\n",
            "spark-3.3.2-bin-hadoop3/examples/src/main/python/ml/power_iteration_clustering_example.py\n",
            "spark-3.3.2-bin-hadoop3/examples/src/main/python/ml/prefixspan_example.py\n",
            "spark-3.3.2-bin-hadoop3/examples/src/main/python/ml/quantile_discretizer_example.py\n",
            "spark-3.3.2-bin-hadoop3/examples/src/main/python/ml/random_forest_classifier_example.py\n",
            "spark-3.3.2-bin-hadoop3/examples/src/main/python/ml/random_forest_regressor_example.py\n",
            "spark-3.3.2-bin-hadoop3/examples/src/main/python/ml/rformula_example.py\n",
            "spark-3.3.2-bin-hadoop3/examples/src/main/python/ml/robust_scaler_example.py\n",
            "spark-3.3.2-bin-hadoop3/examples/src/main/python/ml/sql_transformer.py\n",
            "spark-3.3.2-bin-hadoop3/examples/src/main/python/ml/standard_scaler_example.py\n",
            "spark-3.3.2-bin-hadoop3/examples/src/main/python/ml/stopwords_remover_example.py\n",
            "spark-3.3.2-bin-hadoop3/examples/src/main/python/ml/string_indexer_example.py\n",
            "spark-3.3.2-bin-hadoop3/examples/src/main/python/ml/summarizer_example.py\n",
            "spark-3.3.2-bin-hadoop3/examples/src/main/python/ml/tf_idf_example.py\n",
            "spark-3.3.2-bin-hadoop3/examples/src/main/python/ml/tokenizer_example.py\n",
            "spark-3.3.2-bin-hadoop3/examples/src/main/python/ml/train_validation_split.py\n",
            "spark-3.3.2-bin-hadoop3/examples/src/main/python/ml/univariate_feature_selector_example.py\n",
            "spark-3.3.2-bin-hadoop3/examples/src/main/python/ml/variance_threshold_selector_example.py\n",
            "spark-3.3.2-bin-hadoop3/examples/src/main/python/ml/vector_assembler_example.py\n",
            "spark-3.3.2-bin-hadoop3/examples/src/main/python/ml/vector_indexer_example.py\n",
            "spark-3.3.2-bin-hadoop3/examples/src/main/python/ml/vector_size_hint_example.py\n",
            "spark-3.3.2-bin-hadoop3/examples/src/main/python/ml/vector_slicer_example.py\n",
            "spark-3.3.2-bin-hadoop3/examples/src/main/python/ml/word2vec_example.py\n",
            "spark-3.3.2-bin-hadoop3/examples/src/main/python/mllib/\n",
            "spark-3.3.2-bin-hadoop3/examples/src/main/python/mllib/__init__.py\n",
            "spark-3.3.2-bin-hadoop3/examples/src/main/python/mllib/binary_classification_metrics_example.py\n",
            "spark-3.3.2-bin-hadoop3/examples/src/main/python/mllib/bisecting_k_means_example.py\n",
            "spark-3.3.2-bin-hadoop3/examples/src/main/python/mllib/correlations.py\n",
            "spark-3.3.2-bin-hadoop3/examples/src/main/python/mllib/correlations_example.py\n",
            "spark-3.3.2-bin-hadoop3/examples/src/main/python/mllib/decision_tree_classification_example.py\n",
            "spark-3.3.2-bin-hadoop3/examples/src/main/python/mllib/decision_tree_regression_example.py\n",
            "spark-3.3.2-bin-hadoop3/examples/src/main/python/mllib/elementwise_product_example.py\n",
            "spark-3.3.2-bin-hadoop3/examples/src/main/python/mllib/fpgrowth_example.py\n",
            "spark-3.3.2-bin-hadoop3/examples/src/main/python/mllib/gaussian_mixture_example.py\n",
            "spark-3.3.2-bin-hadoop3/examples/src/main/python/mllib/gaussian_mixture_model.py\n",
            "spark-3.3.2-bin-hadoop3/examples/src/main/python/mllib/gradient_boosting_classification_example.py\n",
            "spark-3.3.2-bin-hadoop3/examples/src/main/python/mllib/gradient_boosting_regression_example.py\n",
            "spark-3.3.2-bin-hadoop3/examples/src/main/python/mllib/hypothesis_testing_example.py\n",
            "spark-3.3.2-bin-hadoop3/examples/src/main/python/mllib/hypothesis_testing_kolmogorov_smirnov_test_example.py\n",
            "spark-3.3.2-bin-hadoop3/examples/src/main/python/mllib/isotonic_regression_example.py\n",
            "spark-3.3.2-bin-hadoop3/examples/src/main/python/mllib/k_means_example.py\n",
            "spark-3.3.2-bin-hadoop3/examples/src/main/python/mllib/kernel_density_estimation_example.py\n",
            "spark-3.3.2-bin-hadoop3/examples/src/main/python/mllib/kmeans.py\n",
            "spark-3.3.2-bin-hadoop3/examples/src/main/python/mllib/latent_dirichlet_allocation_example.py\n",
            "spark-3.3.2-bin-hadoop3/examples/src/main/python/mllib/linear_regression_with_sgd_example.py\n",
            "spark-3.3.2-bin-hadoop3/examples/src/main/python/mllib/logistic_regression.py\n",
            "spark-3.3.2-bin-hadoop3/examples/src/main/python/mllib/logistic_regression_with_lbfgs_example.py\n",
            "spark-3.3.2-bin-hadoop3/examples/src/main/python/mllib/multi_class_metrics_example.py\n",
            "spark-3.3.2-bin-hadoop3/examples/src/main/python/mllib/multi_label_metrics_example.py\n",
            "spark-3.3.2-bin-hadoop3/examples/src/main/python/mllib/naive_bayes_example.py\n",
            "spark-3.3.2-bin-hadoop3/examples/src/main/python/mllib/normalizer_example.py\n",
            "spark-3.3.2-bin-hadoop3/examples/src/main/python/mllib/pca_rowmatrix_example.py\n",
            "spark-3.3.2-bin-hadoop3/examples/src/main/python/mllib/power_iteration_clustering_example.py\n",
            "spark-3.3.2-bin-hadoop3/examples/src/main/python/mllib/random_forest_classification_example.py\n",
            "spark-3.3.2-bin-hadoop3/examples/src/main/python/mllib/random_forest_regression_example.py\n",
            "spark-3.3.2-bin-hadoop3/examples/src/main/python/mllib/random_rdd_generation.py\n",
            "spark-3.3.2-bin-hadoop3/examples/src/main/python/mllib/ranking_metrics_example.py\n",
            "spark-3.3.2-bin-hadoop3/examples/src/main/python/mllib/recommendation_example.py\n",
            "spark-3.3.2-bin-hadoop3/examples/src/main/python/mllib/regression_metrics_example.py\n",
            "spark-3.3.2-bin-hadoop3/examples/src/main/python/mllib/sampled_rdds.py\n",
            "spark-3.3.2-bin-hadoop3/examples/src/main/python/mllib/standard_scaler_example.py\n",
            "spark-3.3.2-bin-hadoop3/examples/src/main/python/mllib/stratified_sampling_example.py\n",
            "spark-3.3.2-bin-hadoop3/examples/src/main/python/mllib/streaming_k_means_example.py\n",
            "spark-3.3.2-bin-hadoop3/examples/src/main/python/mllib/streaming_linear_regression_example.py\n",
            "spark-3.3.2-bin-hadoop3/examples/src/main/python/mllib/summary_statistics_example.py\n",
            "spark-3.3.2-bin-hadoop3/examples/src/main/python/mllib/svd_example.py\n",
            "spark-3.3.2-bin-hadoop3/examples/src/main/python/mllib/svm_with_sgd_example.py\n",
            "spark-3.3.2-bin-hadoop3/examples/src/main/python/mllib/tf_idf_example.py\n",
            "spark-3.3.2-bin-hadoop3/examples/src/main/python/mllib/word2vec.py\n",
            "spark-3.3.2-bin-hadoop3/examples/src/main/python/mllib/word2vec_example.py\n",
            "spark-3.3.2-bin-hadoop3/examples/src/main/python/pagerank.py\n",
            "spark-3.3.2-bin-hadoop3/examples/src/main/python/parquet_inputformat.py\n",
            "spark-3.3.2-bin-hadoop3/examples/src/main/python/pi.py\n",
            "spark-3.3.2-bin-hadoop3/examples/src/main/python/sort.py\n",
            "spark-3.3.2-bin-hadoop3/examples/src/main/python/sql/\n",
            "spark-3.3.2-bin-hadoop3/examples/src/main/python/sql/__init__.py\n",
            "spark-3.3.2-bin-hadoop3/examples/src/main/python/sql/arrow.py\n",
            "spark-3.3.2-bin-hadoop3/examples/src/main/python/sql/basic.py\n",
            "spark-3.3.2-bin-hadoop3/examples/src/main/python/sql/datasource.py\n",
            "spark-3.3.2-bin-hadoop3/examples/src/main/python/sql/hive.py\n",
            "spark-3.3.2-bin-hadoop3/examples/src/main/python/sql/streaming/\n",
            "spark-3.3.2-bin-hadoop3/examples/src/main/python/sql/streaming/__init__,py\n",
            "spark-3.3.2-bin-hadoop3/examples/src/main/python/sql/streaming/structured_kafka_wordcount.py\n",
            "spark-3.3.2-bin-hadoop3/examples/src/main/python/sql/streaming/structured_network_wordcount.py\n",
            "spark-3.3.2-bin-hadoop3/examples/src/main/python/sql/streaming/structured_network_wordcount_windowed.py\n",
            "spark-3.3.2-bin-hadoop3/examples/src/main/python/sql/streaming/structured_sessionization.py\n",
            "spark-3.3.2-bin-hadoop3/examples/src/main/python/status_api_demo.py\n",
            "spark-3.3.2-bin-hadoop3/examples/src/main/python/streaming/\n",
            "spark-3.3.2-bin-hadoop3/examples/src/main/python/streaming/__init__.py\n",
            "spark-3.3.2-bin-hadoop3/examples/src/main/python/streaming/hdfs_wordcount.py\n",
            "spark-3.3.2-bin-hadoop3/examples/src/main/python/streaming/network_wordcount.py\n",
            "spark-3.3.2-bin-hadoop3/examples/src/main/python/streaming/network_wordjoinsentiments.py\n",
            "spark-3.3.2-bin-hadoop3/examples/src/main/python/streaming/queue_stream.py\n",
            "spark-3.3.2-bin-hadoop3/examples/src/main/python/streaming/recoverable_network_wordcount.py\n",
            "spark-3.3.2-bin-hadoop3/examples/src/main/python/streaming/sql_network_wordcount.py\n",
            "spark-3.3.2-bin-hadoop3/examples/src/main/python/streaming/stateful_network_wordcount.py\n",
            "spark-3.3.2-bin-hadoop3/examples/src/main/python/transitive_closure.py\n",
            "spark-3.3.2-bin-hadoop3/examples/src/main/python/wordcount.py\n",
            "spark-3.3.2-bin-hadoop3/examples/src/main/r/\n",
            "spark-3.3.2-bin-hadoop3/examples/src/main/r/RSparkSQLExample.R\n",
            "spark-3.3.2-bin-hadoop3/examples/src/main/r/data-manipulation.R\n",
            "spark-3.3.2-bin-hadoop3/examples/src/main/r/dataframe.R\n",
            "spark-3.3.2-bin-hadoop3/examples/src/main/r/ml/\n",
            "spark-3.3.2-bin-hadoop3/examples/src/main/r/ml/als.R\n",
            "spark-3.3.2-bin-hadoop3/examples/src/main/r/ml/bisectingKmeans.R\n",
            "spark-3.3.2-bin-hadoop3/examples/src/main/r/ml/decisionTree.R\n",
            "spark-3.3.2-bin-hadoop3/examples/src/main/r/ml/fmClassifier.R\n",
            "spark-3.3.2-bin-hadoop3/examples/src/main/r/ml/fmRegressor.R\n",
            "spark-3.3.2-bin-hadoop3/examples/src/main/r/ml/fpm.R\n",
            "spark-3.3.2-bin-hadoop3/examples/src/main/r/ml/gaussianMixture.R\n",
            "spark-3.3.2-bin-hadoop3/examples/src/main/r/ml/gbt.R\n",
            "spark-3.3.2-bin-hadoop3/examples/src/main/r/ml/glm.R\n",
            "spark-3.3.2-bin-hadoop3/examples/src/main/r/ml/isoreg.R\n",
            "spark-3.3.2-bin-hadoop3/examples/src/main/r/ml/kmeans.R\n",
            "spark-3.3.2-bin-hadoop3/examples/src/main/r/ml/kstest.R\n",
            "spark-3.3.2-bin-hadoop3/examples/src/main/r/ml/lda.R\n",
            "spark-3.3.2-bin-hadoop3/examples/src/main/r/ml/lm_with_elastic_net.R\n",
            "spark-3.3.2-bin-hadoop3/examples/src/main/r/ml/logit.R\n",
            "spark-3.3.2-bin-hadoop3/examples/src/main/r/ml/ml.R\n",
            "spark-3.3.2-bin-hadoop3/examples/src/main/r/ml/mlp.R\n",
            "spark-3.3.2-bin-hadoop3/examples/src/main/r/ml/naiveBayes.R\n",
            "spark-3.3.2-bin-hadoop3/examples/src/main/r/ml/powerIterationClustering.R\n",
            "spark-3.3.2-bin-hadoop3/examples/src/main/r/ml/prefixSpan.R\n",
            "spark-3.3.2-bin-hadoop3/examples/src/main/r/ml/randomForest.R\n",
            "spark-3.3.2-bin-hadoop3/examples/src/main/r/ml/survreg.R\n",
            "spark-3.3.2-bin-hadoop3/examples/src/main/r/ml/svmLinear.R\n",
            "spark-3.3.2-bin-hadoop3/examples/src/main/r/streaming/\n",
            "spark-3.3.2-bin-hadoop3/examples/src/main/r/streaming/structured_network_wordcount.R\n",
            "spark-3.3.2-bin-hadoop3/examples/src/main/resources/\n",
            "spark-3.3.2-bin-hadoop3/examples/src/main/resources/META-INF/\n",
            "spark-3.3.2-bin-hadoop3/examples/src/main/resources/META-INF/services/\n",
            "spark-3.3.2-bin-hadoop3/examples/src/main/resources/META-INF/services/org.apache.spark.sql.SparkSessionExtensionsProvider\n",
            "spark-3.3.2-bin-hadoop3/examples/src/main/resources/META-INF/services/org.apache.spark.sql.jdbc.JdbcConnectionProvider\n",
            "spark-3.3.2-bin-hadoop3/examples/src/main/resources/dir1/\n",
            "spark-3.3.2-bin-hadoop3/examples/src/main/resources/dir1/dir2/\n",
            "spark-3.3.2-bin-hadoop3/examples/src/main/resources/dir1/dir2/file2.parquet\n",
            "spark-3.3.2-bin-hadoop3/examples/src/main/resources/dir1/file1.parquet\n",
            "spark-3.3.2-bin-hadoop3/examples/src/main/resources/dir1/file3.json\n",
            "spark-3.3.2-bin-hadoop3/examples/src/main/resources/employees.json\n",
            "spark-3.3.2-bin-hadoop3/examples/src/main/resources/full_user.avsc\n",
            "spark-3.3.2-bin-hadoop3/examples/src/main/resources/kv1.txt\n",
            "spark-3.3.2-bin-hadoop3/examples/src/main/resources/people.csv\n",
            "spark-3.3.2-bin-hadoop3/examples/src/main/resources/people.json\n",
            "spark-3.3.2-bin-hadoop3/examples/src/main/resources/people.txt\n",
            "spark-3.3.2-bin-hadoop3/examples/src/main/resources/user.avsc\n",
            "spark-3.3.2-bin-hadoop3/examples/src/main/resources/users.avro\n",
            "spark-3.3.2-bin-hadoop3/examples/src/main/resources/users.orc\n",
            "spark-3.3.2-bin-hadoop3/examples/src/main/resources/users.parquet\n",
            "spark-3.3.2-bin-hadoop3/examples/src/main/scala/\n",
            "spark-3.3.2-bin-hadoop3/examples/src/main/scala/org/\n",
            "spark-3.3.2-bin-hadoop3/examples/src/main/scala/org/apache/\n",
            "spark-3.3.2-bin-hadoop3/examples/src/main/scala/org/apache/spark/\n",
            "spark-3.3.2-bin-hadoop3/examples/src/main/scala/org/apache/spark/examples/\n",
            "spark-3.3.2-bin-hadoop3/examples/src/main/scala/org/apache/spark/examples/AccumulatorMetricsTest.scala\n",
            "spark-3.3.2-bin-hadoop3/examples/src/main/scala/org/apache/spark/examples/BroadcastTest.scala\n",
            "spark-3.3.2-bin-hadoop3/examples/src/main/scala/org/apache/spark/examples/DFSReadWriteTest.scala\n",
            "spark-3.3.2-bin-hadoop3/examples/src/main/scala/org/apache/spark/examples/DriverSubmissionTest.scala\n",
            "spark-3.3.2-bin-hadoop3/examples/src/main/scala/org/apache/spark/examples/ExceptionHandlingTest.scala\n",
            "spark-3.3.2-bin-hadoop3/examples/src/main/scala/org/apache/spark/examples/GroupByTest.scala\n",
            "spark-3.3.2-bin-hadoop3/examples/src/main/scala/org/apache/spark/examples/HdfsTest.scala\n",
            "spark-3.3.2-bin-hadoop3/examples/src/main/scala/org/apache/spark/examples/LocalALS.scala\n",
            "spark-3.3.2-bin-hadoop3/examples/src/main/scala/org/apache/spark/examples/LocalFileLR.scala\n",
            "spark-3.3.2-bin-hadoop3/examples/src/main/scala/org/apache/spark/examples/LocalKMeans.scala\n",
            "spark-3.3.2-bin-hadoop3/examples/src/main/scala/org/apache/spark/examples/LocalLR.scala\n",
            "spark-3.3.2-bin-hadoop3/examples/src/main/scala/org/apache/spark/examples/LocalPi.scala\n",
            "spark-3.3.2-bin-hadoop3/examples/src/main/scala/org/apache/spark/examples/LogQuery.scala\n",
            "spark-3.3.2-bin-hadoop3/examples/src/main/scala/org/apache/spark/examples/MiniReadWriteTest.scala\n",
            "spark-3.3.2-bin-hadoop3/examples/src/main/scala/org/apache/spark/examples/MultiBroadcastTest.scala\n",
            "spark-3.3.2-bin-hadoop3/examples/src/main/scala/org/apache/spark/examples/SimpleSkewedGroupByTest.scala\n",
            "spark-3.3.2-bin-hadoop3/examples/src/main/scala/org/apache/spark/examples/SkewedGroupByTest.scala\n",
            "spark-3.3.2-bin-hadoop3/examples/src/main/scala/org/apache/spark/examples/SparkALS.scala\n",
            "spark-3.3.2-bin-hadoop3/examples/src/main/scala/org/apache/spark/examples/SparkHdfsLR.scala\n",
            "spark-3.3.2-bin-hadoop3/examples/src/main/scala/org/apache/spark/examples/SparkKMeans.scala\n",
            "spark-3.3.2-bin-hadoop3/examples/src/main/scala/org/apache/spark/examples/SparkLR.scala\n",
            "spark-3.3.2-bin-hadoop3/examples/src/main/scala/org/apache/spark/examples/SparkPageRank.scala\n",
            "spark-3.3.2-bin-hadoop3/examples/src/main/scala/org/apache/spark/examples/SparkPi.scala\n",
            "spark-3.3.2-bin-hadoop3/examples/src/main/scala/org/apache/spark/examples/SparkRemoteFileTest.scala\n",
            "spark-3.3.2-bin-hadoop3/examples/src/main/scala/org/apache/spark/examples/SparkTC.scala\n",
            "spark-3.3.2-bin-hadoop3/examples/src/main/scala/org/apache/spark/examples/extensions/\n",
            "spark-3.3.2-bin-hadoop3/examples/src/main/scala/org/apache/spark/examples/extensions/AgeExample.scala\n",
            "spark-3.3.2-bin-hadoop3/examples/src/main/scala/org/apache/spark/examples/extensions/SessionExtensionsWithLoader.scala\n",
            "spark-3.3.2-bin-hadoop3/examples/src/main/scala/org/apache/spark/examples/extensions/SessionExtensionsWithoutLoader.scala\n",
            "spark-3.3.2-bin-hadoop3/examples/src/main/scala/org/apache/spark/examples/extensions/SparkSessionExtensionsTest.scala\n",
            "spark-3.3.2-bin-hadoop3/examples/src/main/scala/org/apache/spark/examples/graphx/\n",
            "spark-3.3.2-bin-hadoop3/examples/src/main/scala/org/apache/spark/examples/graphx/AggregateMessagesExample.scala\n",
            "spark-3.3.2-bin-hadoop3/examples/src/main/scala/org/apache/spark/examples/graphx/Analytics.scala\n",
            "spark-3.3.2-bin-hadoop3/examples/src/main/scala/org/apache/spark/examples/graphx/ComprehensiveExample.scala\n",
            "spark-3.3.2-bin-hadoop3/examples/src/main/scala/org/apache/spark/examples/graphx/ConnectedComponentsExample.scala\n",
            "spark-3.3.2-bin-hadoop3/examples/src/main/scala/org/apache/spark/examples/graphx/LiveJournalPageRank.scala\n",
            "spark-3.3.2-bin-hadoop3/examples/src/main/scala/org/apache/spark/examples/graphx/PageRankExample.scala\n",
            "spark-3.3.2-bin-hadoop3/examples/src/main/scala/org/apache/spark/examples/graphx/SSSPExample.scala\n",
            "spark-3.3.2-bin-hadoop3/examples/src/main/scala/org/apache/spark/examples/graphx/SynthBenchmark.scala\n",
            "spark-3.3.2-bin-hadoop3/examples/src/main/scala/org/apache/spark/examples/graphx/TriangleCountingExample.scala\n",
            "spark-3.3.2-bin-hadoop3/examples/src/main/scala/org/apache/spark/examples/ml/\n",
            "spark-3.3.2-bin-hadoop3/examples/src/main/scala/org/apache/spark/examples/ml/AFTSurvivalRegressionExample.scala\n",
            "spark-3.3.2-bin-hadoop3/examples/src/main/scala/org/apache/spark/examples/ml/ALSExample.scala\n",
            "spark-3.3.2-bin-hadoop3/examples/src/main/scala/org/apache/spark/examples/ml/BinarizerExample.scala\n",
            "spark-3.3.2-bin-hadoop3/examples/src/main/scala/org/apache/spark/examples/ml/BisectingKMeansExample.scala\n",
            "spark-3.3.2-bin-hadoop3/examples/src/main/scala/org/apache/spark/examples/ml/BucketedRandomProjectionLSHExample.scala\n",
            "spark-3.3.2-bin-hadoop3/examples/src/main/scala/org/apache/spark/examples/ml/BucketizerExample.scala\n",
            "spark-3.3.2-bin-hadoop3/examples/src/main/scala/org/apache/spark/examples/ml/ChiSqSelectorExample.scala\n",
            "spark-3.3.2-bin-hadoop3/examples/src/main/scala/org/apache/spark/examples/ml/ChiSquareTestExample.scala\n",
            "spark-3.3.2-bin-hadoop3/examples/src/main/scala/org/apache/spark/examples/ml/CorrelationExample.scala\n",
            "spark-3.3.2-bin-hadoop3/examples/src/main/scala/org/apache/spark/examples/ml/CountVectorizerExample.scala\n",
            "spark-3.3.2-bin-hadoop3/examples/src/main/scala/org/apache/spark/examples/ml/DCTExample.scala\n",
            "spark-3.3.2-bin-hadoop3/examples/src/main/scala/org/apache/spark/examples/ml/DataFrameExample.scala\n",
            "spark-3.3.2-bin-hadoop3/examples/src/main/scala/org/apache/spark/examples/ml/DecisionTreeClassificationExample.scala\n",
            "spark-3.3.2-bin-hadoop3/examples/src/main/scala/org/apache/spark/examples/ml/DecisionTreeExample.scala\n",
            "spark-3.3.2-bin-hadoop3/examples/src/main/scala/org/apache/spark/examples/ml/DecisionTreeRegressionExample.scala\n",
            "spark-3.3.2-bin-hadoop3/examples/src/main/scala/org/apache/spark/examples/ml/DeveloperApiExample.scala\n",
            "spark-3.3.2-bin-hadoop3/examples/src/main/scala/org/apache/spark/examples/ml/ElementwiseProductExample.scala\n",
            "spark-3.3.2-bin-hadoop3/examples/src/main/scala/org/apache/spark/examples/ml/EstimatorTransformerParamExample.scala\n",
            "spark-3.3.2-bin-hadoop3/examples/src/main/scala/org/apache/spark/examples/ml/FMClassifierExample.scala\n",
            "spark-3.3.2-bin-hadoop3/examples/src/main/scala/org/apache/spark/examples/ml/FMRegressorExample.scala\n",
            "spark-3.3.2-bin-hadoop3/examples/src/main/scala/org/apache/spark/examples/ml/FPGrowthExample.scala\n",
            "spark-3.3.2-bin-hadoop3/examples/src/main/scala/org/apache/spark/examples/ml/FeatureHasherExample.scala\n",
            "spark-3.3.2-bin-hadoop3/examples/src/main/scala/org/apache/spark/examples/ml/GBTExample.scala\n",
            "spark-3.3.2-bin-hadoop3/examples/src/main/scala/org/apache/spark/examples/ml/GaussianMixtureExample.scala\n",
            "spark-3.3.2-bin-hadoop3/examples/src/main/scala/org/apache/spark/examples/ml/GeneralizedLinearRegressionExample.scala\n",
            "spark-3.3.2-bin-hadoop3/examples/src/main/scala/org/apache/spark/examples/ml/GradientBoostedTreeClassifierExample.scala\n",
            "spark-3.3.2-bin-hadoop3/examples/src/main/scala/org/apache/spark/examples/ml/GradientBoostedTreeRegressorExample.scala\n",
            "spark-3.3.2-bin-hadoop3/examples/src/main/scala/org/apache/spark/examples/ml/ImputerExample.scala\n",
            "spark-3.3.2-bin-hadoop3/examples/src/main/scala/org/apache/spark/examples/ml/IndexToStringExample.scala\n",
            "spark-3.3.2-bin-hadoop3/examples/src/main/scala/org/apache/spark/examples/ml/InteractionExample.scala\n",
            "spark-3.3.2-bin-hadoop3/examples/src/main/scala/org/apache/spark/examples/ml/IsotonicRegressionExample.scala\n",
            "spark-3.3.2-bin-hadoop3/examples/src/main/scala/org/apache/spark/examples/ml/KMeansExample.scala\n",
            "spark-3.3.2-bin-hadoop3/examples/src/main/scala/org/apache/spark/examples/ml/LDAExample.scala\n",
            "spark-3.3.2-bin-hadoop3/examples/src/main/scala/org/apache/spark/examples/ml/LinearRegressionExample.scala\n",
            "spark-3.3.2-bin-hadoop3/examples/src/main/scala/org/apache/spark/examples/ml/LinearRegressionWithElasticNetExample.scala\n",
            "spark-3.3.2-bin-hadoop3/examples/src/main/scala/org/apache/spark/examples/ml/LinearSVCExample.scala\n",
            "spark-3.3.2-bin-hadoop3/examples/src/main/scala/org/apache/spark/examples/ml/LogisticRegressionExample.scala\n",
            "spark-3.3.2-bin-hadoop3/examples/src/main/scala/org/apache/spark/examples/ml/LogisticRegressionSummaryExample.scala\n",
            "spark-3.3.2-bin-hadoop3/examples/src/main/scala/org/apache/spark/examples/ml/LogisticRegressionWithElasticNetExample.scala\n",
            "spark-3.3.2-bin-hadoop3/examples/src/main/scala/org/apache/spark/examples/ml/MaxAbsScalerExample.scala\n",
            "spark-3.3.2-bin-hadoop3/examples/src/main/scala/org/apache/spark/examples/ml/MinHashLSHExample.scala\n",
            "spark-3.3.2-bin-hadoop3/examples/src/main/scala/org/apache/spark/examples/ml/MinMaxScalerExample.scala\n",
            "spark-3.3.2-bin-hadoop3/examples/src/main/scala/org/apache/spark/examples/ml/ModelSelectionViaCrossValidationExample.scala\n",
            "spark-3.3.2-bin-hadoop3/examples/src/main/scala/org/apache/spark/examples/ml/ModelSelectionViaTrainValidationSplitExample.scala\n",
            "spark-3.3.2-bin-hadoop3/examples/src/main/scala/org/apache/spark/examples/ml/MulticlassLogisticRegressionWithElasticNetExample.scala\n",
            "spark-3.3.2-bin-hadoop3/examples/src/main/scala/org/apache/spark/examples/ml/MultilayerPerceptronClassifierExample.scala\n",
            "spark-3.3.2-bin-hadoop3/examples/src/main/scala/org/apache/spark/examples/ml/NGramExample.scala\n",
            "spark-3.3.2-bin-hadoop3/examples/src/main/scala/org/apache/spark/examples/ml/NaiveBayesExample.scala\n",
            "spark-3.3.2-bin-hadoop3/examples/src/main/scala/org/apache/spark/examples/ml/NormalizerExample.scala\n",
            "spark-3.3.2-bin-hadoop3/examples/src/main/scala/org/apache/spark/examples/ml/OneHotEncoderExample.scala\n",
            "spark-3.3.2-bin-hadoop3/examples/src/main/scala/org/apache/spark/examples/ml/OneVsRestExample.scala\n",
            "spark-3.3.2-bin-hadoop3/examples/src/main/scala/org/apache/spark/examples/ml/PCAExample.scala\n",
            "spark-3.3.2-bin-hadoop3/examples/src/main/scala/org/apache/spark/examples/ml/PipelineExample.scala\n",
            "spark-3.3.2-bin-hadoop3/examples/src/main/scala/org/apache/spark/examples/ml/PolynomialExpansionExample.scala\n",
            "spark-3.3.2-bin-hadoop3/examples/src/main/scala/org/apache/spark/examples/ml/PowerIterationClusteringExample.scala\n",
            "spark-3.3.2-bin-hadoop3/examples/src/main/scala/org/apache/spark/examples/ml/PrefixSpanExample.scala\n",
            "spark-3.3.2-bin-hadoop3/examples/src/main/scala/org/apache/spark/examples/ml/QuantileDiscretizerExample.scala\n",
            "spark-3.3.2-bin-hadoop3/examples/src/main/scala/org/apache/spark/examples/ml/RFormulaExample.scala\n",
            "spark-3.3.2-bin-hadoop3/examples/src/main/scala/org/apache/spark/examples/ml/RandomForestClassifierExample.scala\n",
            "spark-3.3.2-bin-hadoop3/examples/src/main/scala/org/apache/spark/examples/ml/RandomForestExample.scala\n",
            "spark-3.3.2-bin-hadoop3/examples/src/main/scala/org/apache/spark/examples/ml/RandomForestRegressorExample.scala\n",
            "spark-3.3.2-bin-hadoop3/examples/src/main/scala/org/apache/spark/examples/ml/RobustScalerExample.scala\n",
            "spark-3.3.2-bin-hadoop3/examples/src/main/scala/org/apache/spark/examples/ml/SQLTransformerExample.scala\n",
            "spark-3.3.2-bin-hadoop3/examples/src/main/scala/org/apache/spark/examples/ml/StandardScalerExample.scala\n",
            "spark-3.3.2-bin-hadoop3/examples/src/main/scala/org/apache/spark/examples/ml/StopWordsRemoverExample.scala\n",
            "spark-3.3.2-bin-hadoop3/examples/src/main/scala/org/apache/spark/examples/ml/StringIndexerExample.scala\n",
            "spark-3.3.2-bin-hadoop3/examples/src/main/scala/org/apache/spark/examples/ml/SummarizerExample.scala\n",
            "spark-3.3.2-bin-hadoop3/examples/src/main/scala/org/apache/spark/examples/ml/TfIdfExample.scala\n",
            "spark-3.3.2-bin-hadoop3/examples/src/main/scala/org/apache/spark/examples/ml/TokenizerExample.scala\n",
            "spark-3.3.2-bin-hadoop3/examples/src/main/scala/org/apache/spark/examples/ml/UnaryTransformerExample.scala\n",
            "spark-3.3.2-bin-hadoop3/examples/src/main/scala/org/apache/spark/examples/ml/UnivariateFeatureSelectorExample.scala\n",
            "spark-3.3.2-bin-hadoop3/examples/src/main/scala/org/apache/spark/examples/ml/VarianceThresholdSelectorExample.scala\n",
            "spark-3.3.2-bin-hadoop3/examples/src/main/scala/org/apache/spark/examples/ml/VectorAssemblerExample.scala\n",
            "spark-3.3.2-bin-hadoop3/examples/src/main/scala/org/apache/spark/examples/ml/VectorIndexerExample.scala\n",
            "spark-3.3.2-bin-hadoop3/examples/src/main/scala/org/apache/spark/examples/ml/VectorSizeHintExample.scala\n",
            "spark-3.3.2-bin-hadoop3/examples/src/main/scala/org/apache/spark/examples/ml/VectorSlicerExample.scala\n",
            "spark-3.3.2-bin-hadoop3/examples/src/main/scala/org/apache/spark/examples/ml/Word2VecExample.scala\n",
            "spark-3.3.2-bin-hadoop3/examples/src/main/scala/org/apache/spark/examples/mllib/\n",
            "spark-3.3.2-bin-hadoop3/examples/src/main/scala/org/apache/spark/examples/mllib/AbstractParams.scala\n",
            "spark-3.3.2-bin-hadoop3/examples/src/main/scala/org/apache/spark/examples/mllib/AssociationRulesExample.scala\n",
            "spark-3.3.2-bin-hadoop3/examples/src/main/scala/org/apache/spark/examples/mllib/BinaryClassification.scala\n",
            "spark-3.3.2-bin-hadoop3/examples/src/main/scala/org/apache/spark/examples/mllib/BinaryClassificationMetricsExample.scala\n",
            "spark-3.3.2-bin-hadoop3/examples/src/main/scala/org/apache/spark/examples/mllib/BisectingKMeansExample.scala\n",
            "spark-3.3.2-bin-hadoop3/examples/src/main/scala/org/apache/spark/examples/mllib/ChiSqSelectorExample.scala\n",
            "spark-3.3.2-bin-hadoop3/examples/src/main/scala/org/apache/spark/examples/mllib/Correlations.scala\n",
            "spark-3.3.2-bin-hadoop3/examples/src/main/scala/org/apache/spark/examples/mllib/CorrelationsExample.scala\n",
            "spark-3.3.2-bin-hadoop3/examples/src/main/scala/org/apache/spark/examples/mllib/CosineSimilarity.scala\n",
            "spark-3.3.2-bin-hadoop3/examples/src/main/scala/org/apache/spark/examples/mllib/DecisionTreeClassificationExample.scala\n",
            "spark-3.3.2-bin-hadoop3/examples/src/main/scala/org/apache/spark/examples/mllib/DecisionTreeRegressionExample.scala\n",
            "spark-3.3.2-bin-hadoop3/examples/src/main/scala/org/apache/spark/examples/mllib/DecisionTreeRunner.scala\n",
            "spark-3.3.2-bin-hadoop3/examples/src/main/scala/org/apache/spark/examples/mllib/DenseKMeans.scala\n",
            "spark-3.3.2-bin-hadoop3/examples/src/main/scala/org/apache/spark/examples/mllib/ElementwiseProductExample.scala\n",
            "spark-3.3.2-bin-hadoop3/examples/src/main/scala/org/apache/spark/examples/mllib/FPGrowthExample.scala\n",
            "spark-3.3.2-bin-hadoop3/examples/src/main/scala/org/apache/spark/examples/mllib/GaussianMixtureExample.scala\n",
            "spark-3.3.2-bin-hadoop3/examples/src/main/scala/org/apache/spark/examples/mllib/GradientBoostedTreesRunner.scala\n",
            "spark-3.3.2-bin-hadoop3/examples/src/main/scala/org/apache/spark/examples/mllib/GradientBoostingClassificationExample.scala\n",
            "spark-3.3.2-bin-hadoop3/examples/src/main/scala/org/apache/spark/examples/mllib/GradientBoostingRegressionExample.scala\n",
            "spark-3.3.2-bin-hadoop3/examples/src/main/scala/org/apache/spark/examples/mllib/HypothesisTestingExample.scala\n",
            "spark-3.3.2-bin-hadoop3/examples/src/main/scala/org/apache/spark/examples/mllib/HypothesisTestingKolmogorovSmirnovTestExample.scala\n",
            "spark-3.3.2-bin-hadoop3/examples/src/main/scala/org/apache/spark/examples/mllib/IsotonicRegressionExample.scala\n",
            "spark-3.3.2-bin-hadoop3/examples/src/main/scala/org/apache/spark/examples/mllib/KMeansExample.scala\n",
            "spark-3.3.2-bin-hadoop3/examples/src/main/scala/org/apache/spark/examples/mllib/KernelDensityEstimationExample.scala\n",
            "spark-3.3.2-bin-hadoop3/examples/src/main/scala/org/apache/spark/examples/mllib/LBFGSExample.scala\n",
            "spark-3.3.2-bin-hadoop3/examples/src/main/scala/org/apache/spark/examples/mllib/LDAExample.scala\n",
            "spark-3.3.2-bin-hadoop3/examples/src/main/scala/org/apache/spark/examples/mllib/LatentDirichletAllocationExample.scala\n",
            "spark-3.3.2-bin-hadoop3/examples/src/main/scala/org/apache/spark/examples/mllib/LogisticRegressionWithLBFGSExample.scala\n",
            "spark-3.3.2-bin-hadoop3/examples/src/main/scala/org/apache/spark/examples/mllib/MovieLensALS.scala\n",
            "spark-3.3.2-bin-hadoop3/examples/src/main/scala/org/apache/spark/examples/mllib/MultiLabelMetricsExample.scala\n",
            "spark-3.3.2-bin-hadoop3/examples/src/main/scala/org/apache/spark/examples/mllib/MulticlassMetricsExample.scala\n",
            "spark-3.3.2-bin-hadoop3/examples/src/main/scala/org/apache/spark/examples/mllib/MultivariateSummarizer.scala\n",
            "spark-3.3.2-bin-hadoop3/examples/src/main/scala/org/apache/spark/examples/mllib/NaiveBayesExample.scala\n",
            "spark-3.3.2-bin-hadoop3/examples/src/main/scala/org/apache/spark/examples/mllib/NormalizerExample.scala\n",
            "spark-3.3.2-bin-hadoop3/examples/src/main/scala/org/apache/spark/examples/mllib/PCAOnRowMatrixExample.scala\n",
            "spark-3.3.2-bin-hadoop3/examples/src/main/scala/org/apache/spark/examples/mllib/PCAOnSourceVectorExample.scala\n",
            "spark-3.3.2-bin-hadoop3/examples/src/main/scala/org/apache/spark/examples/mllib/PMMLModelExportExample.scala\n",
            "spark-3.3.2-bin-hadoop3/examples/src/main/scala/org/apache/spark/examples/mllib/PowerIterationClusteringExample.scala\n",
            "spark-3.3.2-bin-hadoop3/examples/src/main/scala/org/apache/spark/examples/mllib/PrefixSpanExample.scala\n",
            "spark-3.3.2-bin-hadoop3/examples/src/main/scala/org/apache/spark/examples/mllib/RandomForestClassificationExample.scala\n",
            "spark-3.3.2-bin-hadoop3/examples/src/main/scala/org/apache/spark/examples/mllib/RandomForestRegressionExample.scala\n",
            "spark-3.3.2-bin-hadoop3/examples/src/main/scala/org/apache/spark/examples/mllib/RandomRDDGeneration.scala\n",
            "spark-3.3.2-bin-hadoop3/examples/src/main/scala/org/apache/spark/examples/mllib/RankingMetricsExample.scala\n",
            "spark-3.3.2-bin-hadoop3/examples/src/main/scala/org/apache/spark/examples/mllib/RecommendationExample.scala\n",
            "spark-3.3.2-bin-hadoop3/examples/src/main/scala/org/apache/spark/examples/mllib/SVDExample.scala\n",
            "spark-3.3.2-bin-hadoop3/examples/src/main/scala/org/apache/spark/examples/mllib/SVMWithSGDExample.scala\n",
            "spark-3.3.2-bin-hadoop3/examples/src/main/scala/org/apache/spark/examples/mllib/SampledRDDs.scala\n",
            "spark-3.3.2-bin-hadoop3/examples/src/main/scala/org/apache/spark/examples/mllib/SimpleFPGrowth.scala\n",
            "spark-3.3.2-bin-hadoop3/examples/src/main/scala/org/apache/spark/examples/mllib/SparseNaiveBayes.scala\n",
            "spark-3.3.2-bin-hadoop3/examples/src/main/scala/org/apache/spark/examples/mllib/StandardScalerExample.scala\n",
            "spark-3.3.2-bin-hadoop3/examples/src/main/scala/org/apache/spark/examples/mllib/StratifiedSamplingExample.scala\n",
            "spark-3.3.2-bin-hadoop3/examples/src/main/scala/org/apache/spark/examples/mllib/StreamingKMeansExample.scala\n",
            "spark-3.3.2-bin-hadoop3/examples/src/main/scala/org/apache/spark/examples/mllib/StreamingLinearRegressionExample.scala\n",
            "spark-3.3.2-bin-hadoop3/examples/src/main/scala/org/apache/spark/examples/mllib/StreamingLogisticRegression.scala\n",
            "spark-3.3.2-bin-hadoop3/examples/src/main/scala/org/apache/spark/examples/mllib/StreamingTestExample.scala\n",
            "spark-3.3.2-bin-hadoop3/examples/src/main/scala/org/apache/spark/examples/mllib/SummaryStatisticsExample.scala\n",
            "spark-3.3.2-bin-hadoop3/examples/src/main/scala/org/apache/spark/examples/mllib/TFIDFExample.scala\n",
            "spark-3.3.2-bin-hadoop3/examples/src/main/scala/org/apache/spark/examples/mllib/TallSkinnyPCA.scala\n",
            "spark-3.3.2-bin-hadoop3/examples/src/main/scala/org/apache/spark/examples/mllib/TallSkinnySVD.scala\n",
            "spark-3.3.2-bin-hadoop3/examples/src/main/scala/org/apache/spark/examples/mllib/Word2VecExample.scala\n",
            "spark-3.3.2-bin-hadoop3/examples/src/main/scala/org/apache/spark/examples/pythonconverters/\n",
            "spark-3.3.2-bin-hadoop3/examples/src/main/scala/org/apache/spark/examples/pythonconverters/AvroConverters.scala\n",
            "spark-3.3.2-bin-hadoop3/examples/src/main/scala/org/apache/spark/examples/sql/\n",
            "spark-3.3.2-bin-hadoop3/examples/src/main/scala/org/apache/spark/examples/sql/RDDRelation.scala\n",
            "spark-3.3.2-bin-hadoop3/examples/src/main/scala/org/apache/spark/examples/sql/SQLDataSourceExample.scala\n",
            "spark-3.3.2-bin-hadoop3/examples/src/main/scala/org/apache/spark/examples/sql/SimpleTypedAggregator.scala\n",
            "spark-3.3.2-bin-hadoop3/examples/src/main/scala/org/apache/spark/examples/sql/SparkSQLExample.scala\n",
            "spark-3.3.2-bin-hadoop3/examples/src/main/scala/org/apache/spark/examples/sql/UserDefinedScalar.scala\n",
            "spark-3.3.2-bin-hadoop3/examples/src/main/scala/org/apache/spark/examples/sql/UserDefinedTypedAggregation.scala\n",
            "spark-3.3.2-bin-hadoop3/examples/src/main/scala/org/apache/spark/examples/sql/UserDefinedUntypedAggregation.scala\n",
            "spark-3.3.2-bin-hadoop3/examples/src/main/scala/org/apache/spark/examples/sql/hive/\n",
            "spark-3.3.2-bin-hadoop3/examples/src/main/scala/org/apache/spark/examples/sql/hive/SparkHiveExample.scala\n",
            "spark-3.3.2-bin-hadoop3/examples/src/main/scala/org/apache/spark/examples/sql/jdbc/\n",
            "spark-3.3.2-bin-hadoop3/examples/src/main/scala/org/apache/spark/examples/sql/jdbc/ExampleJdbcConnectionProvider.scala\n",
            "spark-3.3.2-bin-hadoop3/examples/src/main/scala/org/apache/spark/examples/sql/streaming/\n",
            "spark-3.3.2-bin-hadoop3/examples/src/main/scala/org/apache/spark/examples/sql/streaming/StructuredComplexSessionization.scala\n",
            "spark-3.3.2-bin-hadoop3/examples/src/main/scala/org/apache/spark/examples/sql/streaming/StructuredKafkaWordCount.scala\n",
            "spark-3.3.2-bin-hadoop3/examples/src/main/scala/org/apache/spark/examples/sql/streaming/StructuredKerberizedKafkaWordCount.scala\n",
            "spark-3.3.2-bin-hadoop3/examples/src/main/scala/org/apache/spark/examples/sql/streaming/StructuredNetworkWordCount.scala\n",
            "spark-3.3.2-bin-hadoop3/examples/src/main/scala/org/apache/spark/examples/sql/streaming/StructuredNetworkWordCountWindowed.scala\n",
            "spark-3.3.2-bin-hadoop3/examples/src/main/scala/org/apache/spark/examples/sql/streaming/StructuredSessionization.scala\n",
            "spark-3.3.2-bin-hadoop3/examples/src/main/scala/org/apache/spark/examples/streaming/\n",
            "spark-3.3.2-bin-hadoop3/examples/src/main/scala/org/apache/spark/examples/streaming/CustomReceiver.scala\n",
            "spark-3.3.2-bin-hadoop3/examples/src/main/scala/org/apache/spark/examples/streaming/DirectKafkaWordCount.scala\n",
            "spark-3.3.2-bin-hadoop3/examples/src/main/scala/org/apache/spark/examples/streaming/DirectKerberizedKafkaWordCount.scala\n",
            "spark-3.3.2-bin-hadoop3/examples/src/main/scala/org/apache/spark/examples/streaming/HdfsWordCount.scala\n",
            "spark-3.3.2-bin-hadoop3/examples/src/main/scala/org/apache/spark/examples/streaming/NetworkWordCount.scala\n",
            "spark-3.3.2-bin-hadoop3/examples/src/main/scala/org/apache/spark/examples/streaming/QueueStream.scala\n",
            "spark-3.3.2-bin-hadoop3/examples/src/main/scala/org/apache/spark/examples/streaming/RawNetworkGrep.scala\n",
            "spark-3.3.2-bin-hadoop3/examples/src/main/scala/org/apache/spark/examples/streaming/RecoverableNetworkWordCount.scala\n",
            "spark-3.3.2-bin-hadoop3/examples/src/main/scala/org/apache/spark/examples/streaming/SqlNetworkWordCount.scala\n",
            "spark-3.3.2-bin-hadoop3/examples/src/main/scala/org/apache/spark/examples/streaming/StatefulNetworkWordCount.scala\n",
            "spark-3.3.2-bin-hadoop3/examples/src/main/scala/org/apache/spark/examples/streaming/StreamingExamples.scala\n",
            "spark-3.3.2-bin-hadoop3/examples/src/main/scala/org/apache/spark/examples/streaming/clickstream/\n",
            "spark-3.3.2-bin-hadoop3/examples/src/main/scala/org/apache/spark/examples/streaming/clickstream/PageViewGenerator.scala\n",
            "spark-3.3.2-bin-hadoop3/examples/src/main/scala/org/apache/spark/examples/streaming/clickstream/PageViewStream.scala\n",
            "spark-3.3.2-bin-hadoop3/examples/src/main/scripts/\n",
            "spark-3.3.2-bin-hadoop3/examples/src/main/scripts/getGpusResources.sh\n",
            "spark-3.3.2-bin-hadoop3/jars/\n",
            "spark-3.3.2-bin-hadoop3/jars/HikariCP-2.5.1.jar\n",
            "spark-3.3.2-bin-hadoop3/jars/JLargeArrays-1.5.jar\n",
            "spark-3.3.2-bin-hadoop3/jars/JTransforms-3.1.jar\n",
            "spark-3.3.2-bin-hadoop3/jars/RoaringBitmap-0.9.25.jar\n",
            "spark-3.3.2-bin-hadoop3/jars/ST4-4.0.4.jar\n",
            "spark-3.3.2-bin-hadoop3/jars/activation-1.1.1.jar\n",
            "spark-3.3.2-bin-hadoop3/jars/aircompressor-0.21.jar\n",
            "spark-3.3.2-bin-hadoop3/jars/algebra_2.12-2.0.1.jar\n",
            "spark-3.3.2-bin-hadoop3/jars/annotations-17.0.0.jar\n",
            "spark-3.3.2-bin-hadoop3/jars/antlr-runtime-3.5.2.jar\n",
            "spark-3.3.2-bin-hadoop3/jars/antlr4-runtime-4.8.jar\n",
            "spark-3.3.2-bin-hadoop3/jars/aopalliance-repackaged-2.6.1.jar\n",
            "spark-3.3.2-bin-hadoop3/jars/arpack-2.2.1.jar\n",
            "spark-3.3.2-bin-hadoop3/jars/arpack_combined_all-0.1.jar\n",
            "spark-3.3.2-bin-hadoop3/jars/arrow-format-7.0.0.jar\n",
            "spark-3.3.2-bin-hadoop3/jars/arrow-memory-core-7.0.0.jar\n",
            "spark-3.3.2-bin-hadoop3/jars/arrow-memory-netty-7.0.0.jar\n",
            "spark-3.3.2-bin-hadoop3/jars/arrow-vector-7.0.0.jar\n",
            "spark-3.3.2-bin-hadoop3/jars/audience-annotations-0.5.0.jar\n",
            "spark-3.3.2-bin-hadoop3/jars/automaton-1.11-8.jar\n",
            "spark-3.3.2-bin-hadoop3/jars/avro-1.11.0.jar\n",
            "spark-3.3.2-bin-hadoop3/jars/avro-ipc-1.11.0.jar\n",
            "spark-3.3.2-bin-hadoop3/jars/avro-mapred-1.11.0.jar\n",
            "spark-3.3.2-bin-hadoop3/jars/blas-2.2.1.jar\n",
            "spark-3.3.2-bin-hadoop3/jars/bonecp-0.8.0.RELEASE.jar\n",
            "spark-3.3.2-bin-hadoop3/jars/breeze-macros_2.12-1.2.jar\n",
            "spark-3.3.2-bin-hadoop3/jars/breeze_2.12-1.2.jar\n",
            "spark-3.3.2-bin-hadoop3/jars/cats-kernel_2.12-2.1.1.jar\n",
            "spark-3.3.2-bin-hadoop3/jars/chill-java-0.10.0.jar\n",
            "spark-3.3.2-bin-hadoop3/jars/chill_2.12-0.10.0.jar\n",
            "spark-3.3.2-bin-hadoop3/jars/commons-cli-1.5.0.jar\n",
            "spark-3.3.2-bin-hadoop3/jars/commons-codec-1.15.jar\n",
            "spark-3.3.2-bin-hadoop3/jars/commons-collections-3.2.2.jar\n",
            "spark-3.3.2-bin-hadoop3/jars/commons-collections4-4.4.jar\n",
            "spark-3.3.2-bin-hadoop3/jars/commons-compiler-3.0.16.jar\n",
            "spark-3.3.2-bin-hadoop3/jars/commons-compress-1.21.jar\n",
            "spark-3.3.2-bin-hadoop3/jars/commons-crypto-1.1.0.jar\n",
            "spark-3.3.2-bin-hadoop3/jars/commons-dbcp-1.4.jar\n",
            "spark-3.3.2-bin-hadoop3/jars/commons-io-2.11.0.jar\n",
            "spark-3.3.2-bin-hadoop3/jars/commons-lang-2.6.jar\n",
            "spark-3.3.2-bin-hadoop3/jars/commons-lang3-3.12.0.jar\n",
            "spark-3.3.2-bin-hadoop3/jars/commons-logging-1.1.3.jar\n",
            "spark-3.3.2-bin-hadoop3/jars/commons-math3-3.6.1.jar\n",
            "spark-3.3.2-bin-hadoop3/jars/commons-pool-1.5.4.jar\n",
            "spark-3.3.2-bin-hadoop3/jars/commons-text-1.10.0.jar\n",
            "spark-3.3.2-bin-hadoop3/jars/compress-lzf-1.1.jar\n",
            "spark-3.3.2-bin-hadoop3/jars/core-1.1.2.jar\n",
            "spark-3.3.2-bin-hadoop3/jars/curator-client-2.13.0.jar\n",
            "spark-3.3.2-bin-hadoop3/jars/curator-framework-2.13.0.jar\n",
            "spark-3.3.2-bin-hadoop3/jars/curator-recipes-2.13.0.jar\n",
            "spark-3.3.2-bin-hadoop3/jars/datanucleus-api-jdo-4.2.4.jar\n",
            "spark-3.3.2-bin-hadoop3/jars/datanucleus-core-4.1.17.jar\n",
            "spark-3.3.2-bin-hadoop3/jars/datanucleus-rdbms-4.1.19.jar\n",
            "spark-3.3.2-bin-hadoop3/jars/derby-10.14.2.0.jar\n",
            "spark-3.3.2-bin-hadoop3/jars/dropwizard-metrics-hadoop-metrics2-reporter-0.1.2.jar\n",
            "spark-3.3.2-bin-hadoop3/jars/flatbuffers-java-1.12.0.jar\n",
            "spark-3.3.2-bin-hadoop3/jars/generex-1.0.2.jar\n",
            "spark-3.3.2-bin-hadoop3/jars/gson-2.2.4.jar\n",
            "spark-3.3.2-bin-hadoop3/jars/guava-14.0.1.jar\n",
            "spark-3.3.2-bin-hadoop3/jars/hadoop-client-api-3.3.2.jar\n",
            "spark-3.3.2-bin-hadoop3/jars/hadoop-client-runtime-3.3.2.jar\n",
            "spark-3.3.2-bin-hadoop3/jars/hadoop-shaded-guava-1.1.1.jar\n",
            "spark-3.3.2-bin-hadoop3/jars/hadoop-yarn-server-web-proxy-3.3.2.jar\n",
            "spark-3.3.2-bin-hadoop3/jars/hive-beeline-2.3.9.jar\n",
            "spark-3.3.2-bin-hadoop3/jars/hive-cli-2.3.9.jar\n",
            "spark-3.3.2-bin-hadoop3/jars/hive-common-2.3.9.jar\n",
            "spark-3.3.2-bin-hadoop3/jars/hive-exec-2.3.9-core.jar\n",
            "spark-3.3.2-bin-hadoop3/jars/hive-jdbc-2.3.9.jar\n",
            "spark-3.3.2-bin-hadoop3/jars/hive-llap-common-2.3.9.jar\n",
            "spark-3.3.2-bin-hadoop3/jars/hive-metastore-2.3.9.jar\n",
            "spark-3.3.2-bin-hadoop3/jars/hive-serde-2.3.9.jar\n",
            "spark-3.3.2-bin-hadoop3/jars/hive-service-rpc-3.1.2.jar\n",
            "spark-3.3.2-bin-hadoop3/jars/hive-shims-0.23-2.3.9.jar\n",
            "spark-3.3.2-bin-hadoop3/jars/hive-shims-2.3.9.jar\n",
            "spark-3.3.2-bin-hadoop3/jars/hive-shims-common-2.3.9.jar\n",
            "spark-3.3.2-bin-hadoop3/jars/hive-shims-scheduler-2.3.9.jar\n",
            "spark-3.3.2-bin-hadoop3/jars/hive-storage-api-2.7.2.jar\n",
            "spark-3.3.2-bin-hadoop3/jars/hive-vector-code-gen-2.3.9.jar\n",
            "spark-3.3.2-bin-hadoop3/jars/hk2-api-2.6.1.jar\n",
            "spark-3.3.2-bin-hadoop3/jars/hk2-locator-2.6.1.jar\n",
            "spark-3.3.2-bin-hadoop3/jars/hk2-utils-2.6.1.jar\n",
            "spark-3.3.2-bin-hadoop3/jars/httpclient-4.5.13.jar\n",
            "spark-3.3.2-bin-hadoop3/jars/httpcore-4.4.14.jar\n",
            "spark-3.3.2-bin-hadoop3/jars/istack-commons-runtime-3.0.8.jar\n",
            "spark-3.3.2-bin-hadoop3/jars/ivy-2.5.1.jar\n",
            "spark-3.3.2-bin-hadoop3/jars/jackson-annotations-2.13.4.jar\n",
            "spark-3.3.2-bin-hadoop3/jars/jackson-core-2.13.4.jar\n",
            "spark-3.3.2-bin-hadoop3/jars/jackson-core-asl-1.9.13.jar\n",
            "spark-3.3.2-bin-hadoop3/jars/jackson-databind-2.13.4.2.jar\n",
            "spark-3.3.2-bin-hadoop3/jars/jackson-dataformat-yaml-2.13.4.jar\n",
            "spark-3.3.2-bin-hadoop3/jars/jackson-datatype-jsr310-2.13.4.jar\n",
            "spark-3.3.2-bin-hadoop3/jars/jackson-mapper-asl-1.9.13.jar\n",
            "spark-3.3.2-bin-hadoop3/jars/jackson-module-scala_2.12-2.13.4.jar\n",
            "spark-3.3.2-bin-hadoop3/jars/jakarta.annotation-api-1.3.5.jar\n",
            "spark-3.3.2-bin-hadoop3/jars/jakarta.inject-2.6.1.jar\n",
            "spark-3.3.2-bin-hadoop3/jars/jakarta.servlet-api-4.0.3.jar\n",
            "spark-3.3.2-bin-hadoop3/jars/jakarta.validation-api-2.0.2.jar\n",
            "spark-3.3.2-bin-hadoop3/jars/jakarta.ws.rs-api-2.1.6.jar\n",
            "spark-3.3.2-bin-hadoop3/jars/jakarta.xml.bind-api-2.3.2.jar\n",
            "spark-3.3.2-bin-hadoop3/jars/janino-3.0.16.jar\n",
            "spark-3.3.2-bin-hadoop3/jars/javassist-3.25.0-GA.jar\n",
            "spark-3.3.2-bin-hadoop3/jars/javax.jdo-3.2.0-m3.jar\n",
            "spark-3.3.2-bin-hadoop3/jars/javolution-5.5.1.jar\n",
            "spark-3.3.2-bin-hadoop3/jars/jaxb-runtime-2.3.2.jar\n",
            "spark-3.3.2-bin-hadoop3/jars/jcl-over-slf4j-1.7.32.jar\n",
            "spark-3.3.2-bin-hadoop3/jars/jdo-api-3.0.1.jar\n",
            "spark-3.3.2-bin-hadoop3/jars/jersey-client-2.36.jar\n",
            "spark-3.3.2-bin-hadoop3/jars/jersey-common-2.36.jar\n",
            "spark-3.3.2-bin-hadoop3/jars/jersey-container-servlet-2.36.jar\n",
            "spark-3.3.2-bin-hadoop3/jars/jersey-container-servlet-core-2.36.jar\n",
            "spark-3.3.2-bin-hadoop3/jars/jersey-hk2-2.36.jar\n",
            "spark-3.3.2-bin-hadoop3/jars/jersey-server-2.36.jar\n",
            "spark-3.3.2-bin-hadoop3/jars/jline-2.14.6.jar\n",
            "spark-3.3.2-bin-hadoop3/jars/joda-time-2.10.13.jar\n",
            "spark-3.3.2-bin-hadoop3/jars/jodd-core-3.5.2.jar\n",
            "spark-3.3.2-bin-hadoop3/jars/jpam-1.1.jar\n",
            "spark-3.3.2-bin-hadoop3/jars/json-1.8.jar\n",
            "spark-3.3.2-bin-hadoop3/jars/json4s-ast_2.12-3.7.0-M11.jar\n",
            "spark-3.3.2-bin-hadoop3/jars/json4s-core_2.12-3.7.0-M11.jar\n",
            "spark-3.3.2-bin-hadoop3/jars/json4s-jackson_2.12-3.7.0-M11.jar\n",
            "spark-3.3.2-bin-hadoop3/jars/json4s-scalap_2.12-3.7.0-M11.jar\n",
            "spark-3.3.2-bin-hadoop3/jars/jsr305-3.0.0.jar\n",
            "spark-3.3.2-bin-hadoop3/jars/jta-1.1.jar\n",
            "spark-3.3.2-bin-hadoop3/jars/jul-to-slf4j-1.7.32.jar\n",
            "spark-3.3.2-bin-hadoop3/jars/kryo-shaded-4.0.2.jar\n",
            "spark-3.3.2-bin-hadoop3/jars/kubernetes-client-5.12.2.jar\n",
            "spark-3.3.2-bin-hadoop3/jars/kubernetes-model-admissionregistration-5.12.2.jar\n",
            "spark-3.3.2-bin-hadoop3/jars/kubernetes-model-apiextensions-5.12.2.jar\n",
            "spark-3.3.2-bin-hadoop3/jars/kubernetes-model-apps-5.12.2.jar\n",
            "spark-3.3.2-bin-hadoop3/jars/kubernetes-model-autoscaling-5.12.2.jar\n",
            "spark-3.3.2-bin-hadoop3/jars/kubernetes-model-batch-5.12.2.jar\n",
            "spark-3.3.2-bin-hadoop3/jars/kubernetes-model-certificates-5.12.2.jar\n",
            "spark-3.3.2-bin-hadoop3/jars/kubernetes-model-common-5.12.2.jar\n",
            "spark-3.3.2-bin-hadoop3/jars/kubernetes-model-coordination-5.12.2.jar\n",
            "spark-3.3.2-bin-hadoop3/jars/kubernetes-model-core-5.12.2.jar\n",
            "spark-3.3.2-bin-hadoop3/jars/kubernetes-model-discovery-5.12.2.jar\n",
            "spark-3.3.2-bin-hadoop3/jars/kubernetes-model-events-5.12.2.jar\n",
            "spark-3.3.2-bin-hadoop3/jars/kubernetes-model-extensions-5.12.2.jar\n",
            "spark-3.3.2-bin-hadoop3/jars/kubernetes-model-flowcontrol-5.12.2.jar\n",
            "spark-3.3.2-bin-hadoop3/jars/kubernetes-model-metrics-5.12.2.jar\n",
            "spark-3.3.2-bin-hadoop3/jars/kubernetes-model-networking-5.12.2.jar\n",
            "spark-3.3.2-bin-hadoop3/jars/kubernetes-model-node-5.12.2.jar\n",
            "spark-3.3.2-bin-hadoop3/jars/kubernetes-model-policy-5.12.2.jar\n",
            "spark-3.3.2-bin-hadoop3/jars/kubernetes-model-rbac-5.12.2.jar\n",
            "spark-3.3.2-bin-hadoop3/jars/kubernetes-model-scheduling-5.12.2.jar\n",
            "spark-3.3.2-bin-hadoop3/jars/kubernetes-model-storageclass-5.12.2.jar\n",
            "spark-3.3.2-bin-hadoop3/jars/lapack-2.2.1.jar\n",
            "spark-3.3.2-bin-hadoop3/jars/leveldbjni-all-1.8.jar\n",
            "spark-3.3.2-bin-hadoop3/jars/libfb303-0.9.3.jar\n",
            "spark-3.3.2-bin-hadoop3/jars/libthrift-0.12.0.jar\n",
            "spark-3.3.2-bin-hadoop3/jars/log4j-1.2-api-2.17.2.jar\n",
            "spark-3.3.2-bin-hadoop3/jars/log4j-api-2.17.2.jar\n",
            "spark-3.3.2-bin-hadoop3/jars/log4j-core-2.17.2.jar\n",
            "spark-3.3.2-bin-hadoop3/jars/log4j-slf4j-impl-2.17.2.jar\n",
            "spark-3.3.2-bin-hadoop3/jars/logging-interceptor-3.12.12.jar\n",
            "spark-3.3.2-bin-hadoop3/jars/lz4-java-1.8.0.jar\n",
            "spark-3.3.2-bin-hadoop3/jars/mesos-1.4.3-shaded-protobuf.jar\n",
            "spark-3.3.2-bin-hadoop3/jars/metrics-core-4.2.7.jar\n",
            "spark-3.3.2-bin-hadoop3/jars/metrics-graphite-4.2.7.jar\n",
            "spark-3.3.2-bin-hadoop3/jars/metrics-jmx-4.2.7.jar\n",
            "spark-3.3.2-bin-hadoop3/jars/metrics-json-4.2.7.jar\n",
            "spark-3.3.2-bin-hadoop3/jars/metrics-jvm-4.2.7.jar\n",
            "spark-3.3.2-bin-hadoop3/jars/minlog-1.3.0.jar\n",
            "spark-3.3.2-bin-hadoop3/jars/netty-all-4.1.74.Final.jar\n",
            "spark-3.3.2-bin-hadoop3/jars/netty-buffer-4.1.74.Final.jar\n",
            "spark-3.3.2-bin-hadoop3/jars/netty-codec-4.1.74.Final.jar\n",
            "spark-3.3.2-bin-hadoop3/jars/netty-common-4.1.74.Final.jar\n",
            "spark-3.3.2-bin-hadoop3/jars/netty-handler-4.1.74.Final.jar\n",
            "spark-3.3.2-bin-hadoop3/jars/netty-resolver-4.1.74.Final.jar\n",
            "spark-3.3.2-bin-hadoop3/jars/netty-tcnative-classes-2.0.48.Final.jar\n",
            "spark-3.3.2-bin-hadoop3/jars/netty-transport-4.1.74.Final.jar\n",
            "spark-3.3.2-bin-hadoop3/jars/netty-transport-classes-epoll-4.1.74.Final.jar\n",
            "spark-3.3.2-bin-hadoop3/jars/netty-transport-classes-kqueue-4.1.74.Final.jar\n",
            "spark-3.3.2-bin-hadoop3/jars/netty-transport-native-epoll-4.1.74.Final-linux-aarch_64.jar\n",
            "spark-3.3.2-bin-hadoop3/jars/netty-transport-native-epoll-4.1.74.Final-linux-x86_64.jar\n",
            "spark-3.3.2-bin-hadoop3/jars/netty-transport-native-kqueue-4.1.74.Final-osx-aarch_64.jar\n",
            "spark-3.3.2-bin-hadoop3/jars/netty-transport-native-kqueue-4.1.74.Final-osx-x86_64.jar\n",
            "spark-3.3.2-bin-hadoop3/jars/netty-transport-native-unix-common-4.1.74.Final.jar\n",
            "spark-3.3.2-bin-hadoop3/jars/objenesis-3.2.jar\n",
            "spark-3.3.2-bin-hadoop3/jars/okhttp-3.12.12.jar\n",
            "spark-3.3.2-bin-hadoop3/jars/okio-1.14.0.jar\n",
            "spark-3.3.2-bin-hadoop3/jars/opencsv-2.3.jar\n",
            "spark-3.3.2-bin-hadoop3/jars/orc-core-1.7.8.jar\n",
            "spark-3.3.2-bin-hadoop3/jars/orc-mapreduce-1.7.8.jar\n",
            "spark-3.3.2-bin-hadoop3/jars/orc-shims-1.7.8.jar\n",
            "spark-3.3.2-bin-hadoop3/jars/oro-2.0.8.jar\n",
            "spark-3.3.2-bin-hadoop3/jars/osgi-resource-locator-1.0.3.jar\n",
            "spark-3.3.2-bin-hadoop3/jars/paranamer-2.8.jar\n",
            "spark-3.3.2-bin-hadoop3/jars/parquet-column-1.12.2.jar\n",
            "spark-3.3.2-bin-hadoop3/jars/parquet-common-1.12.2.jar\n",
            "spark-3.3.2-bin-hadoop3/jars/parquet-encoding-1.12.2.jar\n",
            "spark-3.3.2-bin-hadoop3/jars/parquet-format-structures-1.12.2.jar\n",
            "spark-3.3.2-bin-hadoop3/jars/parquet-hadoop-1.12.2.jar\n",
            "spark-3.3.2-bin-hadoop3/jars/parquet-jackson-1.12.2.jar\n",
            "spark-3.3.2-bin-hadoop3/jars/pickle-1.2.jar\n",
            "spark-3.3.2-bin-hadoop3/jars/protobuf-java-2.5.0.jar\n",
            "spark-3.3.2-bin-hadoop3/jars/py4j-0.10.9.5.jar\n",
            "spark-3.3.2-bin-hadoop3/jars/rocksdbjni-6.20.3.jar\n",
            "spark-3.3.2-bin-hadoop3/jars/scala-collection-compat_2.12-2.1.1.jar\n",
            "spark-3.3.2-bin-hadoop3/jars/scala-compiler-2.12.15.jar\n",
            "spark-3.3.2-bin-hadoop3/jars/scala-library-2.12.15.jar\n",
            "spark-3.3.2-bin-hadoop3/jars/scala-parser-combinators_2.12-1.1.2.jar\n",
            "spark-3.3.2-bin-hadoop3/jars/scala-reflect-2.12.15.jar\n",
            "spark-3.3.2-bin-hadoop3/jars/scala-xml_2.12-1.2.0.jar\n",
            "spark-3.3.2-bin-hadoop3/jars/shapeless_2.12-2.3.7.jar\n",
            "spark-3.3.2-bin-hadoop3/jars/shims-0.9.25.jar\n",
            "spark-3.3.2-bin-hadoop3/jars/slf4j-api-1.7.32.jar\n",
            "spark-3.3.2-bin-hadoop3/jars/snakeyaml-1.31.jar\n",
            "spark-3.3.2-bin-hadoop3/jars/snappy-java-1.1.8.4.jar\n",
            "spark-3.3.2-bin-hadoop3/jars/spark-catalyst_2.12-3.3.2.jar\n",
            "spark-3.3.2-bin-hadoop3/jars/spark-core_2.12-3.3.2.jar\n",
            "spark-3.3.2-bin-hadoop3/jars/spark-graphx_2.12-3.3.2.jar\n",
            "spark-3.3.2-bin-hadoop3/jars/spark-hive-thriftserver_2.12-3.3.2.jar\n",
            "spark-3.3.2-bin-hadoop3/jars/spark-hive_2.12-3.3.2.jar\n",
            "spark-3.3.2-bin-hadoop3/jars/spark-kubernetes_2.12-3.3.2.jar\n",
            "spark-3.3.2-bin-hadoop3/jars/spark-kvstore_2.12-3.3.2.jar\n",
            "spark-3.3.2-bin-hadoop3/jars/spark-launcher_2.12-3.3.2.jar\n",
            "spark-3.3.2-bin-hadoop3/jars/spark-mesos_2.12-3.3.2.jar\n",
            "spark-3.3.2-bin-hadoop3/jars/spark-mllib-local_2.12-3.3.2.jar\n",
            "spark-3.3.2-bin-hadoop3/jars/spark-mllib_2.12-3.3.2.jar\n",
            "spark-3.3.2-bin-hadoop3/jars/spark-network-common_2.12-3.3.2.jar\n",
            "spark-3.3.2-bin-hadoop3/jars/spark-network-shuffle_2.12-3.3.2.jar\n",
            "spark-3.3.2-bin-hadoop3/jars/spark-repl_2.12-3.3.2.jar\n",
            "spark-3.3.2-bin-hadoop3/jars/spark-sketch_2.12-3.3.2.jar\n",
            "spark-3.3.2-bin-hadoop3/jars/spark-sql_2.12-3.3.2.jar\n",
            "spark-3.3.2-bin-hadoop3/jars/spark-streaming_2.12-3.3.2.jar\n",
            "spark-3.3.2-bin-hadoop3/jars/spark-tags_2.12-3.3.2-tests.jar\n",
            "spark-3.3.2-bin-hadoop3/jars/spark-tags_2.12-3.3.2.jar\n",
            "spark-3.3.2-bin-hadoop3/jars/spark-unsafe_2.12-3.3.2.jar\n",
            "spark-3.3.2-bin-hadoop3/jars/spark-yarn_2.12-3.3.2.jar\n",
            "spark-3.3.2-bin-hadoop3/jars/spire-macros_2.12-0.17.0.jar\n",
            "spark-3.3.2-bin-hadoop3/jars/spire-platform_2.12-0.17.0.jar\n",
            "spark-3.3.2-bin-hadoop3/jars/spire-util_2.12-0.17.0.jar\n",
            "spark-3.3.2-bin-hadoop3/jars/spire_2.12-0.17.0.jar\n",
            "spark-3.3.2-bin-hadoop3/jars/stax-api-1.0.1.jar\n",
            "spark-3.3.2-bin-hadoop3/jars/stream-2.9.6.jar\n",
            "spark-3.3.2-bin-hadoop3/jars/super-csv-2.2.0.jar\n",
            "spark-3.3.2-bin-hadoop3/jars/threeten-extra-1.5.0.jar\n",
            "spark-3.3.2-bin-hadoop3/jars/tink-1.6.1.jar\n",
            "spark-3.3.2-bin-hadoop3/jars/transaction-api-1.1.jar\n",
            "spark-3.3.2-bin-hadoop3/jars/univocity-parsers-2.9.1.jar\n",
            "spark-3.3.2-bin-hadoop3/jars/velocity-1.5.jar\n",
            "spark-3.3.2-bin-hadoop3/jars/xbean-asm9-shaded-4.20.jar\n",
            "spark-3.3.2-bin-hadoop3/jars/xz-1.9.jar\n",
            "spark-3.3.2-bin-hadoop3/jars/zjsonpatch-0.3.0.jar\n",
            "spark-3.3.2-bin-hadoop3/jars/zookeeper-3.6.2.jar\n",
            "spark-3.3.2-bin-hadoop3/jars/zookeeper-jute-3.6.2.jar\n",
            "spark-3.3.2-bin-hadoop3/jars/zstd-jni-1.5.2-1.jar\n",
            "spark-3.3.2-bin-hadoop3/kubernetes/\n",
            "spark-3.3.2-bin-hadoop3/kubernetes/dockerfiles/\n",
            "spark-3.3.2-bin-hadoop3/kubernetes/dockerfiles/spark/\n",
            "spark-3.3.2-bin-hadoop3/kubernetes/dockerfiles/spark/Dockerfile\n",
            "spark-3.3.2-bin-hadoop3/kubernetes/dockerfiles/spark/Dockerfile.java17\n",
            "spark-3.3.2-bin-hadoop3/kubernetes/dockerfiles/spark/bindings/\n",
            "spark-3.3.2-bin-hadoop3/kubernetes/dockerfiles/spark/bindings/R/\n",
            "spark-3.3.2-bin-hadoop3/kubernetes/dockerfiles/spark/bindings/R/Dockerfile\n",
            "spark-3.3.2-bin-hadoop3/kubernetes/dockerfiles/spark/bindings/python/\n",
            "spark-3.3.2-bin-hadoop3/kubernetes/dockerfiles/spark/bindings/python/Dockerfile\n",
            "spark-3.3.2-bin-hadoop3/kubernetes/dockerfiles/spark/decom.sh\n",
            "spark-3.3.2-bin-hadoop3/kubernetes/dockerfiles/spark/entrypoint.sh\n",
            "spark-3.3.2-bin-hadoop3/kubernetes/tests/\n",
            "spark-3.3.2-bin-hadoop3/kubernetes/tests/autoscale.py\n",
            "spark-3.3.2-bin-hadoop3/kubernetes/tests/decommissioning.py\n",
            "spark-3.3.2-bin-hadoop3/kubernetes/tests/decommissioning_cleanup.py\n",
            "spark-3.3.2-bin-hadoop3/kubernetes/tests/py_container_checks.py\n",
            "spark-3.3.2-bin-hadoop3/kubernetes/tests/pyfiles.py\n",
            "spark-3.3.2-bin-hadoop3/kubernetes/tests/python_executable_check.py\n",
            "spark-3.3.2-bin-hadoop3/kubernetes/tests/worker_memory_check.py\n",
            "spark-3.3.2-bin-hadoop3/licenses/\n",
            "spark-3.3.2-bin-hadoop3/licenses/LICENSE-AnchorJS.txt\n",
            "spark-3.3.2-bin-hadoop3/licenses/LICENSE-CC0.txt\n",
            "spark-3.3.2-bin-hadoop3/licenses/LICENSE-JLargeArrays.txt\n",
            "spark-3.3.2-bin-hadoop3/licenses/LICENSE-JTransforms.txt\n",
            "spark-3.3.2-bin-hadoop3/licenses/LICENSE-antlr.txt\n",
            "spark-3.3.2-bin-hadoop3/licenses/LICENSE-arpack.txt\n",
            "spark-3.3.2-bin-hadoop3/licenses/LICENSE-automaton.txt\n",
            "spark-3.3.2-bin-hadoop3/licenses/LICENSE-blas.txt\n",
            "spark-3.3.2-bin-hadoop3/licenses/LICENSE-bootstrap.txt\n",
            "spark-3.3.2-bin-hadoop3/licenses/LICENSE-cloudpickle.txt\n",
            "spark-3.3.2-bin-hadoop3/licenses/LICENSE-d3.min.js.txt\n",
            "spark-3.3.2-bin-hadoop3/licenses/LICENSE-dagre-d3.txt\n",
            "spark-3.3.2-bin-hadoop3/licenses/LICENSE-datatables.txt\n",
            "spark-3.3.2-bin-hadoop3/licenses/LICENSE-dnsjava.txt\n",
            "spark-3.3.2-bin-hadoop3/licenses/LICENSE-f2j.txt\n",
            "spark-3.3.2-bin-hadoop3/licenses/LICENSE-graphlib-dot.txt\n",
            "spark-3.3.2-bin-hadoop3/licenses/LICENSE-istack-commons-runtime.txt\n",
            "spark-3.3.2-bin-hadoop3/licenses/LICENSE-jakarta-annotation-api\n",
            "spark-3.3.2-bin-hadoop3/licenses/LICENSE-jakarta-ws-rs-api\n",
            "spark-3.3.2-bin-hadoop3/licenses/LICENSE-jakarta.activation-api.txt\n",
            "spark-3.3.2-bin-hadoop3/licenses/LICENSE-jakarta.xml.bind-api.txt\n",
            "spark-3.3.2-bin-hadoop3/licenses/LICENSE-janino.txt\n",
            "spark-3.3.2-bin-hadoop3/licenses/LICENSE-javassist.html\n",
            "spark-3.3.2-bin-hadoop3/licenses/LICENSE-javax-transaction-transaction-api.txt\n",
            "spark-3.3.2-bin-hadoop3/licenses/LICENSE-javolution.txt\n",
            "spark-3.3.2-bin-hadoop3/licenses/LICENSE-jaxb-runtime.txt\n",
            "spark-3.3.2-bin-hadoop3/licenses/LICENSE-jline.txt\n",
            "spark-3.3.2-bin-hadoop3/licenses/LICENSE-jodd.txt\n",
            "spark-3.3.2-bin-hadoop3/licenses/LICENSE-join.txt\n",
            "spark-3.3.2-bin-hadoop3/licenses/LICENSE-jquery.txt\n",
            "spark-3.3.2-bin-hadoop3/licenses/LICENSE-json-formatter.txt\n",
            "spark-3.3.2-bin-hadoop3/licenses/LICENSE-jsp-api.txt\n",
            "spark-3.3.2-bin-hadoop3/licenses/LICENSE-kryo.txt\n",
            "spark-3.3.2-bin-hadoop3/licenses/LICENSE-leveldbjni.txt\n",
            "spark-3.3.2-bin-hadoop3/licenses/LICENSE-machinist.txt\n",
            "spark-3.3.2-bin-hadoop3/licenses/LICENSE-matchMedia-polyfill.txt\n",
            "spark-3.3.2-bin-hadoop3/licenses/LICENSE-minlog.txt\n",
            "spark-3.3.2-bin-hadoop3/licenses/LICENSE-modernizr.txt\n",
            "spark-3.3.2-bin-hadoop3/licenses/LICENSE-mustache.txt\n",
            "spark-3.3.2-bin-hadoop3/licenses/LICENSE-netlib.txt\n",
            "spark-3.3.2-bin-hadoop3/licenses/LICENSE-paranamer.txt\n",
            "spark-3.3.2-bin-hadoop3/licenses/LICENSE-pmml-model.txt\n",
            "spark-3.3.2-bin-hadoop3/licenses/LICENSE-protobuf.txt\n",
            "spark-3.3.2-bin-hadoop3/licenses/LICENSE-py4j.txt\n",
            "spark-3.3.2-bin-hadoop3/licenses/LICENSE-pyrolite.txt\n",
            "spark-3.3.2-bin-hadoop3/licenses/LICENSE-re2j.txt\n",
            "spark-3.3.2-bin-hadoop3/licenses/LICENSE-reflectasm.txt\n",
            "spark-3.3.2-bin-hadoop3/licenses/LICENSE-respond.txt\n",
            "spark-3.3.2-bin-hadoop3/licenses/LICENSE-sbt-launch-lib.txt\n",
            "spark-3.3.2-bin-hadoop3/licenses/LICENSE-scala.txt\n",
            "spark-3.3.2-bin-hadoop3/licenses/LICENSE-scopt.txt\n",
            "spark-3.3.2-bin-hadoop3/licenses/LICENSE-slf4j.txt\n",
            "spark-3.3.2-bin-hadoop3/licenses/LICENSE-sorttable.js.txt\n",
            "spark-3.3.2-bin-hadoop3/licenses/LICENSE-spire.txt\n",
            "spark-3.3.2-bin-hadoop3/licenses/LICENSE-vis-timeline.txt\n",
            "spark-3.3.2-bin-hadoop3/licenses/LICENSE-xmlenc.txt\n",
            "spark-3.3.2-bin-hadoop3/licenses/LICENSE-zstd-jni.txt\n",
            "spark-3.3.2-bin-hadoop3/licenses/LICENSE-zstd.txt\n",
            "spark-3.3.2-bin-hadoop3/python/\n",
            "spark-3.3.2-bin-hadoop3/python/.coveragerc\n",
            "spark-3.3.2-bin-hadoop3/python/.gitignore\n",
            "spark-3.3.2-bin-hadoop3/python/MANIFEST.in\n",
            "spark-3.3.2-bin-hadoop3/python/README.md\n",
            "spark-3.3.2-bin-hadoop3/python/dist/\n",
            "spark-3.3.2-bin-hadoop3/python/docs/\n",
            "spark-3.3.2-bin-hadoop3/python/docs/Makefile\n",
            "spark-3.3.2-bin-hadoop3/python/docs/make.bat\n",
            "spark-3.3.2-bin-hadoop3/python/docs/make2.bat\n",
            "spark-3.3.2-bin-hadoop3/python/docs/source/\n",
            "spark-3.3.2-bin-hadoop3/python/docs/source/_static/\n",
            "spark-3.3.2-bin-hadoop3/python/docs/source/_static/copybutton.js\n",
            "spark-3.3.2-bin-hadoop3/python/docs/source/_static/css/\n",
            "spark-3.3.2-bin-hadoop3/python/docs/source/_static/css/pyspark.css\n",
            "spark-3.3.2-bin-hadoop3/python/docs/source/_templates/\n",
            "spark-3.3.2-bin-hadoop3/python/docs/source/_templates/autosummary/\n",
            "spark-3.3.2-bin-hadoop3/python/docs/source/_templates/autosummary/class.rst\n",
            "spark-3.3.2-bin-hadoop3/python/docs/source/_templates/autosummary/class_with_docs.rst\n",
            "spark-3.3.2-bin-hadoop3/python/docs/source/conf.py\n",
            "spark-3.3.2-bin-hadoop3/python/docs/source/development/\n",
            "spark-3.3.2-bin-hadoop3/python/docs/source/development/contributing.rst\n",
            "spark-3.3.2-bin-hadoop3/python/docs/source/development/debugging.rst\n",
            "spark-3.3.2-bin-hadoop3/python/docs/source/development/index.rst\n",
            "spark-3.3.2-bin-hadoop3/python/docs/source/development/setting_ide.rst\n",
            "spark-3.3.2-bin-hadoop3/python/docs/source/development/testing.rst\n",
            "spark-3.3.2-bin-hadoop3/python/docs/source/getting_started/\n",
            "spark-3.3.2-bin-hadoop3/python/docs/source/getting_started/index.rst\n",
            "spark-3.3.2-bin-hadoop3/python/docs/source/getting_started/install.rst\n",
            "spark-3.3.2-bin-hadoop3/python/docs/source/getting_started/quickstart_df.ipynb\n",
            "spark-3.3.2-bin-hadoop3/python/docs/source/getting_started/quickstart_ps.ipynb\n",
            "spark-3.3.2-bin-hadoop3/python/docs/source/index.rst\n",
            "spark-3.3.2-bin-hadoop3/python/docs/source/migration_guide/\n",
            "spark-3.3.2-bin-hadoop3/python/docs/source/migration_guide/index.rst\n",
            "spark-3.3.2-bin-hadoop3/python/docs/source/migration_guide/koalas_to_pyspark.rst\n",
            "spark-3.3.2-bin-hadoop3/python/docs/source/migration_guide/pyspark_1.0_1.2_to_1.3.rst\n",
            "spark-3.3.2-bin-hadoop3/python/docs/source/migration_guide/pyspark_1.4_to_1.5.rst\n",
            "spark-3.3.2-bin-hadoop3/python/docs/source/migration_guide/pyspark_2.2_to_2.3.rst\n",
            "spark-3.3.2-bin-hadoop3/python/docs/source/migration_guide/pyspark_2.3.0_to_2.3.1_above.rst\n",
            "spark-3.3.2-bin-hadoop3/python/docs/source/migration_guide/pyspark_2.3_to_2.4.rst\n",
            "spark-3.3.2-bin-hadoop3/python/docs/source/migration_guide/pyspark_2.4_to_3.0.rst\n",
            "spark-3.3.2-bin-hadoop3/python/docs/source/migration_guide/pyspark_3.1_to_3.2.rst\n",
            "spark-3.3.2-bin-hadoop3/python/docs/source/migration_guide/pyspark_3.2_to_3.3.rst\n",
            "spark-3.3.2-bin-hadoop3/python/docs/source/reference/\n",
            "spark-3.3.2-bin-hadoop3/python/docs/source/reference/index.rst\n",
            "spark-3.3.2-bin-hadoop3/python/docs/source/reference/pyspark.ml.rst\n",
            "spark-3.3.2-bin-hadoop3/python/docs/source/reference/pyspark.mllib.rst\n",
            "spark-3.3.2-bin-hadoop3/python/docs/source/reference/pyspark.pandas/\n",
            "spark-3.3.2-bin-hadoop3/python/docs/source/reference/pyspark.pandas/extensions.rst\n",
            "spark-3.3.2-bin-hadoop3/python/docs/source/reference/pyspark.pandas/frame.rst\n",
            "spark-3.3.2-bin-hadoop3/python/docs/source/reference/pyspark.pandas/general_functions.rst\n",
            "spark-3.3.2-bin-hadoop3/python/docs/source/reference/pyspark.pandas/groupby.rst\n",
            "spark-3.3.2-bin-hadoop3/python/docs/source/reference/pyspark.pandas/index.rst\n",
            "spark-3.3.2-bin-hadoop3/python/docs/source/reference/pyspark.pandas/indexing.rst\n",
            "spark-3.3.2-bin-hadoop3/python/docs/source/reference/pyspark.pandas/io.rst\n",
            "spark-3.3.2-bin-hadoop3/python/docs/source/reference/pyspark.pandas/ml.rst\n",
            "spark-3.3.2-bin-hadoop3/python/docs/source/reference/pyspark.pandas/series.rst\n",
            "spark-3.3.2-bin-hadoop3/python/docs/source/reference/pyspark.pandas/window.rst\n",
            "spark-3.3.2-bin-hadoop3/python/docs/source/reference/pyspark.resource.rst\n",
            "spark-3.3.2-bin-hadoop3/python/docs/source/reference/pyspark.rst\n",
            "spark-3.3.2-bin-hadoop3/python/docs/source/reference/pyspark.sql/\n",
            "spark-3.3.2-bin-hadoop3/python/docs/source/reference/pyspark.sql/avro.rst\n",
            "spark-3.3.2-bin-hadoop3/python/docs/source/reference/pyspark.sql/catalog.rst\n",
            "spark-3.3.2-bin-hadoop3/python/docs/source/reference/pyspark.sql/column.rst\n",
            "spark-3.3.2-bin-hadoop3/python/docs/source/reference/pyspark.sql/configuration.rst\n",
            "spark-3.3.2-bin-hadoop3/python/docs/source/reference/pyspark.sql/core_classes.rst\n",
            "spark-3.3.2-bin-hadoop3/python/docs/source/reference/pyspark.sql/data_types.rst\n",
            "spark-3.3.2-bin-hadoop3/python/docs/source/reference/pyspark.sql/dataframe.rst\n",
            "spark-3.3.2-bin-hadoop3/python/docs/source/reference/pyspark.sql/functions.rst\n",
            "spark-3.3.2-bin-hadoop3/python/docs/source/reference/pyspark.sql/grouping.rst\n",
            "spark-3.3.2-bin-hadoop3/python/docs/source/reference/pyspark.sql/index.rst\n",
            "spark-3.3.2-bin-hadoop3/python/docs/source/reference/pyspark.sql/io.rst\n",
            "spark-3.3.2-bin-hadoop3/python/docs/source/reference/pyspark.sql/observation.rst\n",
            "spark-3.3.2-bin-hadoop3/python/docs/source/reference/pyspark.sql/row.rst\n",
            "spark-3.3.2-bin-hadoop3/python/docs/source/reference/pyspark.sql/spark_session.rst\n",
            "spark-3.3.2-bin-hadoop3/python/docs/source/reference/pyspark.sql/window.rst\n",
            "spark-3.3.2-bin-hadoop3/python/docs/source/reference/pyspark.ss/\n",
            "spark-3.3.2-bin-hadoop3/python/docs/source/reference/pyspark.ss/core_classes.rst\n",
            "spark-3.3.2-bin-hadoop3/python/docs/source/reference/pyspark.ss/index.rst\n",
            "spark-3.3.2-bin-hadoop3/python/docs/source/reference/pyspark.ss/io.rst\n",
            "spark-3.3.2-bin-hadoop3/python/docs/source/reference/pyspark.ss/query_management.rst\n",
            "spark-3.3.2-bin-hadoop3/python/docs/source/reference/pyspark.streaming.rst\n",
            "spark-3.3.2-bin-hadoop3/python/docs/source/user_guide/\n",
            "spark-3.3.2-bin-hadoop3/python/docs/source/user_guide/arrow_pandas.rst\n",
            "spark-3.3.2-bin-hadoop3/python/docs/source/user_guide/index.rst\n",
            "spark-3.3.2-bin-hadoop3/python/docs/source/user_guide/pandas_on_spark/\n",
            "spark-3.3.2-bin-hadoop3/python/docs/source/user_guide/pandas_on_spark/best_practices.rst\n",
            "spark-3.3.2-bin-hadoop3/python/docs/source/user_guide/pandas_on_spark/faq.rst\n",
            "spark-3.3.2-bin-hadoop3/python/docs/source/user_guide/pandas_on_spark/from_to_dbms.rst\n",
            "spark-3.3.2-bin-hadoop3/python/docs/source/user_guide/pandas_on_spark/index.rst\n",
            "spark-3.3.2-bin-hadoop3/python/docs/source/user_guide/pandas_on_spark/options.rst\n",
            "spark-3.3.2-bin-hadoop3/python/docs/source/user_guide/pandas_on_spark/pandas_pyspark.rst\n",
            "spark-3.3.2-bin-hadoop3/python/docs/source/user_guide/pandas_on_spark/supported_pandas_api.rst\n",
            "spark-3.3.2-bin-hadoop3/python/docs/source/user_guide/pandas_on_spark/transform_apply.rst\n",
            "spark-3.3.2-bin-hadoop3/python/docs/source/user_guide/pandas_on_spark/typehints.rst\n",
            "spark-3.3.2-bin-hadoop3/python/docs/source/user_guide/pandas_on_spark/types.rst\n",
            "spark-3.3.2-bin-hadoop3/python/docs/source/user_guide/python_packaging.rst\n",
            "spark-3.3.2-bin-hadoop3/python/docs/source/user_guide/sql/\n",
            "spark-3.3.2-bin-hadoop3/python/docs/source/user_guide/sql/arrow_pandas.rst\n",
            "spark-3.3.2-bin-hadoop3/python/docs/source/user_guide/sql/index.rst\n",
            "spark-3.3.2-bin-hadoop3/python/lib/\n",
            "spark-3.3.2-bin-hadoop3/python/lib/PY4J_LICENSE.txt\n",
            "spark-3.3.2-bin-hadoop3/python/lib/py4j-0.10.9.5-src.zip\n",
            "spark-3.3.2-bin-hadoop3/python/lib/pyspark.zip\n",
            "spark-3.3.2-bin-hadoop3/python/mypy.ini\n",
            "spark-3.3.2-bin-hadoop3/python/pyspark/\n",
            "spark-3.3.2-bin-hadoop3/python/pyspark/__init__.py\n",
            "spark-3.3.2-bin-hadoop3/python/pyspark/__pycache__/\n",
            "spark-3.3.2-bin-hadoop3/python/pyspark/__pycache__/install.cpython-38.pyc\n",
            "spark-3.3.2-bin-hadoop3/python/pyspark/_globals.py\n",
            "spark-3.3.2-bin-hadoop3/python/pyspark/_typing.pyi\n",
            "spark-3.3.2-bin-hadoop3/python/pyspark/accumulators.py\n",
            "spark-3.3.2-bin-hadoop3/python/pyspark/broadcast.py\n",
            "spark-3.3.2-bin-hadoop3/python/pyspark/cloudpickle/\n",
            "spark-3.3.2-bin-hadoop3/python/pyspark/cloudpickle/__init__.py\n",
            "spark-3.3.2-bin-hadoop3/python/pyspark/cloudpickle/cloudpickle.py\n",
            "spark-3.3.2-bin-hadoop3/python/pyspark/cloudpickle/cloudpickle_fast.py\n",
            "spark-3.3.2-bin-hadoop3/python/pyspark/cloudpickle/compat.py\n",
            "spark-3.3.2-bin-hadoop3/python/pyspark/conf.py\n",
            "spark-3.3.2-bin-hadoop3/python/pyspark/context.py\n",
            "spark-3.3.2-bin-hadoop3/python/pyspark/daemon.py\n",
            "spark-3.3.2-bin-hadoop3/python/pyspark/files.py\n",
            "spark-3.3.2-bin-hadoop3/python/pyspark/find_spark_home.py\n",
            "spark-3.3.2-bin-hadoop3/python/pyspark/install.py\n",
            "spark-3.3.2-bin-hadoop3/python/pyspark/instrumentation_utils.py\n",
            "spark-3.3.2-bin-hadoop3/python/pyspark/java_gateway.py\n",
            "spark-3.3.2-bin-hadoop3/python/pyspark/join.py\n",
            "spark-3.3.2-bin-hadoop3/python/pyspark/ml/\n",
            "spark-3.3.2-bin-hadoop3/python/pyspark/ml/__init__.py\n",
            "spark-3.3.2-bin-hadoop3/python/pyspark/ml/_typing.pyi\n",
            "spark-3.3.2-bin-hadoop3/python/pyspark/ml/base.py\n",
            "spark-3.3.2-bin-hadoop3/python/pyspark/ml/classification.py\n",
            "spark-3.3.2-bin-hadoop3/python/pyspark/ml/clustering.py\n",
            "spark-3.3.2-bin-hadoop3/python/pyspark/ml/common.py\n",
            "spark-3.3.2-bin-hadoop3/python/pyspark/ml/evaluation.py\n",
            "spark-3.3.2-bin-hadoop3/python/pyspark/ml/feature.py\n",
            "spark-3.3.2-bin-hadoop3/python/pyspark/ml/fpm.py\n",
            "spark-3.3.2-bin-hadoop3/python/pyspark/ml/functions.py\n",
            "spark-3.3.2-bin-hadoop3/python/pyspark/ml/image.py\n",
            "spark-3.3.2-bin-hadoop3/python/pyspark/ml/linalg/\n",
            "spark-3.3.2-bin-hadoop3/python/pyspark/ml/linalg/__init__.py\n",
            "spark-3.3.2-bin-hadoop3/python/pyspark/ml/param/\n",
            "spark-3.3.2-bin-hadoop3/python/pyspark/ml/param/__init__.py\n",
            "spark-3.3.2-bin-hadoop3/python/pyspark/ml/param/_shared_params_code_gen.py\n",
            "spark-3.3.2-bin-hadoop3/python/pyspark/ml/param/shared.py\n",
            "spark-3.3.2-bin-hadoop3/python/pyspark/ml/pipeline.py\n",
            "spark-3.3.2-bin-hadoop3/python/pyspark/ml/recommendation.py\n",
            "spark-3.3.2-bin-hadoop3/python/pyspark/ml/regression.py\n",
            "spark-3.3.2-bin-hadoop3/python/pyspark/ml/stat.py\n",
            "spark-3.3.2-bin-hadoop3/python/pyspark/ml/tests/\n",
            "spark-3.3.2-bin-hadoop3/python/pyspark/ml/tests/__init__.py\n",
            "spark-3.3.2-bin-hadoop3/python/pyspark/ml/tests/test_algorithms.py\n",
            "spark-3.3.2-bin-hadoop3/python/pyspark/ml/tests/test_base.py\n",
            "spark-3.3.2-bin-hadoop3/python/pyspark/ml/tests/test_evaluation.py\n",
            "spark-3.3.2-bin-hadoop3/python/pyspark/ml/tests/test_feature.py\n",
            "spark-3.3.2-bin-hadoop3/python/pyspark/ml/tests/test_image.py\n",
            "spark-3.3.2-bin-hadoop3/python/pyspark/ml/tests/test_linalg.py\n",
            "spark-3.3.2-bin-hadoop3/python/pyspark/ml/tests/test_param.py\n",
            "spark-3.3.2-bin-hadoop3/python/pyspark/ml/tests/test_persistence.py\n",
            "spark-3.3.2-bin-hadoop3/python/pyspark/ml/tests/test_pipeline.py\n",
            "spark-3.3.2-bin-hadoop3/python/pyspark/ml/tests/test_stat.py\n",
            "spark-3.3.2-bin-hadoop3/python/pyspark/ml/tests/test_training_summary.py\n",
            "spark-3.3.2-bin-hadoop3/python/pyspark/ml/tests/test_tuning.py\n",
            "spark-3.3.2-bin-hadoop3/python/pyspark/ml/tests/test_util.py\n",
            "spark-3.3.2-bin-hadoop3/python/pyspark/ml/tests/test_wrapper.py\n",
            "spark-3.3.2-bin-hadoop3/python/pyspark/ml/tests/typing/\n",
            "spark-3.3.2-bin-hadoop3/python/pyspark/ml/tests/typing/test_classification.yml\n",
            "spark-3.3.2-bin-hadoop3/python/pyspark/ml/tests/typing/test_clustering.yaml\n",
            "spark-3.3.2-bin-hadoop3/python/pyspark/ml/tests/typing/test_evaluation.yml\n",
            "spark-3.3.2-bin-hadoop3/python/pyspark/ml/tests/typing/test_feature.yml\n",
            "spark-3.3.2-bin-hadoop3/python/pyspark/ml/tests/typing/test_param.yml\n",
            "spark-3.3.2-bin-hadoop3/python/pyspark/ml/tests/typing/test_readable.yml\n",
            "spark-3.3.2-bin-hadoop3/python/pyspark/ml/tests/typing/test_regression.yml\n",
            "spark-3.3.2-bin-hadoop3/python/pyspark/ml/tree.py\n",
            "spark-3.3.2-bin-hadoop3/python/pyspark/ml/tuning.py\n",
            "spark-3.3.2-bin-hadoop3/python/pyspark/ml/util.py\n",
            "spark-3.3.2-bin-hadoop3/python/pyspark/ml/wrapper.py\n",
            "spark-3.3.2-bin-hadoop3/python/pyspark/mllib/\n",
            "spark-3.3.2-bin-hadoop3/python/pyspark/mllib/__init__.py\n",
            "spark-3.3.2-bin-hadoop3/python/pyspark/mllib/_typing.pyi\n",
            "spark-3.3.2-bin-hadoop3/python/pyspark/mllib/classification.py\n",
            "spark-3.3.2-bin-hadoop3/python/pyspark/mllib/clustering.py\n",
            "spark-3.3.2-bin-hadoop3/python/pyspark/mllib/common.py\n",
            "spark-3.3.2-bin-hadoop3/python/pyspark/mllib/evaluation.py\n",
            "spark-3.3.2-bin-hadoop3/python/pyspark/mllib/feature.py\n",
            "spark-3.3.2-bin-hadoop3/python/pyspark/mllib/fpm.py\n",
            "spark-3.3.2-bin-hadoop3/python/pyspark/mllib/linalg/\n",
            "spark-3.3.2-bin-hadoop3/python/pyspark/mllib/linalg/__init__.py\n",
            "spark-3.3.2-bin-hadoop3/python/pyspark/mllib/linalg/distributed.py\n",
            "spark-3.3.2-bin-hadoop3/python/pyspark/mllib/random.py\n",
            "spark-3.3.2-bin-hadoop3/python/pyspark/mllib/random.pyi\n",
            "spark-3.3.2-bin-hadoop3/python/pyspark/mllib/recommendation.py\n",
            "spark-3.3.2-bin-hadoop3/python/pyspark/mllib/recommendation.pyi\n",
            "spark-3.3.2-bin-hadoop3/python/pyspark/mllib/regression.py\n",
            "spark-3.3.2-bin-hadoop3/python/pyspark/mllib/stat/\n",
            "spark-3.3.2-bin-hadoop3/python/pyspark/mllib/stat/KernelDensity.py\n",
            "spark-3.3.2-bin-hadoop3/python/pyspark/mllib/stat/__init__.py\n",
            "spark-3.3.2-bin-hadoop3/python/pyspark/mllib/stat/_statistics.py\n",
            "spark-3.3.2-bin-hadoop3/python/pyspark/mllib/stat/distribution.py\n",
            "spark-3.3.2-bin-hadoop3/python/pyspark/mllib/stat/test.py\n",
            "spark-3.3.2-bin-hadoop3/python/pyspark/mllib/tests/\n",
            "spark-3.3.2-bin-hadoop3/python/pyspark/mllib/tests/__init__.py\n",
            "spark-3.3.2-bin-hadoop3/python/pyspark/mllib/tests/test_algorithms.py\n",
            "spark-3.3.2-bin-hadoop3/python/pyspark/mllib/tests/test_feature.py\n",
            "spark-3.3.2-bin-hadoop3/python/pyspark/mllib/tests/test_linalg.py\n",
            "spark-3.3.2-bin-hadoop3/python/pyspark/mllib/tests/test_stat.py\n",
            "spark-3.3.2-bin-hadoop3/python/pyspark/mllib/tests/test_streaming_algorithms.py\n",
            "spark-3.3.2-bin-hadoop3/python/pyspark/mllib/tests/test_util.py\n",
            "spark-3.3.2-bin-hadoop3/python/pyspark/mllib/tree.py\n",
            "spark-3.3.2-bin-hadoop3/python/pyspark/mllib/util.py\n",
            "spark-3.3.2-bin-hadoop3/python/pyspark/pandas/\n",
            "spark-3.3.2-bin-hadoop3/python/pyspark/pandas/__init__.py\n",
            "spark-3.3.2-bin-hadoop3/python/pyspark/pandas/_typing.py\n",
            "spark-3.3.2-bin-hadoop3/python/pyspark/pandas/accessors.py\n",
            "spark-3.3.2-bin-hadoop3/python/pyspark/pandas/base.py\n",
            "spark-3.3.2-bin-hadoop3/python/pyspark/pandas/categorical.py\n",
            "spark-3.3.2-bin-hadoop3/python/pyspark/pandas/config.py\n",
            "spark-3.3.2-bin-hadoop3/python/pyspark/pandas/data_type_ops/\n",
            "spark-3.3.2-bin-hadoop3/python/pyspark/pandas/data_type_ops/__init__.py\n",
            "spark-3.3.2-bin-hadoop3/python/pyspark/pandas/data_type_ops/base.py\n",
            "spark-3.3.2-bin-hadoop3/python/pyspark/pandas/data_type_ops/binary_ops.py\n",
            "spark-3.3.2-bin-hadoop3/python/pyspark/pandas/data_type_ops/boolean_ops.py\n",
            "spark-3.3.2-bin-hadoop3/python/pyspark/pandas/data_type_ops/categorical_ops.py\n",
            "spark-3.3.2-bin-hadoop3/python/pyspark/pandas/data_type_ops/complex_ops.py\n",
            "spark-3.3.2-bin-hadoop3/python/pyspark/pandas/data_type_ops/date_ops.py\n",
            "spark-3.3.2-bin-hadoop3/python/pyspark/pandas/data_type_ops/datetime_ops.py\n",
            "spark-3.3.2-bin-hadoop3/python/pyspark/pandas/data_type_ops/null_ops.py\n",
            "spark-3.3.2-bin-hadoop3/python/pyspark/pandas/data_type_ops/num_ops.py\n",
            "spark-3.3.2-bin-hadoop3/python/pyspark/pandas/data_type_ops/string_ops.py\n",
            "spark-3.3.2-bin-hadoop3/python/pyspark/pandas/data_type_ops/timedelta_ops.py\n",
            "spark-3.3.2-bin-hadoop3/python/pyspark/pandas/data_type_ops/udt_ops.py\n",
            "spark-3.3.2-bin-hadoop3/python/pyspark/pandas/datetimes.py\n",
            "spark-3.3.2-bin-hadoop3/python/pyspark/pandas/exceptions.py\n",
            "spark-3.3.2-bin-hadoop3/python/pyspark/pandas/extensions.py\n",
            "spark-3.3.2-bin-hadoop3/python/pyspark/pandas/frame.py\n",
            "spark-3.3.2-bin-hadoop3/python/pyspark/pandas/generic.py\n",
            "spark-3.3.2-bin-hadoop3/python/pyspark/pandas/groupby.py\n",
            "spark-3.3.2-bin-hadoop3/python/pyspark/pandas/indexes/\n",
            "spark-3.3.2-bin-hadoop3/python/pyspark/pandas/indexes/__init__.py\n",
            "spark-3.3.2-bin-hadoop3/python/pyspark/pandas/indexes/base.py\n",
            "spark-3.3.2-bin-hadoop3/python/pyspark/pandas/indexes/category.py\n",
            "spark-3.3.2-bin-hadoop3/python/pyspark/pandas/indexes/datetimes.py\n",
            "spark-3.3.2-bin-hadoop3/python/pyspark/pandas/indexes/multi.py\n",
            "spark-3.3.2-bin-hadoop3/python/pyspark/pandas/indexes/numeric.py\n",
            "spark-3.3.2-bin-hadoop3/python/pyspark/pandas/indexes/timedelta.py\n",
            "spark-3.3.2-bin-hadoop3/python/pyspark/pandas/indexing.py\n",
            "spark-3.3.2-bin-hadoop3/python/pyspark/pandas/internal.py\n",
            "spark-3.3.2-bin-hadoop3/python/pyspark/pandas/missing/\n",
            "spark-3.3.2-bin-hadoop3/python/pyspark/pandas/missing/__init__.py\n",
            "spark-3.3.2-bin-hadoop3/python/pyspark/pandas/missing/common.py\n",
            "spark-3.3.2-bin-hadoop3/python/pyspark/pandas/missing/frame.py\n",
            "spark-3.3.2-bin-hadoop3/python/pyspark/pandas/missing/general_functions.py\n",
            "spark-3.3.2-bin-hadoop3/python/pyspark/pandas/missing/groupby.py\n",
            "spark-3.3.2-bin-hadoop3/python/pyspark/pandas/missing/indexes.py\n",
            "spark-3.3.2-bin-hadoop3/python/pyspark/pandas/missing/series.py\n",
            "spark-3.3.2-bin-hadoop3/python/pyspark/pandas/missing/window.py\n",
            "spark-3.3.2-bin-hadoop3/python/pyspark/pandas/ml.py\n",
            "spark-3.3.2-bin-hadoop3/python/pyspark/pandas/mlflow.py\n",
            "spark-3.3.2-bin-hadoop3/python/pyspark/pandas/namespace.py\n",
            "spark-3.3.2-bin-hadoop3/python/pyspark/pandas/numpy_compat.py\n",
            "spark-3.3.2-bin-hadoop3/python/pyspark/pandas/plot/\n",
            "spark-3.3.2-bin-hadoop3/python/pyspark/pandas/plot/__init__.py\n",
            "spark-3.3.2-bin-hadoop3/python/pyspark/pandas/plot/core.py\n",
            "spark-3.3.2-bin-hadoop3/python/pyspark/pandas/plot/matplotlib.py\n",
            "spark-3.3.2-bin-hadoop3/python/pyspark/pandas/plot/plotly.py\n",
            "spark-3.3.2-bin-hadoop3/python/pyspark/pandas/series.py\n",
            "spark-3.3.2-bin-hadoop3/python/pyspark/pandas/spark/\n",
            "spark-3.3.2-bin-hadoop3/python/pyspark/pandas/spark/__init__.py\n",
            "spark-3.3.2-bin-hadoop3/python/pyspark/pandas/spark/accessors.py\n",
            "spark-3.3.2-bin-hadoop3/python/pyspark/pandas/spark/functions.py\n",
            "spark-3.3.2-bin-hadoop3/python/pyspark/pandas/spark/utils.py\n",
            "spark-3.3.2-bin-hadoop3/python/pyspark/pandas/sql_formatter.py\n",
            "spark-3.3.2-bin-hadoop3/python/pyspark/pandas/sql_processor.py\n",
            "spark-3.3.2-bin-hadoop3/python/pyspark/pandas/strings.py\n",
            "spark-3.3.2-bin-hadoop3/python/pyspark/pandas/tests/\n",
            "spark-3.3.2-bin-hadoop3/python/pyspark/pandas/tests/__init__.py\n",
            "spark-3.3.2-bin-hadoop3/python/pyspark/pandas/tests/data_type_ops/\n",
            "spark-3.3.2-bin-hadoop3/python/pyspark/pandas/tests/data_type_ops/__init__.py\n",
            "spark-3.3.2-bin-hadoop3/python/pyspark/pandas/tests/data_type_ops/test_base.py\n",
            "spark-3.3.2-bin-hadoop3/python/pyspark/pandas/tests/data_type_ops/test_binary_ops.py\n",
            "spark-3.3.2-bin-hadoop3/python/pyspark/pandas/tests/data_type_ops/test_boolean_ops.py\n",
            "spark-3.3.2-bin-hadoop3/python/pyspark/pandas/tests/data_type_ops/test_categorical_ops.py\n",
            "spark-3.3.2-bin-hadoop3/python/pyspark/pandas/tests/data_type_ops/test_complex_ops.py\n",
            "spark-3.3.2-bin-hadoop3/python/pyspark/pandas/tests/data_type_ops/test_date_ops.py\n",
            "spark-3.3.2-bin-hadoop3/python/pyspark/pandas/tests/data_type_ops/test_datetime_ops.py\n",
            "spark-3.3.2-bin-hadoop3/python/pyspark/pandas/tests/data_type_ops/test_null_ops.py\n",
            "spark-3.3.2-bin-hadoop3/python/pyspark/pandas/tests/data_type_ops/test_num_ops.py\n",
            "spark-3.3.2-bin-hadoop3/python/pyspark/pandas/tests/data_type_ops/test_string_ops.py\n",
            "spark-3.3.2-bin-hadoop3/python/pyspark/pandas/tests/data_type_ops/test_timedelta_ops.py\n",
            "spark-3.3.2-bin-hadoop3/python/pyspark/pandas/tests/data_type_ops/test_udt_ops.py\n",
            "spark-3.3.2-bin-hadoop3/python/pyspark/pandas/tests/data_type_ops/testing_utils.py\n",
            "spark-3.3.2-bin-hadoop3/python/pyspark/pandas/tests/indexes/\n",
            "spark-3.3.2-bin-hadoop3/python/pyspark/pandas/tests/indexes/__init__.py\n",
            "spark-3.3.2-bin-hadoop3/python/pyspark/pandas/tests/indexes/test_base.py\n",
            "spark-3.3.2-bin-hadoop3/python/pyspark/pandas/tests/indexes/test_category.py\n",
            "spark-3.3.2-bin-hadoop3/python/pyspark/pandas/tests/indexes/test_datetime.py\n",
            "spark-3.3.2-bin-hadoop3/python/pyspark/pandas/tests/indexes/test_timedelta.py\n",
            "spark-3.3.2-bin-hadoop3/python/pyspark/pandas/tests/plot/\n",
            "spark-3.3.2-bin-hadoop3/python/pyspark/pandas/tests/plot/__init__.py\n",
            "spark-3.3.2-bin-hadoop3/python/pyspark/pandas/tests/plot/test_frame_plot.py\n",
            "spark-3.3.2-bin-hadoop3/python/pyspark/pandas/tests/plot/test_frame_plot_matplotlib.py\n",
            "spark-3.3.2-bin-hadoop3/python/pyspark/pandas/tests/plot/test_frame_plot_plotly.py\n",
            "spark-3.3.2-bin-hadoop3/python/pyspark/pandas/tests/plot/test_series_plot.py\n",
            "spark-3.3.2-bin-hadoop3/python/pyspark/pandas/tests/plot/test_series_plot_matplotlib.py\n",
            "spark-3.3.2-bin-hadoop3/python/pyspark/pandas/tests/plot/test_series_plot_plotly.py\n",
            "spark-3.3.2-bin-hadoop3/python/pyspark/pandas/tests/test_categorical.py\n",
            "spark-3.3.2-bin-hadoop3/python/pyspark/pandas/tests/test_config.py\n",
            "spark-3.3.2-bin-hadoop3/python/pyspark/pandas/tests/test_csv.py\n",
            "spark-3.3.2-bin-hadoop3/python/pyspark/pandas/tests/test_dataframe.py\n",
            "spark-3.3.2-bin-hadoop3/python/pyspark/pandas/tests/test_dataframe_conversion.py\n",
            "spark-3.3.2-bin-hadoop3/python/pyspark/pandas/tests/test_dataframe_spark_io.py\n",
            "spark-3.3.2-bin-hadoop3/python/pyspark/pandas/tests/test_default_index.py\n",
            "spark-3.3.2-bin-hadoop3/python/pyspark/pandas/tests/test_expanding.py\n",
            "spark-3.3.2-bin-hadoop3/python/pyspark/pandas/tests/test_extension.py\n",
            "spark-3.3.2-bin-hadoop3/python/pyspark/pandas/tests/test_frame_spark.py\n",
            "spark-3.3.2-bin-hadoop3/python/pyspark/pandas/tests/test_groupby.py\n",
            "spark-3.3.2-bin-hadoop3/python/pyspark/pandas/tests/test_indexing.py\n",
            "spark-3.3.2-bin-hadoop3/python/pyspark/pandas/tests/test_indexops_spark.py\n",
            "spark-3.3.2-bin-hadoop3/python/pyspark/pandas/tests/test_internal.py\n",
            "spark-3.3.2-bin-hadoop3/python/pyspark/pandas/tests/test_namespace.py\n",
            "spark-3.3.2-bin-hadoop3/python/pyspark/pandas/tests/test_numpy_compat.py\n",
            "spark-3.3.2-bin-hadoop3/python/pyspark/pandas/tests/test_ops_on_diff_frames.py\n",
            "spark-3.3.2-bin-hadoop3/python/pyspark/pandas/tests/test_ops_on_diff_frames_groupby.py\n",
            "spark-3.3.2-bin-hadoop3/python/pyspark/pandas/tests/test_ops_on_diff_frames_groupby_expanding.py\n",
            "spark-3.3.2-bin-hadoop3/python/pyspark/pandas/tests/test_ops_on_diff_frames_groupby_rolling.py\n",
            "spark-3.3.2-bin-hadoop3/python/pyspark/pandas/tests/test_repr.py\n",
            "spark-3.3.2-bin-hadoop3/python/pyspark/pandas/tests/test_reshape.py\n",
            "spark-3.3.2-bin-hadoop3/python/pyspark/pandas/tests/test_rolling.py\n",
            "spark-3.3.2-bin-hadoop3/python/pyspark/pandas/tests/test_series.py\n",
            "spark-3.3.2-bin-hadoop3/python/pyspark/pandas/tests/test_series_conversion.py\n",
            "spark-3.3.2-bin-hadoop3/python/pyspark/pandas/tests/test_series_datetime.py\n",
            "spark-3.3.2-bin-hadoop3/python/pyspark/pandas/tests/test_series_string.py\n",
            "spark-3.3.2-bin-hadoop3/python/pyspark/pandas/tests/test_spark_functions.py\n",
            "spark-3.3.2-bin-hadoop3/python/pyspark/pandas/tests/test_sql.py\n",
            "spark-3.3.2-bin-hadoop3/python/pyspark/pandas/tests/test_stats.py\n",
            "spark-3.3.2-bin-hadoop3/python/pyspark/pandas/tests/test_typedef.py\n",
            "spark-3.3.2-bin-hadoop3/python/pyspark/pandas/tests/test_utils.py\n",
            "spark-3.3.2-bin-hadoop3/python/pyspark/pandas/tests/test_window.py\n",
            "spark-3.3.2-bin-hadoop3/python/pyspark/pandas/typedef/\n",
            "spark-3.3.2-bin-hadoop3/python/pyspark/pandas/typedef/__init__.py\n",
            "spark-3.3.2-bin-hadoop3/python/pyspark/pandas/typedef/typehints.py\n",
            "spark-3.3.2-bin-hadoop3/python/pyspark/pandas/usage_logging/\n",
            "spark-3.3.2-bin-hadoop3/python/pyspark/pandas/usage_logging/__init__.py\n",
            "spark-3.3.2-bin-hadoop3/python/pyspark/pandas/usage_logging/usage_logger.py\n",
            "spark-3.3.2-bin-hadoop3/python/pyspark/pandas/utils.py\n",
            "spark-3.3.2-bin-hadoop3/python/pyspark/pandas/window.py\n",
            "spark-3.3.2-bin-hadoop3/python/pyspark/profiler.py\n",
            "spark-3.3.2-bin-hadoop3/python/pyspark/py.typed\n",
            "spark-3.3.2-bin-hadoop3/python/pyspark/python/\n",
            "spark-3.3.2-bin-hadoop3/python/pyspark/python/pyspark/\n",
            "spark-3.3.2-bin-hadoop3/python/pyspark/python/pyspark/shell.py\n",
            "spark-3.3.2-bin-hadoop3/python/pyspark/rdd.py\n",
            "spark-3.3.2-bin-hadoop3/python/pyspark/rddsampler.py\n",
            "spark-3.3.2-bin-hadoop3/python/pyspark/resource/\n",
            "spark-3.3.2-bin-hadoop3/python/pyspark/resource/__init__.py\n",
            "spark-3.3.2-bin-hadoop3/python/pyspark/resource/information.py\n",
            "spark-3.3.2-bin-hadoop3/python/pyspark/resource/profile.py\n",
            "spark-3.3.2-bin-hadoop3/python/pyspark/resource/requests.py\n",
            "spark-3.3.2-bin-hadoop3/python/pyspark/resource/tests/\n",
            "spark-3.3.2-bin-hadoop3/python/pyspark/resource/tests/__init__.py\n",
            "spark-3.3.2-bin-hadoop3/python/pyspark/resource/tests/test_resources.py\n",
            "spark-3.3.2-bin-hadoop3/python/pyspark/resultiterable.py\n",
            "spark-3.3.2-bin-hadoop3/python/pyspark/serializers.py\n",
            "spark-3.3.2-bin-hadoop3/python/pyspark/shell.py\n",
            "spark-3.3.2-bin-hadoop3/python/pyspark/shuffle.py\n",
            "spark-3.3.2-bin-hadoop3/python/pyspark/sql/\n",
            "spark-3.3.2-bin-hadoop3/python/pyspark/sql/__init__.py\n",
            "spark-3.3.2-bin-hadoop3/python/pyspark/sql/_typing.pyi\n",
            "spark-3.3.2-bin-hadoop3/python/pyspark/sql/avro/\n",
            "spark-3.3.2-bin-hadoop3/python/pyspark/sql/avro/__init__.py\n",
            "spark-3.3.2-bin-hadoop3/python/pyspark/sql/avro/functions.py\n",
            "spark-3.3.2-bin-hadoop3/python/pyspark/sql/catalog.py\n",
            "spark-3.3.2-bin-hadoop3/python/pyspark/sql/column.py\n",
            "spark-3.3.2-bin-hadoop3/python/pyspark/sql/conf.py\n",
            "spark-3.3.2-bin-hadoop3/python/pyspark/sql/context.py\n",
            "spark-3.3.2-bin-hadoop3/python/pyspark/sql/dataframe.py\n",
            "spark-3.3.2-bin-hadoop3/python/pyspark/sql/functions.py\n",
            "spark-3.3.2-bin-hadoop3/python/pyspark/sql/group.py\n",
            "spark-3.3.2-bin-hadoop3/python/pyspark/sql/observation.py\n",
            "spark-3.3.2-bin-hadoop3/python/pyspark/sql/pandas/\n",
            "spark-3.3.2-bin-hadoop3/python/pyspark/sql/pandas/__init__.py\n",
            "spark-3.3.2-bin-hadoop3/python/pyspark/sql/pandas/_typing/\n",
            "spark-3.3.2-bin-hadoop3/python/pyspark/sql/pandas/_typing/__init__.pyi\n",
            "spark-3.3.2-bin-hadoop3/python/pyspark/sql/pandas/_typing/protocols/\n",
            "spark-3.3.2-bin-hadoop3/python/pyspark/sql/pandas/_typing/protocols/__init__.pyi\n",
            "spark-3.3.2-bin-hadoop3/python/pyspark/sql/pandas/_typing/protocols/frame.pyi\n",
            "spark-3.3.2-bin-hadoop3/python/pyspark/sql/pandas/_typing/protocols/series.pyi\n",
            "spark-3.3.2-bin-hadoop3/python/pyspark/sql/pandas/conversion.py\n",
            "spark-3.3.2-bin-hadoop3/python/pyspark/sql/pandas/functions.py\n",
            "spark-3.3.2-bin-hadoop3/python/pyspark/sql/pandas/functions.pyi\n",
            "spark-3.3.2-bin-hadoop3/python/pyspark/sql/pandas/group_ops.py\n",
            "spark-3.3.2-bin-hadoop3/python/pyspark/sql/pandas/map_ops.py\n",
            "spark-3.3.2-bin-hadoop3/python/pyspark/sql/pandas/serializers.py\n",
            "spark-3.3.2-bin-hadoop3/python/pyspark/sql/pandas/typehints.py\n",
            "spark-3.3.2-bin-hadoop3/python/pyspark/sql/pandas/types.py\n",
            "spark-3.3.2-bin-hadoop3/python/pyspark/sql/pandas/utils.py\n",
            "spark-3.3.2-bin-hadoop3/python/pyspark/sql/readwriter.py\n",
            "spark-3.3.2-bin-hadoop3/python/pyspark/sql/session.py\n",
            "spark-3.3.2-bin-hadoop3/python/pyspark/sql/sql_formatter.py\n",
            "spark-3.3.2-bin-hadoop3/python/pyspark/sql/streaming.py\n",
            "spark-3.3.2-bin-hadoop3/python/pyspark/sql/tests/\n",
            "spark-3.3.2-bin-hadoop3/python/pyspark/sql/tests/__init__.py\n",
            "spark-3.3.2-bin-hadoop3/python/pyspark/sql/tests/test_arrow.py\n",
            "spark-3.3.2-bin-hadoop3/python/pyspark/sql/tests/test_arrow_map.py\n",
            "spark-3.3.2-bin-hadoop3/python/pyspark/sql/tests/test_catalog.py\n",
            "spark-3.3.2-bin-hadoop3/python/pyspark/sql/tests/test_column.py\n",
            "spark-3.3.2-bin-hadoop3/python/pyspark/sql/tests/test_conf.py\n",
            "spark-3.3.2-bin-hadoop3/python/pyspark/sql/tests/test_context.py\n",
            "spark-3.3.2-bin-hadoop3/python/pyspark/sql/tests/test_dataframe.py\n",
            "spark-3.3.2-bin-hadoop3/python/pyspark/sql/tests/test_datasources.py\n",
            "spark-3.3.2-bin-hadoop3/python/pyspark/sql/tests/test_functions.py\n",
            "spark-3.3.2-bin-hadoop3/python/pyspark/sql/tests/test_group.py\n",
            "spark-3.3.2-bin-hadoop3/python/pyspark/sql/tests/test_pandas_cogrouped_map.py\n",
            "spark-3.3.2-bin-hadoop3/python/pyspark/sql/tests/test_pandas_grouped_map.py\n",
            "spark-3.3.2-bin-hadoop3/python/pyspark/sql/tests/test_pandas_map.py\n",
            "spark-3.3.2-bin-hadoop3/python/pyspark/sql/tests/test_pandas_udf.py\n",
            "spark-3.3.2-bin-hadoop3/python/pyspark/sql/tests/test_pandas_udf_grouped_agg.py\n",
            "spark-3.3.2-bin-hadoop3/python/pyspark/sql/tests/test_pandas_udf_scalar.py\n",
            "spark-3.3.2-bin-hadoop3/python/pyspark/sql/tests/test_pandas_udf_typehints.py\n",
            "spark-3.3.2-bin-hadoop3/python/pyspark/sql/tests/test_pandas_udf_typehints_with_future_annotations.py\n",
            "spark-3.3.2-bin-hadoop3/python/pyspark/sql/tests/test_pandas_udf_window.py\n",
            "spark-3.3.2-bin-hadoop3/python/pyspark/sql/tests/test_readwriter.py\n",
            "spark-3.3.2-bin-hadoop3/python/pyspark/sql/tests/test_serde.py\n",
            "spark-3.3.2-bin-hadoop3/python/pyspark/sql/tests/test_session.py\n",
            "spark-3.3.2-bin-hadoop3/python/pyspark/sql/tests/test_streaming.py\n",
            "spark-3.3.2-bin-hadoop3/python/pyspark/sql/tests/test_types.py\n",
            "spark-3.3.2-bin-hadoop3/python/pyspark/sql/tests/test_udf.py\n",
            "spark-3.3.2-bin-hadoop3/python/pyspark/sql/tests/test_udf_profiler.py\n",
            "spark-3.3.2-bin-hadoop3/python/pyspark/sql/tests/test_utils.py\n",
            "spark-3.3.2-bin-hadoop3/python/pyspark/sql/tests/typing/\n",
            "spark-3.3.2-bin-hadoop3/python/pyspark/sql/tests/typing/test_column.yml\n",
            "spark-3.3.2-bin-hadoop3/python/pyspark/sql/tests/typing/test_dataframe.yml\n",
            "spark-3.3.2-bin-hadoop3/python/pyspark/sql/tests/typing/test_functions.yml\n",
            "spark-3.3.2-bin-hadoop3/python/pyspark/sql/tests/typing/test_readwriter.yml\n",
            "spark-3.3.2-bin-hadoop3/python/pyspark/sql/tests/typing/test_session.yml\n",
            "spark-3.3.2-bin-hadoop3/python/pyspark/sql/tests/typing/test_udf.yml\n",
            "spark-3.3.2-bin-hadoop3/python/pyspark/sql/types.py\n",
            "spark-3.3.2-bin-hadoop3/python/pyspark/sql/udf.py\n",
            "spark-3.3.2-bin-hadoop3/python/pyspark/sql/utils.py\n",
            "spark-3.3.2-bin-hadoop3/python/pyspark/sql/window.py\n",
            "spark-3.3.2-bin-hadoop3/python/pyspark/statcounter.py\n",
            "spark-3.3.2-bin-hadoop3/python/pyspark/status.py\n",
            "spark-3.3.2-bin-hadoop3/python/pyspark/storagelevel.py\n",
            "spark-3.3.2-bin-hadoop3/python/pyspark/streaming/\n",
            "spark-3.3.2-bin-hadoop3/python/pyspark/streaming/__init__.py\n",
            "spark-3.3.2-bin-hadoop3/python/pyspark/streaming/context.py\n",
            "spark-3.3.2-bin-hadoop3/python/pyspark/streaming/dstream.py\n",
            "spark-3.3.2-bin-hadoop3/python/pyspark/streaming/kinesis.py\n",
            "spark-3.3.2-bin-hadoop3/python/pyspark/streaming/listener.py\n",
            "spark-3.3.2-bin-hadoop3/python/pyspark/streaming/tests/\n",
            "spark-3.3.2-bin-hadoop3/python/pyspark/streaming/tests/__init__.py\n",
            "spark-3.3.2-bin-hadoop3/python/pyspark/streaming/tests/test_context.py\n",
            "spark-3.3.2-bin-hadoop3/python/pyspark/streaming/tests/test_dstream.py\n",
            "spark-3.3.2-bin-hadoop3/python/pyspark/streaming/tests/test_kinesis.py\n",
            "spark-3.3.2-bin-hadoop3/python/pyspark/streaming/tests/test_listener.py\n",
            "spark-3.3.2-bin-hadoop3/python/pyspark/streaming/util.py\n",
            "spark-3.3.2-bin-hadoop3/python/pyspark/taskcontext.py\n",
            "spark-3.3.2-bin-hadoop3/python/pyspark/testing/\n",
            "spark-3.3.2-bin-hadoop3/python/pyspark/testing/__init__.py\n",
            "spark-3.3.2-bin-hadoop3/python/pyspark/testing/mllibutils.py\n",
            "spark-3.3.2-bin-hadoop3/python/pyspark/testing/mlutils.py\n",
            "spark-3.3.2-bin-hadoop3/python/pyspark/testing/pandasutils.py\n",
            "spark-3.3.2-bin-hadoop3/python/pyspark/testing/sqlutils.py\n",
            "spark-3.3.2-bin-hadoop3/python/pyspark/testing/streamingutils.py\n",
            "spark-3.3.2-bin-hadoop3/python/pyspark/testing/utils.py\n",
            "spark-3.3.2-bin-hadoop3/python/pyspark/tests/\n",
            "spark-3.3.2-bin-hadoop3/python/pyspark/tests/__init__.py\n",
            "spark-3.3.2-bin-hadoop3/python/pyspark/tests/test_appsubmit.py\n",
            "spark-3.3.2-bin-hadoop3/python/pyspark/tests/test_broadcast.py\n",
            "spark-3.3.2-bin-hadoop3/python/pyspark/tests/test_conf.py\n",
            "spark-3.3.2-bin-hadoop3/python/pyspark/tests/test_context.py\n",
            "spark-3.3.2-bin-hadoop3/python/pyspark/tests/test_daemon.py\n",
            "spark-3.3.2-bin-hadoop3/python/pyspark/tests/test_install_spark.py\n",
            "spark-3.3.2-bin-hadoop3/python/pyspark/tests/test_join.py\n",
            "spark-3.3.2-bin-hadoop3/python/pyspark/tests/test_pin_thread.py\n",
            "spark-3.3.2-bin-hadoop3/python/pyspark/tests/test_profiler.py\n",
            "spark-3.3.2-bin-hadoop3/python/pyspark/tests/test_rdd.py\n",
            "spark-3.3.2-bin-hadoop3/python/pyspark/tests/test_rddbarrier.py\n",
            "spark-3.3.2-bin-hadoop3/python/pyspark/tests/test_readwrite.py\n",
            "spark-3.3.2-bin-hadoop3/python/pyspark/tests/test_serializers.py\n",
            "spark-3.3.2-bin-hadoop3/python/pyspark/tests/test_shuffle.py\n",
            "spark-3.3.2-bin-hadoop3/python/pyspark/tests/test_statcounter.py\n",
            "spark-3.3.2-bin-hadoop3/python/pyspark/tests/test_taskcontext.py\n",
            "spark-3.3.2-bin-hadoop3/python/pyspark/tests/test_util.py\n",
            "spark-3.3.2-bin-hadoop3/python/pyspark/tests/test_worker.py\n",
            "spark-3.3.2-bin-hadoop3/python/pyspark/tests/typing/\n",
            "spark-3.3.2-bin-hadoop3/python/pyspark/tests/typing/test_context.yml\n",
            "spark-3.3.2-bin-hadoop3/python/pyspark/tests/typing/test_core.yml\n",
            "spark-3.3.2-bin-hadoop3/python/pyspark/tests/typing/test_rdd.yml\n",
            "spark-3.3.2-bin-hadoop3/python/pyspark/tests/typing/test_resultiterable.yml\n",
            "spark-3.3.2-bin-hadoop3/python/pyspark/traceback_utils.py\n",
            "spark-3.3.2-bin-hadoop3/python/pyspark/util.py\n",
            "spark-3.3.2-bin-hadoop3/python/pyspark/version.py\n",
            "spark-3.3.2-bin-hadoop3/python/pyspark/worker.py\n",
            "spark-3.3.2-bin-hadoop3/python/pyspark.egg-info/\n",
            "spark-3.3.2-bin-hadoop3/python/pyspark.egg-info/PKG-INFO\n",
            "spark-3.3.2-bin-hadoop3/python/pyspark.egg-info/SOURCES.txt\n",
            "spark-3.3.2-bin-hadoop3/python/pyspark.egg-info/dependency_links.txt\n",
            "spark-3.3.2-bin-hadoop3/python/pyspark.egg-info/requires.txt\n",
            "spark-3.3.2-bin-hadoop3/python/pyspark.egg-info/top_level.txt\n",
            "spark-3.3.2-bin-hadoop3/python/run-tests\n",
            "spark-3.3.2-bin-hadoop3/python/run-tests-with-coverage\n",
            "spark-3.3.2-bin-hadoop3/python/run-tests.py\n",
            "spark-3.3.2-bin-hadoop3/python/setup.cfg\n",
            "spark-3.3.2-bin-hadoop3/python/setup.py\n",
            "spark-3.3.2-bin-hadoop3/python/test_coverage/\n",
            "spark-3.3.2-bin-hadoop3/python/test_coverage/conf/\n",
            "spark-3.3.2-bin-hadoop3/python/test_coverage/conf/spark-defaults.conf\n",
            "spark-3.3.2-bin-hadoop3/python/test_coverage/coverage_daemon.py\n",
            "spark-3.3.2-bin-hadoop3/python/test_coverage/sitecustomize.py\n",
            "spark-3.3.2-bin-hadoop3/python/test_support/\n",
            "spark-3.3.2-bin-hadoop3/python/test_support/SimpleHTTPServer.py\n",
            "spark-3.3.2-bin-hadoop3/python/test_support/hello/\n",
            "spark-3.3.2-bin-hadoop3/python/test_support/hello/hello.txt\n",
            "spark-3.3.2-bin-hadoop3/python/test_support/hello/sub_hello/\n",
            "spark-3.3.2-bin-hadoop3/python/test_support/hello/sub_hello/sub_hello.txt\n",
            "spark-3.3.2-bin-hadoop3/python/test_support/sql/\n",
            "spark-3.3.2-bin-hadoop3/python/test_support/sql/ages.csv\n",
            "spark-3.3.2-bin-hadoop3/python/test_support/sql/ages_newlines.csv\n",
            "spark-3.3.2-bin-hadoop3/python/test_support/sql/orc_partitioned/\n",
            "spark-3.3.2-bin-hadoop3/python/test_support/sql/orc_partitioned/_SUCCESS\n",
            "spark-3.3.2-bin-hadoop3/python/test_support/sql/orc_partitioned/b=0/\n",
            "spark-3.3.2-bin-hadoop3/python/test_support/sql/orc_partitioned/b=0/c=0/\n",
            "spark-3.3.2-bin-hadoop3/python/test_support/sql/orc_partitioned/b=0/c=0/.part-r-00000-829af031-b970-49d6-ad39-30460a0be2c8.orc.crc\n",
            "spark-3.3.2-bin-hadoop3/python/test_support/sql/orc_partitioned/b=0/c=0/part-r-00000-829af031-b970-49d6-ad39-30460a0be2c8.orc\n",
            "spark-3.3.2-bin-hadoop3/python/test_support/sql/orc_partitioned/b=1/\n",
            "spark-3.3.2-bin-hadoop3/python/test_support/sql/orc_partitioned/b=1/c=1/\n",
            "spark-3.3.2-bin-hadoop3/python/test_support/sql/orc_partitioned/b=1/c=1/.part-r-00000-829af031-b970-49d6-ad39-30460a0be2c8.orc.crc\n",
            "spark-3.3.2-bin-hadoop3/python/test_support/sql/orc_partitioned/b=1/c=1/part-r-00000-829af031-b970-49d6-ad39-30460a0be2c8.orc\n",
            "spark-3.3.2-bin-hadoop3/python/test_support/sql/parquet_partitioned/\n",
            "spark-3.3.2-bin-hadoop3/python/test_support/sql/parquet_partitioned/_SUCCESS\n",
            "spark-3.3.2-bin-hadoop3/python/test_support/sql/parquet_partitioned/_common_metadata\n",
            "spark-3.3.2-bin-hadoop3/python/test_support/sql/parquet_partitioned/_metadata\n",
            "spark-3.3.2-bin-hadoop3/python/test_support/sql/parquet_partitioned/year=2014/\n",
            "spark-3.3.2-bin-hadoop3/python/test_support/sql/parquet_partitioned/year=2014/month=9/\n",
            "spark-3.3.2-bin-hadoop3/python/test_support/sql/parquet_partitioned/year=2014/month=9/day=1/\n",
            "spark-3.3.2-bin-hadoop3/python/test_support/sql/parquet_partitioned/year=2014/month=9/day=1/.part-r-00008.gz.parquet.crc\n",
            "spark-3.3.2-bin-hadoop3/python/test_support/sql/parquet_partitioned/year=2014/month=9/day=1/part-r-00008.gz.parquet\n",
            "spark-3.3.2-bin-hadoop3/python/test_support/sql/parquet_partitioned/year=2015/\n",
            "spark-3.3.2-bin-hadoop3/python/test_support/sql/parquet_partitioned/year=2015/month=10/\n",
            "spark-3.3.2-bin-hadoop3/python/test_support/sql/parquet_partitioned/year=2015/month=10/day=25/\n",
            "spark-3.3.2-bin-hadoop3/python/test_support/sql/parquet_partitioned/year=2015/month=10/day=25/.part-r-00002.gz.parquet.crc\n",
            "spark-3.3.2-bin-hadoop3/python/test_support/sql/parquet_partitioned/year=2015/month=10/day=25/.part-r-00004.gz.parquet.crc\n",
            "spark-3.3.2-bin-hadoop3/python/test_support/sql/parquet_partitioned/year=2015/month=10/day=25/part-r-00002.gz.parquet\n",
            "spark-3.3.2-bin-hadoop3/python/test_support/sql/parquet_partitioned/year=2015/month=10/day=25/part-r-00004.gz.parquet\n",
            "spark-3.3.2-bin-hadoop3/python/test_support/sql/parquet_partitioned/year=2015/month=10/day=26/\n",
            "spark-3.3.2-bin-hadoop3/python/test_support/sql/parquet_partitioned/year=2015/month=10/day=26/.part-r-00005.gz.parquet.crc\n",
            "spark-3.3.2-bin-hadoop3/python/test_support/sql/parquet_partitioned/year=2015/month=10/day=26/part-r-00005.gz.parquet\n",
            "spark-3.3.2-bin-hadoop3/python/test_support/sql/parquet_partitioned/year=2015/month=9/\n",
            "spark-3.3.2-bin-hadoop3/python/test_support/sql/parquet_partitioned/year=2015/month=9/day=1/\n",
            "spark-3.3.2-bin-hadoop3/python/test_support/sql/parquet_partitioned/year=2015/month=9/day=1/.part-r-00007.gz.parquet.crc\n",
            "spark-3.3.2-bin-hadoop3/python/test_support/sql/parquet_partitioned/year=2015/month=9/day=1/part-r-00007.gz.parquet\n",
            "spark-3.3.2-bin-hadoop3/python/test_support/sql/people.json\n",
            "spark-3.3.2-bin-hadoop3/python/test_support/sql/people1.json\n",
            "spark-3.3.2-bin-hadoop3/python/test_support/sql/people_array.json\n",
            "spark-3.3.2-bin-hadoop3/python/test_support/sql/people_array_utf16le.json\n",
            "spark-3.3.2-bin-hadoop3/python/test_support/sql/streaming/\n",
            "spark-3.3.2-bin-hadoop3/python/test_support/sql/streaming/text-test.txt\n",
            "spark-3.3.2-bin-hadoop3/python/test_support/sql/text-test.txt\n",
            "spark-3.3.2-bin-hadoop3/python/test_support/userlib-0.1.zip\n",
            "spark-3.3.2-bin-hadoop3/python/test_support/userlibrary.py\n",
            "spark-3.3.2-bin-hadoop3/sbin/\n",
            "spark-3.3.2-bin-hadoop3/sbin/decommission-slave.sh\n",
            "spark-3.3.2-bin-hadoop3/sbin/decommission-worker.sh\n",
            "spark-3.3.2-bin-hadoop3/sbin/slaves.sh\n",
            "spark-3.3.2-bin-hadoop3/sbin/spark-config.sh\n",
            "spark-3.3.2-bin-hadoop3/sbin/spark-daemon.sh\n",
            "spark-3.3.2-bin-hadoop3/sbin/spark-daemons.sh\n",
            "spark-3.3.2-bin-hadoop3/sbin/start-all.sh\n",
            "spark-3.3.2-bin-hadoop3/sbin/start-history-server.sh\n",
            "spark-3.3.2-bin-hadoop3/sbin/start-master.sh\n",
            "spark-3.3.2-bin-hadoop3/sbin/start-mesos-dispatcher.sh\n",
            "spark-3.3.2-bin-hadoop3/sbin/start-mesos-shuffle-service.sh\n",
            "spark-3.3.2-bin-hadoop3/sbin/start-slave.sh\n",
            "spark-3.3.2-bin-hadoop3/sbin/start-slaves.sh\n",
            "spark-3.3.2-bin-hadoop3/sbin/start-thriftserver.sh\n",
            "spark-3.3.2-bin-hadoop3/sbin/start-worker.sh\n",
            "spark-3.3.2-bin-hadoop3/sbin/start-workers.sh\n",
            "spark-3.3.2-bin-hadoop3/sbin/stop-all.sh\n",
            "spark-3.3.2-bin-hadoop3/sbin/stop-history-server.sh\n",
            "spark-3.3.2-bin-hadoop3/sbin/stop-master.sh\n",
            "spark-3.3.2-bin-hadoop3/sbin/stop-mesos-dispatcher.sh\n",
            "spark-3.3.2-bin-hadoop3/sbin/stop-mesos-shuffle-service.sh\n",
            "spark-3.3.2-bin-hadoop3/sbin/stop-slave.sh\n",
            "spark-3.3.2-bin-hadoop3/sbin/stop-slaves.sh\n",
            "spark-3.3.2-bin-hadoop3/sbin/stop-thriftserver.sh\n",
            "spark-3.3.2-bin-hadoop3/sbin/stop-worker.sh\n",
            "spark-3.3.2-bin-hadoop3/sbin/stop-workers.sh\n",
            "spark-3.3.2-bin-hadoop3/sbin/workers.sh\n",
            "spark-3.3.2-bin-hadoop3/yarn/\n",
            "spark-3.3.2-bin-hadoop3/yarn/spark-3.3.2-yarn-shuffle.jar\n",
            "Looking in indexes: https://pypi.org/simple, https://us-python.pkg.dev/colab-wheels/public/simple/\n",
            "Requirement already satisfied: pyspark==3.3.2 in /usr/local/lib/python3.9/dist-packages (3.3.2)\n",
            "Requirement already satisfied: py4j==0.10.9.5 in /usr/local/lib/python3.9/dist-packages (from pyspark==3.3.2) (0.10.9.5)\n"
          ]
        }
      ],
      "source": [
        "!apt-get install openjdk-8-jdk-headless -qq > /dev/null\n",
        "!wget https://dlcdn.apache.org/spark/spark-3.3.2/spark-3.3.2-bin-hadoop3.tgz \n",
        "!tar xvf spark-3.3.2-bin-hadoop3.tgz\n",
        "!pip install -q findspark\n",
        "!pip install pyspark==3.3.2"
      ]
    },
    {
      "cell_type": "code",
      "execution_count": null,
      "metadata": {
        "id": "cP9EiDGVRHKY"
      },
      "outputs": [],
      "source": [
        "import os\n",
        "os.environ[\"JAVA_HOME\"] = \"/usr/lib/jvm/java-8-openjdk-amd64\"\n",
        "os.environ[\"SPARK_HOME\"] = \"spark-3.3.2-bin-hadoop3\""
      ]
    },
    {
      "cell_type": "code",
      "execution_count": null,
      "metadata": {
        "colab": {
          "base_uri": "https://localhost:8080/"
        },
        "id": "iRPi9PWwRLIR",
        "outputId": "a4294087-70fb-448f-b65f-5fc03ba4fdd6"
      },
      "outputs": [
        {
          "output_type": "execute_result",
          "data": {
            "text/plain": [
              "[1, 2, 3, 4, 5]"
            ]
          },
          "metadata": {},
          "execution_count": 4
        }
      ],
      "source": [
        "from pyspark.sql import SparkSession\n",
        "spark= SparkSession.builder.master(\"local[1]\").appName(\"SparkByExamples.com\").getOrCreate() \n",
        "data = [1,2,3,4,5,6,7,8,9,10,11,12]\n",
        "rdd_sample = spark.sparkContext.parallelize(data, 2)\n",
        "rdd_sample.take(5)"
      ]
    },
    {
      "cell_type": "markdown",
      "metadata": {
        "id": "Rkl9NSS7RrJX"
      },
      "source": [
        "## Data Cleanup"
      ]
    },
    {
      "cell_type": "code",
      "execution_count": null,
      "metadata": {
        "id": "cq4nui-PRfuB"
      },
      "outputs": [],
      "source": [
        "df = spark.read.format('csv').option('header', 'true').option('inferSchema', 'true').load('/content/drive/MyDrive/Drexel/Winter2023/DSCI632/final/healthcare-dataset-stroke-data.csv')"
      ]
    },
    {
      "cell_type": "code",
      "execution_count": null,
      "metadata": {
        "colab": {
          "base_uri": "https://localhost:8080/"
        },
        "id": "DwuslYjbR32u",
        "outputId": "5a540790-c4f7-49d2-861d-ff550e75f94d"
      },
      "outputs": [
        {
          "output_type": "stream",
          "name": "stdout",
          "text": [
            "+-----+------+----+------------+-------------+------------+-------------+--------------+-----------------+----+---------------+------+\n",
            "|   id|gender| age|hypertension|heart_disease|ever_married|    work_type|Residence_type|avg_glucose_level| bmi| smoking_status|stroke|\n",
            "+-----+------+----+------------+-------------+------------+-------------+--------------+-----------------+----+---------------+------+\n",
            "| 9046|  Male|67.0|           0|            1|         Yes|      Private|         Urban|           228.69|36.6|formerly smoked|     1|\n",
            "|51676|Female|61.0|           0|            0|         Yes|Self-employed|         Rural|           202.21| N/A|   never smoked|     1|\n",
            "|31112|  Male|80.0|           0|            1|         Yes|      Private|         Rural|           105.92|32.5|   never smoked|     1|\n",
            "|60182|Female|49.0|           0|            0|         Yes|      Private|         Urban|           171.23|34.4|         smokes|     1|\n",
            "| 1665|Female|79.0|           1|            0|         Yes|Self-employed|         Rural|           174.12|  24|   never smoked|     1|\n",
            "|56669|  Male|81.0|           0|            0|         Yes|      Private|         Urban|           186.21|  29|formerly smoked|     1|\n",
            "|53882|  Male|74.0|           1|            1|         Yes|      Private|         Rural|            70.09|27.4|   never smoked|     1|\n",
            "|10434|Female|69.0|           0|            0|          No|      Private|         Urban|            94.39|22.8|   never smoked|     1|\n",
            "|27419|Female|59.0|           0|            0|         Yes|      Private|         Rural|            76.15| N/A|        Unknown|     1|\n",
            "|60491|Female|78.0|           0|            0|         Yes|      Private|         Urban|            58.57|24.2|        Unknown|     1|\n",
            "|12109|Female|81.0|           1|            0|         Yes|      Private|         Rural|            80.43|29.7|   never smoked|     1|\n",
            "|12095|Female|61.0|           0|            1|         Yes|     Govt_job|         Rural|           120.46|36.8|         smokes|     1|\n",
            "|12175|Female|54.0|           0|            0|         Yes|      Private|         Urban|           104.51|27.3|         smokes|     1|\n",
            "| 8213|  Male|78.0|           0|            1|         Yes|      Private|         Urban|           219.84| N/A|        Unknown|     1|\n",
            "| 5317|Female|79.0|           0|            1|         Yes|      Private|         Urban|           214.09|28.2|   never smoked|     1|\n",
            "|58202|Female|50.0|           1|            0|         Yes|Self-employed|         Rural|           167.41|30.9|   never smoked|     1|\n",
            "|56112|  Male|64.0|           0|            1|         Yes|      Private|         Urban|           191.61|37.5|         smokes|     1|\n",
            "|34120|  Male|75.0|           1|            0|         Yes|      Private|         Urban|           221.29|25.8|         smokes|     1|\n",
            "|27458|Female|60.0|           0|            0|          No|      Private|         Urban|            89.22|37.8|   never smoked|     1|\n",
            "|25226|  Male|57.0|           0|            1|          No|     Govt_job|         Urban|           217.08| N/A|        Unknown|     1|\n",
            "+-----+------+----+------------+-------------+------------+-------------+--------------+-----------------+----+---------------+------+\n",
            "only showing top 20 rows\n",
            "\n"
          ]
        }
      ],
      "source": [
        "df.show()"
      ]
    },
    {
      "cell_type": "code",
      "execution_count": null,
      "metadata": {
        "colab": {
          "base_uri": "https://localhost:8080/"
        },
        "id": "oYzHbglCZbWx",
        "outputId": "ad604256-44fd-4fe8-a054-d45a2f3a5f86"
      },
      "outputs": [
        {
          "output_type": "execute_result",
          "data": {
            "text/plain": [
              "5110"
            ]
          },
          "metadata": {},
          "execution_count": 7
        }
      ],
      "source": [
        "df.count()"
      ]
    },
    {
      "cell_type": "code",
      "source": [
        "print(\"Unique Gender Values: \", df.select('gender').distinct().collect())\n",
        "print(\"Unique Hypertension Values: \", df.select('hypertension').distinct().collect())\n",
        "print(\"Unique Heart Disease Values: \", df.select('heart_disease').distinct().collect())\n",
        "print(\"Unique Married Values: \", df.select('ever_married').distinct().collect())\n",
        "print(\"Unique Work Type Values: \", df.select('work_type').distinct().collect())\n",
        "print(\"Unique Residence Type Values: \", df.select('residence_type').distinct().collect())\n",
        "print(\"Unique Glucose Level Values: \", df.select('avg_glucose_level').distinct().collect())\n",
        "print(\"Unique BMI Values: \", df.select('bmi').distinct().collect())\n",
        "print(\"Unique Smoking Status Values: \", df.select('smoking_status').distinct().collect())"
      ],
      "metadata": {
        "colab": {
          "base_uri": "https://localhost:8080/"
        },
        "id": "CT1SsTIC_rrQ",
        "outputId": "431ddbdc-f940-4b49-91cd-d8081561dd27"
      },
      "execution_count": null,
      "outputs": [
        {
          "output_type": "stream",
          "name": "stdout",
          "text": [
            "Unique Gender Values:  [Row(gender='Female'), Row(gender='Other'), Row(gender='Male')]\n",
            "Unique Hypertension Values:  [Row(hypertension=1), Row(hypertension=0)]\n",
            "Unique Heart Disease Values:  [Row(heart_disease=1), Row(heart_disease=0)]\n",
            "Unique Married Values:  [Row(ever_married='No'), Row(ever_married='Yes')]\n",
            "Unique Work Type Values:  [Row(work_type='Never_worked'), Row(work_type='Self-employed'), Row(work_type='Private'), Row(work_type='children'), Row(work_type='Govt_job')]\n",
            "Unique Residence Type Values:  [Row(residence_type='Urban'), Row(residence_type='Rural')]\n",
            "Unique Glucose Level Values:  [Row(avg_glucose_level=242.52), Row(avg_glucose_level=60.98), Row(avg_glucose_level=76.46), Row(avg_glucose_level=98.09), Row(avg_glucose_level=73.73), Row(avg_glucose_level=78.75), Row(avg_glucose_level=75.29), Row(avg_glucose_level=79.89), Row(avg_glucose_level=77.19), Row(avg_glucose_level=206.4), Row(avg_glucose_level=61.78), Row(avg_glucose_level=151.25), Row(avg_glucose_level=95.57), Row(avg_glucose_level=65.78), Row(avg_glucose_level=58.51), Row(avg_glucose_level=74.5), Row(avg_glucose_level=64.2), Row(avg_glucose_level=116.04), Row(avg_glucose_level=106.01), Row(avg_glucose_level=85.86), Row(avg_glucose_level=70.07), Row(avg_glucose_level=60.17), Row(avg_glucose_level=76.98), Row(avg_glucose_level=67.21), Row(avg_glucose_level=98.3), Row(avg_glucose_level=165.31), Row(avg_glucose_level=60.67), Row(avg_glucose_level=129.54), Row(avg_glucose_level=73.02), Row(avg_glucose_level=83.51), Row(avg_glucose_level=110.7), Row(avg_glucose_level=100.49), Row(avg_glucose_level=63.95), Row(avg_glucose_level=96.35), Row(avg_glucose_level=105.55), Row(avg_glucose_level=70.52), Row(avg_glucose_level=181.3), Row(avg_glucose_level=71.97), Row(avg_glucose_level=74.85), Row(avg_glucose_level=109.19), Row(avg_glucose_level=110.66), Row(avg_glucose_level=71.43), Row(avg_glucose_level=111.99), Row(avg_glucose_level=160.0), Row(avg_glucose_level=59.05), Row(avg_glucose_level=62.67), Row(avg_glucose_level=55.61), Row(avg_glucose_level=60.06), Row(avg_glucose_level=78.9), Row(avg_glucose_level=62.89), Row(avg_glucose_level=92.37), Row(avg_glucose_level=83.97), Row(avg_glucose_level=74.61), Row(avg_glucose_level=85.98), Row(avg_glucose_level=85.65), Row(avg_glucose_level=193.8), Row(avg_glucose_level=63.27), Row(avg_glucose_level=89.01), Row(avg_glucose_level=199.86), Row(avg_glucose_level=64.41), Row(avg_glucose_level=92.87), Row(avg_glucose_level=120.06), Row(avg_glucose_level=70.0), Row(avg_glucose_level=170.76), Row(avg_glucose_level=160.94), Row(avg_glucose_level=153.6), Row(avg_glucose_level=69.28), Row(avg_glucose_level=98.45), Row(avg_glucose_level=66.59), Row(avg_glucose_level=99.84), Row(avg_glucose_level=126.04), Row(avg_glucose_level=83.6), Row(avg_glucose_level=126.57), Row(avg_glucose_level=69.15), Row(avg_glucose_level=81.59), Row(avg_glucose_level=92.95), Row(avg_glucose_level=78.98), Row(avg_glucose_level=237.74), Row(avg_glucose_level=112.2), Row(avg_glucose_level=86.36), Row(avg_glucose_level=59.83), Row(avg_glucose_level=112.79), Row(avg_glucose_level=101.19), Row(avg_glucose_level=101.85), Row(avg_glucose_level=105.08), Row(avg_glucose_level=69.25), Row(avg_glucose_level=207.28), Row(avg_glucose_level=77.59), Row(avg_glucose_level=63.26), Row(avg_glucose_level=113.4), Row(avg_glucose_level=70.65), Row(avg_glucose_level=92.73), Row(avg_glucose_level=94.03), Row(avg_glucose_level=89.88), Row(avg_glucose_level=140.93), Row(avg_glucose_level=117.34), Row(avg_glucose_level=79.54), Row(avg_glucose_level=62.69), Row(avg_glucose_level=112.02), Row(avg_glucose_level=120.43), Row(avg_glucose_level=107.72), Row(avg_glucose_level=76.15), Row(avg_glucose_level=61.94), Row(avg_glucose_level=66.3), Row(avg_glucose_level=69.01), Row(avg_glucose_level=79.08), Row(avg_glucose_level=83.23), Row(avg_glucose_level=98.1), Row(avg_glucose_level=129.31), Row(avg_glucose_level=83.5), Row(avg_glucose_level=239.52), Row(avg_glucose_level=87.94), Row(avg_glucose_level=90.43), Row(avg_glucose_level=61.42), Row(avg_glucose_level=72.65), Row(avg_glucose_level=204.05), Row(avg_glucose_level=65.66), Row(avg_glucose_level=68.38), Row(avg_glucose_level=69.72), Row(avg_glucose_level=79.55), Row(avg_glucose_level=98.34), Row(avg_glucose_level=100.03), Row(avg_glucose_level=121.46), Row(avg_glucose_level=98.57), Row(avg_glucose_level=76.21), Row(avg_glucose_level=89.38), Row(avg_glucose_level=68.07), Row(avg_glucose_level=108.14), Row(avg_glucose_level=94.68), Row(avg_glucose_level=186.21), Row(avg_glucose_level=101.45), Row(avg_glucose_level=203.81), Row(avg_glucose_level=79.35), Row(avg_glucose_level=93.74), Row(avg_glucose_level=236.84), Row(avg_glucose_level=83.56), Row(avg_glucose_level=118.21), Row(avg_glucose_level=112.66), Row(avg_glucose_level=77.35), Row(avg_glucose_level=81.92), Row(avg_glucose_level=108.68), Row(avg_glucose_level=97.26), Row(avg_glucose_level=108.71), Row(avg_glucose_level=82.05), Row(avg_glucose_level=70.25), Row(avg_glucose_level=101.06), Row(avg_glucose_level=86.91), Row(avg_glucose_level=84.92), Row(avg_glucose_level=132.85), Row(avg_glucose_level=199.84), Row(avg_glucose_level=84.59), Row(avg_glucose_level=82.93), Row(avg_glucose_level=147.14), Row(avg_glucose_level=109.1), Row(avg_glucose_level=81.28), Row(avg_glucose_level=65.49), Row(avg_glucose_level=82.13), Row(avg_glucose_level=94.47), Row(avg_glucose_level=199.88), Row(avg_glucose_level=72.29), Row(avg_glucose_level=129.97), Row(avg_glucose_level=65.4), Row(avg_glucose_level=90.3), Row(avg_glucose_level=101.57), Row(avg_glucose_level=78.76), Row(avg_glucose_level=79.51), Row(avg_glucose_level=67.87), Row(avg_glucose_level=98.56), Row(avg_glucose_level=126.09), Row(avg_glucose_level=95.18), Row(avg_glucose_level=61.98), Row(avg_glucose_level=91.92), Row(avg_glucose_level=73.5), Row(avg_glucose_level=144.1), Row(avg_glucose_level=126.18), Row(avg_glucose_level=77.93), Row(avg_glucose_level=76.5), Row(avg_glucose_level=92.17), Row(avg_glucose_level=105.29), Row(avg_glucose_level=103.46), Row(avg_glucose_level=58.66), Row(avg_glucose_level=101.25), Row(avg_glucose_level=84.44), Row(avg_glucose_level=78.12), Row(avg_glucose_level=83.13), Row(avg_glucose_level=205.97), Row(avg_glucose_level=239.19), Row(avg_glucose_level=63.22), Row(avg_glucose_level=89.73), Row(avg_glucose_level=84.99), Row(avg_glucose_level=96.03), Row(avg_glucose_level=96.97), Row(avg_glucose_level=68.53), Row(avg_glucose_level=98.41), Row(avg_glucose_level=99.47), Row(avg_glucose_level=73.62), Row(avg_glucose_level=145.23), Row(avg_glucose_level=108.08), Row(avg_glucose_level=121.27), Row(avg_glucose_level=78.97), Row(avg_glucose_level=90.04), Row(avg_glucose_level=66.33), Row(avg_glucose_level=68.88), Row(avg_glucose_level=192.47), Row(avg_glucose_level=89.85), Row(avg_glucose_level=98.37), Row(avg_glucose_level=107.33), Row(avg_glucose_level=66.2), Row(avg_glucose_level=110.85), Row(avg_glucose_level=72.81), Row(avg_glucose_level=78.4), Row(avg_glucose_level=75.22), Row(avg_glucose_level=97.89), Row(avg_glucose_level=88.39), Row(avg_glucose_level=90.58), Row(avg_glucose_level=132.41), Row(avg_glucose_level=127.78), Row(avg_glucose_level=172.33), Row(avg_glucose_level=94.19), Row(avg_glucose_level=143.47), Row(avg_glucose_level=203.57), Row(avg_glucose_level=143.97), Row(avg_glucose_level=95.7), Row(avg_glucose_level=135.82), Row(avg_glucose_level=80.44), Row(avg_glucose_level=97.64), Row(avg_glucose_level=125.87), Row(avg_glucose_level=55.84), Row(avg_glucose_level=86.6), Row(avg_glucose_level=96.63), Row(avg_glucose_level=211.49), Row(avg_glucose_level=108.34), Row(avg_glucose_level=144.23), Row(avg_glucose_level=113.96), Row(avg_glucose_level=139.67), Row(avg_glucose_level=105.73), Row(avg_glucose_level=155.32), Row(avg_glucose_level=201.07), Row(avg_glucose_level=80.42), Row(avg_glucose_level=63.98), Row(avg_glucose_level=107.99), Row(avg_glucose_level=65.42), Row(avg_glucose_level=215.33), Row(avg_glucose_level=117.03), Row(avg_glucose_level=79.62), Row(avg_glucose_level=122.43), Row(avg_glucose_level=144.15), Row(avg_glucose_level=81.88), Row(avg_glucose_level=103.69), Row(avg_glucose_level=81.1), Row(avg_glucose_level=86.94), Row(avg_glucose_level=130.54), Row(avg_glucose_level=64.06), Row(avg_glucose_level=93.36), Row(avg_glucose_level=140.08), Row(avg_glucose_level=73.01), Row(avg_glucose_level=82.21), Row(avg_glucose_level=222.85), Row(avg_glucose_level=198.36), Row(avg_glucose_level=116.84), Row(avg_glucose_level=56.79), Row(avg_glucose_level=98.07), Row(avg_glucose_level=79.42), Row(avg_glucose_level=76.08), Row(avg_glucose_level=200.25), Row(avg_glucose_level=83.94), Row(avg_glucose_level=74.63), Row(avg_glucose_level=223.83), Row(avg_glucose_level=94.18), Row(avg_glucose_level=67.39), Row(avg_glucose_level=195.16), Row(avg_glucose_level=140.28), Row(avg_glucose_level=91.23), Row(avg_glucose_level=70.58), Row(avg_glucose_level=65.29), Row(avg_glucose_level=99.69), Row(avg_glucose_level=69.11), Row(avg_glucose_level=95.36), Row(avg_glucose_level=190.4), Row(avg_glucose_level=83.3), Row(avg_glucose_level=81.96), Row(avg_glucose_level=152.02), Row(avg_glucose_level=69.91), Row(avg_glucose_level=107.83), Row(avg_glucose_level=198.79), Row(avg_glucose_level=98.84), Row(avg_glucose_level=75.13), Row(avg_glucose_level=228.56), Row(avg_glucose_level=200.62), Row(avg_glucose_level=95.1), Row(avg_glucose_level=57.94), Row(avg_glucose_level=117.45), Row(avg_glucose_level=83.12), Row(avg_glucose_level=100.84), Row(avg_glucose_level=242.84), Row(avg_glucose_level=71.44), Row(avg_glucose_level=114.47), Row(avg_glucose_level=94.71), Row(avg_glucose_level=73.48), Row(avg_glucose_level=65.07), Row(avg_glucose_level=105.51), Row(avg_glucose_level=69.89), Row(avg_glucose_level=156.69), Row(avg_glucose_level=95.89), Row(avg_glucose_level=57.56), Row(avg_glucose_level=208.31), Row(avg_glucose_level=200.28), Row(avg_glucose_level=87.52), Row(avg_glucose_level=147.48), Row(avg_glucose_level=91.65), Row(avg_glucose_level=201.76), Row(avg_glucose_level=155.43), Row(avg_glucose_level=59.15), Row(avg_glucose_level=142.12), Row(avg_glucose_level=93.47), Row(avg_glucose_level=107.98), Row(avg_glucose_level=108.2), Row(avg_glucose_level=91.93), Row(avg_glucose_level=76.68), Row(avg_glucose_level=96.69), Row(avg_glucose_level=121.32), Row(avg_glucose_level=104.64), Row(avg_glucose_level=112.11), Row(avg_glucose_level=103.29), Row(avg_glucose_level=174.37), Row(avg_glucose_level=87.85), Row(avg_glucose_level=211.03), Row(avg_glucose_level=105.95), Row(avg_glucose_level=67.81), Row(avg_glucose_level=70.71), Row(avg_glucose_level=142.57), Row(avg_glucose_level=72.2), Row(avg_glucose_level=86.55), Row(avg_glucose_level=61.32), Row(avg_glucose_level=135.19), Row(avg_glucose_level=161.57), Row(avg_glucose_level=111.94), Row(avg_glucose_level=76.52), Row(avg_glucose_level=197.36), Row(avg_glucose_level=146.1), Row(avg_glucose_level=103.26), Row(avg_glucose_level=205.23), Row(avg_glucose_level=137.96), Row(avg_glucose_level=115.03), Row(avg_glucose_level=186.45), Row(avg_glucose_level=72.07), Row(avg_glucose_level=110.25), Row(avg_glucose_level=90.84), Row(avg_glucose_level=88.63), Row(avg_glucose_level=120.77), Row(avg_glucose_level=222.46), Row(avg_glucose_level=65.41), Row(avg_glucose_level=96.52), Row(avg_glucose_level=96.21), Row(avg_glucose_level=125.14), Row(avg_glucose_level=63.57), Row(avg_glucose_level=197.06), Row(avg_glucose_level=113.01), Row(avg_glucose_level=99.16), Row(avg_glucose_level=134.59), Row(avg_glucose_level=58.29), Row(avg_glucose_level=92.4), Row(avg_glucose_level=142.38), Row(avg_glucose_level=125.3), Row(avg_glucose_level=70.73), Row(avg_glucose_level=103.21), Row(avg_glucose_level=85.91), Row(avg_glucose_level=98.24), Row(avg_glucose_level=240.69), Row(avg_glucose_level=94.23), Row(avg_glucose_level=216.94), Row(avg_glucose_level=103.68), Row(avg_glucose_level=98.02), Row(avg_glucose_level=120.31), Row(avg_glucose_level=213.37), Row(avg_glucose_level=125.26), Row(avg_glucose_level=89.3), Row(avg_glucose_level=58.03), Row(avg_glucose_level=57.89), Row(avg_glucose_level=72.76), Row(avg_glucose_level=64.51), Row(avg_glucose_level=145.26), Row(avg_glucose_level=97.46), Row(avg_glucose_level=83.85), Row(avg_glucose_level=72.56), Row(avg_glucose_level=58.7), Row(avg_glucose_level=98.53), Row(avg_glucose_level=77.66), Row(avg_glucose_level=60.09), Row(avg_glucose_level=100.12), Row(avg_glucose_level=88.18), Row(avg_glucose_level=139.81), Row(avg_glucose_level=103.72), Row(avg_glucose_level=55.12), Row(avg_glucose_level=112.39), Row(avg_glucose_level=93.05), Row(avg_glucose_level=235.85), Row(avg_glucose_level=88.97), Row(avg_glucose_level=197.1), Row(avg_glucose_level=55.34), Row(avg_glucose_level=105.77), Row(avg_glucose_level=109.56), Row(avg_glucose_level=86.97), Row(avg_glucose_level=94.75), Row(avg_glucose_level=125.29), Row(avg_glucose_level=80.07), Row(avg_glucose_level=67.02), Row(avg_glucose_level=93.03), Row(avg_glucose_level=161.95), Row(avg_glucose_level=114.61), Row(avg_glucose_level=112.62), Row(avg_glucose_level=59.48), Row(avg_glucose_level=228.92), Row(avg_glucose_level=66.69), Row(avg_glucose_level=91.89), Row(avg_glucose_level=90.71), Row(avg_glucose_level=63.28), Row(avg_glucose_level=121.71), Row(avg_glucose_level=263.32), Row(avg_glucose_level=67.06), Row(avg_glucose_level=56.77), Row(avg_glucose_level=59.76), Row(avg_glucose_level=78.94), Row(avg_glucose_level=109.69), Row(avg_glucose_level=130.15), Row(avg_glucose_level=68.8), Row(avg_glucose_level=89.75), Row(avg_glucose_level=93.15), Row(avg_glucose_level=73.37), Row(avg_glucose_level=107.61), Row(avg_glucose_level=87.18), Row(avg_glucose_level=98.52), Row(avg_glucose_level=79.76), Row(avg_glucose_level=221.29), Row(avg_glucose_level=104.86), Row(avg_glucose_level=101.41), Row(avg_glucose_level=89.99), Row(avg_glucose_level=128.97), Row(avg_glucose_level=79.8), Row(avg_glucose_level=72.93), Row(avg_glucose_level=78.42), Row(avg_glucose_level=97.5), Row(avg_glucose_level=63.19), Row(avg_glucose_level=137.45), Row(avg_glucose_level=97.58), Row(avg_glucose_level=146.97), Row(avg_glucose_level=73.33), Row(avg_glucose_level=70.06), Row(avg_glucose_level=127.13), Row(avg_glucose_level=71.66), Row(avg_glucose_level=114.09), Row(avg_glucose_level=100.06), Row(avg_glucose_level=88.06), Row(avg_glucose_level=88.56), Row(avg_glucose_level=95.19), Row(avg_glucose_level=243.52), Row(avg_glucose_level=86.23), Row(avg_glucose_level=111.04), Row(avg_glucose_level=205.35), Row(avg_glucose_level=86.78), Row(avg_glucose_level=83.65), Row(avg_glucose_level=103.25), Row(avg_glucose_level=97.51), Row(avg_glucose_level=80.72), Row(avg_glucose_level=87.16), Row(avg_glucose_level=227.94), Row(avg_glucose_level=92.16), Row(avg_glucose_level=101.09), Row(avg_glucose_level=67.5), Row(avg_glucose_level=66.61), Row(avg_glucose_level=105.19), Row(avg_glucose_level=100.19), Row(avg_glucose_level=96.14), Row(avg_glucose_level=200.91), Row(avg_glucose_level=90.28), Row(avg_glucose_level=75.95), Row(avg_glucose_level=76.34), Row(avg_glucose_level=79.83), Row(avg_glucose_level=99.97), Row(avg_glucose_level=59.82), Row(avg_glucose_level=114.32), Row(avg_glucose_level=124.06), Row(avg_glucose_level=180.76), Row(avg_glucose_level=86.37), Row(avg_glucose_level=103.81), Row(avg_glucose_level=81.94), Row(avg_glucose_level=86.26), Row(avg_glucose_level=62.56), Row(avg_glucose_level=158.48), Row(avg_glucose_level=137.22), Row(avg_glucose_level=106.59), Row(avg_glucose_level=62.62), Row(avg_glucose_level=69.12), Row(avg_glucose_level=84.43), Row(avg_glucose_level=83.42), Row(avg_glucose_level=80.34), Row(avg_glucose_level=95.87), Row(avg_glucose_level=83.8), Row(avg_glucose_level=73.98), Row(avg_glucose_level=221.08), Row(avg_glucose_level=120.56), Row(avg_glucose_level=60.13), Row(avg_glucose_level=135.32), Row(avg_glucose_level=76.31), Row(avg_glucose_level=82.81), Row(avg_glucose_level=196.01), Row(avg_glucose_level=72.62), Row(avg_glucose_level=246.34), Row(avg_glucose_level=96.79), Row(avg_glucose_level=207.79), Row(avg_glucose_level=73.36), Row(avg_glucose_level=101.99), Row(avg_glucose_level=122.32), Row(avg_glucose_level=97.16), Row(avg_glucose_level=129.43), Row(avg_glucose_level=77.99), Row(avg_glucose_level=70.7), Row(avg_glucose_level=211.12), Row(avg_glucose_level=72.54), Row(avg_glucose_level=80.27), Row(avg_glucose_level=102.76), Row(avg_glucose_level=77.1), Row(avg_glucose_level=69.46), Row(avg_glucose_level=70.89), Row(avg_glucose_level=69.84), Row(avg_glucose_level=153.48), Row(avg_glucose_level=102.34), Row(avg_glucose_level=94.65), Row(avg_glucose_level=99.6), Row(avg_glucose_level=99.14), Row(avg_glucose_level=82.44), Row(avg_glucose_level=62.4), Row(avg_glucose_level=101.79), Row(avg_glucose_level=210.23), Row(avg_glucose_level=74.33), Row(avg_glucose_level=74.35), Row(avg_glucose_level=80.82), Row(avg_glucose_level=167.59), Row(avg_glucose_level=126.39), Row(avg_glucose_level=150.1), Row(avg_glucose_level=169.43), Row(avg_glucose_level=217.84), Row(avg_glucose_level=190.92), Row(avg_glucose_level=223.58), Row(avg_glucose_level=235.45), Row(avg_glucose_level=67.56), Row(avg_glucose_level=91.32), Row(avg_glucose_level=88.0), Row(avg_glucose_level=242.62), Row(avg_glucose_level=118.03), Row(avg_glucose_level=126.82), Row(avg_glucose_level=72.55), Row(avg_glucose_level=104.55), Row(avg_glucose_level=105.63), Row(avg_glucose_level=55.86), Row(avg_glucose_level=90.66), Row(avg_glucose_level=84.46), Row(avg_glucose_level=74.58), Row(avg_glucose_level=93.17), Row(avg_glucose_level=119.03), Row(avg_glucose_level=154.75), Row(avg_glucose_level=67.8), Row(avg_glucose_level=111.32), Row(avg_glucose_level=106.83), Row(avg_glucose_level=170.88), Row(avg_glucose_level=99.35), Row(avg_glucose_level=195.61), Row(avg_glucose_level=86.93), Row(avg_glucose_level=99.91), Row(avg_glucose_level=231.15), Row(avg_glucose_level=115.68), Row(avg_glucose_level=83.59), Row(avg_glucose_level=66.71), Row(avg_glucose_level=100.6), Row(avg_glucose_level=111.38), Row(avg_glucose_level=72.35), Row(avg_glucose_level=76.36), Row(avg_glucose_level=67.55), Row(avg_glucose_level=77.92), Row(avg_glucose_level=199.96), Row(avg_glucose_level=98.85), Row(avg_glucose_level=120.27), Row(avg_glucose_level=255.17), Row(avg_glucose_level=87.82), Row(avg_glucose_level=70.98), Row(avg_glucose_level=112.77), Row(avg_glucose_level=88.32), Row(avg_glucose_level=55.35), Row(avg_glucose_level=115.07), Row(avg_glucose_level=56.94), Row(avg_glucose_level=219.84), Row(avg_glucose_level=116.44), Row(avg_glucose_level=91.61), Row(avg_glucose_level=93.25), Row(avg_glucose_level=99.8), Row(avg_glucose_level=74.2), Row(avg_glucose_level=84.11), Row(avg_glucose_level=104.62), Row(avg_glucose_level=195.03), Row(avg_glucose_level=90.51), Row(avg_glucose_level=91.68), Row(avg_glucose_level=103.76), Row(avg_glucose_level=101.02), Row(avg_glucose_level=63.4), Row(avg_glucose_level=59.68), Row(avg_glucose_level=202.67), Row(avg_glucose_level=97.28), Row(avg_glucose_level=126.32), Row(avg_glucose_level=111.24), Row(avg_glucose_level=61.13), Row(avg_glucose_level=65.68), Row(avg_glucose_level=271.74), Row(avg_glucose_level=103.78), Row(avg_glucose_level=111.73), Row(avg_glucose_level=64.64), Row(avg_glucose_level=110.16), Row(avg_glucose_level=95.52), Row(avg_glucose_level=69.3), Row(avg_glucose_level=169.97), Row(avg_glucose_level=111.33), Row(avg_glucose_level=124.34), Row(avg_glucose_level=112.46), Row(avg_glucose_level=105.99), Row(avg_glucose_level=94.25), Row(avg_glucose_level=79.21), Row(avg_glucose_level=69.42), Row(avg_glucose_level=179.14), Row(avg_glucose_level=104.47), Row(avg_glucose_level=70.28), Row(avg_glucose_level=67.84), Row(avg_glucose_level=93.88), Row(avg_glucose_level=65.3), Row(avg_glucose_level=131.51), Row(avg_glucose_level=77.65), Row(avg_glucose_level=75.04), Row(avg_glucose_level=70.02), Row(avg_glucose_level=63.73), Row(avg_glucose_level=119.01), Row(avg_glucose_level=92.32), Row(avg_glucose_level=129.07), Row(avg_glucose_level=127.21), Row(avg_glucose_level=221.43), Row(avg_glucose_level=226.38), Row(avg_glucose_level=95.86), Row(avg_glucose_level=74.42), Row(avg_glucose_level=193.88), Row(avg_glucose_level=91.02), Row(avg_glucose_level=113.63), Row(avg_glucose_level=112.09), Row(avg_glucose_level=122.31), Row(avg_glucose_level=88.66), Row(avg_glucose_level=86.06), Row(avg_glucose_level=88.65), Row(avg_glucose_level=112.38), Row(avg_glucose_level=83.84), Row(avg_glucose_level=114.41), Row(avg_glucose_level=84.56), Row(avg_glucose_level=84.18), Row(avg_glucose_level=58.14), Row(avg_glucose_level=211.35), Row(avg_glucose_level=209.5), Row(avg_glucose_level=84.25), Row(avg_glucose_level=58.41), Row(avg_glucose_level=217.0), Row(avg_glucose_level=108.62), Row(avg_glucose_level=88.51), Row(avg_glucose_level=116.25), Row(avg_glucose_level=97.73), Row(avg_glucose_level=183.45), Row(avg_glucose_level=88.53), Row(avg_glucose_level=240.71), Row(avg_glucose_level=86.4), Row(avg_glucose_level=66.13), Row(avg_glucose_level=115.83), Row(avg_glucose_level=71.71), Row(avg_glucose_level=236.14), Row(avg_glucose_level=97.86), Row(avg_glucose_level=64.44), Row(avg_glucose_level=97.92), Row(avg_glucose_level=82.01), Row(avg_glucose_level=138.07), Row(avg_glucose_level=83.79), Row(avg_glucose_level=81.05), Row(avg_glucose_level=120.25), Row(avg_glucose_level=77.29), Row(avg_glucose_level=95.62), Row(avg_glucose_level=77.33), Row(avg_glucose_level=83.33), Row(avg_glucose_level=94.96), Row(avg_glucose_level=82.25), Row(avg_glucose_level=123.83), Row(avg_glucose_level=98.69), Row(avg_glucose_level=131.28), Row(avg_glucose_level=69.54), Row(avg_glucose_level=118.85), Row(avg_glucose_level=182.22), Row(avg_glucose_level=120.03), Row(avg_glucose_level=137.3), Row(avg_glucose_level=149.75), Row(avg_glucose_level=88.11), Row(avg_glucose_level=97.55), Row(avg_glucose_level=132.08), Row(avg_glucose_level=96.78), Row(avg_glucose_level=84.08), Row(avg_glucose_level=111.64), Row(avg_glucose_level=94.15), Row(avg_glucose_level=94.66), Row(avg_glucose_level=149.13), Row(avg_glucose_level=110.72), Row(avg_glucose_level=60.05), Row(avg_glucose_level=106.85), Row(avg_glucose_level=69.16), Row(avg_glucose_level=69.23), Row(avg_glucose_level=86.15), Row(avg_glucose_level=78.28), Row(avg_glucose_level=103.12), Row(avg_glucose_level=221.06), Row(avg_glucose_level=75.0), Row(avg_glucose_level=254.95), Row(avg_glucose_level=99.01), Row(avg_glucose_level=81.87), Row(avg_glucose_level=93.81), Row(avg_glucose_level=109.51), Row(avg_glucose_level=95.01), Row(avg_glucose_level=93.67), Row(avg_glucose_level=90.16), Row(avg_glucose_level=150.27), Row(avg_glucose_level=121.44), Row(avg_glucose_level=113.24), Row(avg_glucose_level=95.37), Row(avg_glucose_level=72.39), Row(avg_glucose_level=74.65), Row(avg_glucose_level=104.34), Row(avg_glucose_level=142.68), Row(avg_glucose_level=70.04), Row(avg_glucose_level=127.42), Row(avg_glucose_level=89.74), Row(avg_glucose_level=263.56), Row(avg_glucose_level=159.7), Row(avg_glucose_level=219.81), Row(avg_glucose_level=57.6), Row(avg_glucose_level=167.41), Row(avg_glucose_level=180.93), Row(avg_glucose_level=94.3), Row(avg_glucose_level=78.05), Row(avg_glucose_level=83.82), Row(avg_glucose_level=74.22), Row(avg_glucose_level=88.83), Row(avg_glucose_level=102.3), Row(avg_glucose_level=84.4), Row(avg_glucose_level=107.5), Row(avg_glucose_level=101.89), Row(avg_glucose_level=56.34), Row(avg_glucose_level=64.55), Row(avg_glucose_level=62.66), Row(avg_glucose_level=99.49), Row(avg_glucose_level=98.03), Row(avg_glucose_level=78.3), Row(avg_glucose_level=60.77), Row(avg_glucose_level=114.05), Row(avg_glucose_level=67.68), Row(avg_glucose_level=92.99), Row(avg_glucose_level=78.88), Row(avg_glucose_level=141.09), Row(avg_glucose_level=103.6), Row(avg_glucose_level=80.2), Row(avg_glucose_level=57.52), Row(avg_glucose_level=76.58), Row(avg_glucose_level=231.61), Row(avg_glucose_level=77.82), Row(avg_glucose_level=207.58), Row(avg_glucose_level=55.67), Row(avg_glucose_level=68.4), Row(avg_glucose_level=155.17), Row(avg_glucose_level=216.92), Row(avg_glucose_level=102.08), Row(avg_glucose_level=75.52), Row(avg_glucose_level=84.1), Row(avg_glucose_level=236.79), Row(avg_glucose_level=118.46), Row(avg_glucose_level=232.29), Row(avg_glucose_level=234.45), Row(avg_glucose_level=215.07), Row(avg_glucose_level=205.77), Row(avg_glucose_level=87.8), Row(avg_glucose_level=112.17), Row(avg_glucose_level=81.03), Row(avg_glucose_level=89.7), Row(avg_glucose_level=112.96), Row(avg_glucose_level=86.84), Row(avg_glucose_level=107.69), Row(avg_glucose_level=108.56), Row(avg_glucose_level=217.11), Row(avg_glucose_level=109.97), Row(avg_glucose_level=231.5), Row(avg_glucose_level=203.44), Row(avg_glucose_level=102.21), Row(avg_glucose_level=231.95), Row(avg_glucose_level=94.44), Row(avg_glucose_level=97.87), Row(avg_glucose_level=95.98), Row(avg_glucose_level=96.73), Row(avg_glucose_level=106.33), Row(avg_glucose_level=87.47), Row(avg_glucose_level=145.25), Row(avg_glucose_level=57.1), Row(avg_glucose_level=109.33), Row(avg_glucose_level=68.43), Row(avg_glucose_level=81.76), Row(avg_glucose_level=74.64), Row(avg_glucose_level=92.39), Row(avg_glucose_level=75.19), Row(avg_glucose_level=76.82), Row(avg_glucose_level=101.05), Row(avg_glucose_level=91.9), Row(avg_glucose_level=82.37), Row(avg_glucose_level=114.34), Row(avg_glucose_level=84.48), Row(avg_glucose_level=113.11), Row(avg_glucose_level=83.55), Row(avg_glucose_level=208.85), Row(avg_glucose_level=69.97), Row(avg_glucose_level=190.67), Row(avg_glucose_level=110.97), Row(avg_glucose_level=100.88), Row(avg_glucose_level=86.61), Row(avg_glucose_level=215.94), Row(avg_glucose_level=104.21), Row(avg_glucose_level=70.34), Row(avg_glucose_level=77.16), Row(avg_glucose_level=86.05), Row(avg_glucose_level=131.77), Row(avg_glucose_level=102.01), Row(avg_glucose_level=153.76), Row(avg_glucose_level=68.61), Row(avg_glucose_level=218.54), Row(avg_glucose_level=185.71), Row(avg_glucose_level=62.0), Row(avg_glucose_level=89.83), Row(avg_glucose_level=118.61), Row(avg_glucose_level=96.0), Row(avg_glucose_level=83.89), Row(avg_glucose_level=97.81), Row(avg_glucose_level=122.26), Row(avg_glucose_level=104.03), Row(avg_glucose_level=79.98), Row(avg_glucose_level=72.88), Row(avg_glucose_level=96.98), Row(avg_glucose_level=174.54), Row(avg_glucose_level=124.13), Row(avg_glucose_level=72.79), Row(avg_glucose_level=80.33), Row(avg_glucose_level=83.09), Row(avg_glucose_level=97.14), Row(avg_glucose_level=93.77), Row(avg_glucose_level=86.51), Row(avg_glucose_level=60.6), Row(avg_glucose_level=85.97), Row(avg_glucose_level=56.12), Row(avg_glucose_level=84.58), Row(avg_glucose_level=163.82), Row(avg_glucose_level=114.54), Row(avg_glucose_level=212.62), Row(avg_glucose_level=69.45), Row(avg_glucose_level=128.61), Row(avg_glucose_level=115.43), Row(avg_glucose_level=100.26), Row(avg_glucose_level=94.92), Row(avg_glucose_level=66.12), Row(avg_glucose_level=86.99), Row(avg_glucose_level=229.86), Row(avg_glucose_level=227.51), Row(avg_glucose_level=224.63), Row(avg_glucose_level=145.22), Row(avg_glucose_level=220.36), Row(avg_glucose_level=70.54), Row(avg_glucose_level=146.59), Row(avg_glucose_level=111.78), Row(avg_glucose_level=230.78), Row(avg_glucose_level=95.29), Row(avg_glucose_level=101.61), Row(avg_glucose_level=124.38), Row(avg_glucose_level=96.91), Row(avg_glucose_level=198.3), Row(avg_glucose_level=233.47), Row(avg_glucose_level=65.43), Row(avg_glucose_level=74.16), Row(avg_glucose_level=57.83), Row(avg_glucose_level=90.69), Row(avg_glucose_level=74.09), Row(avg_glucose_level=104.38), Row(avg_glucose_level=88.31), Row(avg_glucose_level=79.47), Row(avg_glucose_level=120.09), Row(avg_glucose_level=102.42), Row(avg_glucose_level=102.36), Row(avg_glucose_level=98.05), Row(avg_glucose_level=69.92), Row(avg_glucose_level=134.12), Row(avg_glucose_level=58.86), Row(avg_glucose_level=87.71), Row(avg_glucose_level=108.63), Row(avg_glucose_level=253.93), Row(avg_glucose_level=100.93), Row(avg_glucose_level=203.36), Row(avg_glucose_level=219.91), Row(avg_glucose_level=112.24), Row(avg_glucose_level=103.43), Row(avg_glucose_level=204.86), Row(avg_glucose_level=62.37), Row(avg_glucose_level=58.47), Row(avg_glucose_level=123.21), Row(avg_glucose_level=84.27), Row(avg_glucose_level=75.88), Row(avg_glucose_level=82.77), Row(avg_glucose_level=85.07), Row(avg_glucose_level=87.72), Row(avg_glucose_level=59.87), Row(avg_glucose_level=101.22), Row(avg_glucose_level=88.9), Row(avg_glucose_level=194.53), Row(avg_glucose_level=96.86), Row(avg_glucose_level=158.93), Row(avg_glucose_level=92.77), Row(avg_glucose_level=103.89), Row(avg_glucose_level=159.79), Row(avg_glucose_level=120.15), Row(avg_glucose_level=122.23), Row(avg_glucose_level=88.62), Row(avg_glucose_level=137.27), Row(avg_glucose_level=56.11), Row(avg_glucose_level=109.82), Row(avg_glucose_level=178.29), Row(avg_glucose_level=79.3), Row(avg_glucose_level=100.35), Row(avg_glucose_level=55.26), Row(avg_glucose_level=112.47), Row(avg_glucose_level=61.36), Row(avg_glucose_level=78.59), Row(avg_glucose_level=102.27), Row(avg_glucose_level=86.0), Row(avg_glucose_level=85.92), Row(avg_glucose_level=213.54), Row(avg_glucose_level=111.93), Row(avg_glucose_level=80.0), Row(avg_glucose_level=206.15), Row(avg_glucose_level=133.24), Row(avg_glucose_level=89.87), Row(avg_glucose_level=88.89), Row(avg_glucose_level=80.17), Row(avg_glucose_level=218.0), Row(avg_glucose_level=61.53), Row(avg_glucose_level=82.95), Row(avg_glucose_level=90.19), Row(avg_glucose_level=127.71), Row(avg_glucose_level=79.58), Row(avg_glucose_level=73.32), Row(avg_glucose_level=111.15), Row(avg_glucose_level=113.64), Row(avg_glucose_level=95.81), Row(avg_glucose_level=152.81), Row(avg_glucose_level=107.91), Row(avg_glucose_level=86.04), Row(avg_glucose_level=63.47), Row(avg_glucose_level=56.43), Row(avg_glucose_level=97.96), Row(avg_glucose_level=88.23), Row(avg_glucose_level=80.18), Row(avg_glucose_level=102.4), Row(avg_glucose_level=75.86), Row(avg_glucose_level=149.15), Row(avg_glucose_level=161.0), Row(avg_glucose_level=90.97), Row(avg_glucose_level=114.02), Row(avg_glucose_level=125.63), Row(avg_glucose_level=110.15), Row(avg_glucose_level=86.46), Row(avg_glucose_level=77.46), Row(avg_glucose_level=90.1), Row(avg_glucose_level=87.49), Row(avg_glucose_level=144.16), Row(avg_glucose_level=102.5), Row(avg_glucose_level=67.92), Row(avg_glucose_level=196.2), Row(avg_glucose_level=194.98), Row(avg_glucose_level=70.93), Row(avg_glucose_level=99.4), Row(avg_glucose_level=59.91), Row(avg_glucose_level=87.39), Row(avg_glucose_level=99.76), Row(avg_glucose_level=80.76), Row(avg_glucose_level=109.46), Row(avg_glucose_level=104.92), Row(avg_glucose_level=106.54), Row(avg_glucose_level=55.47), Row(avg_glucose_level=88.98), Row(avg_glucose_level=101.95), Row(avg_glucose_level=73.74), Row(avg_glucose_level=112.64), Row(avg_glucose_level=87.98), Row(avg_glucose_level=61.27), Row(avg_glucose_level=84.91), Row(avg_glucose_level=81.11), Row(avg_glucose_level=239.28), Row(avg_glucose_level=60.56), Row(avg_glucose_level=97.47), Row(avg_glucose_level=85.03), Row(avg_glucose_level=82.85), Row(avg_glucose_level=231.43), Row(avg_glucose_level=99.12), Row(avg_glucose_level=200.68), Row(avg_glucose_level=222.52), Row(avg_glucose_level=73.08), Row(avg_glucose_level=103.66), Row(avg_glucose_level=238.27), Row(avg_glucose_level=91.54), Row(avg_glucose_level=185.49), Row(avg_glucose_level=95.84), Row(avg_glucose_level=97.08), Row(avg_glucose_level=81.26), Row(avg_glucose_level=170.95), Row(avg_glucose_level=123.79), Row(avg_glucose_level=86.87), Row(avg_glucose_level=100.82), Row(avg_glucose_level=89.02), Row(avg_glucose_level=66.25), Row(avg_glucose_level=70.11), Row(avg_glucose_level=56.85), Row(avg_glucose_level=77.79), Row(avg_glucose_level=94.37), Row(avg_glucose_level=156.43), Row(avg_glucose_level=232.78), Row(avg_glucose_level=92.62), Row(avg_glucose_level=89.13), Row(avg_glucose_level=94.61), Row(avg_glucose_level=227.1), Row(avg_glucose_level=82.58), Row(avg_glucose_level=88.78), Row(avg_glucose_level=76.2), Row(avg_glucose_level=85.54), Row(avg_glucose_level=91.45), Row(avg_glucose_level=84.13), Row(avg_glucose_level=108.75), Row(avg_glucose_level=170.22), Row(avg_glucose_level=79.73), Row(avg_glucose_level=61.75), Row(avg_glucose_level=122.38), Row(avg_glucose_level=99.65), Row(avg_glucose_level=79.7), Row(avg_glucose_level=125.98), Row(avg_glucose_level=69.48), Row(avg_glucose_level=95.8), Row(avg_glucose_level=134.65), Row(avg_glucose_level=98.66), Row(avg_glucose_level=206.49), Row(avg_glucose_level=74.51), Row(avg_glucose_level=119.04), Row(avg_glucose_level=84.14), Row(avg_glucose_level=186.95), Row(avg_glucose_level=76.03), Row(avg_glucose_level=61.04), Row(avg_glucose_level=84.69), Row(avg_glucose_level=140.96), Row(avg_glucose_level=98.9), Row(avg_glucose_level=118.22), Row(avg_glucose_level=239.21), Row(avg_glucose_level=97.22), Row(avg_glucose_level=186.54), Row(avg_glucose_level=81.53), Row(avg_glucose_level=107.06), Row(avg_glucose_level=108.35), Row(avg_glucose_level=208.3), Row(avg_glucose_level=73.4), Row(avg_glucose_level=83.52), Row(avg_glucose_level=74.36), Row(avg_glucose_level=87.15), Row(avg_glucose_level=83.15), Row(avg_glucose_level=78.23), Row(avg_glucose_level=112.83), Row(avg_glucose_level=213.92), Row(avg_glucose_level=86.67), Row(avg_glucose_level=74.46), Row(avg_glucose_level=86.75), Row(avg_glucose_level=91.96), Row(avg_glucose_level=89.17), Row(avg_glucose_level=227.91), Row(avg_glucose_level=78.46), Row(avg_glucose_level=72.61), Row(avg_glucose_level=78.99), Row(avg_glucose_level=70.45), Row(avg_glucose_level=94.4), Row(avg_glucose_level=59.63), Row(avg_glucose_level=101.3), Row(avg_glucose_level=183.87), Row(avg_glucose_level=105.34), Row(avg_glucose_level=90.38), Row(avg_glucose_level=92.97), Row(avg_glucose_level=77.43), Row(avg_glucose_level=229.94), Row(avg_glucose_level=80.54), Row(avg_glucose_level=206.53), Row(avg_glucose_level=214.73), Row(avg_glucose_level=85.84), Row(avg_glucose_level=90.65), Row(avg_glucose_level=127.18), Row(avg_glucose_level=114.5), Row(avg_glucose_level=81.02), Row(avg_glucose_level=167.31), Row(avg_glucose_level=64.66), Row(avg_glucose_level=143.45), Row(avg_glucose_level=68.24), Row(avg_glucose_level=65.48), Row(avg_glucose_level=77.24), Row(avg_glucose_level=110.87), Row(avg_glucose_level=91.13), Row(avg_glucose_level=95.38), Row(avg_glucose_level=148.72), Row(avg_glucose_level=72.28), Row(avg_glucose_level=60.7), Row(avg_glucose_level=59.14), Row(avg_glucose_level=191.82), Row(avg_glucose_level=116.66), Row(avg_glucose_level=198.69), Row(avg_glucose_level=85.06), Row(avg_glucose_level=89.98), Row(avg_glucose_level=122.75), Row(avg_glucose_level=93.04), Row(avg_glucose_level=78.85), Row(avg_glucose_level=110.6), Row(avg_glucose_level=99.07), Row(avg_glucose_level=154.08), Row(avg_glucose_level=121.66), Row(avg_glucose_level=97.24), Row(avg_glucose_level=100.42), Row(avg_glucose_level=100.05), Row(avg_glucose_level=57.47), Row(avg_glucose_level=77.01), Row(avg_glucose_level=152.38), Row(avg_glucose_level=128.17), Row(avg_glucose_level=174.12), Row(avg_glucose_level=62.55), Row(avg_glucose_level=114.53), Row(avg_glucose_level=134.39), Row(avg_glucose_level=79.39), Row(avg_glucose_level=111.61), Row(avg_glucose_level=87.7), Row(avg_glucose_level=198.24), Row(avg_glucose_level=71.5), Row(avg_glucose_level=136.23), Row(avg_glucose_level=75.85), Row(avg_glucose_level=162.72), Row(avg_glucose_level=207.37), Row(avg_glucose_level=244.3), Row(avg_glucose_level=226.28), Row(avg_glucose_level=104.0), Row(avg_glucose_level=85.28), Row(avg_glucose_level=237.75), Row(avg_glucose_level=247.69), Row(avg_glucose_level=173.43), Row(avg_glucose_level=75.62), Row(avg_glucose_level=55.22), Row(avg_glucose_level=108.23), Row(avg_glucose_level=151.33), Row(avg_glucose_level=231.69), Row(avg_glucose_level=83.44), Row(avg_glucose_level=90.01), Row(avg_glucose_level=162.93), Row(avg_glucose_level=165.99), Row(avg_glucose_level=89.72), Row(avg_glucose_level=134.23), Row(avg_glucose_level=57.43), Row(avg_glucose_level=105.18), Row(avg_glucose_level=188.13), Row(avg_glucose_level=112.69), Row(avg_glucose_level=113.84), Row(avg_glucose_level=69.74), Row(avg_glucose_level=122.39), Row(avg_glucose_level=119.77), Row(avg_glucose_level=60.64), Row(avg_glucose_level=70.38), Row(avg_glucose_level=85.9), Row(avg_glucose_level=109.78), Row(avg_glucose_level=75.02), Row(avg_glucose_level=87.96), Row(avg_glucose_level=110.89), Row(avg_glucose_level=90.42), Row(avg_glucose_level=65.36), Row(avg_glucose_level=56.42), Row(avg_glucose_level=91.63), Row(avg_glucose_level=197.58), Row(avg_glucose_level=103.28), Row(avg_glucose_level=134.61), Row(avg_glucose_level=79.16), Row(avg_glucose_level=99.23), Row(avg_glucose_level=72.5), Row(avg_glucose_level=104.4), Row(avg_glucose_level=196.5), Row(avg_glucose_level=65.91), Row(avg_glucose_level=92.24), Row(avg_glucose_level=73.07), Row(avg_glucose_level=86.58), Row(avg_glucose_level=154.67), Row(avg_glucose_level=112.25), Row(avg_glucose_level=104.37), Row(avg_glucose_level=197.28), Row(avg_glucose_level=77.08), Row(avg_glucose_level=82.67), Row(avg_glucose_level=74.23), Row(avg_glucose_level=114.89), Row(avg_glucose_level=121.11), Row(avg_glucose_level=119.67), Row(avg_glucose_level=133.2), Row(avg_glucose_level=79.82), Row(avg_glucose_level=212.02), Row(avg_glucose_level=94.49), Row(avg_glucose_level=82.48), Row(avg_glucose_level=100.01), Row(avg_glucose_level=83.73), Row(avg_glucose_level=83.03), Row(avg_glucose_level=85.46), Row(avg_glucose_level=102.73), Row(avg_glucose_level=110.63), Row(avg_glucose_level=88.81), Row(avg_glucose_level=77.52), Row(avg_glucose_level=112.23), Row(avg_glucose_level=86.07), Row(avg_glucose_level=94.0), Row(avg_glucose_level=60.96), Row(avg_glucose_level=86.35), Row(avg_glucose_level=87.81), Row(avg_glucose_level=59.78), Row(avg_glucose_level=130.37), Row(avg_glucose_level=219.67), Row(avg_glucose_level=71.58), Row(avg_glucose_level=86.19), Row(avg_glucose_level=200.66), Row(avg_glucose_level=95.33), Row(avg_glucose_level=61.38), Row(avg_glucose_level=166.38), Row(avg_glucose_level=211.78), Row(avg_glucose_level=243.58), Row(avg_glucose_level=69.4), Row(avg_glucose_level=99.67), Row(avg_glucose_level=59.54), Row(avg_glucose_level=82.2), Row(avg_glucose_level=204.63), Row(avg_glucose_level=156.18), Row(avg_glucose_level=56.47), Row(avg_glucose_level=93.23), Row(avg_glucose_level=127.25), Row(avg_glucose_level=217.66), Row(avg_glucose_level=95.82), Row(avg_glucose_level=96.93), Row(avg_glucose_level=91.71), Row(avg_glucose_level=266.59), Row(avg_glucose_level=112.29), Row(avg_glucose_level=82.4), Row(avg_glucose_level=233.59), Row(avg_glucose_level=75.46), Row(avg_glucose_level=67.3), Row(avg_glucose_level=223.26), Row(avg_glucose_level=67.28), Row(avg_glucose_level=58.55), Row(avg_glucose_level=55.23), Row(avg_glucose_level=212.19), Row(avg_glucose_level=152.56), Row(avg_glucose_level=193.94), Row(avg_glucose_level=102.64), Row(avg_glucose_level=101.28), Row(avg_glucose_level=119.52), Row(avg_glucose_level=73.67), Row(avg_glucose_level=93.68), Row(avg_glucose_level=120.07), Row(avg_glucose_level=210.0), Row(avg_glucose_level=69.38), Row(avg_glucose_level=76.22), Row(avg_glucose_level=85.66), Row(avg_glucose_level=65.28), Row(avg_glucose_level=169.49), Row(avg_glucose_level=213.8), Row(avg_glucose_level=175.92), Row(avg_glucose_level=75.32), Row(avg_glucose_level=91.72), Row(avg_glucose_level=82.69), Row(avg_glucose_level=82.39), Row(avg_glucose_level=217.39), Row(avg_glucose_level=65.84), Row(avg_glucose_level=99.96), Row(avg_glucose_level=71.88), Row(avg_glucose_level=197.69), Row(avg_glucose_level=66.01), Row(avg_glucose_level=205.0), Row(avg_glucose_level=88.43), Row(avg_glucose_level=77.94), Row(avg_glucose_level=57.96), Row(avg_glucose_level=112.37), Row(avg_glucose_level=93.79), Row(avg_glucose_level=63.53), Row(avg_glucose_level=80.47), Row(avg_glucose_level=74.29), Row(avg_glucose_level=126.67), Row(avg_glucose_level=199.14), Row(avg_glucose_level=189.44), Row(avg_glucose_level=92.72), Row(avg_glucose_level=124.37), Row(avg_glucose_level=81.68), Row(avg_glucose_level=90.54), Row(avg_glucose_level=91.36), Row(avg_glucose_level=56.33), Row(avg_glucose_level=83.61), Row(avg_glucose_level=78.45), Row(avg_glucose_level=83.74), Row(avg_glucose_level=131.81), Row(avg_glucose_level=103.08), Row(avg_glucose_level=74.99), Row(avg_glucose_level=111.81), Row(avg_glucose_level=151.16), Row(avg_glucose_level=170.05), Row(avg_glucose_level=113.8), Row(avg_glucose_level=76.25), Row(avg_glucose_level=68.37), Row(avg_glucose_level=114.33), Row(avg_glucose_level=95.85), Row(avg_glucose_level=63.45), Row(avg_glucose_level=96.18), Row(avg_glucose_level=124.26), Row(avg_glucose_level=70.32), Row(avg_glucose_level=75.91), Row(avg_glucose_level=62.44), Row(avg_glucose_level=78.57), Row(avg_glucose_level=93.2), Row(avg_glucose_level=100.71), Row(avg_glucose_level=75.1), Row(avg_glucose_level=105.91), Row(avg_glucose_level=198.84), Row(avg_glucose_level=118.41), Row(avg_glucose_level=190.14), Row(avg_glucose_level=140.1), Row(avg_glucose_level=98.99), Row(avg_glucose_level=88.04), Row(avg_glucose_level=183.1), Row(avg_glucose_level=124.16), Row(avg_glucose_level=227.28), Row(avg_glucose_level=64.08), Row(avg_glucose_level=90.62), Row(avg_glucose_level=123.23), Row(avg_glucose_level=69.67), Row(avg_glucose_level=116.98), Row(avg_glucose_level=156.45), Row(avg_glucose_level=92.15), Row(avg_glucose_level=204.77), Row(avg_glucose_level=107.58), Row(avg_glucose_level=64.6), Row(avg_glucose_level=109.52), Row(avg_glucose_level=125.43), Row(avg_glucose_level=172.86), Row(avg_glucose_level=200.8), Row(avg_glucose_level=96.82), Row(avg_glucose_level=124.92), Row(avg_glucose_level=106.58), Row(avg_glucose_level=75.39), Row(avg_glucose_level=87.03), Row(avg_glucose_level=74.72), Row(avg_glucose_level=98.67), Row(avg_glucose_level=86.33), Row(avg_glucose_level=85.12), Row(avg_glucose_level=60.99), Row(avg_glucose_level=78.48), Row(avg_glucose_level=192.37), Row(avg_glucose_level=88.79), Row(avg_glucose_level=87.26), Row(avg_glucose_level=99.1), Row(avg_glucose_level=123.66), Row(avg_glucose_level=83.58), Row(avg_glucose_level=110.28), Row(avg_glucose_level=202.98), Row(avg_glucose_level=145.46), Row(avg_glucose_level=101.96), Row(avg_glucose_level=72.04), Row(avg_glucose_level=101.12), Row(avg_glucose_level=79.66), Row(avg_glucose_level=57.15), Row(avg_glucose_level=160.76), Row(avg_glucose_level=211.58), Row(avg_glucose_level=62.48), Row(avg_glucose_level=79.14), Row(avg_glucose_level=87.11), Row(avg_glucose_level=65.47), Row(avg_glucose_level=70.01), Row(avg_glucose_level=60.39), Row(avg_glucose_level=83.14), Row(avg_glucose_level=84.85), Row(avg_glucose_level=91.21), Row(avg_glucose_level=107.27), Row(avg_glucose_level=243.59), Row(avg_glucose_level=94.76), Row(avg_glucose_level=89.18), Row(avg_glucose_level=82.49), Row(avg_glucose_level=58.01), Row(avg_glucose_level=58.89), Row(avg_glucose_level=73.99), Row(avg_glucose_level=68.02), Row(avg_glucose_level=107.52), Row(avg_glucose_level=111.19), Row(avg_glucose_level=163.7), Row(avg_glucose_level=78.09), Row(avg_glucose_level=84.06), Row(avg_glucose_level=96.26), Row(avg_glucose_level=121.14), Row(avg_glucose_level=85.99), Row(avg_glucose_level=222.6), Row(avg_glucose_level=80.99), Row(avg_glucose_level=102.97), Row(avg_glucose_level=99.73), Row(avg_glucose_level=110.38), Row(avg_glucose_level=145.03), Row(avg_glucose_level=69.99), Row(avg_glucose_level=95.49), Row(avg_glucose_level=226.84), Row(avg_glucose_level=71.08), Row(avg_glucose_level=65.58), Row(avg_glucose_level=92.75), Row(avg_glucose_level=126.85), Row(avg_glucose_level=100.61), Row(avg_glucose_level=219.97), Row(avg_glucose_level=93.34), Row(avg_glucose_level=78.78), Row(avg_glucose_level=102.06), Row(avg_glucose_level=79.91), Row(avg_glucose_level=134.45), Row(avg_glucose_level=61.1), Row(avg_glucose_level=102.71), Row(avg_glucose_level=93.9), Row(avg_glucose_level=97.23), Row(avg_glucose_level=114.99), Row(avg_glucose_level=73.65), Row(avg_glucose_level=116.2), Row(avg_glucose_level=84.68), Row(avg_glucose_level=62.32), Row(avg_glucose_level=72.12), Row(avg_glucose_level=91.58), Row(avg_glucose_level=154.03), Row(avg_glucose_level=63.9), Row(avg_glucose_level=68.42), Row(avg_glucose_level=105.48), Row(avg_glucose_level=95.05), Row(avg_glucose_level=59.35), Row(avg_glucose_level=57.92), Row(avg_glucose_level=55.39), Row(avg_glucose_level=102.91), Row(avg_glucose_level=90.78), Row(avg_glucose_level=84.86), Row(avg_glucose_level=87.78), Row(avg_glucose_level=84.75), Row(avg_glucose_level=62.27), Row(avg_glucose_level=97.32), Row(avg_glucose_level=68.66), Row(avg_glucose_level=226.88), Row(avg_glucose_level=152.87), Row(avg_glucose_level=55.46), Row(avg_glucose_level=192.39), Row(avg_glucose_level=137.77), Row(avg_glucose_level=67.76), Row(avg_glucose_level=57.09), Row(avg_glucose_level=221.24), Row(avg_glucose_level=86.95), Row(avg_glucose_level=235.63), Row(avg_glucose_level=97.78), Row(avg_glucose_level=87.43), Row(avg_glucose_level=78.65), Row(avg_glucose_level=96.02), Row(avg_glucose_level=64.45), Row(avg_glucose_level=58.48), Row(avg_glucose_level=76.63), Row(avg_glucose_level=77.57), Row(avg_glucose_level=160.87), Row(avg_glucose_level=102.58), Row(avg_glucose_level=60.57), Row(avg_glucose_level=217.08), Row(avg_glucose_level=71.89), Row(avg_glucose_level=243.5), Row(avg_glucose_level=71.16), Row(avg_glucose_level=112.06), Row(avg_glucose_level=80.83), Row(avg_glucose_level=100.52), Row(avg_glucose_level=104.24), Row(avg_glucose_level=88.82), Row(avg_glucose_level=74.05), Row(avg_glucose_level=208.17), Row(avg_glucose_level=89.81), Row(avg_glucose_level=186.4), Row(avg_glucose_level=60.61), Row(avg_glucose_level=115.12), Row(avg_glucose_level=202.38), Row(avg_glucose_level=104.45), Row(avg_glucose_level=228.05), Row(avg_glucose_level=234.27), Row(avg_glucose_level=70.19), Row(avg_glucose_level=131.05), Row(avg_glucose_level=82.99), Row(avg_glucose_level=162.23), Row(avg_glucose_level=78.8), Row(avg_glucose_level=196.36), Row(avg_glucose_level=87.27), Row(avg_glucose_level=65.98), Row(avg_glucose_level=112.07), Row(avg_glucose_level=88.52), Row(avg_glucose_level=113.74), Row(avg_glucose_level=64.92), Row(avg_glucose_level=80.21), Row(avg_glucose_level=89.59), Row(avg_glucose_level=72.33), Row(avg_glucose_level=146.21), Row(avg_glucose_level=162.24), Row(avg_glucose_level=104.08), Row(avg_glucose_level=101.53), Row(avg_glucose_level=65.21), Row(avg_glucose_level=106.1), Row(avg_glucose_level=82.14), Row(avg_glucose_level=104.9), Row(avg_glucose_level=68.34), Row(avg_glucose_level=193.83), Row(avg_glucose_level=92.04), Row(avg_glucose_level=86.38), Row(avg_glucose_level=91.88), Row(avg_glucose_level=119.62), Row(avg_glucose_level=104.7), Row(avg_glucose_level=242.94), Row(avg_glucose_level=86.7), Row(avg_glucose_level=101.93), Row(avg_glucose_level=134.24), Row(avg_glucose_level=141.16), Row(avg_glucose_level=123.61), Row(avg_glucose_level=225.35), Row(avg_glucose_level=120.23), Row(avg_glucose_level=70.37), Row(avg_glucose_level=134.8), Row(avg_glucose_level=69.37), Row(avg_glucose_level=126.35), Row(avg_glucose_level=110.91), Row(avg_glucose_level=66.36), Row(avg_glucose_level=150.45), Row(avg_glucose_level=65.51), Row(avg_glucose_level=151.3), Row(avg_glucose_level=66.32), Row(avg_glucose_level=72.06), Row(avg_glucose_level=136.1), Row(avg_glucose_level=216.0), Row(avg_glucose_level=84.88), Row(avg_glucose_level=105.74), Row(avg_glucose_level=102.48), Row(avg_glucose_level=127.23), Row(avg_glucose_level=76.7), Row(avg_glucose_level=175.74), Row(avg_glucose_level=117.04), Row(avg_glucose_level=105.72), Row(avg_glucose_level=191.94), Row(avg_glucose_level=63.82), Row(avg_glucose_level=73.54), Row(avg_glucose_level=175.29), Row(avg_glucose_level=90.12), Row(avg_glucose_level=80.4), Row(avg_glucose_level=111.41), Row(avg_glucose_level=115.29), Row(avg_glucose_level=123.36), Row(avg_glucose_level=142.02), Row(avg_glucose_level=84.9), Row(avg_glucose_level=209.26), Row(avg_glucose_level=209.06), Row(avg_glucose_level=114.45), Row(avg_glucose_level=88.33), Row(avg_glucose_level=101.13), Row(avg_glucose_level=85.27), Row(avg_glucose_level=94.2), Row(avg_glucose_level=57.8), Row(avg_glucose_level=89.06), Row(avg_glucose_level=174.43), Row(avg_glucose_level=83.78), Row(avg_glucose_level=152.84), Row(avg_glucose_level=84.19), Row(avg_glucose_level=59.67), Row(avg_glucose_level=223.16), Row(avg_glucose_level=226.98), Row(avg_glucose_level=250.89), Row(avg_glucose_level=198.21), Row(avg_glucose_level=89.84), Row(avg_glucose_level=114.79), Row(avg_glucose_level=69.7), Row(avg_glucose_level=80.25), Row(avg_glucose_level=80.97), Row(avg_glucose_level=77.37), Row(avg_glucose_level=91.95), Row(avg_glucose_level=219.38), Row(avg_glucose_level=69.79), Row(avg_glucose_level=234.06), Row(avg_glucose_level=67.26), Row(avg_glucose_level=196.26), Row(avg_glucose_level=86.3), Row(avg_glucose_level=66.07), Row(avg_glucose_level=100.09), Row(avg_glucose_level=93.11), Row(avg_glucose_level=96.3), Row(avg_glucose_level=59.85), Row(avg_glucose_level=80.55), Row(avg_glucose_level=238.78), Row(avg_glucose_level=69.68), Row(avg_glucose_level=196.08), Row(avg_glucose_level=179.67), Row(avg_glucose_level=106.69), Row(avg_glucose_level=102.15), Row(avg_glucose_level=137.74), Row(avg_glucose_level=110.99), Row(avg_glucose_level=79.13), Row(avg_glucose_level=94.64), Row(avg_glucose_level=102.05), Row(avg_glucose_level=79.85), Row(avg_glucose_level=100.39), Row(avg_glucose_level=88.41), Row(avg_glucose_level=81.66), Row(avg_glucose_level=58.88), Row(avg_glucose_level=199.18), Row(avg_glucose_level=94.98), Row(avg_glucose_level=191.33), Row(avg_glucose_level=64.15), Row(avg_glucose_level=67.03), Row(avg_glucose_level=102.51), Row(avg_glucose_level=203.16), Row(avg_glucose_level=92.34), Row(avg_glucose_level=202.55), Row(avg_glucose_level=260.85), Row(avg_glucose_level=220.64), Row(avg_glucose_level=223.14), Row(avg_glucose_level=72.64), Row(avg_glucose_level=75.16), Row(avg_glucose_level=200.98), Row(avg_glucose_level=89.29), Row(avg_glucose_level=208.65), Row(avg_glucose_level=114.84), Row(avg_glucose_level=59.26), Row(avg_glucose_level=103.55), Row(avg_glucose_level=77.44), Row(avg_glucose_level=86.73), Row(avg_glucose_level=65.52), Row(avg_glucose_level=65.87), Row(avg_glucose_level=71.37), Row(avg_glucose_level=79.25), Row(avg_glucose_level=111.1), Row(avg_glucose_level=82.53), Row(avg_glucose_level=70.66), Row(avg_glucose_level=87.91), Row(avg_glucose_level=212.92), Row(avg_glucose_level=60.02), Row(avg_glucose_level=118.51), Row(avg_glucose_level=91.69), Row(avg_glucose_level=131.85), Row(avg_glucose_level=106.98), Row(avg_glucose_level=65.88), Row(avg_glucose_level=100.33), Row(avg_glucose_level=77.91), Row(avg_glucose_level=206.33), Row(avg_glucose_level=83.02), Row(avg_glucose_level=99.3), Row(avg_glucose_level=62.08), Row(avg_glucose_level=85.13), Row(avg_glucose_level=57.28), Row(avg_glucose_level=125.74), Row(avg_glucose_level=90.87), Row(avg_glucose_level=97.37), Row(avg_glucose_level=68.62), Row(avg_glucose_level=99.64), Row(avg_glucose_level=230.74), Row(avg_glucose_level=82.42), Row(avg_glucose_level=106.53), Row(avg_glucose_level=76.13), Row(avg_glucose_level=75.18), Row(avg_glucose_level=80.88), Row(avg_glucose_level=105.61), Row(avg_glucose_level=139.77), Row(avg_glucose_level=77.12), Row(avg_glucose_level=65.08), Row(avg_glucose_level=112.08), Row(avg_glucose_level=115.92), Row(avg_glucose_level=96.58), Row(avg_glucose_level=82.91), Row(avg_glucose_level=87.74), Row(avg_glucose_level=58.87), Row(avg_glucose_level=122.04), Row(avg_glucose_level=216.9), Row(avg_glucose_level=79.05), Row(avg_glucose_level=95.5), Row(avg_glucose_level=115.23), Row(avg_glucose_level=73.06), Row(avg_glucose_level=71.06), Row(avg_glucose_level=102.35), Row(avg_glucose_level=55.62), Row(avg_glucose_level=139.48), Row(avg_glucose_level=81.42), Row(avg_glucose_level=213.43), Row(avg_glucose_level=88.44), Row(avg_glucose_level=62.63), Row(avg_glucose_level=73.18), Row(avg_glucose_level=116.69), Row(avg_glucose_level=73.2), Row(avg_glucose_level=228.08), Row(avg_glucose_level=104.33), Row(avg_glucose_level=100.8), Row(avg_glucose_level=92.49), Row(avg_glucose_level=149.62), Row(avg_glucose_level=56.9), Row(avg_glucose_level=131.3), Row(avg_glucose_level=71.92), Row(avg_glucose_level=116.6), Row(avg_glucose_level=112.94), Row(avg_glucose_level=165.47), Row(avg_glucose_level=84.6), Row(avg_glucose_level=77.53), Row(avg_glucose_level=204.92), Row(avg_glucose_level=118.88), Row(avg_glucose_level=103.73), Row(avg_glucose_level=62.02), Row(avg_glucose_level=64.27), Row(avg_glucose_level=60.37), Row(avg_glucose_level=77.95), Row(avg_glucose_level=132.46), Row(avg_glucose_level=62.93), Row(avg_glucose_level=98.61), Row(avg_glucose_level=59.86), Row(avg_glucose_level=80.05), Row(avg_glucose_level=100.54), Row(avg_glucose_level=70.35), Row(avg_glucose_level=90.55), Row(avg_glucose_level=115.98), Row(avg_glucose_level=104.36), Row(avg_glucose_level=102.28), Row(avg_glucose_level=88.69), Row(avg_glucose_level=249.29), Row(avg_glucose_level=79.64), Row(avg_glucose_level=93.52), Row(avg_glucose_level=85.77), Row(avg_glucose_level=121.17), Row(avg_glucose_level=77.06), Row(avg_glucose_level=55.59), Row(avg_glucose_level=93.93), Row(avg_glucose_level=64.68), Row(avg_glucose_level=123.08), Row(avg_glucose_level=228.7), Row(avg_glucose_level=144.9), Row(avg_glucose_level=89.96), Row(avg_glucose_level=109.47), Row(avg_glucose_level=97.4), Row(avg_glucose_level=109.16), Row(avg_glucose_level=116.38), Row(avg_glucose_level=107.42), Row(avg_glucose_level=251.46), Row(avg_glucose_level=85.35), Row(avg_glucose_level=63.33), Row(avg_glucose_level=191.48), Row(avg_glucose_level=142.31), Row(avg_glucose_level=85.0), Row(avg_glucose_level=74.32), Row(avg_glucose_level=71.3), Row(avg_glucose_level=97.97), Row(avg_glucose_level=119.61), Row(avg_glucose_level=96.7), Row(avg_glucose_level=74.54), Row(avg_glucose_level=203.76), Row(avg_glucose_level=110.52), Row(avg_glucose_level=81.95), Row(avg_glucose_level=55.78), Row(avg_glucose_level=94.63), Row(avg_glucose_level=237.15), Row(avg_glucose_level=67.96), Row(avg_glucose_level=78.38), Row(avg_glucose_level=168.15), Row(avg_glucose_level=73.83), Row(avg_glucose_level=83.26), Row(avg_glucose_level=87.86), Row(avg_glucose_level=68.7), Row(avg_glucose_level=178.89), Row(avg_glucose_level=100.66), Row(avg_glucose_level=96.01), Row(avg_glucose_level=98.14), Row(avg_glucose_level=227.68), Row(avg_glucose_level=68.27), Row(avg_glucose_level=189.88), Row(avg_glucose_level=83.68), Row(avg_glucose_level=56.13), Row(avg_glucose_level=151.26), Row(avg_glucose_level=64.85), Row(avg_glucose_level=98.54), Row(avg_glucose_level=65.32), Row(avg_glucose_level=105.76), Row(avg_glucose_level=102.54), Row(avg_glucose_level=187.87), Row(avg_glucose_level=95.07), Row(avg_glucose_level=91.18), Row(avg_glucose_level=74.43), Row(avg_glucose_level=126.68), Row(avg_glucose_level=231.71), Row(avg_glucose_level=63.86), Row(avg_glucose_level=91.81), Row(avg_glucose_level=58.24), Row(avg_glucose_level=207.84), Row(avg_glucose_level=104.09), Row(avg_glucose_level=96.16), Row(avg_glucose_level=80.13), Row(avg_glucose_level=82.24), Row(avg_glucose_level=96.57), Row(avg_glucose_level=209.58), Row(avg_glucose_level=109.73), Row(avg_glucose_level=82.06), Row(avg_glucose_level=118.87), Row(avg_glucose_level=229.2), Row(avg_glucose_level=76.3), Row(avg_glucose_level=119.96), Row(avg_glucose_level=98.76), Row(avg_glucose_level=75.25), Row(avg_glucose_level=205.01), Row(avg_glucose_level=190.89), Row(avg_glucose_level=153.34), Row(avg_glucose_level=225.47), Row(avg_glucose_level=210.48), Row(avg_glucose_level=89.21), Row(avg_glucose_level=76.79), Row(avg_glucose_level=237.21), Row(avg_glucose_level=201.01), Row(avg_glucose_level=71.63), Row(avg_glucose_level=122.46), Row(avg_glucose_level=86.68), Row(avg_glucose_level=202.05), Row(avg_glucose_level=92.67), Row(avg_glucose_level=85.87), Row(avg_glucose_level=72.19), Row(avg_glucose_level=105.93), Row(avg_glucose_level=123.81), Row(avg_glucose_level=72.94), Row(avg_glucose_level=88.88), Row(avg_glucose_level=77.5), Row(avg_glucose_level=66.06), Row(avg_glucose_level=124.31), Row(avg_glucose_level=107.43), Row(avg_glucose_level=129.98), Row(avg_glucose_level=111.98), Row(avg_glucose_level=116.1), Row(avg_glucose_level=63.71), Row(avg_glucose_level=77.54), Row(avg_glucose_level=69.21), Row(avg_glucose_level=81.64), Row(avg_glucose_level=230.68), Row(avg_glucose_level=106.02), Row(avg_glucose_level=217.71), Row(avg_glucose_level=127.75), Row(avg_glucose_level=66.17), Row(avg_glucose_level=131.4), Row(avg_glucose_level=113.87), Row(avg_glucose_level=65.5), Row(avg_glucose_level=157.67), Row(avg_glucose_level=106.52), Row(avg_glucose_level=72.03), Row(avg_glucose_level=210.4), Row(avg_glucose_level=200.49), Row(avg_glucose_level=85.83), Row(avg_glucose_level=103.86), Row(avg_glucose_level=63.64), Row(avg_glucose_level=123.0), Row(avg_glucose_level=107.18), Row(avg_glucose_level=215.9), Row(avg_glucose_level=86.57), Row(avg_glucose_level=144.08), Row(avg_glucose_level=66.08), Row(avg_glucose_level=98.27), Row(avg_glucose_level=107.21), Row(avg_glucose_level=124.49), Row(avg_glucose_level=78.0), Row(avg_glucose_level=199.38), Row(avg_glucose_level=76.1), Row(avg_glucose_level=57.06), Row(avg_glucose_level=90.57), Row(avg_glucose_level=213.03), Row(avg_glucose_level=83.24), Row(avg_glucose_level=190.7), Row(avg_glucose_level=138.29), Row(avg_glucose_level=68.19), Row(avg_glucose_level=85.16), Row(avg_glucose_level=118.81), Row(avg_glucose_level=86.09), Row(avg_glucose_level=108.1), Row(avg_glucose_level=135.64), Row(avg_glucose_level=120.58), Row(avg_glucose_level=110.07), Row(avg_glucose_level=71.59), Row(avg_glucose_level=58.35), Row(avg_glucose_level=90.91), Row(avg_glucose_level=98.65), Row(avg_glucose_level=113.65), Row(avg_glucose_level=71.02), Row(avg_glucose_level=73.19), Row(avg_glucose_level=131.19), Row(avg_glucose_level=234.35), Row(avg_glucose_level=91.04), Row(avg_glucose_level=147.74), Row(avg_glucose_level=89.42), Row(avg_glucose_level=121.15), Row(avg_glucose_level=84.94), Row(avg_glucose_level=111.37), Row(avg_glucose_level=72.67), Row(avg_glucose_level=200.59), Row(avg_glucose_level=239.64), Row(avg_glucose_level=89.86), Row(avg_glucose_level=69.61), Row(avg_glucose_level=232.89), Row(avg_glucose_level=86.34), Row(avg_glucose_level=88.6), Row(avg_glucose_level=111.65), Row(avg_glucose_level=79.18), Row(avg_glucose_level=66.29), Row(avg_glucose_level=131.43), Row(avg_glucose_level=88.47), Row(avg_glucose_level=102.88), Row(avg_glucose_level=75.73), Row(avg_glucose_level=108.96), Row(avg_glucose_level=112.7), Row(avg_glucose_level=79.0), Row(avg_glucose_level=70.09), Row(avg_glucose_level=239.07), Row(avg_glucose_level=205.33), Row(avg_glucose_level=56.23), Row(avg_glucose_level=112.98), Row(avg_glucose_level=83.34), Row(avg_glucose_level=61.67), Row(avg_glucose_level=217.4), Row(avg_glucose_level=221.8), Row(avg_glucose_level=119.32), Row(avg_glucose_level=105.26), Row(avg_glucose_level=89.31), Row(avg_glucose_level=74.39), Row(avg_glucose_level=110.84), Row(avg_glucose_level=58.09), Row(avg_glucose_level=123.1), Row(avg_glucose_level=74.98), Row(avg_glucose_level=65.12), Row(avg_glucose_level=250.2), Row(avg_glucose_level=74.82), Row(avg_glucose_level=65.09), Row(avg_glucose_level=106.13), Row(avg_glucose_level=74.55), Row(avg_glucose_level=75.77), Row(avg_glucose_level=247.48), Row(avg_glucose_level=75.64), Row(avg_glucose_level=69.22), Row(avg_glucose_level=97.61), Row(avg_glucose_level=91.05), Row(avg_glucose_level=209.15), Row(avg_glucose_level=131.42), Row(avg_glucose_level=63.42), Row(avg_glucose_level=88.1), Row(avg_glucose_level=74.96), Row(avg_glucose_level=61.81), Row(avg_glucose_level=108.03), Row(avg_glucose_level=133.63), Row(avg_glucose_level=81.54), Row(avg_glucose_level=140.39), Row(avg_glucose_level=74.26), Row(avg_glucose_level=80.74), Row(avg_glucose_level=196.91), Row(avg_glucose_level=85.68), Row(avg_glucose_level=61.34), Row(avg_glucose_level=92.22), Row(avg_glucose_level=94.24), Row(avg_glucose_level=240.86), Row(avg_glucose_level=66.24), Row(avg_glucose_level=74.83), Row(avg_glucose_level=106.84), Row(avg_glucose_level=76.09), Row(avg_glucose_level=71.77), Row(avg_glucose_level=75.47), Row(avg_glucose_level=215.69), Row(avg_glucose_level=107.41), Row(avg_glucose_level=98.01), Row(avg_glucose_level=90.4), Row(avg_glucose_level=210.94), Row(avg_glucose_level=208.06), Row(avg_glucose_level=63.6), Row(avg_glucose_level=142.82), Row(avg_glucose_level=112.72), Row(avg_glucose_level=87.41), Row(avg_glucose_level=86.21), Row(avg_glucose_level=79.84), Row(avg_glucose_level=106.27), Row(avg_glucose_level=200.46), Row(avg_glucose_level=81.24), Row(avg_glucose_level=70.91), Row(avg_glucose_level=55.93), Row(avg_glucose_level=94.06), Row(avg_glucose_level=136.18), Row(avg_glucose_level=100.65), Row(avg_glucose_level=97.76), Row(avg_glucose_level=75.05), Row(avg_glucose_level=56.18), Row(avg_glucose_level=131.89), Row(avg_glucose_level=244.28), Row(avg_glucose_level=96.85), Row(avg_glucose_level=70.15), Row(avg_glucose_level=95.88), Row(avg_glucose_level=207.45), Row(avg_glucose_level=55.51), Row(avg_glucose_level=80.57), Row(avg_glucose_level=102.53), Row(avg_glucose_level=88.48), Row(avg_glucose_level=73.49), Row(avg_glucose_level=148.52), Row(avg_glucose_level=159.39), Row(avg_glucose_level=64.07), Row(avg_glucose_level=95.23), Row(avg_glucose_level=101.58), Row(avg_glucose_level=234.51), Row(avg_glucose_level=203.01), Row(avg_glucose_level=88.92), Row(avg_glucose_level=234.58), Row(avg_glucose_level=75.56), Row(avg_glucose_level=95.43), Row(avg_glucose_level=115.54), Row(avg_glucose_level=80.73), Row(avg_glucose_level=103.35), Row(avg_glucose_level=108.12), Row(avg_glucose_level=202.57), Row(avg_glucose_level=73.89), Row(avg_glucose_level=72.01), Row(avg_glucose_level=198.12), Row(avg_glucose_level=63.01), Row(avg_glucose_level=99.72), Row(avg_glucose_level=71.18), Row(avg_glucose_level=123.98), Row(avg_glucose_level=63.43), Row(avg_glucose_level=182.52), Row(avg_glucose_level=194.99), Row(avg_glucose_level=113.47), Row(avg_glucose_level=182.86), Row(avg_glucose_level=111.85), Row(avg_glucose_level=157.57), Row(avg_glucose_level=79.33), Row(avg_glucose_level=214.77), Row(avg_glucose_level=145.71), Row(avg_glucose_level=97.52), Row(avg_glucose_level=125.09), Row(avg_glucose_level=74.52), Row(avg_glucose_level=87.84), Row(avg_glucose_level=73.7), Row(avg_glucose_level=109.27), Row(avg_glucose_level=219.17), Row(avg_glucose_level=76.45), Row(avg_glucose_level=75.15), Row(avg_glucose_level=125.11), Row(avg_glucose_level=165.36), Row(avg_glucose_level=101.6), Row(avg_glucose_level=69.06), Row(avg_glucose_level=138.51), Row(avg_glucose_level=233.29), Row(avg_glucose_level=224.1), Row(avg_glucose_level=211.06), Row(avg_glucose_level=97.49), Row(avg_glucose_level=62.2), Row(avg_glucose_level=77.88), Row(avg_glucose_level=205.26), Row(avg_glucose_level=122.22), Row(avg_glucose_level=188.11), Row(avg_glucose_level=204.57), Row(avg_glucose_level=69.34), Row(avg_glucose_level=197.79), Row(avg_glucose_level=71.7), Row(avg_glucose_level=213.87), Row(avg_glucose_level=118.55), Row(avg_glucose_level=93.0), Row(avg_glucose_level=91.46), Row(avg_glucose_level=227.04), Row(avg_glucose_level=243.73), Row(avg_glucose_level=116.78), Row(avg_glucose_level=147.5), Row(avg_glucose_level=57.46), Row(avg_glucose_level=102.92), Row(avg_glucose_level=72.99), Row(avg_glucose_level=84.41), Row(avg_glucose_level=75.7), Row(avg_glucose_level=61.45), Row(avg_glucose_level=229.92), Row(avg_glucose_level=79.92), Row(avg_glucose_level=109.03), Row(avg_glucose_level=62.41), Row(avg_glucose_level=84.3), Row(avg_glucose_level=129.01), Row(avg_glucose_level=74.86), Row(avg_glucose_level=97.39), Row(avg_glucose_level=87.92), Row(avg_glucose_level=85.38), Row(avg_glucose_level=216.38), Row(avg_glucose_level=111.47), Row(avg_glucose_level=110.36), Row(avg_glucose_level=220.24), Row(avg_glucose_level=96.43), Row(avg_glucose_level=93.18), Row(avg_glucose_level=81.73), Row(avg_glucose_level=71.32), Row(avg_glucose_level=111.76), Row(avg_glucose_level=234.5), Row(avg_glucose_level=60.94), Row(avg_glucose_level=136.8), Row(avg_glucose_level=114.94), Row(avg_glucose_level=122.74), Row(avg_glucose_level=95.2), Row(avg_glucose_level=162.3), Row(avg_glucose_level=93.24), Row(avg_glucose_level=70.13), Row(avg_glucose_level=102.96), Row(avg_glucose_level=96.04), Row(avg_glucose_level=60.4), Row(avg_glucose_level=113.28), Row(avg_glucose_level=60.32), Row(avg_glucose_level=72.42), Row(avg_glucose_level=267.61), Row(avg_glucose_level=73.92), Row(avg_glucose_level=76.44), Row(avg_glucose_level=66.46), Row(avg_glucose_level=95.28), Row(avg_glucose_level=97.34), Row(avg_glucose_level=124.39), Row(avg_glucose_level=104.16), Row(avg_glucose_level=119.4), Row(avg_glucose_level=144.14), Row(avg_glucose_level=83.62), Row(avg_glucose_level=77.49), Row(avg_glucose_level=67.97), Row(avg_glucose_level=207.32), Row(avg_glucose_level=110.55), Row(avg_glucose_level=75.08), Row(avg_glucose_level=56.3), Row(avg_glucose_level=195.04), Row(avg_glucose_level=114.88), Row(avg_glucose_level=87.21), Row(avg_glucose_level=106.03), Row(avg_glucose_level=57.17), Row(avg_glucose_level=102.1), Row(avg_glucose_level=115.4), Row(avg_glucose_level=116.21), Row(avg_glucose_level=68.18), Row(avg_glucose_level=103.65), Row(avg_glucose_level=112.75), Row(avg_glucose_level=120.44), Row(avg_glucose_level=191.61), Row(avg_glucose_level=195.71), Row(avg_glucose_level=88.2), Row(avg_glucose_level=60.22), Row(avg_glucose_level=88.27), Row(avg_glucose_level=70.78), Row(avg_glucose_level=106.97), Row(avg_glucose_level=103.61), Row(avg_glucose_level=88.57), Row(avg_glucose_level=89.53), Row(avg_glucose_level=126.99), Row(avg_glucose_level=61.01), Row(avg_glucose_level=85.51), Row(avg_glucose_level=121.6), Row(avg_glucose_level=103.06), Row(avg_glucose_level=89.57), Row(avg_glucose_level=92.02), Row(avg_glucose_level=219.92), Row(avg_glucose_level=73.39), Row(avg_glucose_level=76.05), Row(avg_glucose_level=72.53), Row(avg_glucose_level=123.94), Row(avg_glucose_level=82.19), Row(avg_glucose_level=189.84), Row(avg_glucose_level=114.77), Row(avg_glucose_level=70.16), Row(avg_glucose_level=93.99), Row(avg_glucose_level=75.87), Row(avg_glucose_level=99.21), Row(avg_glucose_level=89.68), Row(avg_glucose_level=111.22), Row(avg_glucose_level=97.12), Row(avg_glucose_level=103.09), Row(avg_glucose_level=65.67), Row(avg_glucose_level=115.79), Row(avg_glucose_level=57.3), Row(avg_glucose_level=196.61), Row(avg_glucose_level=92.44), Row(avg_glucose_level=97.95), Row(avg_glucose_level=87.79), Row(avg_glucose_level=195.43), Row(avg_glucose_level=116.68), Row(avg_glucose_level=58.63), Row(avg_glucose_level=108.53), Row(avg_glucose_level=212.01), Row(avg_glucose_level=106.68), Row(avg_glucose_level=64.99), Row(avg_glucose_level=76.66), Row(avg_glucose_level=123.65), Row(avg_glucose_level=75.43), Row(avg_glucose_level=111.92), Row(avg_glucose_level=100.41), Row(avg_glucose_level=89.37), Row(avg_glucose_level=76.92), Row(avg_glucose_level=154.6), Row(avg_glucose_level=96.37), Row(avg_glucose_level=97.35), Row(avg_glucose_level=103.45), Row(avg_glucose_level=77.68), Row(avg_glucose_level=104.77), Row(avg_glucose_level=122.73), Row(avg_glucose_level=142.63), Row(avg_glucose_level=89.41), Row(avg_glucose_level=144.33), Row(avg_glucose_level=104.51), Row(avg_glucose_level=69.58), Row(avg_glucose_level=94.22), Row(avg_glucose_level=71.42), Row(avg_glucose_level=96.62), Row(avg_glucose_level=219.96), Row(avg_glucose_level=61.83), Row(avg_glucose_level=63.32), Row(avg_glucose_level=232.81), Row(avg_glucose_level=115.86), Row(avg_glucose_level=196.81), Row(avg_glucose_level=68.13), Row(avg_glucose_level=55.64), Row(avg_glucose_level=102.46), Row(avg_glucose_level=56.74), Row(avg_glucose_level=74.15), Row(avg_glucose_level=103.0), Row(avg_glucose_level=199.78), Row(avg_glucose_level=68.72), Row(avg_glucose_level=115.91), Row(avg_glucose_level=110.23), Row(avg_glucose_level=60.91), Row(avg_glucose_level=97.93), Row(avg_glucose_level=58.26), Row(avg_glucose_level=60.53), Row(avg_glucose_level=84.84), Row(avg_glucose_level=140.52), Row(avg_glucose_level=191.79), Row(avg_glucose_level=231.76), Row(avg_glucose_level=123.95), Row(avg_glucose_level=101.92), Row(avg_glucose_level=67.75), Row(avg_glucose_level=101.15), Row(avg_glucose_level=82.27), Row(avg_glucose_level=103.15), Row(avg_glucose_level=141.8), Row(avg_glucose_level=98.22), Row(avg_glucose_level=65.79), Row(avg_glucose_level=83.95), Row(avg_glucose_level=78.91), Row(avg_glucose_level=97.04), Row(avg_glucose_level=84.03), Row(avg_glucose_level=74.02), Row(avg_glucose_level=57.08), Row(avg_glucose_level=92.21), Row(avg_glucose_level=104.48), Row(avg_glucose_level=79.44), Row(avg_glucose_level=91.34), Row(avg_glucose_level=98.58), Row(avg_glucose_level=85.29), Row(avg_glucose_level=73.66), Row(avg_glucose_level=151.56), Row(avg_glucose_level=59.61), Row(avg_glucose_level=72.13), Row(avg_glucose_level=113.86), Row(avg_glucose_level=115.47), Row(avg_glucose_level=101.83), Row(avg_glucose_level=250.8), Row(avg_glucose_level=101.07), Row(avg_glucose_level=80.96), Row(avg_glucose_level=105.49), Row(avg_glucose_level=120.22), Row(avg_glucose_level=91.3), Row(avg_glucose_level=83.2), Row(avg_glucose_level=261.67), Row(avg_glucose_level=121.83), Row(avg_glucose_level=89.43), Row(avg_glucose_level=202.21), Row(avg_glucose_level=97.43), Row(avg_glucose_level=112.16), Row(avg_glucose_level=239.82), Row(avg_glucose_level=91.98), Row(avg_glucose_level=92.65), Row(avg_glucose_level=78.35), Row(avg_glucose_level=60.41), Row(avg_glucose_level=149.68), Row(avg_glucose_level=232.12), Row(avg_glucose_level=120.05), Row(avg_glucose_level=81.32), Row(avg_glucose_level=96.88), Row(avg_glucose_level=55.27), Row(avg_glucose_level=204.17), Row(avg_glucose_level=210.96), Row(avg_glucose_level=158.89), Row(avg_glucose_level=131.23), Row(avg_glucose_level=87.1), Row(avg_glucose_level=121.39), Row(avg_glucose_level=72.0), Row(avg_glucose_level=94.53), Row(avg_glucose_level=130.0), Row(avg_glucose_level=96.47), Row(avg_glucose_level=216.19), Row(avg_glucose_level=70.43), Row(avg_glucose_level=76.35), Row(avg_glucose_level=108.06), Row(avg_glucose_level=74.12), Row(avg_glucose_level=102.87), Row(avg_glucose_level=76.57), Row(avg_glucose_level=85.37), Row(avg_glucose_level=92.14), Row(avg_glucose_level=63.18), Row(avg_glucose_level=178.76), Row(avg_glucose_level=108.87), Row(avg_glucose_level=104.42), Row(avg_glucose_level=118.66), Row(avg_glucose_level=112.12), Row(avg_glucose_level=110.78), Row(avg_glucose_level=87.06), Row(avg_glucose_level=78.02), Row(avg_glucose_level=83.93), Row(avg_glucose_level=68.91), Row(avg_glucose_level=110.17), Row(avg_glucose_level=89.16), Row(avg_glucose_level=56.64), Row(avg_glucose_level=106.65), Row(avg_glucose_level=185.27), Row(avg_glucose_level=77.28), Row(avg_glucose_level=63.69), Row(avg_glucose_level=87.24), Row(avg_glucose_level=191.47), Row(avg_glucose_level=57.27), Row(avg_glucose_level=75.74), Row(avg_glucose_level=117.69), Row(avg_glucose_level=76.72), Row(avg_glucose_level=254.63), Row(avg_glucose_level=238.53), Row(avg_glucose_level=109.0), Row(avg_glucose_level=80.08), Row(avg_glucose_level=101.35), Row(avg_glucose_level=117.75), Row(avg_glucose_level=219.39), Row(avg_glucose_level=77.3), Row(avg_glucose_level=78.24), Row(avg_glucose_level=110.41), Row(avg_glucose_level=102.84), Row(avg_glucose_level=247.97), Row(avg_glucose_level=138.44), Row(avg_glucose_level=70.48), Row(avg_glucose_level=106.24), Row(avg_glucose_level=62.57), Row(avg_glucose_level=206.72), Row(avg_glucose_level=79.81), Row(avg_glucose_level=138.06), Row(avg_glucose_level=91.35), Row(avg_glucose_level=92.81), Row(avg_glucose_level=107.11), Row(avg_glucose_level=227.16), Row(avg_glucose_level=234.82), Row(avg_glucose_level=78.79), Row(avg_glucose_level=145.5), Row(avg_glucose_level=59.52), Row(avg_glucose_level=239.95), Row(avg_glucose_level=215.81), Row(avg_glucose_level=64.02), Row(avg_glucose_level=105.9), Row(avg_glucose_level=100.22), Row(avg_glucose_level=65.44), Row(avg_glucose_level=68.09), Row(avg_glucose_level=64.29), Row(avg_glucose_level=91.16), Row(avg_glucose_level=102.03), Row(avg_glucose_level=125.33), Row(avg_glucose_level=65.63), Row(avg_glucose_level=67.66), Row(avg_glucose_level=240.59), Row(avg_glucose_level=242.3), Row(avg_glucose_level=189.57), Row(avg_glucose_level=81.18), Row(avg_glucose_level=110.73), Row(avg_glucose_level=63.37), Row(avg_glucose_level=216.88), Row(avg_glucose_level=101.26), Row(avg_glucose_level=83.53), Row(avg_glucose_level=89.28), Row(avg_glucose_level=84.12), Row(avg_glucose_level=217.55), Row(avg_glucose_level=82.02), Row(avg_glucose_level=177.91), Row(avg_glucose_level=236.04), Row(avg_glucose_level=57.4), Row(avg_glucose_level=100.47), Row(avg_glucose_level=66.22), Row(avg_glucose_level=116.95), Row(avg_glucose_level=106.22), Row(avg_glucose_level=80.98), Row(avg_glucose_level=122.1), Row(avg_glucose_level=90.46), Row(avg_glucose_level=112.19), Row(avg_glucose_level=107.59), Row(avg_glucose_level=109.23), Row(avg_glucose_level=87.54), Row(avg_glucose_level=231.31), Row(avg_glucose_level=151.23), Row(avg_glucose_level=62.21), Row(avg_glucose_level=116.06), Row(avg_glucose_level=134.76), Row(avg_glucose_level=63.74), Row(avg_glucose_level=79.6), Row(avg_glucose_level=99.36), Row(avg_glucose_level=135.63), Row(avg_glucose_level=140.14), Row(avg_glucose_level=96.75), Row(avg_glucose_level=71.22), Row(avg_glucose_level=122.41), Row(avg_glucose_level=65.15), Row(avg_glucose_level=116.76), Row(avg_glucose_level=81.99), Row(avg_glucose_level=227.81), Row(avg_glucose_level=136.81), Row(avg_glucose_level=107.49), Row(avg_glucose_level=69.2), Row(avg_glucose_level=67.38), Row(avg_glucose_level=62.52), Row(avg_glucose_level=59.93), Row(avg_glucose_level=63.72), Row(avg_glucose_level=108.72), Row(avg_glucose_level=215.92), Row(avg_glucose_level=87.87), Row(avg_glucose_level=65.46), Row(avg_glucose_level=108.61), Row(avg_glucose_level=97.05), Row(avg_glucose_level=74.66), Row(avg_glucose_level=112.55), Row(avg_glucose_level=115.46), Row(avg_glucose_level=203.87), Row(avg_glucose_level=210.78), Row(avg_glucose_level=91.97), Row(avg_glucose_level=65.38), Row(avg_glucose_level=58.37), Row(avg_glucose_level=82.41), Row(avg_glucose_level=84.21), Row(avg_glucose_level=58.3), Row(avg_glucose_level=68.44), Row(avg_glucose_level=83.16), Row(avg_glucose_level=61.11), Row(avg_glucose_level=97.25), Row(avg_glucose_level=198.32), Row(avg_glucose_level=202.51), Row(avg_glucose_level=70.94), Row(avg_glucose_level=233.94), Row(avg_glucose_level=56.96), Row(avg_glucose_level=99.92), Row(avg_glucose_level=82.0), Row(avg_glucose_level=95.93), Row(avg_glucose_level=84.79), Row(avg_glucose_level=65.61), Row(avg_glucose_level=160.83), Row(avg_glucose_level=99.44), Row(avg_glucose_level=74.01), Row(avg_glucose_level=114.18), Row(avg_glucose_level=103.17), Row(avg_glucose_level=214.43), Row(avg_glucose_level=92.35), Row(avg_glucose_level=92.96), Row(avg_glucose_level=74.9), Row(avg_glucose_level=93.72), Row(avg_glucose_level=105.22), Row(avg_glucose_level=131.41), Row(avg_glucose_level=80.81), Row(avg_glucose_level=79.87), Row(avg_glucose_level=194.04), Row(avg_glucose_level=79.26), Row(avg_glucose_level=118.62), Row(avg_glucose_level=78.34), Row(avg_glucose_level=73.41), Row(avg_glucose_level=97.9), Row(avg_glucose_level=114.37), Row(avg_glucose_level=85.81), Row(avg_glucose_level=207.95), Row(avg_glucose_level=83.06), Row(avg_glucose_level=101.32), Row(avg_glucose_level=95.47), Row(avg_glucose_level=82.68), Row(avg_glucose_level=81.77), Row(avg_glucose_level=74.0), Row(avg_glucose_level=133.62), Row(avg_glucose_level=76.12), Row(avg_glucose_level=102.39), Row(avg_glucose_level=65.7), Row(avg_glucose_level=68.17), Row(avg_glucose_level=112.33), Row(avg_glucose_level=61.57), Row(avg_glucose_level=84.2), Row(avg_glucose_level=74.1), Row(avg_glucose_level=82.28), Row(avg_glucose_level=162.96), Row(avg_glucose_level=115.22), Row(avg_glucose_level=74.81), Row(avg_glucose_level=75.3), Row(avg_glucose_level=156.57), Row(avg_glucose_level=74.04), Row(avg_glucose_level=101.34), Row(avg_glucose_level=70.87), Row(avg_glucose_level=61.96), Row(avg_glucose_level=124.48), Row(avg_glucose_level=113.41), Row(avg_glucose_level=87.4), Row(avg_glucose_level=75.07), Row(avg_glucose_level=63.41), Row(avg_glucose_level=124.66), Row(avg_glucose_level=249.31), Row(avg_glucose_level=162.14), Row(avg_glucose_level=64.4), Row(avg_glucose_level=86.39), Row(avg_glucose_level=106.18), Row(avg_glucose_level=68.35), Row(avg_glucose_level=102.47), Row(avg_glucose_level=116.67), Row(avg_glucose_level=82.83), Row(avg_glucose_level=94.89), Row(avg_glucose_level=62.78), Row(avg_glucose_level=110.53), Row(avg_glucose_level=80.24), Row(avg_glucose_level=92.56), Row(avg_glucose_level=187.22), Row(avg_glucose_level=80.75), Row(avg_glucose_level=75.28), Row(avg_glucose_level=59.62), Row(avg_glucose_level=61.47), Row(avg_glucose_level=90.49), Row(avg_glucose_level=66.16), Row(avg_glucose_level=117.98), Row(avg_glucose_level=158.9), Row(avg_glucose_level=118.75), Row(avg_glucose_level=71.4), Row(avg_glucose_level=208.99), Row(avg_glucose_level=57.38), Row(avg_glucose_level=73.94), Row(avg_glucose_level=94.14), Row(avg_glucose_level=90.96), Row(avg_glucose_level=107.02), Row(avg_glucose_level=81.9), Row(avg_glucose_level=66.72), Row(avg_glucose_level=143.43), Row(avg_glucose_level=190.32), Row(avg_glucose_level=204.5), Row(avg_glucose_level=103.44), Row(avg_glucose_level=101.75), Row(avg_glucose_level=83.07), Row(avg_glucose_level=170.93), Row(avg_glucose_level=95.25), Row(avg_glucose_level=65.33), Row(avg_glucose_level=72.75), Row(avg_glucose_level=56.08), Row(avg_glucose_level=104.05), Row(avg_glucose_level=93.96), Row(avg_glucose_level=92.64), Row(avg_glucose_level=111.36), Row(avg_glucose_level=253.86), Row(avg_glucose_level=104.12), Row(avg_glucose_level=79.79), Row(avg_glucose_level=74.8), Row(avg_glucose_level=94.04), Row(avg_glucose_level=58.38), Row(avg_glucose_level=115.52), Row(avg_glucose_level=80.92), Row(avg_glucose_level=88.24), Row(avg_glucose_level=75.27), Row(avg_glucose_level=128.72), Row(avg_glucose_level=107.22), Row(avg_glucose_level=112.3), Row(avg_glucose_level=222.66), Row(avg_glucose_level=103.92), Row(avg_glucose_level=107.78), Row(avg_glucose_level=105.75), Row(avg_glucose_level=105.88), Row(avg_glucose_level=80.35), Row(avg_glucose_level=110.2), Row(avg_glucose_level=231.54), Row(avg_glucose_level=89.33), Row(avg_glucose_level=117.31), Row(avg_glucose_level=89.22), Row(avg_glucose_level=113.85), Row(avg_glucose_level=83.76), Row(avg_glucose_level=85.82), Row(avg_glucose_level=71.31), Row(avg_glucose_level=197.09), Row(avg_glucose_level=78.26), Row(avg_glucose_level=82.08), Row(avg_glucose_level=65.95), Row(avg_glucose_level=75.4), Row(avg_glucose_level=75.5), Row(avg_glucose_level=96.15), Row(avg_glucose_level=75.78), Row(avg_glucose_level=204.98), Row(avg_glucose_level=90.21), Row(avg_glucose_level=98.23), Row(avg_glucose_level=73.57), Row(avg_glucose_level=247.87), Row(avg_glucose_level=115.71), Row(avg_glucose_level=76.47), Row(avg_glucose_level=101.66), Row(avg_glucose_level=79.49), Row(avg_glucose_level=212.87), Row(avg_glucose_level=79.17), Row(avg_glucose_level=118.82), Row(avg_glucose_level=158.31), Row(avg_glucose_level=69.52), Row(avg_glucose_level=120.85), Row(avg_glucose_level=94.12), Row(avg_glucose_level=111.13), Row(avg_glucose_level=94.88), Row(avg_glucose_level=187.88), Row(avg_glucose_level=89.95), Row(avg_glucose_level=133.58), Row(avg_glucose_level=82.15), Row(avg_glucose_level=213.38), Row(avg_glucose_level=74.53), Row(avg_glucose_level=115.42), Row(avg_glucose_level=79.95), Row(avg_glucose_level=109.88), Row(avg_glucose_level=106.95), Row(avg_glucose_level=63.49), Row(avg_glucose_level=90.73), Row(avg_glucose_level=67.9), Row(avg_glucose_level=196.92), Row(avg_glucose_level=102.16), Row(avg_glucose_level=123.87), Row(avg_glucose_level=62.47), Row(avg_glucose_level=98.71), Row(avg_glucose_level=74.14), Row(avg_glucose_level=84.7), Row(avg_glucose_level=104.66), Row(avg_glucose_level=83.66), Row(avg_glucose_level=99.94), Row(avg_glucose_level=82.62), Row(avg_glucose_level=66.47), Row(avg_glucose_level=216.07), Row(avg_glucose_level=61.07), Row(avg_glucose_level=68.56), Row(avg_glucose_level=82.34), Row(avg_glucose_level=103.56), Row(avg_glucose_level=86.86), Row(avg_glucose_level=77.23), Row(avg_glucose_level=93.3), Row(avg_glucose_level=65.04), Row(avg_glucose_level=90.95), Row(avg_glucose_level=95.75), Row(avg_glucose_level=93.64), Row(avg_glucose_level=128.23), Row(avg_glucose_level=79.96), Row(avg_glucose_level=104.04), Row(avg_glucose_level=113.57), Row(avg_glucose_level=57.42), Row(avg_glucose_level=67.08), Row(avg_glucose_level=90.44), Row(avg_glucose_level=114.92), Row(avg_glucose_level=110.32), Row(avg_glucose_level=88.68), Row(avg_glucose_level=67.29), Row(avg_glucose_level=100.97), Row(avg_glucose_level=69.17), Row(avg_glucose_level=67.53), Row(avg_glucose_level=77.83), Row(avg_glucose_level=62.99), Row(avg_glucose_level=79.56), Row(avg_glucose_level=130.56), Row(avg_glucose_level=155.14), Row(avg_glucose_level=198.33), Row(avg_glucose_level=110.69), Row(avg_glucose_level=191.78), Row(avg_glucose_level=69.77), Row(avg_glucose_level=107.74), Row(avg_glucose_level=139.2), Row(avg_glucose_level=84.17), Row(avg_glucose_level=81.36), Row(avg_glucose_level=228.69), Row(avg_glucose_level=146.01), Row(avg_glucose_level=116.23), Row(avg_glucose_level=94.34), Row(avg_glucose_level=116.14), Row(avg_glucose_level=109.02), Row(avg_glucose_level=178.33), Row(avg_glucose_level=56.63), Row(avg_glucose_level=84.49), Row(avg_glucose_level=95.46), Row(avg_glucose_level=82.73), Row(avg_glucose_level=80.1), Row(avg_glucose_level=92.71), Row(avg_glucose_level=55.72), Row(avg_glucose_level=111.96), Row(avg_glucose_level=117.63), Row(avg_glucose_level=108.51), Row(avg_glucose_level=66.7), Row(avg_glucose_level=104.72), Row(avg_glucose_level=101.52), Row(avg_glucose_level=130.34), Row(avg_glucose_level=186.32), Row(avg_glucose_level=77.04), Row(avg_glucose_level=93.89), Row(avg_glucose_level=102.77), Row(avg_glucose_level=80.77), Row(avg_glucose_level=77.63), Row(avg_glucose_level=107.17), Row(avg_glucose_level=80.86), Row(avg_glucose_level=99.83), Row(avg_glucose_level=90.68), Row(avg_glucose_level=62.91), Row(avg_glucose_level=82.64), Row(avg_glucose_level=116.85), Row(avg_glucose_level=100.2), Row(avg_glucose_level=72.34), Row(avg_glucose_level=183.43), Row(avg_glucose_level=206.09), Row(avg_glucose_level=141.23), Row(avg_glucose_level=219.53), Row(avg_glucose_level=214.05), Row(avg_glucose_level=107.25), Row(avg_glucose_level=55.32), Row(avg_glucose_level=74.88), Row(avg_glucose_level=165.11), Row(avg_glucose_level=73.27), Row(avg_glucose_level=93.85), Row(avg_glucose_level=68.79), Row(avg_glucose_level=80.22), Row(avg_glucose_level=71.25), Row(avg_glucose_level=201.58), Row(avg_glucose_level=109.81), Row(avg_glucose_level=229.73), Row(avg_glucose_level=58.81), Row(avg_glucose_level=96.99), Row(avg_glucose_level=73.31), Row(avg_glucose_level=92.78), Row(avg_glucose_level=104.07), Row(avg_glucose_level=124.61), Row(avg_glucose_level=99.13), Row(avg_glucose_level=64.1), Row(avg_glucose_level=75.53), Row(avg_glucose_level=92.13), Row(avg_glucose_level=123.47), Row(avg_glucose_level=59.0), Row(avg_glucose_level=81.0), Row(avg_glucose_level=94.45), Row(avg_glucose_level=182.9), Row(avg_glucose_level=81.13), Row(avg_glucose_level=104.79), Row(avg_glucose_level=83.37), Row(avg_glucose_level=217.79), Row(avg_glucose_level=64.84), Row(avg_glucose_level=77.2), Row(avg_glucose_level=103.5), Row(avg_glucose_level=139.87), Row(avg_glucose_level=109.09), Row(avg_glucose_level=83.41), Row(avg_glucose_level=76.26), Row(avg_glucose_level=67.79), Row(avg_glucose_level=90.36), Row(avg_glucose_level=96.25), Row(avg_glucose_level=63.08), Row(avg_glucose_level=214.42), Row(avg_glucose_level=82.86), Row(avg_glucose_level=73.58), Row(avg_glucose_level=70.56), Row(avg_glucose_level=127.28), Row(avg_glucose_level=248.37), Row(avg_glucose_level=129.73), Row(avg_glucose_level=206.66), Row(avg_glucose_level=78.5), Row(avg_glucose_level=235.06), Row(avg_glucose_level=77.96), Row(avg_glucose_level=132.88), Row(avg_glucose_level=197.54), Row(avg_glucose_level=76.11), Row(avg_glucose_level=95.12), Row(avg_glucose_level=108.89), Row(avg_glucose_level=70.03), Row(avg_glucose_level=65.81), Row(avg_glucose_level=65.96), Row(avg_glucose_level=93.51), Row(avg_glucose_level=65.85), Row(avg_glucose_level=140.4), Row(avg_glucose_level=112.92), Row(avg_glucose_level=78.53), Row(avg_glucose_level=134.33), Row(avg_glucose_level=78.14), Row(avg_glucose_level=103.79), Row(avg_glucose_level=91.19), Row(avg_glucose_level=96.1), Row(avg_glucose_level=173.9), Row(avg_glucose_level=120.96), Row(avg_glucose_level=94.39), Row(avg_glucose_level=231.56), Row(avg_glucose_level=55.42), Row(avg_glucose_level=82.18), Row(avg_glucose_level=129.16), Row(avg_glucose_level=84.31), Row(avg_glucose_level=109.68), Row(avg_glucose_level=98.12), Row(avg_glucose_level=85.17), Row(avg_glucose_level=70.23), Row(avg_glucose_level=93.02), Row(avg_glucose_level=68.94), Row(avg_glucose_level=91.44), Row(avg_glucose_level=73.87), Row(avg_glucose_level=99.75), Row(avg_glucose_level=57.77), Row(avg_glucose_level=78.32), Row(avg_glucose_level=104.3), Row(avg_glucose_level=73.76), Row(avg_glucose_level=81.78), Row(avg_glucose_level=167.16), Row(avg_glucose_level=82.94), Row(avg_glucose_level=228.5), Row(avg_glucose_level=68.86), Row(avg_glucose_level=145.15), Row(avg_glucose_level=186.17), Row(avg_glucose_level=111.43), Row(avg_glucose_level=103.51), Row(avg_glucose_level=95.44), Row(avg_glucose_level=67.78), Row(avg_glucose_level=110.92), Row(avg_glucose_level=68.41), Row(avg_glucose_level=111.68), Row(avg_glucose_level=201.38), Row(avg_glucose_level=164.7), Row(avg_glucose_level=87.17), Row(avg_glucose_level=221.58), Row(avg_glucose_level=81.84), Row(avg_glucose_level=106.23), Row(avg_glucose_level=119.34), Row(avg_glucose_level=97.84), Row(avg_glucose_level=79.63), Row(avg_glucose_level=73.72), Row(avg_glucose_level=63.65), Row(avg_glucose_level=126.34), Row(avg_glucose_level=213.11), Row(avg_glucose_level=123.49), Row(avg_glucose_level=107.45), Row(avg_glucose_level=94.77), Row(avg_glucose_level=104.23), Row(avg_glucose_level=95.27), Row(avg_glucose_level=136.96), Row(avg_glucose_level=100.74), Row(avg_glucose_level=55.28), Row(avg_glucose_level=94.11), Row(avg_glucose_level=95.39), Row(avg_glucose_level=91.09), Row(avg_glucose_level=64.62), Row(avg_glucose_level=85.08), Row(avg_glucose_level=112.31), Row(avg_glucose_level=210.95), Row(avg_glucose_level=126.96), Row(avg_glucose_level=71.15), Row(avg_glucose_level=59.49), Row(avg_glucose_level=80.93), Row(avg_glucose_level=116.5), Row(avg_glucose_level=88.13), Row(avg_glucose_level=62.25), Row(avg_glucose_level=57.95), Row(avg_glucose_level=108.33), Row(avg_glucose_level=105.52), Row(avg_glucose_level=95.32), Row(avg_glucose_level=68.6), Row(avg_glucose_level=103.01), Row(avg_glucose_level=76.64), Row(avg_glucose_level=90.11), Row(avg_glucose_level=58.23), Row(avg_glucose_level=247.51), Row(avg_glucose_level=90.07), Row(avg_glucose_level=180.63), Row(avg_glucose_level=217.3), Row(avg_glucose_level=59.17), Row(avg_glucose_level=91.56), Row(avg_glucose_level=121.19), Row(avg_glucose_level=90.77), Row(avg_glucose_level=183.0), Row(avg_glucose_level=223.35), Row(avg_glucose_level=77.73), Row(avg_glucose_level=136.2), Row(avg_glucose_level=93.21), Row(avg_glucose_level=87.93), Row(avg_glucose_level=93.29), Row(avg_glucose_level=75.82), Row(avg_glucose_level=87.0), Row(avg_glucose_level=176.42), Row(avg_glucose_level=99.48), Row(avg_glucose_level=223.78), Row(avg_glucose_level=65.24), Row(avg_glucose_level=122.19), Row(avg_glucose_level=144.48), Row(avg_glucose_level=89.24), Row(avg_glucose_level=200.16), Row(avg_glucose_level=99.87), Row(avg_glucose_level=77.87), Row(avg_glucose_level=113.68), Row(avg_glucose_level=191.66), Row(avg_glucose_level=92.59), Row(avg_glucose_level=213.33), Row(avg_glucose_level=100.75), Row(avg_glucose_level=145.18), Row(avg_glucose_level=64.14), Row(avg_glucose_level=78.81), Row(avg_glucose_level=79.03), Row(avg_glucose_level=87.51), Row(avg_glucose_level=91.08), Row(avg_glucose_level=111.71), Row(avg_glucose_level=111.02), Row(avg_glucose_level=61.68), Row(avg_glucose_level=89.11), Row(avg_glucose_level=96.84), Row(avg_glucose_level=124.08), Row(avg_glucose_level=87.95), Row(avg_glucose_level=63.94), Row(avg_glucose_level=92.3), Row(avg_glucose_level=180.45), Row(avg_glucose_level=122.83), Row(avg_glucose_level=201.96), Row(avg_glucose_level=60.73), Row(avg_glucose_level=106.73), Row(avg_glucose_level=124.54), Row(avg_glucose_level=259.63), Row(avg_glucose_level=169.67), Row(avg_glucose_level=77.67), Row(avg_glucose_level=60.5), Row(avg_glucose_level=70.53), Row(avg_glucose_level=56.99), Row(avg_glucose_level=148.24), Row(avg_glucose_level=57.02), Row(avg_glucose_level=103.48), Row(avg_glucose_level=94.07), Row(avg_glucose_level=67.33), Row(avg_glucose_level=99.79), Row(avg_glucose_level=100.29), Row(avg_glucose_level=74.7), Row(avg_glucose_level=156.82), Row(avg_glucose_level=97.57), Row(avg_glucose_level=149.17), Row(avg_glucose_level=207.62), Row(avg_glucose_level=89.52), Row(avg_glucose_level=89.58), Row(avg_glucose_level=135.74), Row(avg_glucose_level=90.67), Row(avg_glucose_level=83.1), Row(avg_glucose_level=108.32), Row(avg_glucose_level=168.68), Row(avg_glucose_level=101.76), Row(avg_glucose_level=80.3), Row(avg_glucose_level=76.04), Row(avg_glucose_level=127.29), Row(avg_glucose_level=78.92), Row(avg_glucose_level=72.96), Row(avg_glucose_level=66.42), Row(avg_glucose_level=97.53), Row(avg_glucose_level=94.59), Row(avg_glucose_level=101.5), Row(avg_glucose_level=85.79), Row(avg_glucose_level=118.14), Row(avg_glucose_level=92.11), Row(avg_glucose_level=224.71), Row(avg_glucose_level=198.02), Row(avg_glucose_level=237.58), Row(avg_glucose_level=58.71), Row(avg_glucose_level=237.17), Row(avg_glucose_level=99.71), Row(avg_glucose_level=209.9), Row(avg_glucose_level=77.48), Row(avg_glucose_level=114.16), Row(avg_glucose_level=96.24), Row(avg_glucose_level=72.1), Row(avg_glucose_level=56.95), Row(avg_glucose_level=75.67), Row(avg_glucose_level=96.95), Row(avg_glucose_level=89.04), Row(avg_glucose_level=90.61), Row(avg_glucose_level=146.08), Row(avg_glucose_level=68.99), Row(avg_glucose_level=109.3), Row(avg_glucose_level=90.29), Row(avg_glucose_level=84.54), Row(avg_glucose_level=185.17), Row(avg_glucose_level=114.01), Row(avg_glucose_level=148.91), Row(avg_glucose_level=189.49), Row(avg_glucose_level=82.47), Row(avg_glucose_level=89.05), Row(avg_glucose_level=58.02), Row(avg_glucose_level=70.67), Row(avg_glucose_level=82.09), Row(avg_glucose_level=124.35), Row(avg_glucose_level=168.06), Row(avg_glucose_level=88.29), Row(avg_glucose_level=123.04), Row(avg_glucose_level=147.04), Row(avg_glucose_level=69.5), Row(avg_glucose_level=185.28), Row(avg_glucose_level=103.11), Row(avg_glucose_level=96.19), Row(avg_glucose_level=57.59), Row(avg_glucose_level=82.1), Row(avg_glucose_level=84.96), Row(avg_glucose_level=182.2), Row(avg_glucose_level=72.84), Row(avg_glucose_level=80.28), Row(avg_glucose_level=108.43), Row(avg_glucose_level=90.35), Row(avg_glucose_level=91.25), Row(avg_glucose_level=86.74), Row(avg_glucose_level=111.27), Row(avg_glucose_level=112.22), Row(avg_glucose_level=176.25), Row(avg_glucose_level=120.94), Row(avg_glucose_level=88.5), Row(avg_glucose_level=176.78), Row(avg_glucose_level=105.05), Row(avg_glucose_level=124.64), Row(avg_glucose_level=173.97), Row(avg_glucose_level=153.31), Row(avg_glucose_level=240.09), Row(avg_glucose_level=226.7), Row(avg_glucose_level=105.36), Row(avg_glucose_level=231.19), Row(avg_glucose_level=98.46), Row(avg_glucose_level=56.67), Row(avg_glucose_level=76.51), Row(avg_glucose_level=87.08), Row(avg_glucose_level=71.8), Row(avg_glucose_level=83.57), Row(avg_glucose_level=72.18), Row(avg_glucose_level=78.08), Row(avg_glucose_level=65.22), Row(avg_glucose_level=106.47), Row(avg_glucose_level=56.87), Row(avg_glucose_level=219.72), Row(avg_glucose_level=133.19), Row(avg_glucose_level=98.73), Row(avg_glucose_level=85.62), Row(avg_glucose_level=86.96), Row(avg_glucose_level=223.68), Row(avg_glucose_level=218.65), Row(avg_glucose_level=189.45), Row(avg_glucose_level=69.18), Row(avg_glucose_level=68.78), Row(avg_glucose_level=60.74), Row(avg_glucose_level=78.93), Row(avg_glucose_level=93.61), Row(avg_glucose_level=107.46), Row(avg_glucose_level=99.78), Row(avg_glucose_level=104.75), Row(avg_glucose_level=60.36), Row(avg_glucose_level=138.02), Row(avg_glucose_level=133.13), Row(avg_glucose_level=221.83), Row(avg_glucose_level=117.77), Row(avg_glucose_level=108.82), Row(avg_glucose_level=75.84), Row(avg_glucose_level=96.29), Row(avg_glucose_level=55.25), Row(avg_glucose_level=78.16), Row(avg_glucose_level=125.38), Row(avg_glucose_level=78.52), Row(avg_glucose_level=62.81), Row(avg_glucose_level=124.5), Row(avg_glucose_level=58.69), Row(avg_glucose_level=96.77), Row(avg_glucose_level=59.99), Row(avg_glucose_level=133.82), Row(avg_glucose_level=60.35), Row(avg_glucose_level=122.25), Row(avg_glucose_level=95.66), Row(avg_glucose_level=93.62), Row(avg_glucose_level=108.18), Row(avg_glucose_level=81.21), Row(avg_glucose_level=176.38), Row(avg_glucose_level=193.45), Row(avg_glucose_level=216.64), Row(avg_glucose_level=81.58), Row(avg_glucose_level=124.78), Row(avg_glucose_level=191.15), Row(avg_glucose_level=80.43), Row(avg_glucose_level=72.17), Row(avg_glucose_level=82.9), Row(avg_glucose_level=138.16), Row(avg_glucose_level=83.83), Row(avg_glucose_level=82.71), Row(avg_glucose_level=92.82), Row(avg_glucose_level=70.75), Row(avg_glucose_level=139.43), Row(avg_glucose_level=79.2), Row(avg_glucose_level=82.12), Row(avg_glucose_level=78.74), Row(avg_glucose_level=73.78), Row(avg_glucose_level=88.49), Row(avg_glucose_level=63.63), Row(avg_glucose_level=95.79), Row(avg_glucose_level=80.89), Row(avg_glucose_level=77.45), Row(avg_glucose_level=223.36), Row(avg_glucose_level=149.95), Row(avg_glucose_level=114.21), Row(avg_glucose_level=111.48), Row(avg_glucose_level=138.47), Row(avg_glucose_level=65.9), Row(avg_glucose_level=92.26), Row(avg_glucose_level=77.55), Row(avg_glucose_level=84.16), Row(avg_glucose_level=69.35), Row(avg_glucose_level=193.87), Row(avg_glucose_level=82.33), Row(avg_glucose_level=112.44), Row(avg_glucose_level=84.35), Row(avg_glucose_level=93.97), Row(avg_glucose_level=116.62), Row(avg_glucose_level=58.72), Row(avg_glucose_level=95.02), Row(avg_glucose_level=91.6), Row(avg_glucose_level=81.6), Row(avg_glucose_level=57.57), Row(avg_glucose_level=133.76), Row(avg_glucose_level=87.33), Row(avg_glucose_level=95.4), Row(avg_glucose_level=225.6), Row(avg_glucose_level=153.38), Row(avg_glucose_level=93.14), Row(avg_glucose_level=217.75), Row(avg_glucose_level=240.81), Row(avg_glucose_level=128.04), Row(avg_glucose_level=83.43), Row(avg_glucose_level=169.74), Row(avg_glucose_level=75.69), Row(avg_glucose_level=66.55), Row(avg_glucose_level=118.44), Row(avg_glucose_level=100.08), Row(avg_glucose_level=159.67), Row(avg_glucose_level=110.1), Row(avg_glucose_level=106.8), Row(avg_glucose_level=77.76), Row(avg_glucose_level=95.59), Row(avg_glucose_level=118.7), Row(avg_glucose_level=108.79), Row(avg_glucose_level=80.79), Row(avg_glucose_level=80.19), Row(avg_glucose_level=102.07), Row(avg_glucose_level=222.21), Row(avg_glucose_level=80.63), Row(avg_glucose_level=124.45), Row(avg_glucose_level=267.76), Row(avg_glucose_level=114.76), Row(avg_glucose_level=87.62), Row(avg_glucose_level=76.83), Row(avg_glucose_level=227.96), Row(avg_glucose_level=71.94), Row(avg_glucose_level=108.64), Row(avg_glucose_level=220.26), Row(avg_glucose_level=69.53), Row(avg_glucose_level=76.81), Row(avg_glucose_level=80.51), Row(avg_glucose_level=101.46), Row(avg_glucose_level=110.14), Row(avg_glucose_level=93.13), Row(avg_glucose_level=216.7), Row(avg_glucose_level=73.0), Row(avg_glucose_level=88.34), Row(avg_glucose_level=119.88), Row(avg_glucose_level=253.16), Row(avg_glucose_level=110.47), Row(avg_glucose_level=95.16), Row(avg_glucose_level=81.71), Row(avg_glucose_level=79.59), Row(avg_glucose_level=108.8), Row(avg_glucose_level=100.02), Row(avg_glucose_level=85.55), Row(avg_glucose_level=80.59), Row(avg_glucose_level=72.6), Row(avg_glucose_level=197.11), Row(avg_glucose_level=103.58), Row(avg_glucose_level=99.82), Row(avg_glucose_level=113.21), Row(avg_glucose_level=100.91), Row(avg_glucose_level=82.31), Row(avg_glucose_level=226.11), Row(avg_glucose_level=107.4), Row(avg_glucose_level=226.93), Row(avg_glucose_level=101.43), Row(avg_glucose_level=71.38), Row(avg_glucose_level=69.88), Row(avg_glucose_level=55.57), Row(avg_glucose_level=104.02), Row(avg_glucose_level=77.75), Row(avg_glucose_level=160.64), Row(avg_glucose_level=103.34), Row(avg_glucose_level=87.5), Row(avg_glucose_level=88.05), Row(avg_glucose_level=228.26), Row(avg_glucose_level=141.84), Row(avg_glucose_level=97.68), Row(avg_glucose_level=95.31), Row(avg_glucose_level=142.64), Row(avg_glucose_level=211.83), Row(avg_glucose_level=90.9), Row(avg_glucose_level=78.7), Row(avg_glucose_level=92.23), Row(avg_glucose_level=112.43), Row(avg_glucose_level=84.93), Row(avg_glucose_level=56.07), Row(avg_glucose_level=70.96), Row(avg_glucose_level=187.52), Row(avg_glucose_level=229.58), Row(avg_glucose_level=81.25), Row(avg_glucose_level=99.0), Row(avg_glucose_level=205.78), Row(avg_glucose_level=215.6), Row(avg_glucose_level=70.21), Row(avg_glucose_level=101.37), Row(avg_glucose_level=89.32), Row(avg_glucose_level=87.88), Row(avg_glucose_level=59.28), Row(avg_glucose_level=90.06), Row(avg_glucose_level=99.34), Row(avg_glucose_level=163.56), Row(avg_glucose_level=82.07), Row(avg_glucose_level=115.93), Row(avg_glucose_level=82.84), Row(avg_glucose_level=102.04), Row(avg_glucose_level=75.92), Row(avg_glucose_level=107.84), Row(avg_glucose_level=85.15), Row(avg_glucose_level=85.96), Row(avg_glucose_level=223.9), Row(avg_glucose_level=70.22), Row(avg_glucose_level=218.1), Row(avg_glucose_level=163.17), Row(avg_glucose_level=71.79), Row(avg_glucose_level=141.37), Row(avg_glucose_level=65.05), Row(avg_glucose_level=82.3), Row(avg_glucose_level=85.6), Row(avg_glucose_level=58.95), Row(avg_glucose_level=108.47), Row(avg_glucose_level=220.52), Row(avg_glucose_level=79.34), Row(avg_glucose_level=98.91), Row(avg_glucose_level=164.67), Row(avg_glucose_level=111.77), Row(avg_glucose_level=80.84), Row(avg_glucose_level=86.25), Row(avg_glucose_level=87.09), Row(avg_glucose_level=227.89), Row(avg_glucose_level=86.53), Row(avg_glucose_level=137.91), Row(avg_glucose_level=84.78), Row(avg_glucose_level=200.14), Row(avg_glucose_level=79.77), Row(avg_glucose_level=59.74), Row(avg_glucose_level=111.79), Row(avg_glucose_level=71.29), Row(avg_glucose_level=55.83), Row(avg_glucose_level=68.49), Row(avg_glucose_level=62.68), Row(avg_glucose_level=68.96), Row(avg_glucose_level=185.0), Row(avg_glucose_level=84.47), Row(avg_glucose_level=127.32), Row(avg_glucose_level=82.72), Row(avg_glucose_level=91.53), Row(avg_glucose_level=73.56), Row(avg_glucose_level=64.18), Row(avg_glucose_level=70.55), Row(avg_glucose_level=101.24), Row(avg_glucose_level=61.54), Row(avg_glucose_level=61.8), Row(avg_glucose_level=57.79), Row(avg_glucose_level=80.48), Row(avg_glucose_level=79.61), Row(avg_glucose_level=218.46), Row(avg_glucose_level=94.29), Row(avg_glucose_level=74.44), Row(avg_glucose_level=61.29), Row(avg_glucose_level=90.92), Row(avg_glucose_level=94.78), Row(avg_glucose_level=206.25), Row(avg_glucose_level=75.94), Row(avg_glucose_level=88.75), Row(avg_glucose_level=114.82), Row(avg_glucose_level=86.85), Row(avg_glucose_level=102.0), Row(avg_glucose_level=119.3), Row(avg_glucose_level=79.15), Row(avg_glucose_level=214.45), Row(avg_glucose_level=94.09), Row(avg_glucose_level=62.49), Row(avg_glucose_level=71.98), Row(avg_glucose_level=121.43), Row(avg_glucose_level=81.38), Row(avg_glucose_level=77.51), Row(avg_glucose_level=81.31), Row(avg_glucose_level=86.03), Row(avg_glucose_level=106.11), Row(avg_glucose_level=104.26), Row(avg_glucose_level=138.55), Row(avg_glucose_level=119.58), Row(avg_glucose_level=60.01), Row(avg_glucose_level=129.19), Row(avg_glucose_level=194.75), Row(avg_glucose_level=95.24), Row(avg_glucose_level=99.33), Row(avg_glucose_level=95.04), Row(avg_glucose_level=57.33), Row(avg_glucose_level=70.92), Row(avg_glucose_level=112.95), Row(avg_glucose_level=58.96), Row(avg_glucose_level=146.61), Row(avg_glucose_level=208.2), Row(avg_glucose_level=69.26), Row(avg_glucose_level=65.93), Row(avg_glucose_level=64.37), Row(avg_glucose_level=73.63), Row(avg_glucose_level=92.48), Row(avg_glucose_level=92.2), Row(avg_glucose_level=194.62), Row(avg_glucose_level=80.85), Row(avg_glucose_level=80.8), Row(avg_glucose_level=188.69), Row(avg_glucose_level=208.78), Row(avg_glucose_level=79.02), Row(avg_glucose_level=73.29), Row(avg_glucose_level=93.76), Row(avg_glucose_level=147.12), Row(avg_glucose_level=84.37), Row(avg_glucose_level=125.03), Row(avg_glucose_level=91.47), Row(avg_glucose_level=76.42), Row(avg_glucose_level=92.0), Row(avg_glucose_level=145.94), Row(avg_glucose_level=85.64), Row(avg_glucose_level=96.28), Row(avg_glucose_level=81.06), Row(avg_glucose_level=167.13), Row(avg_glucose_level=184.4), Row(avg_glucose_level=74.91), Row(avg_glucose_level=87.01), Row(avg_glucose_level=77.42), Row(avg_glucose_level=63.78), Row(avg_glucose_level=84.63), Row(avg_glucose_level=233.52), Row(avg_glucose_level=211.88), Row(avg_glucose_level=81.2), Row(avg_glucose_level=199.83), Row(avg_glucose_level=130.07), Row(avg_glucose_level=97.31), Row(avg_glucose_level=86.32), Row(avg_glucose_level=127.57), Row(avg_glucose_level=207.71), Row(avg_glucose_level=83.64), Row(avg_glucose_level=56.21), Row(avg_glucose_level=118.93), Row(avg_glucose_level=187.47), Row(avg_glucose_level=62.64), Row(avg_glucose_level=67.41), Row(avg_glucose_level=220.49), Row(avg_glucose_level=88.19), Row(avg_glucose_level=72.36), Row(avg_glucose_level=106.4), Row(avg_glucose_level=89.45), Row(avg_glucose_level=106.56), Row(avg_glucose_level=97.6), Row(avg_glucose_level=72.02), Row(avg_glucose_level=246.53), Row(avg_glucose_level=206.98), Row(avg_glucose_level=82.35), Row(avg_glucose_level=91.82), Row(avg_glucose_level=125.89), Row(avg_glucose_level=214.51), Row(avg_glucose_level=82.46), Row(avg_glucose_level=76.78), Row(avg_glucose_level=202.06), Row(avg_glucose_level=69.47), Row(avg_glucose_level=217.57), Row(avg_glucose_level=105.92), Row(avg_glucose_level=72.73), Row(avg_glucose_level=184.15), Row(avg_glucose_level=86.11), Row(avg_glucose_level=130.61), Row(avg_glucose_level=184.25), Row(avg_glucose_level=73.75), Row(avg_glucose_level=135.75), Row(avg_glucose_level=93.55), Row(avg_glucose_level=135.89), Row(avg_glucose_level=212.97), Row(avg_glucose_level=90.15), Row(avg_glucose_level=80.09), Row(avg_glucose_level=196.33), Row(avg_glucose_level=79.57), Row(avg_glucose_level=57.76), Row(avg_glucose_level=97.41), Row(avg_glucose_level=67.07), Row(avg_glucose_level=73.28), Row(avg_glucose_level=76.77), Row(avg_glucose_level=55.96), Row(avg_glucose_level=75.34), Row(avg_glucose_level=74.28), Row(avg_glucose_level=111.08), Row(avg_glucose_level=87.12), Row(avg_glucose_level=77.72), Row(avg_glucose_level=113.45), Row(avg_glucose_level=176.34), Row(avg_glucose_level=251.6), Row(avg_glucose_level=72.49), Row(avg_glucose_level=57.26), Row(avg_glucose_level=97.59), Row(avg_glucose_level=81.74), Row(avg_glucose_level=72.63), Row(avg_glucose_level=66.11), Row(avg_glucose_level=202.66), Row(avg_glucose_level=87.34), Row(avg_glucose_level=89.61), Row(avg_glucose_level=102.61), Row(avg_glucose_level=113.2), Row(avg_glucose_level=107.82), Row(avg_glucose_level=112.41), Row(avg_glucose_level=114.71), Row(avg_glucose_level=83.88), Row(avg_glucose_level=90.74), Row(avg_glucose_level=77.26), Row(avg_glucose_level=110.96), Row(avg_glucose_level=114.46), Row(avg_glucose_level=80.67), Row(avg_glucose_level=76.89), Row(avg_glucose_level=171.23), Row(avg_glucose_level=196.71), Row(avg_glucose_level=161.28), Row(avg_glucose_level=139.9), Row(avg_glucose_level=93.07), Row(avg_glucose_level=128.63), Row(avg_glucose_level=75.06), Row(avg_glucose_level=96.2), Row(avg_glucose_level=157.01), Row(avg_glucose_level=93.6), Row(avg_glucose_level=88.85), Row(avg_glucose_level=196.25), Row(avg_glucose_level=65.6), Row(avg_glucose_level=113.05), Row(avg_glucose_level=220.47), Row(avg_glucose_level=145.37), Row(avg_glucose_level=235.54), Row(avg_glucose_level=97.27), Row(avg_glucose_level=106.08), Row(avg_glucose_level=91.57), Row(avg_glucose_level=65.25), Row(avg_glucose_level=93.8), Row(avg_glucose_level=153.24), Row(avg_glucose_level=74.17), Row(avg_glucose_level=84.38), Row(avg_glucose_level=70.08), Row(avg_glucose_level=98.92), Row(avg_glucose_level=111.21), Row(avg_glucose_level=92.86), Row(avg_glucose_level=115.13), Row(avg_glucose_level=230.59), Row(avg_glucose_level=185.31), Row(avg_glucose_level=96.06), Row(avg_glucose_level=167.66), Row(avg_glucose_level=148.37), Row(avg_glucose_level=199.42), Row(avg_glucose_level=115.99), Row(avg_glucose_level=139.72), Row(avg_glucose_level=98.35), Row(avg_glucose_level=85.23), Row(avg_glucose_level=66.51), Row(avg_glucose_level=67.1), Row(avg_glucose_level=85.18), Row(avg_glucose_level=150.74), Row(avg_glucose_level=214.09), Row(avg_glucose_level=66.03), Row(avg_glucose_level=107.47), Row(avg_glucose_level=86.24), Row(avg_glucose_level=124.6), Row(avg_glucose_level=83.28), Row(avg_glucose_level=56.89), Row(avg_glucose_level=72.71), Row(avg_glucose_level=56.37), Row(avg_glucose_level=90.6), Row(avg_glucose_level=158.33), Row(avg_glucose_level=69.94), Row(avg_glucose_level=79.09), Row(avg_glucose_level=85.02), Row(avg_glucose_level=85.57), Row(avg_glucose_level=91.85), Row(avg_glucose_level=99.68), Row(avg_glucose_level=82.88), Row(avg_glucose_level=110.18), Row(avg_glucose_level=67.73), Row(avg_glucose_level=109.39), Row(avg_glucose_level=189.82), Row(avg_glucose_level=101.56), Row(avg_glucose_level=113.26), Row(avg_glucose_level=231.72), Row(avg_glucose_level=76.62), Row(avg_glucose_level=78.03), Row(avg_glucose_level=221.89), Row(avg_glucose_level=216.58), Row(avg_glucose_level=75.23), Row(avg_glucose_level=106.51), Row(avg_glucose_level=128.28), Row(avg_glucose_level=143.15), Row(avg_glucose_level=107.29), Row(avg_glucose_level=251.99), Row(avg_glucose_level=110.68), Row(avg_glucose_level=109.65), Row(avg_glucose_level=116.12), Row(avg_glucose_level=118.69), Row(avg_glucose_level=78.44), Row(avg_glucose_level=176.71), Row(avg_glucose_level=88.38), Row(avg_glucose_level=164.77), Row(avg_glucose_level=149.8), Row(avg_glucose_level=83.01), Row(avg_glucose_level=118.89), Row(avg_glucose_level=98.7), Row(avg_glucose_level=89.77), Row(avg_glucose_level=109.59), Row(avg_glucose_level=60.69), Row(avg_glucose_level=113.34), Row(avg_glucose_level=94.67), Row(avg_glucose_level=124.01), Row(avg_glucose_level=65.71), Row(avg_glucose_level=216.4), Row(avg_glucose_level=92.08), Row(avg_glucose_level=110.33), Row(avg_glucose_level=64.87), Row(avg_glucose_level=84.66), Row(avg_glucose_level=62.12), Row(avg_glucose_level=79.22), Row(avg_glucose_level=232.64), Row(avg_glucose_level=196.58), Row(avg_glucose_level=203.27), Row(avg_glucose_level=89.0), Row(avg_glucose_level=64.09), Row(avg_glucose_level=100.98), Row(avg_glucose_level=212.08), Row(avg_glucose_level=179.12), Row(avg_glucose_level=213.22), Row(avg_glucose_level=103.62), Row(avg_glucose_level=106.43), Row(avg_glucose_level=99.06), Row(avg_glucose_level=89.03), Row(avg_glucose_level=82.57), Row(avg_glucose_level=94.33), Row(avg_glucose_level=57.37), Row(avg_glucose_level=70.18), Row(avg_glucose_level=105.47), Row(avg_glucose_level=76.55), Row(avg_glucose_level=89.14), Row(avg_glucose_level=83.27), Row(avg_glucose_level=65.77), Row(avg_glucose_level=123.89), Row(avg_glucose_level=94.27), Row(avg_glucose_level=99.58), Row(avg_glucose_level=68.76), Row(avg_glucose_level=123.15), Row(avg_glucose_level=71.73), Row(avg_glucose_level=85.33), Row(avg_glucose_level=222.29), Row(avg_glucose_level=66.85), Row(avg_glucose_level=109.4), Row(avg_glucose_level=227.98), Row(avg_glucose_level=153.08), Row(avg_glucose_level=218.6), Row(avg_glucose_level=135.84), Row(avg_glucose_level=84.81), Row(avg_glucose_level=267.6), Row(avg_glucose_level=106.41), Row(avg_glucose_level=57.93), Row(avg_glucose_level=96.17), Row(avg_glucose_level=129.53), Row(avg_glucose_level=76.99), Row(avg_glucose_level=100.15), Row(avg_glucose_level=68.98), Row(avg_glucose_level=78.29), Row(avg_glucose_level=80.06), Row(avg_glucose_level=75.09), Row(avg_glucose_level=85.04), Row(avg_glucose_level=149.9), Row(avg_glucose_level=122.91), Row(avg_glucose_level=140.07), Row(avg_glucose_level=63.16), Row(avg_glucose_level=64.94), Row(avg_glucose_level=219.82), Row(avg_glucose_level=217.94), Row(avg_glucose_level=129.66), Row(avg_glucose_level=195.74), Row(avg_glucose_level=227.23), Row(avg_glucose_level=102.13), Row(avg_glucose_level=116.55), Row(avg_glucose_level=209.86), Row(avg_glucose_level=62.6), Row(avg_glucose_level=81.51), Row(avg_glucose_level=112.54), Row(avg_glucose_level=57.51), Row(avg_glucose_level=62.61), Row(avg_glucose_level=87.69), Row(avg_glucose_level=83.91), Row(avg_glucose_level=75.03), Row(avg_glucose_level=134.29), Row(avg_glucose_level=81.44), Row(avg_glucose_level=116.02), Row(avg_glucose_level=192.16), Row(avg_glucose_level=104.95), Row(avg_glucose_level=103.37), Row(avg_glucose_level=116.49), Row(avg_glucose_level=56.32), Row(avg_glucose_level=103.22), Row(avg_glucose_level=95.42), Row(avg_glucose_level=166.29), Row(avg_glucose_level=107.26), Row(avg_glucose_level=93.73), Row(avg_glucose_level=121.8), Row(avg_glucose_level=110.76), Row(avg_glucose_level=141.15), Row(avg_glucose_level=72.09), Row(avg_glucose_level=78.04), Row(avg_glucose_level=87.66), Row(avg_glucose_level=93.58), Row(avg_glucose_level=56.51), Row(avg_glucose_level=69.82), Row(avg_glucose_level=55.41), Row(avg_glucose_level=65.01), Row(avg_glucose_level=101.98), Row(avg_glucose_level=233.71), Row(avg_glucose_level=215.72), Row(avg_glucose_level=92.76), Row(avg_glucose_level=73.81), Row(avg_glucose_level=64.17), Row(avg_glucose_level=106.74), Row(avg_glucose_level=219.73), Row(avg_glucose_level=141.24), Row(avg_glucose_level=103.94), Row(avg_glucose_level=113.1), Row(avg_glucose_level=125.68), Row(avg_glucose_level=65.59), Row(avg_glucose_level=96.42), Row(avg_glucose_level=73.44), Row(avg_glucose_level=72.52), Row(avg_glucose_level=206.59), Row(avg_glucose_level=173.14), Row(avg_glucose_level=83.7), Row(avg_glucose_level=87.23), Row(avg_glucose_level=84.42), Row(avg_glucose_level=58.19), Row(avg_glucose_level=84.07), Row(avg_glucose_level=66.96), Row(avg_glucose_level=101.81), Row(avg_glucose_level=217.74), Row(avg_glucose_level=126.12), Row(avg_glucose_level=82.63), Row(avg_glucose_level=76.43), Row(avg_glucose_level=97.99), Row(avg_glucose_level=96.59), Row(avg_glucose_level=114.25), Row(avg_glucose_level=79.53), Row(avg_glucose_level=102.89), Row(avg_glucose_level=219.5), Row(avg_glucose_level=61.88), Row(avg_glucose_level=122.5), Row(avg_glucose_level=150.03), Row(avg_glucose_level=108.65), Row(avg_glucose_level=70.33), Row(avg_glucose_level=85.59), Row(avg_glucose_level=62.54), Row(avg_glucose_level=73.04), Row(avg_glucose_level=92.43), Row(avg_glucose_level=77.77), Row(avg_glucose_level=68.01), Row(avg_glucose_level=117.59), Row(avg_glucose_level=89.44), Row(avg_glucose_level=78.49), Row(avg_glucose_level=78.11), Row(avg_glucose_level=193.22), Row(avg_glucose_level=75.79), Row(avg_glucose_level=78.73), Row(avg_glucose_level=79.69), Row(avg_glucose_level=201.25), Row(avg_glucose_level=181.23), Row(avg_glucose_level=82.56), Row(avg_glucose_level=58.25), Row(avg_glucose_level=77.32), Row(avg_glucose_level=100.31), Row(avg_glucose_level=74.19), Row(avg_glucose_level=66.67), Row(avg_glucose_level=91.28), Row(avg_glucose_level=96.81), Row(avg_glucose_level=79.27), Row(avg_glucose_level=143.33), Row(avg_glucose_level=100.16), Row(avg_glucose_level=125.32), Row(avg_glucose_level=192.5), Row(avg_glucose_level=84.04), Row(avg_glucose_level=59.32), Row(avg_glucose_level=81.15), Row(avg_glucose_level=58.39), Row(avg_glucose_level=59.2), Row(avg_glucose_level=99.15), Row(avg_glucose_level=195.25), Row(avg_glucose_level=56.84), Row(avg_glucose_level=77.86), Row(avg_glucose_level=228.42), Row(avg_glucose_level=76.28), Row(avg_glucose_level=71.26), Row(avg_glucose_level=94.38), Row(avg_glucose_level=76.19), Row(avg_glucose_level=94.69), Row(avg_glucose_level=107.97), Row(avg_glucose_level=127.2), Row(avg_glucose_level=74.08), Row(avg_glucose_level=84.5), Row(avg_glucose_level=206.62), Row(avg_glucose_level=75.41), Row(avg_glucose_level=63.56), Row(avg_glucose_level=60.84), Row(avg_glucose_level=75.42), Row(avg_glucose_level=70.31), Row(avg_glucose_level=60.34), Row(avg_glucose_level=94.26), Row(avg_glucose_level=92.7), Row(avg_glucose_level=81.43), Row(avg_glucose_level=71.81), Row(avg_glucose_level=95.58), Row(avg_glucose_level=92.27), Row(avg_glucose_level=98.39), Row(avg_glucose_level=74.06), Row(avg_glucose_level=190.13), Row(avg_glucose_level=110.42), Row(avg_glucose_level=80.01), Row(avg_glucose_level=71.93), Row(avg_glucose_level=95.94), Row(avg_glucose_level=77.07), Row(avg_glucose_level=86.92), Row(avg_glucose_level=106.76), Row(avg_glucose_level=76.56), Row(avg_glucose_level=219.8), Row(avg_glucose_level=194.37), Row(avg_glucose_level=94.48), Row(avg_glucose_level=89.63), Row(avg_glucose_level=60.26), Row(avg_glucose_level=95.08), Row(avg_glucose_level=93.71), Row(avg_glucose_level=88.54), Row(avg_glucose_level=144.2), Row(avg_glucose_level=137.94), Row(avg_glucose_level=79.36), Row(avg_glucose_level=92.9), Row(avg_glucose_level=78.96), Row(avg_glucose_level=100.96), Row(avg_glucose_level=82.36), Row(avg_glucose_level=86.1), Row(avg_glucose_level=67.99), Row(avg_glucose_level=223.64), Row(avg_glucose_level=222.58), Row(avg_glucose_level=97.65), Row(avg_glucose_level=195.23), Row(avg_glucose_level=92.98), Row(avg_glucose_level=69.24), Row(avg_glucose_level=205.5), Row(avg_glucose_level=122.01), Row(avg_glucose_level=82.38), Row(avg_glucose_level=67.27), Row(avg_glucose_level=208.05), Row(avg_glucose_level=68.84), Row(avg_glucose_level=56.71), Row(avg_glucose_level=68.48), Row(avg_glucose_level=102.9), Row(avg_glucose_level=81.33), Row(avg_glucose_level=85.48), Row(avg_glucose_level=87.25), Row(avg_glucose_level=59.07), Row(avg_glucose_level=208.39), Row(avg_glucose_level=84.09), Row(avg_glucose_level=120.46), Row(avg_glucose_level=93.48), Row(avg_glucose_level=99.2), Row(avg_glucose_level=106.7), Row(avg_glucose_level=57.82), Row(avg_glucose_level=56.48), Row(avg_glucose_level=78.68), Row(avg_glucose_level=122.48), Row(avg_glucose_level=89.93), Row(avg_glucose_level=173.96), Row(avg_glucose_level=65.16), Row(avg_glucose_level=107.55), Row(avg_glucose_level=59.43), Row(avg_glucose_level=150.0), Row(avg_glucose_level=208.69), Row(avg_glucose_level=177.56), Row(avg_glucose_level=71.34), Row(avg_glucose_level=221.79), Row(avg_glucose_level=117.92), Row(avg_glucose_level=215.64), Row(avg_glucose_level=109.22), Row(avg_glucose_level=74.79), Row(avg_glucose_level=146.44), Row(avg_glucose_level=82.26), Row(avg_glucose_level=216.96), Row(avg_glucose_level=101.87), Row(avg_glucose_level=90.39), Row(avg_glucose_level=131.8), Row(avg_glucose_level=93.78), Row(avg_glucose_level=69.76), Row(avg_glucose_level=226.73), Row(avg_glucose_level=200.73), Row(avg_glucose_level=59.31), Row(avg_glucose_level=121.99), Row(avg_glucose_level=58.64), Row(avg_glucose_level=92.06), Row(avg_glucose_level=93.28), Row(avg_glucose_level=68.52), Row(avg_glucose_level=183.34), Row(avg_glucose_level=63.61), Row(avg_glucose_level=113.25), Row(avg_glucose_level=76.93), Row(avg_glucose_level=101.65), Row(avg_glucose_level=61.61), Row(avg_glucose_level=98.74), Row(avg_glucose_level=156.7), Row(avg_glucose_level=112.34), Row(avg_glucose_level=100.85), Row(avg_glucose_level=226.75), Row(avg_glucose_level=82.89), Row(avg_glucose_level=116.64), Row(avg_glucose_level=55.58), Row(avg_glucose_level=84.02), Row(avg_glucose_level=201.45), Row(avg_glucose_level=86.49), Row(avg_glucose_level=73.6), Row(avg_glucose_level=105.28), Row(avg_glucose_level=163.02), Row(avg_glucose_level=115.69), Row(avg_glucose_level=119.9), Row(avg_glucose_level=113.95), Row(avg_glucose_level=172.27), Row(avg_glucose_level=74.34), Row(avg_glucose_level=127.4), Row(avg_glucose_level=85.88), Row(avg_glucose_level=179.38), Row(avg_glucose_level=91.01), Row(avg_glucose_level=74.11), Row(avg_glucose_level=243.53), Row(avg_glucose_level=99.29), Row(avg_glucose_level=90.26), Row(avg_glucose_level=90.31), Row(avg_glucose_level=59.11), Row(avg_glucose_level=83.75), Row(avg_glucose_level=125.2), Row(avg_glucose_level=58.57), Row(avg_glucose_level=98.44), Row(avg_glucose_level=71.91), Row(avg_glucose_level=97.06), Row(avg_glucose_level=121.04), Row(avg_glucose_level=109.32), Row(avg_glucose_level=60.2), Row(avg_glucose_level=73.69), Row(avg_glucose_level=100.81), Row(avg_glucose_level=87.77), Row(avg_glucose_level=65.82), Row(avg_glucose_level=85.52), Row(avg_glucose_level=131.63), Row(avg_glucose_level=233.3), Row(avg_glucose_level=70.59), Row(avg_glucose_level=207.96), Row(avg_glucose_level=87.44), Row(avg_glucose_level=72.08), Row(avg_glucose_level=71.46), Row(avg_glucose_level=207.6), Row(avg_glucose_level=193.61), Row(avg_glucose_level=256.74), Row(avg_glucose_level=88.17), Row(avg_glucose_level=252.72), Row(avg_glucose_level=98.55), Row(avg_glucose_level=199.2), Row(avg_glucose_level=56.75), Row(avg_glucose_level=207.64), Row(avg_glucose_level=69.87), Row(avg_glucose_level=85.22), Row(avg_glucose_level=105.59), Row(avg_glucose_level=101.31), Row(avg_glucose_level=76.74), Row(avg_glucose_level=131.99), Row(avg_glucose_level=180.8), Row(avg_glucose_level=206.52), Row(avg_glucose_level=227.74), Row(avg_glucose_level=115.21), Row(avg_glucose_level=147.42), Row(avg_glucose_level=155.23), Row(avg_glucose_level=157.77), Row(avg_glucose_level=85.53), Row(avg_glucose_level=70.51), Row(avg_glucose_level=76.0), Row(avg_glucose_level=59.36), Row(avg_glucose_level=86.62), Row(avg_glucose_level=90.0), Row(avg_glucose_level=203.04), Row(avg_glucose_level=100.83), Row(avg_glucose_level=94.62), Row(avg_glucose_level=82.61), Row(avg_glucose_level=79.99), Row(avg_glucose_level=82.43), Row(avg_glucose_level=87.56), Row(avg_glucose_level=123.39), Row(avg_glucose_level=216.71), Row(avg_glucose_level=102.11), Row(avg_glucose_level=61.87), Row(avg_glucose_level=75.98), Row(avg_glucose_level=79.94), Row(avg_glucose_level=219.7), Row(avg_glucose_level=72.16), Row(avg_glucose_level=113.08), Row(avg_glucose_level=80.94), Row(avg_glucose_level=75.93), Row(avg_glucose_level=71.2), Row(avg_glucose_level=182.99), Row(avg_glucose_level=84.62), Row(avg_glucose_level=254.6), Row(avg_glucose_level=56.31), Row(avg_glucose_level=80.15), Row(avg_glucose_level=83.86), Row(avg_glucose_level=69.09), Row(avg_glucose_level=229.21), Row(avg_glucose_level=116.93), Row(avg_glucose_level=88.02), Row(avg_glucose_level=155.86), Row(avg_glucose_level=58.42), Row(avg_glucose_level=109.85), Row(avg_glucose_level=228.2), Row(avg_glucose_level=87.2), Row(avg_glucose_level=76.88), Row(avg_glucose_level=92.74), Row(avg_glucose_level=73.24), Row(avg_glucose_level=111.84), Row(avg_glucose_level=248.24), Row(avg_glucose_level=74.24), Row(avg_glucose_level=75.9), Row(avg_glucose_level=70.3), Row(avg_glucose_level=205.84), Row(avg_glucose_level=73.71), Row(avg_glucose_level=82.32), Row(avg_glucose_level=106.35), Row(avg_glucose_level=78.43), Row(avg_glucose_level=102.37), Row(avg_glucose_level=59.89), Row(avg_glucose_level=70.61), Row(avg_glucose_level=65.69), Row(avg_glucose_level=65.34), Row(avg_glucose_level=90.22), Row(avg_glucose_level=87.29), Row(avg_glucose_level=115.16), Row(avg_glucose_level=68.12), Row(avg_glucose_level=109.12), Row(avg_glucose_level=77.6), Row(avg_glucose_level=55.79), Row(avg_glucose_level=108.38), Row(avg_glucose_level=71.12), Row(avg_glucose_level=135.79), Row(avg_glucose_level=90.52), Row(avg_glucose_level=78.18), Row(avg_glucose_level=69.04), Row(avg_glucose_level=82.59), Row(avg_glucose_level=58.65), Row(avg_glucose_level=98.42), Row(avg_glucose_level=91.0), Row(avg_glucose_level=62.46), Row(avg_glucose_level=176.48), Row(avg_glucose_level=149.42), Row(avg_glucose_level=193.81), Row(avg_glucose_level=70.29), Row(avg_glucose_level=119.13), Row(avg_glucose_level=68.68), Row(avg_glucose_level=62.13), Row(avg_glucose_level=187.99), Row(avg_glucose_level=65.45), Row(avg_glucose_level=112.35)]\n",
            "Unique BMI Values:  [Row(bmi='34.4'), Row(bmi='47.5'), Row(bmi='20.5'), Row(bmi='38.3'), Row(bmi='45.4'), Row(bmi='38.5'), Row(bmi='26.5'), Row(bmi='51'), Row(bmi='48.1'), Row(bmi='29.4'), Row(bmi='16.6'), Row(bmi='14.2'), Row(bmi='12.8'), Row(bmi='26.7'), Row(bmi='17.1'), Row(bmi='36.1'), Row(bmi='30.1'), Row(bmi='40.1'), Row(bmi='54'), Row(bmi='15'), Row(bmi='22.4'), Row(bmi='54.2'), Row(bmi='39.6'), Row(bmi='40.9'), Row(bmi='45.1'), Row(bmi='44.6'), Row(bmi='19.3'), Row(bmi='18.1'), Row(bmi='44.9'), Row(bmi='15.8'), Row(bmi='32.7'), Row(bmi='29'), Row(bmi='22.5'), Row(bmi='28.7'), Row(bmi='42'), Row(bmi='53.5'), Row(bmi='36.8'), Row(bmi='55.1'), Row(bmi='16.4'), Row(bmi='15.7'), Row(bmi='57.2'), Row(bmi='30.9'), Row(bmi='30'), Row(bmi='35.8'), Row(bmi='35.9'), Row(bmi='16.7'), Row(bmi='34'), Row(bmi='21.5'), Row(bmi='40.8'), Row(bmi='45.9'), Row(bmi='17.6'), Row(bmi='23.8'), Row(bmi='50.2'), Row(bmi='24.5'), Row(bmi='37.2'), Row(bmi='49.2'), Row(bmi='61.6'), Row(bmi='22.8'), Row(bmi='46.8'), Row(bmi='20.4'), Row(bmi='16.9'), Row(bmi='50.9'), Row(bmi='28'), Row(bmi='42.2'), Row(bmi='22'), Row(bmi='38.4'), Row(bmi='42.3'), Row(bmi='51.8'), Row(bmi='46.3'), Row(bmi='26.3'), Row(bmi='34.3'), Row(bmi='17.5'), Row(bmi='14.8'), Row(bmi='46.9'), Row(bmi='35'), Row(bmi='16'), Row(bmi='35.6'), Row(bmi='16.8'), Row(bmi='14.4'), Row(bmi='47.4'), Row(bmi='24.4'), Row(bmi='27.1'), Row(bmi='32.9'), Row(bmi='21.3'), Row(bmi='19.9'), Row(bmi='47.9'), Row(bmi='30.5'), Row(bmi='56.6'), Row(bmi='29.3'), Row(bmi='54.7'), Row(bmi='35.2'), Row(bmi='19.4'), Row(bmi='43.3'), Row(bmi='20.2'), Row(bmi='37.3'), Row(bmi='71.9'), Row(bmi='27.6'), Row(bmi='18.6'), Row(bmi='58.1'), Row(bmi='36.5'), Row(bmi='32.3'), Row(bmi='29.2'), Row(bmi='36.3'), Row(bmi='43'), Row(bmi='54.8'), Row(bmi='26.9'), Row(bmi='25.3'), Row(bmi='31'), Row(bmi='45.7'), Row(bmi='43.1'), Row(bmi='51.5'), Row(bmi='22.9'), Row(bmi='17.8'), Row(bmi='29.1'), Row(bmi='34.5'), Row(bmi='21.2'), Row(bmi='51.9'), Row(bmi='18'), Row(bmi='25.1'), Row(bmi='18.2'), Row(bmi='31.7'), Row(bmi='31.6'), Row(bmi='20.3'), Row(bmi='31.2'), Row(bmi='55.9'), Row(bmi='54.1'), Row(bmi='27'), Row(bmi='45.2'), Row(bmi='19.5'), Row(bmi='13.8'), Row(bmi='18.5'), Row(bmi='28.4'), Row(bmi='31.1'), Row(bmi='17'), Row(bmi='13.3'), Row(bmi='37.5'), Row(bmi='26'), Row(bmi='17.3'), Row(bmi='63.3'), Row(bmi='28.8'), Row(bmi='34.2'), Row(bmi='16.1'), Row(bmi='10.3'), Row(bmi='44.4'), Row(bmi='29.9'), Row(bmi='46'), Row(bmi='23.3'), Row(bmi='50.5'), Row(bmi='19.2'), Row(bmi='33.3'), Row(bmi='11.3'), Row(bmi='78'), Row(bmi='57.3'), Row(bmi='34.8'), Row(bmi='11.5'), Row(bmi='51.7'), Row(bmi='35.7'), Row(bmi='18.8'), Row(bmi='48.5'), Row(bmi='26.4'), Row(bmi='26.2'), Row(bmi='17.7'), Row(bmi='38.1'), Row(bmi='25.8'), Row(bmi='45.5'), Row(bmi='44.7'), Row(bmi='38.6'), Row(bmi='24.1'), Row(bmi='26.6'), Row(bmi='21.7'), Row(bmi='20.7'), Row(bmi='53.4'), Row(bmi='13.7'), Row(bmi='18.7'), Row(bmi='56.1'), Row(bmi='57.7'), Row(bmi='37.8'), Row(bmi='23.6'), Row(bmi='40.5'), Row(bmi='19'), Row(bmi='16.2'), Row(bmi='23.9'), Row(bmi='30.2'), Row(bmi='31.3'), Row(bmi='23'), Row(bmi='41'), Row(bmi='39.8'), Row(bmi='44.8'), Row(bmi='37.7'), Row(bmi='55'), Row(bmi='97.6'), Row(bmi='48.3'), Row(bmi='45.3'), Row(bmi='15.9'), Row(bmi='46.2'), Row(bmi='25.5'), Row(bmi='39.5'), Row(bmi='16.3'), Row(bmi='19.8'), Row(bmi='31.4'), Row(bmi='27.4'), Row(bmi='33.7'), Row(bmi='40.3'), Row(bmi='44.5'), Row(bmi='34.9'), Row(bmi='41.4'), Row(bmi='50.8'), Row(bmi='32.8'), Row(bmi='35.5'), Row(bmi='43.6'), Row(bmi='52.9'), Row(bmi='27.5'), Row(bmi='31.5'), Row(bmi='40'), Row(bmi='38'), Row(bmi='45.8'), Row(bmi='40.4'), Row(bmi='40.6'), Row(bmi='50.6'), Row(bmi='25'), Row(bmi='37.4'), Row(bmi='37.6'), Row(bmi='14.1'), Row(bmi='44'), Row(bmi='50.1'), Row(bmi='42.9'), Row(bmi='27.2'), Row(bmi='41.1'), Row(bmi='19.7'), Row(bmi='33.5'), Row(bmi='54.3'), Row(bmi='38.7'), Row(bmi='36.7'), Row(bmi='34.1'), Row(bmi='23.5'), Row(bmi='18.9'), Row(bmi='32.1'), Row(bmi='20.6'), Row(bmi='27.7'), Row(bmi='31.8'), Row(bmi='39.7'), Row(bmi='30.6'), Row(bmi='22.1'), Row(bmi='92'), Row(bmi='20.8'), Row(bmi='33.4'), Row(bmi='25.6'), Row(bmi='42.5'), Row(bmi='15.3'), Row(bmi='39.1'), Row(bmi='12.3'), Row(bmi='59.7'), Row(bmi='32.6'), Row(bmi='15.5'), Row(bmi='32.2'), Row(bmi='46.1'), Row(bmi='28.5'), Row(bmi='23.2'), Row(bmi='36.9'), Row(bmi='54.6'), Row(bmi='17.2'), Row(bmi='28.2'), Row(bmi='33'), Row(bmi='42.7'), Row(bmi='18.3'), Row(bmi='49.8'), Row(bmi='44.2'), Row(bmi='64.8'), Row(bmi='41.9'), Row(bmi='24.9'), Row(bmi='15.6'), Row(bmi='41.5'), Row(bmi='47.6'), Row(bmi='47.1'), Row(bmi='48'), Row(bmi='57.9'), Row(bmi='N/A'), Row(bmi='29.5'), Row(bmi='42.4'), Row(bmi='17.9'), Row(bmi='39.2'), Row(bmi='23.7'), Row(bmi='36.4'), Row(bmi='13.9'), Row(bmi='42.1'), Row(bmi='49.5'), Row(bmi='40.2'), Row(bmi='25.4'), Row(bmi='23.1'), Row(bmi='22.6'), Row(bmi='20.9'), Row(bmi='33.1'), Row(bmi='43.4'), Row(bmi='48.7'), Row(bmi='24'), Row(bmi='34.6'), Row(bmi='61.2'), Row(bmi='35.3'), Row(bmi='43.7'), Row(bmi='48.4'), Row(bmi='13.2'), Row(bmi='32'), Row(bmi='30.3'), Row(bmi='43.8'), Row(bmi='21.6'), Row(bmi='52.3'), Row(bmi='25.9'), Row(bmi='31.9'), Row(bmi='28.3'), Row(bmi='14.6'), Row(bmi='20'), Row(bmi='16.5'), Row(bmi='15.2'), Row(bmi='47.8'), Row(bmi='57.5'), Row(bmi='35.4'), Row(bmi='55.7'), Row(bmi='41.8'), Row(bmi='41.6'), Row(bmi='27.8'), Row(bmi='30.4'), Row(bmi='53.8'), Row(bmi='33.2'), Row(bmi='37.1'), Row(bmi='24.7'), Row(bmi='56'), Row(bmi='50.4'), Row(bmi='21.4'), Row(bmi='30.7'), Row(bmi='29.6'), Row(bmi='36'), Row(bmi='37.9'), Row(bmi='18.4'), Row(bmi='38.9'), Row(bmi='26.1'), Row(bmi='46.5'), Row(bmi='60.2'), Row(bmi='41.2'), Row(bmi='37'), Row(bmi='27.9'), Row(bmi='36.2'), Row(bmi='48.8'), Row(bmi='17.4'), Row(bmi='66.8'), Row(bmi='24.6'), Row(bmi='32.5'), Row(bmi='27.3'), Row(bmi='14.9'), Row(bmi='21.8'), Row(bmi='50.3'), Row(bmi='48.9'), Row(bmi='23.4'), Row(bmi='52.7'), Row(bmi='28.9'), Row(bmi='39'), Row(bmi='53.9'), Row(bmi='49.4'), Row(bmi='22.2'), Row(bmi='25.7'), Row(bmi='43.9'), Row(bmi='33.8'), Row(bmi='14.5'), Row(bmi='12'), Row(bmi='41.7'), Row(bmi='15.4'), Row(bmi='55.2'), Row(bmi='42.8'), Row(bmi='14.3'), Row(bmi='13.5'), Row(bmi='13'), Row(bmi='24.3'), Row(bmi='39.3'), Row(bmi='21'), Row(bmi='14'), Row(bmi='21.9'), Row(bmi='52.8'), Row(bmi='49.9'), Row(bmi='24.8'), Row(bmi='40.7'), Row(bmi='28.6'), Row(bmi='33.9'), Row(bmi='29.7'), Row(bmi='28.1'), Row(bmi='20.1'), Row(bmi='35.1'), Row(bmi='21.1'), Row(bmi='39.4'), Row(bmi='48.2'), Row(bmi='41.3'), Row(bmi='33.6'), Row(bmi='47.3'), Row(bmi='13.4'), Row(bmi='44.1'), Row(bmi='19.6'), Row(bmi='38.2'), Row(bmi='42.6'), Row(bmi='29.8'), Row(bmi='25.2'), Row(bmi='34.7'), Row(bmi='22.7'), Row(bmi='19.1'), Row(bmi='44.3'), Row(bmi='32.4'), Row(bmi='52.5'), Row(bmi='36.6'), Row(bmi='43.2'), Row(bmi='30.8'), Row(bmi='26.8'), Row(bmi='39.9'), Row(bmi='22.3'), Row(bmi='45'), Row(bmi='46.6'), Row(bmi='15.1'), Row(bmi='24.2'), Row(bmi='49.3'), Row(bmi='60.9'), Row(bmi='38.8'), Row(bmi='64.4'), Row(bmi='46.4')]\n",
            "Unique Smoking Status Values:  [Row(smoking_status='smokes'), Row(smoking_status='Unknown'), Row(smoking_status='never smoked'), Row(smoking_status='formerly smoked')]\n"
          ]
        }
      ]
    },
    {
      "cell_type": "markdown",
      "source": [
        "From the above code, we can see that the BMI column contains N/A's.  We will remove these values."
      ],
      "metadata": {
        "id": "eEuG3B_AAnP9"
      }
    },
    {
      "cell_type": "code",
      "execution_count": null,
      "metadata": {
        "id": "IpHTcu_jZJZ2"
      },
      "outputs": [],
      "source": [
        "df = df.filter(df.bmi != 'N/A')"
      ]
    },
    {
      "cell_type": "code",
      "execution_count": null,
      "metadata": {
        "colab": {
          "base_uri": "https://localhost:8080/"
        },
        "id": "nf5CE6YcZRPJ",
        "outputId": "19d8f912-abe1-4996-defc-d16950ccc719"
      },
      "outputs": [
        {
          "output_type": "execute_result",
          "data": {
            "text/plain": [
              "4909"
            ]
          },
          "metadata": {},
          "execution_count": 10
        }
      ],
      "source": [
        "# removing rows that contain N/A so we now have 4909 rows of data\n",
        "df.count()"
      ]
    },
    {
      "cell_type": "markdown",
      "source": [
        "# Exploratory Data Analysis"
      ],
      "metadata": {
        "id": "vTrQTs32wRO9"
      }
    },
    {
      "cell_type": "code",
      "source": [
        "from pyspark.sql.functions import count\n",
        "import matplotlib.pyplot as plt\n",
        "\n",
        "female = df.filter(df.gender == 'Female').count()\n",
        "male = df.filter(df.gender == 'Male').count()\n",
        "other = df.filter(df.gender == 'Other').count()\n",
        "\n",
        "plt.bar([\"female\", \"male\", \"other\"], [female, male, other])\n",
        "plt.xlabel(\"Gender\")\n",
        "plt.ylabel(\"Number of patients\")\n",
        "plt.title(\"Gender distrubution\")\n",
        "plt.show()"
      ],
      "metadata": {
        "id": "zJdA4McyRWGB",
        "colab": {
          "base_uri": "https://localhost:8080/",
          "height": 295
        },
        "outputId": "6d7b2cea-b1f8-4a9f-b227-20415881592d"
      },
      "execution_count": null,
      "outputs": [
        {
          "output_type": "display_data",
          "data": {
            "text/plain": [
              "<Figure size 432x288 with 1 Axes>"
            ],
            "image/png": "[encoded data removed]"
          },
          "metadata": {
            "needs_background": "light"
          }
        }
      ]
    },
    {
      "cell_type": "code",
      "source": [
        "from pyspark.sql.functions import count\n",
        "\n",
        "# count of females and males that had and didn't have strokes\n",
        "female = df.filter(df.gender == 'Female')\n",
        "fstrokeY = female.filter(female.stroke == 1)\n",
        "fstrokeN = female.filter(female.stroke == 0)\n",
        "\n",
        "male = df.filter(df.gender == 'Male')\n",
        "mstrokeY = male.filter(male.stroke == 1)\n",
        "mstrokeN = male.filter(male.stroke == 0)\n",
        "\n",
        "# chart\n",
        "status = ['Female', 'Male']\n",
        "stro = [fstrokeY.count(), mstrokeY.count()]\n",
        "nostro = [fstrokeN.count(), mstrokeN.count()]\n",
        "\n",
        "plt.bar(status, stro,  0.9, color = '#ff120a', label='Stroke')\n",
        "plt.bar(status, nostro, 0.9, bottom = stro, color = '#2655f0', label='No Stroke')\n",
        "\n",
        "plt.xlabel(\"Stroke Status\")\n",
        "plt.ylabel(\"Number of People\")\n",
        "plt.title('Stroke Status vs. Gender')\n",
        "plt.legend()\n",
        "plt.show()"
      ],
      "metadata": {
        "colab": {
          "base_uri": "https://localhost:8080/",
          "height": 295
        },
        "id": "sBcgIPmGwXkw",
        "outputId": "cb0c97b7-3640-4c72-8f50-f80555e219c3"
      },
      "execution_count": null,
      "outputs": [
        {
          "output_type": "display_data",
          "data": {
            "text/plain": [
              "<Figure size 432x288 with 1 Axes>"
            ],
            "image/png": "[encoded data removed]"
          },
          "metadata": {
            "needs_background": "light"
          }
        }
      ]
    },
    {
      "cell_type": "code",
      "source": [
        "# age distribution\n",
        "hist_fig = plt.figure(figsize = (6, 6))\n",
        "\n",
        "x = df.select(\"age\").rdd.flatMap(lambda x: x).collect()\n",
        "\n",
        "_  = plt.hist(x, bins = 15, color='#003f5c')\n",
        "\n",
        "plt.tick_params(labelsize = 15)\n",
        "_ = plt.title(\"Age frequency\", fontsize = 15)\n",
        "_ = plt.ylabel(\"Number Patients\", fontsize = 15)\n",
        "_ = plt.xlabel(\"Age\", fontsize = 15)"
      ],
      "metadata": {
        "colab": {
          "base_uri": "https://localhost:8080/",
          "height": 416
        },
        "id": "91QxKfnByKEl",
        "outputId": "177c8ace-fbcf-44fd-813a-0f98c5ecefa9"
      },
      "execution_count": null,
      "outputs": [
        {
          "output_type": "display_data",
          "data": {
            "text/plain": [
              "<Figure size 432x432 with 1 Axes>"
            ],
            "image/png": "[encoded data removed]"
          },
          "metadata": {
            "needs_background": "light"
          }
        }
      ]
    },
    {
      "cell_type": "code",
      "source": [
        "# stroke vs. no stroke compared to age\n",
        "had_stroke = df.filter(df.stroke == 1).select('age').rdd.flatMap(lambda x: x).collect()\n",
        "no_stroke = df.filter(df.stroke == 0).select('age').rdd.flatMap(lambda x: x).collect()\n",
        "\n",
        "data = [had_stroke ,no_stroke]\n",
        "fig, ax = plt.subplots()\n",
        "ax.boxplot(data)\n",
        "ax.set_xticklabels(['Had Stroke', 'No Stroke'])\n",
        "ax.set_ylabel('Age')\n",
        "ax.set_title('Age Distribution by Stroke')\n",
        "plt.show()"
      ],
      "metadata": {
        "colab": {
          "base_uri": "https://localhost:8080/",
          "height": 281
        },
        "id": "teFQ5qbyyMGz",
        "outputId": "b7337407-2d6a-434e-b203-9a75ab205c03"
      },
      "execution_count": null,
      "outputs": [
        {
          "output_type": "display_data",
          "data": {
            "text/plain": [
              "<Figure size 432x288 with 1 Axes>"
            ],
            "image/png": "[encoded data removed]"
          },
          "metadata": {
            "needs_background": "light"
          }
        }
      ]
    },
    {
      "cell_type": "code",
      "source": [
        "yes = df.filter(df.ever_married == 'Yes').count()\n",
        "no = df.filter(df.ever_married == 'No').count()\n",
        "\n",
        "plt.bar([\"Yes\", \"No\"], [yes, no])\n",
        "plt.xlabel(\"Ever married\")\n",
        "plt.ylabel(\"Number of patients\")\n",
        "plt.title(\"Marital status\")\n",
        "plt.show()"
      ],
      "metadata": {
        "colab": {
          "base_uri": "https://localhost:8080/",
          "height": 295
        },
        "id": "-CFimuvVyOo2",
        "outputId": "7d75e62b-a421-4b2e-a6b5-ce14053db631"
      },
      "execution_count": null,
      "outputs": [
        {
          "output_type": "display_data",
          "data": {
            "text/plain": [
              "<Figure size 432x288 with 1 Axes>"
            ],
            "image/png": "[encoded data removed]"
          },
          "metadata": {
            "needs_background": "light"
          }
        }
      ]
    },
    {
      "cell_type": "code",
      "source": [
        "# marriage vs. stroke\n",
        "\n",
        "married = df.filter(df.ever_married == 'Yes')\n",
        "mstrokeY = married.filter(married.stroke == 1)\n",
        "mstrokeN = married.filter(married.stroke == 0)\n",
        "\n",
        "nmarried = df.filter(df.ever_married == 'No')\n",
        "nmstrokeY = nmarried.filter(nmarried.stroke == 1)\n",
        "nmstrokeN = nmarried.filter(nmarried.stroke == 0)\n",
        "\n",
        "# chart\n",
        "status = ['Married', 'Not Married']\n",
        "s = [mstrokeY.count(), nmstrokeY.count()]\n",
        "ns = [mstrokeN.count(), nmstrokeN.count()]\n",
        "\n",
        "w = 0.6\n",
        "plt.bar(status, s, w, color = '#ffa632', label='Stroke')\n",
        "plt.bar(status, ns, w, bottom = s, color = '#003f5c', label='No Stroke')\n",
        "\n",
        "plt.xlabel(\"Stroke Status\")\n",
        "plt.ylabel(\"Number of People\")\n",
        "plt.title('Stroke Status vs. Marriage Status')\n",
        "plt.legend()\n",
        "plt.show()"
      ],
      "metadata": {
        "colab": {
          "base_uri": "https://localhost:8080/",
          "height": 295
        },
        "id": "taiwq20GyQiu",
        "outputId": "98297ce7-83bc-4c9c-90c2-b2a33d52c67e"
      },
      "execution_count": null,
      "outputs": [
        {
          "output_type": "display_data",
          "data": {
            "text/plain": [
              "<Figure size 432x288 with 1 Axes>"
            ],
            "image/png": "[encoded data removed]"
          },
          "metadata": {
            "needs_background": "light"
          }
        }
      ]
    },
    {
      "cell_type": "code",
      "source": [
        "# job type vs. stroke\n",
        "private = df.filter(df.work_type =='Private')\n",
        "pristrokeY = private.filter(private.stroke==1)\n",
        "pristrokeN = private.filter(private.stroke==0)\n",
        "\n",
        "# self-employed\n",
        "sel = df.filter(df.work_type ==  'Self-employed')\n",
        "selstrokeY = sel.filter(sel.stroke==1)\n",
        "selstrokeN = sel.filter(sel.stroke==0)\n",
        "\n",
        " # children\n",
        "child = df.filter(df.work_type == 'children')\n",
        "chstrokeY = child.filter(child.stroke==1)\n",
        "chstrokeN = child.filter(child.stroke==0)\n",
        "\n",
        "# government job\n",
        "gov = df.filter(df.work_type == 'Govt_job')\n",
        "govstrokeY = gov.filter(gov.stroke==1)\n",
        "govstrokeN = gov.filter(gov.stroke==0)\n",
        "\n",
        "# never worked\n",
        "never =df.filter(df.work_type =='Never_worked' )\n",
        "nevstrokeY = never.filter(never.stroke==1)\n",
        "nevstrokeN = never.filter(never.stroke==0)\n",
        "\n",
        "# chart\n",
        "status = ['Private', 'Self-Employed', 'Children', 'Government Job', 'None']\n",
        "st = [pristrokeY.count(),selstrokeY.count(),chstrokeY.count(),govstrokeY.count(),nevstrokeY.count()]\n",
        "nost = [pristrokeN.count(),selstrokeN.count(),chstrokeN.count(),govstrokeN.count(),nevstrokeN.count()]\n",
        "\n",
        "w = 0.6\n",
        "plt.bar(status, st, w, color = '#ffa632', label='Stroke')\n",
        "plt.bar(status, nost, w, bottom = st, color = '#003f5c', label='No Stroke')\n",
        "\n",
        "plt.xlabel(\"Stroke Status\")\n",
        "plt.ylabel(\"Number of People\")\n",
        "plt.title('Stroke Status vs. Job Type')\n",
        "plt.legend()\n",
        "plt.show()"
      ],
      "metadata": {
        "colab": {
          "base_uri": "https://localhost:8080/",
          "height": 295
        },
        "id": "LJl6JlFxySmZ",
        "outputId": "4ed2b754-0e33-4274-b99d-180a743583eb"
      },
      "execution_count": null,
      "outputs": [
        {
          "output_type": "display_data",
          "data": {
            "text/plain": [
              "<Figure size 432x288 with 1 Axes>"
            ],
            "image/png": "[encoded data removed]"
          },
          "metadata": {
            "needs_background": "light"
          }
        }
      ]
    },
    {
      "cell_type": "code",
      "source": [
        "df.groupBy('Residence_type').agg(count('*').alias('count')).show()"
      ],
      "metadata": {
        "colab": {
          "base_uri": "https://localhost:8080/"
        },
        "id": "MHb1qwxuyUGH",
        "outputId": "63d4477f-404c-4302-9a79-a8d762ef4fdf"
      },
      "execution_count": null,
      "outputs": [
        {
          "output_type": "stream",
          "name": "stdout",
          "text": [
            "+--------------+-----+\n",
            "|Residence_type|count|\n",
            "+--------------+-----+\n",
            "|         Urban| 2490|\n",
            "|         Rural| 2419|\n",
            "+--------------+-----+\n",
            "\n"
          ]
        }
      ]
    },
    {
      "cell_type": "code",
      "source": [
        "# residence type vs. stroke\n",
        "urban = df.filter(df.Residence_type== 'Urban')\n",
        "ustrokeY = urban.filter(urban.stroke== 1 )\n",
        "ustrokeN = urban.filter(urban.stroke== 0 )\n",
        "\n",
        "rural = df.filter(df.Residence_type== 'Rural')\n",
        "rstrokeY = rural.filter(rural.stroke== 1 )\n",
        "rstrokeN = rural.filter(rural.stroke== 0)\n",
        "\n",
        "# chart\n",
        "status = ['Rural', 'Urban']\n",
        "strok = [ustrokeY.count(), rstrokeY.count()]\n",
        "nostrok = [ustrokeN.count(), rstrokeN.count()]\n",
        "\n",
        "w = 0.6\n",
        "\n",
        "plt.bar(status, strok, w, color = '#ffa632', label='Stroke')\n",
        "plt.bar(status, nostrok, w, bottom = strok, color = '#003f5c', label='No Stroke')\n",
        "\n",
        "plt.xlabel(\"Stroke Status\")\n",
        "plt.ylabel(\"Number of People\")\n",
        "plt.title('Stroke Status vs. Residence Type')\n",
        "plt.legend()\n",
        "plt.show()"
      ],
      "metadata": {
        "colab": {
          "base_uri": "https://localhost:8080/",
          "height": 295
        },
        "id": "MNq8cGDYyWn2",
        "outputId": "983d0a80-2bb3-4b77-9e68-eda9f1b1b3bf"
      },
      "execution_count": null,
      "outputs": [
        {
          "output_type": "display_data",
          "data": {
            "text/plain": [
              "<Figure size 432x288 with 1 Axes>"
            ],
            "image/png": "[encoded data removed]"
          },
          "metadata": {
            "needs_background": "light"
          }
        }
      ]
    },
    {
      "cell_type": "code",
      "source": [
        "df.groupBy('hypertension').agg(count('*').alias('count')).show()"
      ],
      "metadata": {
        "colab": {
          "base_uri": "https://localhost:8080/"
        },
        "id": "D9j7g1nzyYUb",
        "outputId": "af8be69e-8f78-4c01-b058-d25f436829cc"
      },
      "execution_count": null,
      "outputs": [
        {
          "output_type": "stream",
          "name": "stdout",
          "text": [
            "+------------+-----+\n",
            "|hypertension|count|\n",
            "+------------+-----+\n",
            "|           1|  451|\n",
            "|           0| 4458|\n",
            "+------------+-----+\n",
            "\n"
          ]
        }
      ]
    },
    {
      "cell_type": "code",
      "source": [
        "# hypertension vs. stroke\n",
        "hyper = df.filter(df.hypertension == 1)\n",
        "hyper_stroke = hyper.filter(hyper.stroke== 1)\n",
        "hyper_noStroke = hyper.filter(hyper.stroke== 0)\n",
        "\n",
        "hs_num = hyper_stroke.count()\n",
        "hns_num = hyper_noStroke.count()\n",
        "\n",
        "not_hyper = df.filter(df.hypertension == 0)\n",
        "nh_stroke = not_hyper.filter(not_hyper.stroke== 1)\n",
        "nh_nstroke = not_hyper.filter(not_hyper.stroke== 0)\n",
        "nhs_num = nh_stroke.count()\n",
        "nhns_num = nh_nstroke.count()\n",
        "\n",
        "\n",
        "# chart\n",
        "x = ['hypertension', 'no hypertension']\n",
        "hyper = [hs_num, hns_num]\n",
        "no_hyper = [nhs_num, nhns_num] \n",
        "\n",
        "plt.bar(x, hyper, color='#ffa632', label='Stroke')\n",
        "plt.bar(x, no_hyper, bottom=hyper, color='#003f5c', label='No Stroke')\n",
        "plt.xlabel(\"Hypertension Status\")\n",
        "plt.ylabel(\"Number of People\")\n",
        "plt.legend()\n",
        "plt.title('Stroke Status vs. Hypertension')\n",
        "plt.show()\n",
        "\n",
        "print(hs_num, hns_num)    # 13% of people with hypertension also had a stroke\n",
        "print(nhs_num, nhns_num)  # 3 % of people without hypertension had a stroke"
      ],
      "metadata": {
        "colab": {
          "base_uri": "https://localhost:8080/",
          "height": 331
        },
        "id": "qz3FBLo9yZsY",
        "outputId": "81f42b1b-a9a2-40f0-f7c0-6fd7ba689bc6"
      },
      "execution_count": null,
      "outputs": [
        {
          "output_type": "display_data",
          "data": {
            "text/plain": [
              "<Figure size 432x288 with 1 Axes>"
            ],
            "image/png": "[encoded data removed]"
          },
          "metadata": {
            "needs_background": "light"
          }
        },
        {
          "output_type": "stream",
          "name": "stdout",
          "text": [
            "60 391\n",
            "149 4309\n"
          ]
        }
      ]
    },
    {
      "cell_type": "code",
      "source": [
        "df.groupBy('heart_disease').agg(count('*').alias('count')).show()"
      ],
      "metadata": {
        "colab": {
          "base_uri": "https://localhost:8080/"
        },
        "id": "bBXp5-T6ybnn",
        "outputId": "35030c3f-42cc-4792-f819-ec92b1a445d3"
      },
      "execution_count": null,
      "outputs": [
        {
          "output_type": "stream",
          "name": "stdout",
          "text": [
            "+-------------+-----+\n",
            "|heart_disease|count|\n",
            "+-------------+-----+\n",
            "|            1|  243|\n",
            "|            0| 4666|\n",
            "+-------------+-----+\n",
            "\n"
          ]
        }
      ]
    },
    {
      "cell_type": "code",
      "source": [
        "# hypertension vs. stroke\n",
        "heart = df.filter(df.heart_disease == 1)\n",
        "heart_stroke = heart.filter(heart.stroke== 1)\n",
        "heart_noStroke = heart.filter(heart.stroke== 0)\n",
        "\n",
        "hs_num = heart_stroke.count()\n",
        "hns_num = heart_noStroke.count()\n",
        "\n",
        "noheart = df.filter(df.heart_disease == 0)\n",
        "nheart_stroke = noheart.filter(noheart .stroke== 1)\n",
        "nheart_nstroke = noheart.filter(noheart .stroke== 0)\n",
        "nhs_num = nheart_stroke.count()\n",
        "nhns_num = nheart_nstroke.count()\n",
        "\n",
        "# chart\n",
        "x = ['Heart Disease', 'No Heart Disease']\n",
        "hyper = [hs_num, hns_num]\n",
        "no_hyper = [nhs_num, nhns_num] \n",
        "\n",
        "plt.bar(x, hyper, color='#ffa632', label='Stroke')\n",
        "plt.bar(x, no_hyper, bottom=hyper, color='#003f5c', label='No Stroke')\n",
        "plt.xlabel(\"Stroke Status\")\n",
        "plt.ylabel(\"Number of People\")\n",
        "plt.legend()\n",
        "plt.title('Stroke Status vs. Heart Disease')\n",
        "plt.show()"
      ],
      "metadata": {
        "colab": {
          "base_uri": "https://localhost:8080/",
          "height": 295
        },
        "id": "18Vo1jesyebN",
        "outputId": "4901a0ec-5c94-4199-840f-78380278049d"
      },
      "execution_count": null,
      "outputs": [
        {
          "output_type": "display_data",
          "data": {
            "text/plain": [
              "<Figure size 432x288 with 1 Axes>"
            ],
            "image/png": "[encoded data removed]"
          },
          "metadata": {
            "needs_background": "light"
          }
        }
      ]
    },
    {
      "cell_type": "code",
      "source": [
        "# avg glucose level\n",
        "hist_fig = plt.figure(figsize = (6, 6))\n",
        "\n",
        "x = df.select(\"avg_glucose_level\").rdd.flatMap(lambda x: x).collect()\n",
        "\n",
        "_  = plt.hist(x, bins = 15, color='#003f5c')\n",
        "\n",
        "plt.tick_params(labelsize = 15)\n",
        "_ = plt.title(\"Average Glucose Level\", fontsize = 15)\n",
        "_ = plt.ylabel(\"Number Patients\", fontsize = 15)\n",
        "_ = plt.xlabel(\"Glucose Level\", fontsize = 15)"
      ],
      "metadata": {
        "colab": {
          "base_uri": "https://localhost:8080/",
          "height": 416
        },
        "id": "RLpR2S0yyf3m",
        "outputId": "e3b949df-aba5-4a23-e9b6-f10916280ea5"
      },
      "execution_count": null,
      "outputs": [
        {
          "output_type": "display_data",
          "data": {
            "text/plain": [
              "<Figure size 432x432 with 1 Axes>"
            ],
            "image/png": "[encoded data removed]"
          },
          "metadata": {
            "needs_background": "light"
          }
        }
      ]
    },
    {
      "cell_type": "code",
      "source": [
        "# glucose level vs. stroke\n",
        "had_stroke = df.filter(df.stroke== 1).select('avg_glucose_level').rdd.flatMap(lambda x: x).collect()\n",
        "no_stroke = df.filter(df.stroke== 0).select('avg_glucose_level').rdd.flatMap(lambda x: x).collect()\n",
        "\n",
        "fig = plt.figure(figsize = (6,6))\n",
        "_ = plt.boxplot(\n",
        "    [had_stroke, \n",
        "     no_stroke], \n",
        "    labels = [\"Stroke\", \"No Stroke\"])\n",
        "plt.tick_params(labelsize = 15)\n",
        "_ = plt.title(\"Stroke vs. no stroke compared to average glucose level\", fontsize = 15)"
      ],
      "metadata": {
        "colab": {
          "base_uri": "https://localhost:8080/",
          "height": 397
        },
        "id": "4F-Zx5U3yifI",
        "outputId": "21f2abbc-b084-480e-e57e-b85813181025"
      },
      "execution_count": null,
      "outputs": [
        {
          "output_type": "display_data",
          "data": {
            "text/plain": [
              "<Figure size 432x432 with 1 Axes>"
            ],
            "image/png": "[encoded data removed]"
          },
          "metadata": {
            "needs_background": "light"
          }
        }
      ]
    },
    {
      "cell_type": "code",
      "source": [
        "# BMI\n",
        "from pyspark.sql.functions import col\n",
        "\n",
        "hist_fig = plt.figure(figsize = (6, 6))\n",
        "\n",
        "x = df.select(col(\"bmi\").cast(\"float\")).rdd.flatMap(lambda x: x).collect()\n",
        "\n",
        "_  = plt.hist(x, bins = 15, color='#003f5c')\n",
        "\n",
        "plt.tick_params(labelsize = 15)\n",
        "_ = plt.title(\"BMI\", fontsize = 15)\n",
        "_ = plt.ylabel(\"Number Patients\", fontsize = 15)\n",
        "_ = plt.xlabel(\"BMI\", fontsize = 15)"
      ],
      "metadata": {
        "colab": {
          "base_uri": "https://localhost:8080/",
          "height": 416
        },
        "id": "ZpzVsYyZykDC",
        "outputId": "4ad111ea-ad36-42b0-a58e-275398766d0f"
      },
      "execution_count": null,
      "outputs": [
        {
          "output_type": "display_data",
          "data": {
            "text/plain": [
              "<Figure size 432x432 with 1 Axes>"
            ],
            "image/png": "[encoded data removed]"
          },
          "metadata": {
            "needs_background": "light"
          }
        }
      ]
    },
    {
      "cell_type": "code",
      "source": [
        "# BMI vs. stroke\n",
        "had_stroke = df.filter(df.stroke == 1).select(col(\"bmi\").cast(\"float\")).rdd.flatMap(lambda x: x).collect()\n",
        "no_stroke = df.filter(df.stroke == 0).select(col(\"bmi\").cast(\"float\")).rdd.flatMap(lambda x: x).collect()\n",
        "\n",
        "fig = plt.figure(figsize = (6,6))\n",
        "_ = plt.boxplot(\n",
        "    [had_stroke, \n",
        "     no_stroke\n",
        "     ], \n",
        "    labels = [\"Stroke\", \"No Stroke\"])\n",
        "plt.tick_params(labelsize = 15)\n",
        "_ = plt.title(\"Stroke vs. no stroke compared to BMI\", fontsize = 15)"
      ],
      "metadata": {
        "colab": {
          "base_uri": "https://localhost:8080/",
          "height": 397
        },
        "id": "QicZL6xkylYd",
        "outputId": "13ed0e0c-15f2-4e48-8793-2ae80fa11f80"
      },
      "execution_count": null,
      "outputs": [
        {
          "output_type": "display_data",
          "data": {
            "text/plain": [
              "<Figure size 432x432 with 1 Axes>"
            ],
            "image/png": "[encoded data removed]"
          },
          "metadata": {
            "needs_background": "light"
          }
        }
      ]
    },
    {
      "cell_type": "code",
      "source": [
        "df.groupBy('smoking_status').agg(count('*').alias('count')).show()"
      ],
      "metadata": {
        "colab": {
          "base_uri": "https://localhost:8080/"
        },
        "id": "RehOtUXRymq4",
        "outputId": "0a4c670c-8f23-4db8-90e4-6507be87832a"
      },
      "execution_count": null,
      "outputs": [
        {
          "output_type": "stream",
          "name": "stdout",
          "text": [
            "+---------------+-----+\n",
            "| smoking_status|count|\n",
            "+---------------+-----+\n",
            "|         smokes|  737|\n",
            "|        Unknown| 1483|\n",
            "|   never smoked| 1852|\n",
            "|formerly smoked|  837|\n",
            "+---------------+-----+\n",
            "\n"
          ]
        }
      ]
    },
    {
      "cell_type": "code",
      "source": [
        "#smoking status vs stroke\n",
        "had_stroke = df.filter(df.stroke == 1)\n",
        "no_stroke = df.filter(df.stroke == 0)\n",
        "\n",
        "hadS_never = had_stroke.filter(col('smoking_status') == 'never smoked').count()\n",
        "hadS_unknown = had_stroke.filter(col('smoking_status') == 'Unknown').count()\n",
        "hadS_formerly = had_stroke.filter(col('smoking_status') == 'formerly smoked').count()\n",
        "hadS_smokes = had_stroke.filter(col('smoking_status') == 'smokes').count()\n",
        "print('Had Stroke-- ', 'Never Smoked: ', hadS_never,',', 'Unknown: ', hadS_unknown,',', 'Formerly Smoked: ',hadS_formerly,',', 'Smokes: ',hadS_smokes)\n",
        "\n",
        "noS_never = no_stroke.filter(col('smoking_status') == 'never smoked').count()\n",
        "noS_unknown = no_stroke.filter(col('smoking_status') == 'Unknown').count()\n",
        "noS_formerly = no_stroke.filter(col('smoking_status') == 'formerly smoked').count()\n",
        "noS_smokes = no_stroke.filter(col('smoking_status') == 'smokes').count()\n",
        "print('No Stroke-- ', 'Never Smoked: ', noS_never,',', 'Unknown: ', noS_unknown,',', 'Formerly Smoked: ',noS_formerly,',', 'Smokes: ', noS_smokes)\n",
        "\n",
        "# chart\n",
        "x = ['Never Smoked', 'Unknown', 'Formerly Smoked', 'Smokes']\n",
        "hadS = [hadS_never, hadS_unknown, hadS_formerly, hadS_smokes]\n",
        "noS = [noS_never, noS_unknown, noS_formerly, noS_smokes] \n",
        "\n",
        "plt.bar(x, hadS, color='#ffa632', label='Stroke')\n",
        "plt.bar(x, noS, bottom=hadS, color='#003f5c', label='No Stroke')\n",
        "plt.xlabel(\"Smoking Status\")\n",
        "plt.ylabel(\"Number of People\")\n",
        "plt.legend()\n",
        "plt.title('Stroke Status vs. Smoking Status')\n",
        "plt.show()"
      ],
      "metadata": {
        "colab": {
          "base_uri": "https://localhost:8080/",
          "height": 331
        },
        "id": "sM4CysWpyoek",
        "outputId": "96533f80-953e-4870-dcf7-0fb005c64a85"
      },
      "execution_count": null,
      "outputs": [
        {
          "output_type": "stream",
          "name": "stdout",
          "text": [
            "Had Stroke--  Never Smoked:  84 , Unknown:  29 , Formerly Smoked:  57 , Smokes:  39\n",
            "No Stroke--  Never Smoked:  1768 , Unknown:  1454 , Formerly Smoked:  780 , Smokes:  698\n"
          ]
        },
        {
          "output_type": "display_data",
          "data": {
            "text/plain": [
              "<Figure size 432x288 with 1 Axes>"
            ],
            "image/png": "[encoded data removed]"
          },
          "metadata": {
            "needs_background": "light"
          }
        }
      ]
    },
    {
      "cell_type": "code",
      "source": [
        "df.describe().show()"
      ],
      "metadata": {
        "colab": {
          "base_uri": "https://localhost:8080/"
        },
        "id": "JN4lq0XCyp0C",
        "outputId": "5a33bb4c-7a79-42ab-e77a-8c80bbed4b8e"
      },
      "execution_count": null,
      "outputs": [
        {
          "output_type": "stream",
          "name": "stdout",
          "text": [
            "+-------+------------------+------+------------------+-------------------+-------------------+------------+---------+--------------+------------------+------------------+--------------+-------------------+\n",
            "|summary|                id|gender|               age|       hypertension|      heart_disease|ever_married|work_type|Residence_type| avg_glucose_level|               bmi|smoking_status|             stroke|\n",
            "+-------+------------------+------+------------------+-------------------+-------------------+------------+---------+--------------+------------------+------------------+--------------+-------------------+\n",
            "|  count|              4909|  4909|              4909|               4909|               4909|        4909|     4909|          4909|              4909|              4909|          4909|               4909|\n",
            "|   mean|37064.313505805665|  null|42.865373803218596|0.09187207170503157|0.04950091668364229|        null|     null|          null|105.30514972499458|28.893236911794673|          null|0.04257486249745366|\n",
            "| stddev|  20995.0984569663|  null| 22.55511494800367|   0.28887470164064|0.21693354382859936|        null|     null|          null| 44.42434066091559|  7.85406672968016|          null| 0.2019171831379877|\n",
            "|    min|                77|Female|              0.08|                  0|                  0|          No| Govt_job|         Rural|             55.12|              10.3|       Unknown|                  0|\n",
            "|    max|             72940| Other|              82.0|                  1|                  1|         Yes| children|         Urban|            271.74|              97.6|        smokes|                  1|\n",
            "+-------+------------------+------+------------------+-------------------+-------------------+------------+---------+--------------+------------------+------------------+--------------+-------------------+\n",
            "\n"
          ]
        }
      ]
    },
    {
      "cell_type": "code",
      "source": [
        "plt.hist(df.select('age').rdd.flatMap(lambda x: x).collect(), bins=20)\n",
        "plt.xlabel('Age')\n",
        "plt.ylabel('Count')\n",
        "plt.title(\"Age Distribution\")\n",
        "plt.show()"
      ],
      "metadata": {
        "colab": {
          "base_uri": "https://localhost:8080/",
          "height": 295
        },
        "id": "3mhXfqtPyr18",
        "outputId": "6d9d8c30-a300-4c56-f250-1a4881147a23"
      },
      "execution_count": null,
      "outputs": [
        {
          "output_type": "display_data",
          "data": {
            "text/plain": [
              "<Figure size 432x288 with 1 Axes>"
            ],
            "image/png": "[encoded data removed]"
          },
          "metadata": {
            "needs_background": "light"
          }
        }
      ]
    },
    {
      "cell_type": "code",
      "source": [
        "gender_count = df.groupBy('gender').count().orderBy('count').rdd.map(lambda x: (x[0], int(x[1]))).collect()\n",
        "gender_labels = [x[0] for x in gender_count]\n",
        "gender_values = [x[1] for x in gender_count]\n",
        "plt.bar(gender_labels, gender_values)\n",
        "#plt.xlabel('Gender')\n",
        "plt.ylabel('Count')\n",
        "plt.title(\"Gender Distribution\")\n",
        "plt.show()"
      ],
      "metadata": {
        "colab": {
          "base_uri": "https://localhost:8080/",
          "height": 281
        },
        "id": "wYiBPN16yteJ",
        "outputId": "e13ac555-118d-4a0d-aa94-6a04cd3fc675"
      },
      "execution_count": null,
      "outputs": [
        {
          "output_type": "display_data",
          "data": {
            "text/plain": [
              "<Figure size 432x288 with 1 Axes>"
            ],
            "image/png": "[encoded data removed]"
          },
          "metadata": {
            "needs_background": "light"
          }
        }
      ]
    },
    {
      "cell_type": "code",
      "source": [
        "avg_glucose_data_stroke = df.filter(df.stroke == 1).select('avg_glucose_level').rdd.flatMap(lambda x: x).collect()\n",
        "avg_glucose_data_no_stroke = df.filter(df.stroke == 0).select('avg_glucose_level').rdd.flatMap(lambda x: x).collect()\n",
        "\n",
        "data = [avg_glucose_data_stroke ,avg_glucose_data_no_stroke]\n",
        "fig, ax = plt.subplots()\n",
        "ax.boxplot(data)\n",
        "ax.set_xticklabels(['Stroke', 'No Stroke'])\n",
        "ax.set_ylabel('Avg Glucose Level')\n",
        "ax.set_title('Plot of stroke patients by avg glucose level')\n",
        "plt.show()"
      ],
      "metadata": {
        "colab": {
          "base_uri": "https://localhost:8080/",
          "height": 281
        },
        "id": "eey1gPB5yu2y",
        "outputId": "40111b7e-7e71-424e-beaf-ea341cfaabe7"
      },
      "execution_count": null,
      "outputs": [
        {
          "output_type": "display_data",
          "data": {
            "text/plain": [
              "<Figure size 432x288 with 1 Axes>"
            ],
            "image/png": "[encoded data removed]"
          },
          "metadata": {
            "needs_background": "light"
          }
        }
      ]
    },
    {
      "cell_type": "code",
      "source": [
        "# Create a pie chart of the 'ever_married' column\n",
        "ever_married_count = df.groupBy('ever_married').count().orderBy('count').rdd.map(lambda x: (x[0], int(x[1]))).collect()\n",
        "ever_married_labels = [x[0] for x in ever_married_count]\n",
        "ever_married_values = [x[1] for x in ever_married_count]\n",
        "plt.pie(ever_married_values, labels=ever_married_labels, autopct='%1.1f%%')\n",
        "plt.axis('equal')\n",
        "plt.ylabel('')\n",
        "plt.title('Ever Married Distribution')\n",
        "plt.show()\n",
        "#plt.title('Marriage Status')"
      ],
      "metadata": {
        "colab": {
          "base_uri": "https://localhost:8080/",
          "height": 264
        },
        "id": "zlqESP7iyww-",
        "outputId": "a6664a60-db28-49a8-ce45-2b288f180986"
      },
      "execution_count": null,
      "outputs": [
        {
          "output_type": "display_data",
          "data": {
            "text/plain": [
              "<Figure size 432x288 with 1 Axes>"
            ],
            "image/png": "[encoded data removed]"
          },
          "metadata": {}
        }
      ]
    },
    {
      "cell_type": "code",
      "source": [
        "hypertension_data = df.select('hypertension', 'age')\n",
        "hypertension_0_data = hypertension_data.filter(hypertension_data.hypertension == 0).rdd.flatMap(lambda x: [x[1]]).collect()\n",
        "hypertension_1_data = hypertension_data.filter(hypertension_data.hypertension == 1).rdd.flatMap(lambda x: [x[1]]).collect()\n",
        "plt.boxplot([hypertension_0_data, hypertension_1_data])\n",
        "plt.xticks([1, 2], ['No Hypertension', 'Hypertension'])\n",
        "plt.xlabel('Hypertension')\n",
        "plt.ylabel('Age')\n",
        "plt.title('Age Distribution by Hypertension')\n",
        "plt.show()"
      ],
      "metadata": {
        "colab": {
          "base_uri": "https://localhost:8080/",
          "height": 295
        },
        "id": "Pi6mpePJy02S",
        "outputId": "14bac261-bdfb-4f28-e72f-d35a2bad7c6a"
      },
      "execution_count": null,
      "outputs": [
        {
          "output_type": "display_data",
          "data": {
            "text/plain": [
              "<Figure size 432x288 with 1 Axes>"
            ],
            "image/png": "[encoded data removed]"
          },
          "metadata": {
            "needs_background": "light"
          }
        }
      ]
    },
    {
      "cell_type": "code",
      "source": [
        "import matplotlib.pyplot as plt\n",
        "\n",
        "bmi = [21.3, 23.4, 24.5, 25.8, 27.1, 28.4, 29.7, 31.0]\n",
        "stroke = [0, 0, 0, 1, 1, 1, 1, 1]\n",
        "\n",
        "plt.scatter(bmi, stroke)\n",
        "plt.xlabel('BMI')\n",
        "plt.ylabel('Stroke')\n",
        "plt.title('Stroke VS BMI')\n",
        "plt.show()"
      ],
      "metadata": {
        "colab": {
          "base_uri": "https://localhost:8080/",
          "height": 295
        },
        "id": "jAnQB3O_y2B_",
        "outputId": "9a8ba3fc-7069-47ff-97fa-dbea4024b055"
      },
      "execution_count": null,
      "outputs": [
        {
          "output_type": "display_data",
          "data": {
            "text/plain": [
              "<Figure size 432x288 with 1 Axes>"
            ],
            "image/png": "[encoded data removed]"
          },
          "metadata": {
            "needs_background": "light"
          }
        }
      ]
    },
    {
      "cell_type": "code",
      "source": [
        "work_type_counts = df.groupBy('work_type').count().orderBy('count', ascending=False)\n",
        "\n",
        "# Extract work types and counts as separate lists\n",
        "work_types = work_type_counts.select('work_type').rdd.flatMap(lambda x: x).collect()\n",
        "counts = work_type_counts.select('count').rdd.flatMap(lambda x: x).collect()\n",
        "\n",
        "# Create a bar chart of work type counts\n",
        "plt.bar(work_types, counts)\n",
        "plt.title('Work Type Counts')\n",
        "plt.xlabel('Work Type')\n",
        "plt.ylabel('Count')\n",
        "plt.show()"
      ],
      "metadata": {
        "colab": {
          "base_uri": "https://localhost:8080/",
          "height": 296
        },
        "id": "rGnXqZEFy3Oj",
        "outputId": "62ebfac5-6bee-47fb-afad-d47279639dac"
      },
      "execution_count": null,
      "outputs": [
        {
          "output_type": "display_data",
          "data": {
            "text/plain": [
              "<Figure size 432x288 with 1 Axes>"
            ],
            "image/png": "[encoded data removed]"
          },
          "metadata": {
            "needs_background": "light"
          }
        }
      ]
    },
    {
      "cell_type": "markdown",
      "source": [
        "# Model: Regression"
      ],
      "metadata": {
        "id": "hd2y8dROy6Zc"
      }
    },
    {
      "cell_type": "code",
      "source": [
        "from pyspark.ml.feature import OneHotEncoder\n",
        "from pyspark.ml import Pipeline\n",
        "from pyspark.ml.feature import StringIndexer\n",
        "from pyspark.ml.feature import VectorAssembler\n",
        "\n",
        "# categorical cols to numeric\n",
        "gender_indexer = StringIndexer(inputCol=\"gender\", outputCol=\"genderIndex\")\n",
        "ever_married_indexer = StringIndexer(inputCol=\"ever_married\", outputCol=\"ever_marriedIndex\")\n",
        "work_type_indexer = StringIndexer(inputCol=\"work_type\", outputCol=\"work_typeIndex\")\n",
        "residence_type_indexer = StringIndexer(inputCol=\"Residence_type\", outputCol=\"Residence_typeIndex\")\n",
        "bmi_indexer = StringIndexer(inputCol=\"bmi\", outputCol=\"bmiIndex\")\n",
        "smoking_status_indexer = StringIndexer(inputCol=\"smoking_status\", outputCol=\"smoking_statusIndex\")\n",
        "\n",
        "# one hot encoding multi-categorical cols\n",
        "onehotencoder_gender_vector = OneHotEncoder(inputCol=\"genderIndex\", outputCol=\"gender_vec\")\n",
        "onehotencoder_work_type_vector = OneHotEncoder(inputCol=\"work_typeIndex\", outputCol=\"work_type_vec\")\n",
        "onehotencoder_resdience_type_vector = OneHotEncoder(inputCol=\"Residence_typeIndex\", outputCol=\"residence_type_vec\")\n",
        "onehotencoder_smoking_status_vector = OneHotEncoder(inputCol=\"smoking_statusIndex\", outputCol=\"smoking_status_vec\")\n",
        "\n",
        "stages = [gender_indexer, ever_married_indexer, work_type_indexer, residence_type_indexer, bmi_indexer, smoking_status_indexer,\n",
        "          onehotencoder_gender_vector, onehotencoder_work_type_vector, onehotencoder_resdience_type_vector, onehotencoder_smoking_status_vector]\n",
        "\n",
        "df = df.withColumn(\"stroke\", df[\"stroke\"].cast(\"float\"))\n",
        "\n",
        "cols = [\"age\", \"hypertension\", \"heart_disease\", \"avg_glucose_level\", \"ever_marriedIndex\", \"bmiIndex\", \"gender_vec\", \"work_type_vec\", \"residence_type_vec\", \"smoking_status_vec\"]\n",
        "stages.append(VectorAssembler(inputCols=cols, outputCol='features'))\n",
        "#assembler = VectorAssembler(inputCols=cols, outputCol='features')"
      ],
      "metadata": {
        "id": "G7FFPqKABe5v"
      },
      "execution_count": null,
      "outputs": []
    },
    {
      "cell_type": "code",
      "source": [
        "training_df, test_df = df.randomSplit([0.8, 0.2])"
      ],
      "metadata": {
        "id": "vZcRpt67_ijR"
      },
      "execution_count": null,
      "outputs": []
    },
    {
      "cell_type": "code",
      "source": [
        "from pyspark.ml import Pipeline\n",
        "from pyspark.ml import classification\n",
        "\n",
        "stages.append(classification.LogisticRegression(labelCol = 'stroke', featuresCol = 'features'))\n",
        "model = Pipeline(stages=stages)\n",
        "\n",
        "# training data\n",
        "training_model = model.fit(training_df).transform(training_df)\n",
        "training_model.show(5)"
      ],
      "metadata": {
        "colab": {
          "base_uri": "https://localhost:8080/"
        },
        "id": "XzSQ78RtBPYY",
        "outputId": "69f5d4d6-8640-4c8a-9c60-8c8ac7ddbc0a"
      },
      "execution_count": null,
      "outputs": [
        {
          "output_type": "stream",
          "name": "stdout",
          "text": [
            "+---+------+----+------------+-------------+------------+---------+--------------+-----------------+----+--------------+------+-----------+-----------------+--------------+-------------------+--------+-------------------+-------------+-------------+------------------+------------------+--------------------+--------------------+--------------------+----------+\n",
            "| id|gender| age|hypertension|heart_disease|ever_married|work_type|Residence_type|avg_glucose_level| bmi|smoking_status|stroke|genderIndex|ever_marriedIndex|work_typeIndex|Residence_typeIndex|bmiIndex|smoking_statusIndex|   gender_vec|work_type_vec|residence_type_vec|smoking_status_vec|            features|       rawPrediction|         probability|prediction|\n",
            "+---+------+----+------------+-------------+------------+---------+--------------+-----------------+----+--------------+------+-----------+-----------------+--------------+-------------------+--------+-------------------+-------------+-------------+------------------+------------------+--------------------+--------------------+--------------------+----------+\n",
            "| 77|Female|13.0|           0|            0|          No| children|         Rural|            85.81|18.6|       Unknown|   0.0|        0.0|              1.0|           2.0|                1.0|   106.0|                1.0|(1,[0],[1.0])|(4,[2],[1.0])|         (1,[],[])|     (3,[1],[1.0])|(15,[0,3,4,5,6,9,...|[66.9781811440092...|           [1.0,0.0]|       0.0|\n",
            "| 84|  Male|55.0|           0|            0|         Yes|  Private|         Urban|            89.17|31.5|  never smoked|   0.0|        1.0|              0.0|           0.0|                0.0|    45.0|                0.0|    (1,[],[])|(4,[0],[1.0])|     (1,[0],[1.0])|     (3,[0],[1.0])|(15,[0,3,5,7,11,1...|[3.30769699934224...|[0.96469192121914...|       0.0|\n",
            "| 91|Female|42.0|           0|            0|          No|  Private|         Urban|            98.53|18.5|  never smoked|   0.0|        0.0|              1.0|           0.0|                0.0|   151.0|                0.0|(1,[0],[1.0])|(4,[0],[1.0])|     (1,[0],[1.0])|     (3,[0],[1.0])|(15,[0,3,4,5,6,7,...|[4.25946581064514...|[0.98606702245155...|       0.0|\n",
            "| 99|Female|31.0|           0|            0|          No|  Private|         Urban|           108.89|52.3|       Unknown|   0.0|        0.0|              1.0|           0.0|                0.0|   373.0|                1.0|(1,[0],[1.0])|(4,[0],[1.0])|     (1,[0],[1.0])|     (3,[1],[1.0])|(15,[0,3,4,5,6,7,...|[5.31386480758188...|[0.99510125188817...|       0.0|\n",
            "|129|Female|24.0|           0|            0|          No|  Private|         Urban|            97.55|26.2|  never smoked|   0.0|        0.0|              1.0|           0.0|                0.0|    37.0|                0.0|(1,[0],[1.0])|(4,[0],[1.0])|     (1,[0],[1.0])|     (3,[0],[1.0])|(15,[0,3,4,5,6,7,...|[5.61037432014765...|[0.99635364535900...|       0.0|\n",
            "+---+------+----+------------+-------------+------------+---------+--------------+-----------------+----+--------------+------+-----------+-----------------+--------------+-------------------+--------+-------------------+-------------+-------------+------------------+------------------+--------------------+--------------------+--------------------+----------+\n",
            "only showing top 5 rows\n",
            "\n"
          ]
        }
      ]
    },
    {
      "cell_type": "code",
      "source": [
        "test_model = model.fit(test_df).transform(test_df)\n",
        "test_model.show(5)"
      ],
      "metadata": {
        "colab": {
          "base_uri": "https://localhost:8080/"
        },
        "id": "Bz6hDItHBZuV",
        "outputId": "4eefa83a-ffe9-42aa-db3d-8f4e424cf56d"
      },
      "execution_count": null,
      "outputs": [
        {
          "output_type": "stream",
          "name": "stdout",
          "text": [
            "+---+------+----+------------+-------------+------------+---------+--------------+-----------------+----+---------------+------+-----------+-----------------+--------------+-------------------+--------+-------------------+-------------+-------------+------------------+------------------+--------------------+--------------------+--------------------+----------+\n",
            "| id|gender| age|hypertension|heart_disease|ever_married|work_type|Residence_type|avg_glucose_level| bmi| smoking_status|stroke|genderIndex|ever_marriedIndex|work_typeIndex|Residence_typeIndex|bmiIndex|smoking_statusIndex|   gender_vec|work_type_vec|residence_type_vec|smoking_status_vec|            features|       rawPrediction|         probability|prediction|\n",
            "+---+------+----+------------+-------------+------------+---------+--------------+-----------------+----+---------------+------+-----------+-----------------+--------------+-------------------+--------+-------------------+-------------+-------------+------------------+------------------+--------------------+--------------------+--------------------+----------+\n",
            "|163|Female|20.0|           0|            0|          No|  Private|         Rural|            94.67|28.8|        Unknown|   0.0|        0.0|              1.0|           0.0|                1.0|    62.0|                1.0|(2,[0],[1.0])|(4,[0],[1.0])|         (1,[],[])|     (3,[1],[1.0])|(16,[0,3,4,5,6,8,...|[5.12420706887994...|[0.99408426995299...|       0.0|\n",
            "|239|  Male|59.0|           1|            1|         Yes|  Private|         Rural|           246.53|27.2|formerly smoked|   0.0|        1.0|              0.0|           0.0|                1.0|     9.0|                2.0|(2,[1],[1.0])|(4,[0],[1.0])|         (1,[],[])|     (3,[2],[1.0])|(16,[0,1,2,3,5,7,...|[1.44062269652366...|[0.80855106104117...|       0.0|\n",
            "|242|  Male| 4.0|           0|            0|          No| children|         Urban|            98.56|17.5|        Unknown|   0.0|        1.0|              1.0|           2.0|                0.0|   113.0|                1.0|(2,[1],[1.0])|(4,[2],[1.0])|     (1,[0],[1.0])|     (3,[1],[1.0])|(16,[0,3,4,5,7,10...|[5.85595422984621...|[0.99714536971706...|       0.0|\n",
            "|338|Female|43.0|           0|            0|         Yes|  Private|         Rural|           110.32|28.4|   never smoked|   0.0|        0.0|              0.0|           0.0|                1.0|     0.0|                0.0|(2,[0],[1.0])|(4,[0],[1.0])|         (1,[],[])|     (3,[0],[1.0])|(16,[0,3,6,8,13],...|[3.68189069959260...|[0.97544290223872...|       0.0|\n",
            "|354|Female|65.0|           0|            0|         Yes|  Private|         Urban|            72.49|28.9|         smokes|   0.0|        0.0|              0.0|           0.0|                0.0|     2.0|                3.0|(2,[0],[1.0])|(4,[0],[1.0])|     (1,[0],[1.0])|         (3,[],[])|(16,[0,3,5,6,8,12...|[2.45826786737661...|[0.92116396550402...|       0.0|\n",
            "+---+------+----+------------+-------------+------------+---------+--------------+-----------------+----+---------------+------+-----------+-----------------+--------------+-------------------+--------+-------------------+-------------+-------------+------------------+------------------+--------------------+--------------------+--------------------+----------+\n",
            "only showing top 5 rows\n",
            "\n"
          ]
        }
      ]
    },
    {
      "cell_type": "code",
      "source": [
        "from pyspark.mllib.evaluation import MulticlassMetrics\n",
        "pred_train_rdd = training_model.select(\"prediction\", \"stroke\").rdd.map(tuple)\n",
        "\n",
        "metrics_train = MulticlassMetrics(pred_train_rdd)\n",
        "print(\"Training Accuracy: \")\n",
        "metrics_train.accuracy"
      ],
      "metadata": {
        "colab": {
          "base_uri": "https://localhost:8080/"
        },
        "id": "3jIB-bshGHi6",
        "outputId": "317192a5-c9b3-4afb-f617-ad400a1a923e"
      },
      "execution_count": null,
      "outputs": [
        {
          "output_type": "stream",
          "name": "stderr",
          "text": [
            "/usr/local/lib/python3.9/dist-packages/pyspark/sql/context.py:157: FutureWarning: Deprecated in 3.0.0. Use SparkSession.builder.getOrCreate() instead.\n",
            "  warnings.warn(\n"
          ]
        },
        {
          "output_type": "stream",
          "name": "stdout",
          "text": [
            "Training Accuracy: \n"
          ]
        },
        {
          "output_type": "execute_result",
          "data": {
            "text/plain": [
              "0.9566968781470292"
            ]
          },
          "metadata": {},
          "execution_count": 50
        }
      ]
    },
    {
      "cell_type": "code",
      "source": [
        "pred_test_rdd = test_model.select(\"prediction\", \"stroke\").rdd.map(tuple)\n",
        "\n",
        "metrics_test = MulticlassMetrics(pred_test_rdd)\n",
        "print(\"Test Accuracy: \")\n",
        "metrics_test.accuracy"
      ],
      "metadata": {
        "colab": {
          "base_uri": "https://localhost:8080/"
        },
        "id": "1Lp4b1P0GO1S",
        "outputId": "f8049668-7c5f-44a8-a948-372818a4150b"
      },
      "execution_count": null,
      "outputs": [
        {
          "output_type": "stream",
          "name": "stdout",
          "text": [
            "Test Accuracy: \n"
          ]
        },
        {
          "output_type": "execute_result",
          "data": {
            "text/plain": [
              "0.96051227321238"
            ]
          },
          "metadata": {},
          "execution_count": 52
        }
      ]
    },
    {
      "cell_type": "code",
      "source": [],
      "metadata": {
        "id": "z-99DLbFNauT"
      },
      "execution_count": null,
      "outputs": []
    }
  ],
  "metadata": {
    "colab": {
      "provenance": []
    },
    "kernelspec": {
      "display_name": "Python 3",
      "name": "python3"
    },
    "language_info": {
      "name": "python"
    }
  },
  "nbformat": 4,
  "nbformat_minor": 0
}